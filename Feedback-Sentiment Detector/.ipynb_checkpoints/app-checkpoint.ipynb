{
 "cells": [
  {
   "cell_type": "markdown",
   "id": "61f4f935",
   "metadata": {},
   "source": [
    "# NLP and Classification"
   ]
  },
  {
   "cell_type": "markdown",
   "id": "fff81fb9",
   "metadata": {},
   "source": [
    "## Importing Libraries"
   ]
  },
  {
   "cell_type": "code",
   "execution_count": 1,
   "id": "aa8b50b0",
   "metadata": {},
   "outputs": [],
   "source": [
    "import csv\n",
    "import pandas as pd\n",
    "# utilities\n",
    "import re\n",
    "import numpy as np\n",
    "# plotting\n",
    "import seaborn as sns\n",
    "sns.set_style('white')\n",
    "%matplotlib inline\n",
    "from wordcloud import WordCloud\n",
    "import matplotlib.pyplot as plt\n",
    "# Data Preprocessing & NLP\n",
    "import nltk\n",
    "import string\n",
    "import gensim\n",
    "from textblob import Word\n",
    "\n",
    "from gensim.utils import simple_preprocess\n",
    "from nltk.corpus import stopwords\n",
    "from nltk.stem import WordNetLemmatizer, SnowballStemmer\n",
    "from nltk.stem.porter import *\n",
    "from sklearn.feature_extraction.text import CountVectorizer\n",
    "from sklearn.feature_extraction.text import TfidfVectorizer\n",
    "from sklearn.preprocessing import MultiLabelBinarizer\n",
    "#nltk.download('wordnet')\n",
    "#nltk.download('punkt')\n",
    "\n",
    "# Models\n",
    "from sklearn.linear_model import LogisticRegression\n",
    "from sklearn.naive_bayes import MultinomialNB\n",
    "from sklearn.multiclass import OneVsRestClassifier\n",
    "from sklearn.svm import SVC, LinearSVC\n",
    "from sklearn.ensemble import (RandomForestClassifier, GradientBoostingClassifier)\n",
    "from sklearn.neighbors import NearestNeighbors\n",
    "from sklearn.model_selection import GridSearchCV\n",
    "from sklearn.metrics.pairwise import linear_kernel\n",
    "\n",
    "# Performance metrics\n",
    "from sklearn.model_selection import cross_validate, train_test_split\n",
    "from sklearn.metrics import accuracy_score\n",
    "from sklearn.metrics import confusion_matrix, f1_score\n",
    "from sklearn.model_selection import cross_val_score, KFold\n",
    "from sklearn.metrics import accuracy_score, make_scorer\n",
    "from sklearn.metrics import precision_recall_fscore_support as score\n",
    "from sklearn.metrics.pairwise import cosine_similarity\n",
    "\n",
    "# Visualization Libraries\n",
    "from wordcloud import WordCloud, STOPWORDS, ImageColorGenerator"
   ]
  },
  {
   "cell_type": "code",
   "execution_count": 2,
   "id": "9446babe",
   "metadata": {},
   "outputs": [],
   "source": [
    "employees = pd.read_csv('employees.csv')"
   ]
  },
  {
   "cell_type": "markdown",
   "id": "4c423c34",
   "metadata": {},
   "source": [
    "## Exploratory Data Analysis"
   ]
  },
  {
   "cell_type": "code",
   "execution_count": 3,
   "id": "559db120",
   "metadata": {},
   "outputs": [
    {
     "data": {
      "text/html": [
       "<div>\n",
       "<style scoped>\n",
       "    .dataframe tbody tr th:only-of-type {\n",
       "        vertical-align: middle;\n",
       "    }\n",
       "\n",
       "    .dataframe tbody tr th {\n",
       "        vertical-align: top;\n",
       "    }\n",
       "\n",
       "    .dataframe thead th {\n",
       "        text-align: right;\n",
       "    }\n",
       "</style>\n",
       "<table border=\"1\" class=\"dataframe\">\n",
       "  <thead>\n",
       "    <tr style=\"text-align: right;\">\n",
       "      <th></th>\n",
       "      <th>id</th>\n",
       "      <th>person_name</th>\n",
       "      <th>nine_box_category</th>\n",
       "      <th>feedback</th>\n",
       "      <th>adjusted</th>\n",
       "      <th>reviewed</th>\n",
       "    </tr>\n",
       "  </thead>\n",
       "  <tbody>\n",
       "    <tr>\n",
       "      <th>0</th>\n",
       "      <td>1</td>\n",
       "      <td>John Carter</td>\n",
       "      <td>Category 1: 'Risk' (Low performance, Low poten...</td>\n",
       "      <td>John has not progressed in his position. He is...</td>\n",
       "      <td>False</td>\n",
       "      <td>True</td>\n",
       "    </tr>\n",
       "    <tr>\n",
       "      <th>1</th>\n",
       "      <td>2</td>\n",
       "      <td>John Carter</td>\n",
       "      <td>Category 1: 'Risk' (Low performance, Low poten...</td>\n",
       "      <td>John has consistently disappointed me this qua...</td>\n",
       "      <td>False</td>\n",
       "      <td>True</td>\n",
       "    </tr>\n",
       "    <tr>\n",
       "      <th>2</th>\n",
       "      <td>3</td>\n",
       "      <td>John Carter</td>\n",
       "      <td>Category 1: 'Risk' (Low performance, Low poten...</td>\n",
       "      <td>John turned in subpar work product all quarter...</td>\n",
       "      <td>False</td>\n",
       "      <td>True</td>\n",
       "    </tr>\n",
       "    <tr>\n",
       "      <th>3</th>\n",
       "      <td>6</td>\n",
       "      <td>John Carter</td>\n",
       "      <td>Category 1: 'Risk' (Low performance, Low poten...</td>\n",
       "      <td>John Doe demonstrates a low level of knowledge...</td>\n",
       "      <td>False</td>\n",
       "      <td>True</td>\n",
       "    </tr>\n",
       "    <tr>\n",
       "      <th>4</th>\n",
       "      <td>7</td>\n",
       "      <td>George Gill</td>\n",
       "      <td>Category 1: 'Risk' (Low performance, Low poten...</td>\n",
       "      <td>George gill's performance is really poor. He d...</td>\n",
       "      <td>False</td>\n",
       "      <td>True</td>\n",
       "    </tr>\n",
       "  </tbody>\n",
       "</table>\n",
       "</div>"
      ],
      "text/plain": [
       "   id  person_name                                  nine_box_category  \\\n",
       "0   1  John Carter  Category 1: 'Risk' (Low performance, Low poten...   \n",
       "1   2  John Carter  Category 1: 'Risk' (Low performance, Low poten...   \n",
       "2   3  John Carter  Category 1: 'Risk' (Low performance, Low poten...   \n",
       "3   6  John Carter  Category 1: 'Risk' (Low performance, Low poten...   \n",
       "4   7  George Gill  Category 1: 'Risk' (Low performance, Low poten...   \n",
       "\n",
       "                                            feedback  adjusted  reviewed  \n",
       "0  John has not progressed in his position. He is...     False      True  \n",
       "1  John has consistently disappointed me this qua...     False      True  \n",
       "2  John turned in subpar work product all quarter...     False      True  \n",
       "3  John Doe demonstrates a low level of knowledge...     False      True  \n",
       "4  George gill's performance is really poor. He d...     False      True  "
      ]
     },
     "execution_count": 3,
     "metadata": {},
     "output_type": "execute_result"
    }
   ],
   "source": [
    "employees.head()"
   ]
  },
  {
   "cell_type": "code",
   "execution_count": 4,
   "id": "9aa428f8",
   "metadata": {},
   "outputs": [
    {
     "name": "stdout",
     "output_type": "stream",
     "text": [
      "<class 'pandas.core.frame.DataFrame'>\n",
      "RangeIndex: 878 entries, 0 to 877\n",
      "Data columns (total 6 columns):\n",
      " #   Column             Non-Null Count  Dtype \n",
      "---  ------             --------------  ----- \n",
      " 0   id                 878 non-null    int64 \n",
      " 1   person_name        878 non-null    object\n",
      " 2   nine_box_category  878 non-null    object\n",
      " 3   feedback           878 non-null    object\n",
      " 4   adjusted           878 non-null    bool  \n",
      " 5   reviewed           878 non-null    bool  \n",
      "dtypes: bool(2), int64(1), object(3)\n",
      "memory usage: 29.3+ KB\n"
     ]
    }
   ],
   "source": [
    "employees.info()"
   ]
  },
  {
   "cell_type": "code",
   "execution_count": 5,
   "id": "bc0fa227",
   "metadata": {},
   "outputs": [
    {
     "data": {
      "text/html": [
       "<div>\n",
       "<style scoped>\n",
       "    .dataframe tbody tr th:only-of-type {\n",
       "        vertical-align: middle;\n",
       "    }\n",
       "\n",
       "    .dataframe tbody tr th {\n",
       "        vertical-align: top;\n",
       "    }\n",
       "\n",
       "    .dataframe thead th {\n",
       "        text-align: right;\n",
       "    }\n",
       "</style>\n",
       "<table border=\"1\" class=\"dataframe\">\n",
       "  <thead>\n",
       "    <tr style=\"text-align: right;\">\n",
       "      <th></th>\n",
       "      <th>id</th>\n",
       "    </tr>\n",
       "  </thead>\n",
       "  <tbody>\n",
       "    <tr>\n",
       "      <th>count</th>\n",
       "      <td>878.000000</td>\n",
       "    </tr>\n",
       "    <tr>\n",
       "      <th>mean</th>\n",
       "      <td>3235.269932</td>\n",
       "    </tr>\n",
       "    <tr>\n",
       "      <th>std</th>\n",
       "      <td>4956.401144</td>\n",
       "    </tr>\n",
       "    <tr>\n",
       "      <th>min</th>\n",
       "      <td>1.000000</td>\n",
       "    </tr>\n",
       "    <tr>\n",
       "      <th>25%</th>\n",
       "      <td>237.250000</td>\n",
       "    </tr>\n",
       "    <tr>\n",
       "      <th>50%</th>\n",
       "      <td>473.500000</td>\n",
       "    </tr>\n",
       "    <tr>\n",
       "      <th>75%</th>\n",
       "      <td>10019.750000</td>\n",
       "    </tr>\n",
       "    <tr>\n",
       "      <th>max</th>\n",
       "      <td>20222.000000</td>\n",
       "    </tr>\n",
       "  </tbody>\n",
       "</table>\n",
       "</div>"
      ],
      "text/plain": [
       "                 id\n",
       "count    878.000000\n",
       "mean    3235.269932\n",
       "std     4956.401144\n",
       "min        1.000000\n",
       "25%      237.250000\n",
       "50%      473.500000\n",
       "75%    10019.750000\n",
       "max    20222.000000"
      ]
     },
     "execution_count": 5,
     "metadata": {},
     "output_type": "execute_result"
    }
   ],
   "source": [
    "employees.describe()"
   ]
  },
  {
   "cell_type": "code",
   "execution_count": 6,
   "id": "cd738783",
   "metadata": {},
   "outputs": [
    {
     "data": {
      "text/html": [
       "<div>\n",
       "<style scoped>\n",
       "    .dataframe tbody tr th:only-of-type {\n",
       "        vertical-align: middle;\n",
       "    }\n",
       "\n",
       "    .dataframe tbody tr th {\n",
       "        vertical-align: top;\n",
       "    }\n",
       "\n",
       "    .dataframe thead th {\n",
       "        text-align: right;\n",
       "    }\n",
       "</style>\n",
       "<table border=\"1\" class=\"dataframe\">\n",
       "  <thead>\n",
       "    <tr style=\"text-align: right;\">\n",
       "      <th></th>\n",
       "      <th>id</th>\n",
       "      <th>person_name</th>\n",
       "      <th>nine_box_category</th>\n",
       "      <th>feedback</th>\n",
       "      <th>adjusted</th>\n",
       "      <th>reviewed</th>\n",
       "    </tr>\n",
       "  </thead>\n",
       "  <tbody>\n",
       "    <tr>\n",
       "      <th>45</th>\n",
       "      <td>50</td>\n",
       "      <td>Addison Cohen</td>\n",
       "      <td>Category 1: 'Risk' (Low performance, Low poten...</td>\n",
       "      <td>Addison has had a rough time this quarter. Fro...</td>\n",
       "      <td>False</td>\n",
       "      <td>False</td>\n",
       "    </tr>\n",
       "    <tr>\n",
       "      <th>726</th>\n",
       "      <td>615</td>\n",
       "      <td>Alina Britt</td>\n",
       "      <td>Category 8: 'High Potential' (Moderate perform...</td>\n",
       "      <td>Alina's work for this project was not as good ...</td>\n",
       "      <td>False</td>\n",
       "      <td>False</td>\n",
       "    </tr>\n",
       "    <tr>\n",
       "      <th>735</th>\n",
       "      <td>624</td>\n",
       "      <td>Dennis Buchanan</td>\n",
       "      <td>Category 8: 'High Potential' (Moderate perform...</td>\n",
       "      <td>Dennis Buchanan's performance has not reached ...</td>\n",
       "      <td>False</td>\n",
       "      <td>False</td>\n",
       "    </tr>\n",
       "    <tr>\n",
       "      <th>344</th>\n",
       "      <td>284</td>\n",
       "      <td>Isobel Foster</td>\n",
       "      <td>Category 4: 'Inconsistent Player' (Low perform...</td>\n",
       "      <td>Isobel is capable of much more if she has the ...</td>\n",
       "      <td>False</td>\n",
       "      <td>False</td>\n",
       "    </tr>\n",
       "    <tr>\n",
       "      <th>57</th>\n",
       "      <td>63</td>\n",
       "      <td>George Gill</td>\n",
       "      <td>Category 1: 'Risk' (Low performance, Low poten...</td>\n",
       "      <td>George is a less than ideal employee. He strug...</td>\n",
       "      <td>False</td>\n",
       "      <td>False</td>\n",
       "    </tr>\n",
       "  </tbody>\n",
       "</table>\n",
       "</div>"
      ],
      "text/plain": [
       "      id      person_name                                  nine_box_category  \\\n",
       "45    50    Addison Cohen  Category 1: 'Risk' (Low performance, Low poten...   \n",
       "726  615      Alina Britt  Category 8: 'High Potential' (Moderate perform...   \n",
       "735  624  Dennis Buchanan  Category 8: 'High Potential' (Moderate perform...   \n",
       "344  284    Isobel Foster  Category 4: 'Inconsistent Player' (Low perform...   \n",
       "57    63      George Gill  Category 1: 'Risk' (Low performance, Low poten...   \n",
       "\n",
       "                                              feedback  adjusted  reviewed  \n",
       "45   Addison has had a rough time this quarter. Fro...     False     False  \n",
       "726  Alina's work for this project was not as good ...     False     False  \n",
       "735  Dennis Buchanan's performance has not reached ...     False     False  \n",
       "344  Isobel is capable of much more if she has the ...     False     False  \n",
       "57   George is a less than ideal employee. He strug...     False     False  "
      ]
     },
     "execution_count": 6,
     "metadata": {},
     "output_type": "execute_result"
    }
   ],
   "source": [
    "employees.sample(5)"
   ]
  },
  {
   "cell_type": "code",
   "execution_count": 7,
   "id": "4e5d3e52",
   "metadata": {},
   "outputs": [
    {
     "data": {
      "text/plain": [
       "Index(['id', 'person_name', 'nine_box_category', 'feedback', 'adjusted',\n",
       "       'reviewed'],\n",
       "      dtype='object')"
      ]
     },
     "execution_count": 7,
     "metadata": {},
     "output_type": "execute_result"
    }
   ],
   "source": [
    "employees.columns"
   ]
  },
  {
   "cell_type": "code",
   "execution_count": 8,
   "id": "d89b3363",
   "metadata": {},
   "outputs": [
    {
     "name": "stdout",
     "output_type": "stream",
     "text": [
      "length of data is 878\n"
     ]
    }
   ],
   "source": [
    "print('length of data is', len(employees))"
   ]
  },
  {
   "cell_type": "code",
   "execution_count": 9,
   "id": "66ad551a",
   "metadata": {},
   "outputs": [
    {
     "data": {
      "text/plain": [
       "(878, 6)"
      ]
     },
     "execution_count": 9,
     "metadata": {},
     "output_type": "execute_result"
    }
   ],
   "source": [
    "employees.shape"
   ]
  },
  {
   "cell_type": "code",
   "execution_count": 10,
   "id": "a4c79b78",
   "metadata": {},
   "outputs": [
    {
     "data": {
      "text/plain": [
       "id                    int64\n",
       "person_name          object\n",
       "nine_box_category    object\n",
       "feedback             object\n",
       "adjusted               bool\n",
       "reviewed               bool\n",
       "dtype: object"
      ]
     },
     "execution_count": 10,
     "metadata": {},
     "output_type": "execute_result"
    }
   ],
   "source": [
    "employees.dtypes"
   ]
  },
  {
   "cell_type": "code",
   "execution_count": 11,
   "id": "910f9055",
   "metadata": {},
   "outputs": [
    {
     "data": {
      "text/plain": [
       "0"
      ]
     },
     "execution_count": 11,
     "metadata": {},
     "output_type": "execute_result"
    }
   ],
   "source": [
    "np.sum(employees.isnull().any(axis=1))"
   ]
  },
  {
   "cell_type": "markdown",
   "id": "96ae97af",
   "metadata": {},
   "source": [
    "I'm going to use **groupby** to use describe by nine_box_category, this way we can get an overview of the data we are dealing with"
   ]
  },
  {
   "cell_type": "code",
   "execution_count": 12,
   "id": "e79a5fac",
   "metadata": {},
   "outputs": [
    {
     "data": {
      "text/html": [
       "<div>\n",
       "<style scoped>\n",
       "    .dataframe tbody tr th:only-of-type {\n",
       "        vertical-align: middle;\n",
       "    }\n",
       "\n",
       "    .dataframe tbody tr th {\n",
       "        vertical-align: top;\n",
       "    }\n",
       "\n",
       "    .dataframe thead tr th {\n",
       "        text-align: left;\n",
       "    }\n",
       "\n",
       "    .dataframe thead tr:last-of-type th {\n",
       "        text-align: right;\n",
       "    }\n",
       "</style>\n",
       "<table border=\"1\" class=\"dataframe\">\n",
       "  <thead>\n",
       "    <tr>\n",
       "      <th></th>\n",
       "      <th colspan=\"8\" halign=\"left\">id</th>\n",
       "    </tr>\n",
       "    <tr>\n",
       "      <th></th>\n",
       "      <th>count</th>\n",
       "      <th>mean</th>\n",
       "      <th>std</th>\n",
       "      <th>min</th>\n",
       "      <th>25%</th>\n",
       "      <th>50%</th>\n",
       "      <th>75%</th>\n",
       "      <th>max</th>\n",
       "    </tr>\n",
       "    <tr>\n",
       "      <th>nine_box_category</th>\n",
       "      <th></th>\n",
       "      <th></th>\n",
       "      <th></th>\n",
       "      <th></th>\n",
       "      <th></th>\n",
       "      <th></th>\n",
       "      <th></th>\n",
       "      <th></th>\n",
       "    </tr>\n",
       "  </thead>\n",
       "  <tbody>\n",
       "    <tr>\n",
       "      <th>Category 1: 'Risk' (Low performance, Low potential)</th>\n",
       "      <td>126.0</td>\n",
       "      <td>4036.992063</td>\n",
       "      <td>6337.438549</td>\n",
       "      <td>1.0</td>\n",
       "      <td>35.25</td>\n",
       "      <td>69.5</td>\n",
       "      <td>10046.75</td>\n",
       "      <td>20047.0</td>\n",
       "    </tr>\n",
       "    <tr>\n",
       "      <th>Category 2: 'Average performer' (Moderate performance, Low potential)</th>\n",
       "      <td>106.0</td>\n",
       "      <td>2874.547170</td>\n",
       "      <td>5237.138774</td>\n",
       "      <td>51.0</td>\n",
       "      <td>122.25</td>\n",
       "      <td>153.0</td>\n",
       "      <td>386.00</td>\n",
       "      <td>20010.0</td>\n",
       "    </tr>\n",
       "    <tr>\n",
       "      <th>Category 3: 'Solid Performer' (High performance, Low potential)</th>\n",
       "      <td>89.0</td>\n",
       "      <td>2775.764045</td>\n",
       "      <td>4355.917182</td>\n",
       "      <td>177.0</td>\n",
       "      <td>201.00</td>\n",
       "      <td>235.0</td>\n",
       "      <td>10009.00</td>\n",
       "      <td>10220.0</td>\n",
       "    </tr>\n",
       "    <tr>\n",
       "      <th>Category 4: 'Inconsistent Player' (Low performance, Moderate potential)</th>\n",
       "      <td>113.0</td>\n",
       "      <td>2407.053097</td>\n",
       "      <td>4015.109358</td>\n",
       "      <td>73.0</td>\n",
       "      <td>290.00</td>\n",
       "      <td>319.0</td>\n",
       "      <td>536.00</td>\n",
       "      <td>10221.0</td>\n",
       "    </tr>\n",
       "    <tr>\n",
       "      <th>Category 5: 'Core Player' (Moderate performance, Moderate potential)</th>\n",
       "      <td>112.0</td>\n",
       "      <td>2801.830357</td>\n",
       "      <td>4238.287976</td>\n",
       "      <td>106.0</td>\n",
       "      <td>359.75</td>\n",
       "      <td>394.5</td>\n",
       "      <td>2975.00</td>\n",
       "      <td>10228.0</td>\n",
       "    </tr>\n",
       "    <tr>\n",
       "      <th>Category 6: 'High Performer' (High performance, Moderate potential)</th>\n",
       "      <td>91.0</td>\n",
       "      <td>3649.538462</td>\n",
       "      <td>5447.574688</td>\n",
       "      <td>217.0</td>\n",
       "      <td>440.50</td>\n",
       "      <td>467.0</td>\n",
       "      <td>10026.50</td>\n",
       "      <td>20222.0</td>\n",
       "    </tr>\n",
       "    <tr>\n",
       "      <th>Category 7: 'Potential Gem' (Low performance, High potential)</th>\n",
       "      <td>41.0</td>\n",
       "      <td>4742.536585</td>\n",
       "      <td>4801.706546</td>\n",
       "      <td>534.0</td>\n",
       "      <td>545.00</td>\n",
       "      <td>559.0</td>\n",
       "      <td>10073.00</td>\n",
       "      <td>10194.0</td>\n",
       "    </tr>\n",
       "    <tr>\n",
       "      <th>Category 8: 'High Potential' (Moderate performance, High potential)</th>\n",
       "      <td>88.0</td>\n",
       "      <td>2868.693182</td>\n",
       "      <td>4088.073732</td>\n",
       "      <td>495.0</td>\n",
       "      <td>583.75</td>\n",
       "      <td>608.5</td>\n",
       "      <td>633.25</td>\n",
       "      <td>10227.0</td>\n",
       "    </tr>\n",
       "    <tr>\n",
       "      <th>Category 9: 'Star' (High performance, High potential)</th>\n",
       "      <td>112.0</td>\n",
       "      <td>3708.589286</td>\n",
       "      <td>4995.451319</td>\n",
       "      <td>435.0</td>\n",
       "      <td>657.75</td>\n",
       "      <td>686.5</td>\n",
       "      <td>10042.25</td>\n",
       "      <td>20024.0</td>\n",
       "    </tr>\n",
       "  </tbody>\n",
       "</table>\n",
       "</div>"
      ],
      "text/plain": [
       "                                                       id               \\\n",
       "                                                    count         mean   \n",
       "nine_box_category                                                        \n",
       "Category 1: 'Risk' (Low performance, Low potent...  126.0  4036.992063   \n",
       "Category 2: 'Average performer' (Moderate perfo...  106.0  2874.547170   \n",
       "Category 3: 'Solid Performer' (High performance...   89.0  2775.764045   \n",
       "Category 4: 'Inconsistent Player' (Low performa...  113.0  2407.053097   \n",
       "Category 5: 'Core Player' (Moderate performance...  112.0  2801.830357   \n",
       "Category 6: 'High Performer' (High performance,...   91.0  3649.538462   \n",
       "Category 7: 'Potential Gem' (Low performance, H...   41.0  4742.536585   \n",
       "Category 8: 'High Potential' (Moderate performa...   88.0  2868.693182   \n",
       "Category 9: 'Star' (High performance, High pote...  112.0  3708.589286   \n",
       "\n",
       "                                                                        \\\n",
       "                                                            std    min   \n",
       "nine_box_category                                                        \n",
       "Category 1: 'Risk' (Low performance, Low potent...  6337.438549    1.0   \n",
       "Category 2: 'Average performer' (Moderate perfo...  5237.138774   51.0   \n",
       "Category 3: 'Solid Performer' (High performance...  4355.917182  177.0   \n",
       "Category 4: 'Inconsistent Player' (Low performa...  4015.109358   73.0   \n",
       "Category 5: 'Core Player' (Moderate performance...  4238.287976  106.0   \n",
       "Category 6: 'High Performer' (High performance,...  5447.574688  217.0   \n",
       "Category 7: 'Potential Gem' (Low performance, H...  4801.706546  534.0   \n",
       "Category 8: 'High Potential' (Moderate performa...  4088.073732  495.0   \n",
       "Category 9: 'Star' (High performance, High pote...  4995.451319  435.0   \n",
       "\n",
       "                                                                             \\\n",
       "                                                       25%    50%       75%   \n",
       "nine_box_category                                                             \n",
       "Category 1: 'Risk' (Low performance, Low potent...   35.25   69.5  10046.75   \n",
       "Category 2: 'Average performer' (Moderate perfo...  122.25  153.0    386.00   \n",
       "Category 3: 'Solid Performer' (High performance...  201.00  235.0  10009.00   \n",
       "Category 4: 'Inconsistent Player' (Low performa...  290.00  319.0    536.00   \n",
       "Category 5: 'Core Player' (Moderate performance...  359.75  394.5   2975.00   \n",
       "Category 6: 'High Performer' (High performance,...  440.50  467.0  10026.50   \n",
       "Category 7: 'Potential Gem' (Low performance, H...  545.00  559.0  10073.00   \n",
       "Category 8: 'High Potential' (Moderate performa...  583.75  608.5    633.25   \n",
       "Category 9: 'Star' (High performance, High pote...  657.75  686.5  10042.25   \n",
       "\n",
       "                                                             \n",
       "                                                        max  \n",
       "nine_box_category                                            \n",
       "Category 1: 'Risk' (Low performance, Low potent...  20047.0  \n",
       "Category 2: 'Average performer' (Moderate perfo...  20010.0  \n",
       "Category 3: 'Solid Performer' (High performance...  10220.0  \n",
       "Category 4: 'Inconsistent Player' (Low performa...  10221.0  \n",
       "Category 5: 'Core Player' (Moderate performance...  10228.0  \n",
       "Category 6: 'High Performer' (High performance,...  20222.0  \n",
       "Category 7: 'Potential Gem' (Low performance, H...  10194.0  \n",
       "Category 8: 'High Potential' (Moderate performa...  10227.0  \n",
       "Category 9: 'Star' (High performance, High pote...  20024.0  "
      ]
     },
     "execution_count": 12,
     "metadata": {},
     "output_type": "execute_result"
    }
   ],
   "source": [
    "employees.groupby('nine_box_category').describe()"
   ]
  },
  {
   "cell_type": "markdown",
   "id": "5ede0e56",
   "metadata": {},
   "source": [
    "Let's make a new column to detect how long the feedbacks are:"
   ]
  },
  {
   "cell_type": "code",
   "execution_count": 13,
   "id": "b0a9e990",
   "metadata": {},
   "outputs": [
    {
     "data": {
      "text/html": [
       "<div>\n",
       "<style scoped>\n",
       "    .dataframe tbody tr th:only-of-type {\n",
       "        vertical-align: middle;\n",
       "    }\n",
       "\n",
       "    .dataframe tbody tr th {\n",
       "        vertical-align: top;\n",
       "    }\n",
       "\n",
       "    .dataframe thead th {\n",
       "        text-align: right;\n",
       "    }\n",
       "</style>\n",
       "<table border=\"1\" class=\"dataframe\">\n",
       "  <thead>\n",
       "    <tr style=\"text-align: right;\">\n",
       "      <th></th>\n",
       "      <th>id</th>\n",
       "      <th>person_name</th>\n",
       "      <th>nine_box_category</th>\n",
       "      <th>feedback</th>\n",
       "      <th>adjusted</th>\n",
       "      <th>reviewed</th>\n",
       "      <th>length</th>\n",
       "    </tr>\n",
       "  </thead>\n",
       "  <tbody>\n",
       "    <tr>\n",
       "      <th>232</th>\n",
       "      <td>177</td>\n",
       "      <td>Bruno Johns</td>\n",
       "      <td>Category 3: 'Solid Performer' (High performanc...</td>\n",
       "      <td>John Bruno is a definite asset to your dealers...</td>\n",
       "      <td>False</td>\n",
       "      <td>False</td>\n",
       "      <td>552</td>\n",
       "    </tr>\n",
       "    <tr>\n",
       "      <th>800</th>\n",
       "      <td>665</td>\n",
       "      <td>Jamie Chandler</td>\n",
       "      <td>Category 9: 'Star' (High performance, High pot...</td>\n",
       "      <td>Jamie is an absolutely astounding worker. She ...</td>\n",
       "      <td>False</td>\n",
       "      <td>False</td>\n",
       "      <td>378</td>\n",
       "    </tr>\n",
       "    <tr>\n",
       "      <th>499</th>\n",
       "      <td>406</td>\n",
       "      <td>Alex Watts</td>\n",
       "      <td>Category 5: 'Core Player' (Moderate performanc...</td>\n",
       "      <td>Alex is a stable and consistent working on the...</td>\n",
       "      <td>False</td>\n",
       "      <td>False</td>\n",
       "      <td>379</td>\n",
       "    </tr>\n",
       "    <tr>\n",
       "      <th>843</th>\n",
       "      <td>708</td>\n",
       "      <td>Blake Rodriquez</td>\n",
       "      <td>Category 9: 'Star' (High performance, High pot...</td>\n",
       "      <td>Blake Rodriquez has shown outstanding growth s...</td>\n",
       "      <td>False</td>\n",
       "      <td>False</td>\n",
       "      <td>337</td>\n",
       "    </tr>\n",
       "    <tr>\n",
       "      <th>206</th>\n",
       "      <td>490</td>\n",
       "      <td>Jessica Black</td>\n",
       "      <td>Category 2: 'Average performer' (Moderate perf...</td>\n",
       "      <td>She has good knowledge in her domain but her e...</td>\n",
       "      <td>True</td>\n",
       "      <td>True</td>\n",
       "      <td>229</td>\n",
       "    </tr>\n",
       "  </tbody>\n",
       "</table>\n",
       "</div>"
      ],
      "text/plain": [
       "      id      person_name                                  nine_box_category  \\\n",
       "232  177      Bruno Johns  Category 3: 'Solid Performer' (High performanc...   \n",
       "800  665   Jamie Chandler  Category 9: 'Star' (High performance, High pot...   \n",
       "499  406       Alex Watts  Category 5: 'Core Player' (Moderate performanc...   \n",
       "843  708  Blake Rodriquez  Category 9: 'Star' (High performance, High pot...   \n",
       "206  490    Jessica Black  Category 2: 'Average performer' (Moderate perf...   \n",
       "\n",
       "                                              feedback  adjusted  reviewed  \\\n",
       "232  John Bruno is a definite asset to your dealers...     False     False   \n",
       "800  Jamie is an absolutely astounding worker. She ...     False     False   \n",
       "499  Alex is a stable and consistent working on the...     False     False   \n",
       "843  Blake Rodriquez has shown outstanding growth s...     False     False   \n",
       "206  She has good knowledge in her domain but her e...      True      True   \n",
       "\n",
       "     length  \n",
       "232     552  \n",
       "800     378  \n",
       "499     379  \n",
       "843     337  \n",
       "206     229  "
      ]
     },
     "execution_count": 13,
     "metadata": {},
     "output_type": "execute_result"
    }
   ],
   "source": [
    "employees['length'] = employees['feedback'].apply(len)\n",
    "employees.sample(5)"
   ]
  },
  {
   "cell_type": "markdown",
   "id": "224ffafe",
   "metadata": {},
   "source": [
    "## Data Visualization"
   ]
  },
  {
   "cell_type": "code",
   "execution_count": 14,
   "id": "948b9464",
   "metadata": {},
   "outputs": [
    {
     "data": {
      "text/plain": [
       "<AxesSubplot:ylabel='Frequency'>"
      ]
     },
     "execution_count": 14,
     "metadata": {},
     "output_type": "execute_result"
    },
    {
     "data": {
      "image/png": "[encoded data removed]",
      "text/plain": [
       "<Figure size 432x288 with 1 Axes>"
      ]
     },
     "metadata": {
      "needs_background": "light"
     },
     "output_type": "display_data"
    }
   ],
   "source": [
    "employees['length'].plot(bins=50, kind='hist') "
   ]
  },
  {
   "cell_type": "code",
   "execution_count": 15,
   "id": "c1d30d9c",
   "metadata": {},
   "outputs": [
    {
     "data": {
      "text/plain": [
       "count    878.000000\n",
       "mean     335.930524\n",
       "std      133.783240\n",
       "min       61.000000\n",
       "25%      238.250000\n",
       "50%      317.000000\n",
       "75%      408.750000\n",
       "max      971.000000\n",
       "Name: length, dtype: float64"
      ]
     },
     "execution_count": 15,
     "metadata": {},
     "output_type": "execute_result"
    }
   ],
   "source": [
    "employees.length.describe()"
   ]
  },
  {
   "cell_type": "code",
   "execution_count": 16,
   "id": "8bfd7f28",
   "metadata": {},
   "outputs": [
    {
     "data": {
      "text/plain": [
       "\"Ms. Amaya, I appreciate you taking the time to look over my feedback. During your time at this company, your work has been consistent. You have not done anything that is strikingly bad. However, you have yet to 'wow' any of the superiors with your work. Unfortunately this has led some to believe that your potential at this company is limited. If you hope to stay at this company and advance, I might advise you to try and put in a little extra effort. The bare minimum is a typically accepted standard, especially if the work is accurate and meets requirements. However, the bare minimum does not encourage others to see you as a 'good' worker or recognize you for your performance. While your work here has been satisfactory thus far and I have no complaints, I implore you to attempt to catch the interest of your superiors. This will benefit you in the long run at this company and hopefully invigorate your desire to be here. A little extra effort can go along way!\""
      ]
     },
     "execution_count": 16,
     "metadata": {},
     "output_type": "execute_result"
    }
   ],
   "source": [
    "employees[employees['length'] == 971]['feedback'].iloc[0]"
   ]
  },
  {
   "cell_type": "markdown",
   "id": "5e487828",
   "metadata": {},
   "source": [
    "This is longest feedback in our data , there a lot of fullstops , exclamation marks etc ... (to be revised)"
   ]
  },
  {
   "cell_type": "markdown",
   "id": "9a337a87",
   "metadata": {},
   "source": [
    "I want to create a function that will classify the 9 categories that we have into 2 categories , Good Feedback or Bad Feedback"
   ]
  },
  {
   "cell_type": "markdown",
   "id": "659e2d87",
   "metadata": {},
   "source": [
    "### Feedback Sentiment Function"
   ]
  },
  {
   "cell_type": "code",
   "execution_count": 17,
   "id": "2c66efef",
   "metadata": {},
   "outputs": [],
   "source": [
    "employees[\"feedback_sentiment\"] = employees[\"nine_box_category\"].apply(lambda x: \"Good Feedback\" if x == \"Category 9: 'Star' (High performance, High potential)\" \n",
    "                                                                  or x==\"Category 8: 'High Potential' (Moderate performance, High potential)\" \n",
    "                                                                  or x==\"Category 6: 'High Performer' (High performance, Moderate potential)\"\n",
    "                                                                  or x==\"Category 3: 'Solid Performer' (High performance, Low potential)\"\n",
    "                                                                  or x==\"Category 5: 'Core Player' (Moderate performance, Moderate potential)\"\n",
    "                                                                  else \"Bad Feedback\" )"
   ]
  },
  {
   "cell_type": "code",
   "execution_count": 18,
   "id": "ca2da5f9",
   "metadata": {},
   "outputs": [
    {
     "data": {
      "text/html": [
       "<div>\n",
       "<style scoped>\n",
       "    .dataframe tbody tr th:only-of-type {\n",
       "        vertical-align: middle;\n",
       "    }\n",
       "\n",
       "    .dataframe tbody tr th {\n",
       "        vertical-align: top;\n",
       "    }\n",
       "\n",
       "    .dataframe thead th {\n",
       "        text-align: right;\n",
       "    }\n",
       "</style>\n",
       "<table border=\"1\" class=\"dataframe\">\n",
       "  <thead>\n",
       "    <tr style=\"text-align: right;\">\n",
       "      <th></th>\n",
       "      <th>id</th>\n",
       "      <th>person_name</th>\n",
       "      <th>nine_box_category</th>\n",
       "      <th>feedback</th>\n",
       "      <th>adjusted</th>\n",
       "      <th>reviewed</th>\n",
       "      <th>length</th>\n",
       "      <th>feedback_sentiment</th>\n",
       "    </tr>\n",
       "  </thead>\n",
       "  <tbody>\n",
       "    <tr>\n",
       "      <th>340</th>\n",
       "      <td>279</td>\n",
       "      <td>Sophie Murray</td>\n",
       "      <td>Category 4: 'Inconsistent Player' (Low perform...</td>\n",
       "      <td>The inconsistency of a streaky player can brin...</td>\n",
       "      <td>False</td>\n",
       "      <td>False</td>\n",
       "      <td>394</td>\n",
       "      <td>Bad Feedback</td>\n",
       "    </tr>\n",
       "    <tr>\n",
       "      <th>424</th>\n",
       "      <td>10182</td>\n",
       "      <td>Camille Hahn</td>\n",
       "      <td>Category 4: 'Inconsistent Player' (Low perform...</td>\n",
       "      <td>Camille does not put in the same level of effo...</td>\n",
       "      <td>False</td>\n",
       "      <td>False</td>\n",
       "      <td>310</td>\n",
       "      <td>Bad Feedback</td>\n",
       "    </tr>\n",
       "    <tr>\n",
       "      <th>866</th>\n",
       "      <td>10165</td>\n",
       "      <td>Margaret Gallagher</td>\n",
       "      <td>Category 9: 'Star' (High performance, High pot...</td>\n",
       "      <td>There are very few areas that Margaret needs t...</td>\n",
       "      <td>False</td>\n",
       "      <td>True</td>\n",
       "      <td>281</td>\n",
       "      <td>Good Feedback</td>\n",
       "    </tr>\n",
       "    <tr>\n",
       "      <th>319</th>\n",
       "      <td>10219</td>\n",
       "      <td>Dean Phillips</td>\n",
       "      <td>Category 3: 'Solid Performer' (High performanc...</td>\n",
       "      <td>Working individually, Dean has exceeded expect...</td>\n",
       "      <td>False</td>\n",
       "      <td>False</td>\n",
       "      <td>395</td>\n",
       "      <td>Good Feedback</td>\n",
       "    </tr>\n",
       "    <tr>\n",
       "      <th>48</th>\n",
       "      <td>54</td>\n",
       "      <td>Caiden Pace</td>\n",
       "      <td>Category 1: 'Risk' (Low performance, Low poten...</td>\n",
       "      <td>Caiden does not produce good work and needs to...</td>\n",
       "      <td>False</td>\n",
       "      <td>False</td>\n",
       "      <td>274</td>\n",
       "      <td>Bad Feedback</td>\n",
       "    </tr>\n",
       "  </tbody>\n",
       "</table>\n",
       "</div>"
      ],
      "text/plain": [
       "        id         person_name  \\\n",
       "340    279       Sophie Murray   \n",
       "424  10182        Camille Hahn   \n",
       "866  10165  Margaret Gallagher   \n",
       "319  10219       Dean Phillips   \n",
       "48      54         Caiden Pace   \n",
       "\n",
       "                                     nine_box_category  \\\n",
       "340  Category 4: 'Inconsistent Player' (Low perform...   \n",
       "424  Category 4: 'Inconsistent Player' (Low perform...   \n",
       "866  Category 9: 'Star' (High performance, High pot...   \n",
       "319  Category 3: 'Solid Performer' (High performanc...   \n",
       "48   Category 1: 'Risk' (Low performance, Low poten...   \n",
       "\n",
       "                                              feedback  adjusted  reviewed  \\\n",
       "340  The inconsistency of a streaky player can brin...     False     False   \n",
       "424  Camille does not put in the same level of effo...     False     False   \n",
       "866  There are very few areas that Margaret needs t...     False      True   \n",
       "319  Working individually, Dean has exceeded expect...     False     False   \n",
       "48   Caiden does not produce good work and needs to...     False     False   \n",
       "\n",
       "     length feedback_sentiment  \n",
       "340     394       Bad Feedback  \n",
       "424     310       Bad Feedback  \n",
       "866     281      Good Feedback  \n",
       "319     395      Good Feedback  \n",
       "48      274       Bad Feedback  "
      ]
     },
     "execution_count": 18,
     "metadata": {},
     "output_type": "execute_result"
    }
   ],
   "source": [
    "employees.sample(5)"
   ]
  },
  {
   "cell_type": "code",
   "execution_count": 19,
   "id": "d18c9683",
   "metadata": {},
   "outputs": [
    {
     "data": {
      "text/plain": [
       "<AxesSubplot:xlabel='feedback_sentiment', ylabel='nine_box_category'>"
      ]
     },
     "execution_count": 19,
     "metadata": {},
     "output_type": "execute_result"
    },
    {
     "data": {
      "image/png": "[encoded data removed]",
      "text/plain": [
       "<Figure size 432x288 with 1 Axes>"
      ]
     },
     "metadata": {
      "needs_background": "light"
     },
     "output_type": "display_data"
    }
   ],
   "source": [
    "sns.stripplot(x='feedback_sentiment',y='nine_box_category',data=employees,palette='rainbow')"
   ]
  },
  {
   "cell_type": "markdown",
   "id": "53310570",
   "metadata": {},
   "source": [
    "So : Category 1 , Category 2, Category 4, Category 7 are Negative feedbacks ,Category 3, Category 6,Category 8,Category 9 are Positive Feedbacks "
   ]
  },
  {
   "cell_type": "markdown",
   "id": "63683ed0",
   "metadata": {},
   "source": [
    "**Create a countplot of the number of occurrences for each type of feedback rating.**"
   ]
  },
  {
   "cell_type": "code",
   "execution_count": 20,
   "id": "aa1f97db",
   "metadata": {},
   "outputs": [
    {
     "data": {
      "text/plain": [
       "<AxesSubplot:xlabel='feedback_sentiment', ylabel='count'>"
      ]
     },
     "execution_count": 20,
     "metadata": {},
     "output_type": "execute_result"
    },
    {
     "data": {
      "image/png": "[encoded data removed]",
      "text/plain": [
       "<Figure size 432x288 with 1 Axes>"
      ]
     },
     "metadata": {
      "needs_background": "light"
     },
     "output_type": "display_data"
    }
   ],
   "source": [
    "sns.countplot(x='feedback_sentiment',data=employees,palette='rainbow')"
   ]
  },
  {
   "cell_type": "markdown",
   "id": "32d262ea",
   "metadata": {},
   "source": [
    "Now I have an idea and an overview of our data , it looks like negative review the most occuring , but the numbers are close to each other"
   ]
  },
  {
   "cell_type": "markdown",
   "id": "404e7f41",
   "metadata": {},
   "source": [
    "I'm going to classify the 2 categories of \"feedback_sentiment\" by length to see if feedback length is a distinguishing feature between the three of them:"
   ]
  },
  {
   "cell_type": "code",
   "execution_count": 21,
   "id": "bb01f46b",
   "metadata": {},
   "outputs": [
    {
     "data": {
      "text/plain": [
       "array([<AxesSubplot:title={'center':'Bad Feedback'}>,\n",
       "       <AxesSubplot:title={'center':'Good Feedback'}>], dtype=object)"
      ]
     },
     "execution_count": 21,
     "metadata": {},
     "output_type": "execute_result"
    },
    {
     "data": {
      "image/png": "[encoded data removed]",
      "text/plain": [
       "<Figure size 864x288 with 2 Axes>"
      ]
     },
     "metadata": {
      "needs_background": "light"
     },
     "output_type": "display_data"
    }
   ],
   "source": [
    "employees.hist(column='length', by='feedback_sentiment', bins=50,figsize=(12,4))"
   ]
  },
  {
   "cell_type": "markdown",
   "id": "c16993f9",
   "metadata": {},
   "source": [
    "## Text Pre-processing"
   ]
  },
  {
   "cell_type": "markdown",
   "id": "b44f2ee8",
   "metadata": {},
   "source": [
    "Our main issue with our data is that it is all in text format (strings). The classification algorithms  will need some sort of numerical feature vector in order to perform the classification task. There are actually many methods to convert a corpus to a vector format. The simplest is the the [bag-of-words](http://en.wikipedia.org/wiki/Bag-of-words_model) approach, where each unique word in a text will be represented by one number.\n",
    "\n",
    "\n",
    "In this section we'll convert the raw messages (sequence of characters) into vectors (sequences of numbers).\n",
    "\n",
    "As a first step, let's write a function that will split a message into its individual words and return a list. We'll also remove very common words, ('the', 'a', etc..). To do this we will take advantage of the NLTK library. It's pretty much the standard library in Python for processing text and has a lot of useful features. We'll only use some of the basic ones here."
   ]
  },
  {
   "cell_type": "code",
   "execution_count": 22,
   "id": "58125a9a",
   "metadata": {},
   "outputs": [
    {
     "data": {
      "text/html": [
       "<div>\n",
       "<style scoped>\n",
       "    .dataframe tbody tr th:only-of-type {\n",
       "        vertical-align: middle;\n",
       "    }\n",
       "\n",
       "    .dataframe tbody tr th {\n",
       "        vertical-align: top;\n",
       "    }\n",
       "\n",
       "    .dataframe thead th {\n",
       "        text-align: right;\n",
       "    }\n",
       "</style>\n",
       "<table border=\"1\" class=\"dataframe\">\n",
       "  <thead>\n",
       "    <tr style=\"text-align: right;\">\n",
       "      <th></th>\n",
       "      <th>id</th>\n",
       "      <th>person_name</th>\n",
       "      <th>nine_box_category</th>\n",
       "      <th>feedback</th>\n",
       "      <th>adjusted</th>\n",
       "      <th>reviewed</th>\n",
       "      <th>length</th>\n",
       "      <th>feedback_sentiment</th>\n",
       "    </tr>\n",
       "  </thead>\n",
       "  <tbody>\n",
       "    <tr>\n",
       "      <th>337</th>\n",
       "      <td>276</td>\n",
       "      <td>Jay Reid</td>\n",
       "      <td>Category 4: 'Inconsistent Player' (Low perform...</td>\n",
       "      <td>Jay's reports frequently contained many seriou...</td>\n",
       "      <td>False</td>\n",
       "      <td>False</td>\n",
       "      <td>604</td>\n",
       "      <td>Bad Feedback</td>\n",
       "    </tr>\n",
       "    <tr>\n",
       "      <th>313</th>\n",
       "      <td>10137</td>\n",
       "      <td>Markus Mathews</td>\n",
       "      <td>Category 3: 'Solid Performer' (High performanc...</td>\n",
       "      <td>Markus is a great employee, he did a lot for t...</td>\n",
       "      <td>False</td>\n",
       "      <td>False</td>\n",
       "      <td>509</td>\n",
       "      <td>Good Feedback</td>\n",
       "    </tr>\n",
       "    <tr>\n",
       "      <th>600</th>\n",
       "      <td>477</td>\n",
       "      <td>Pedro David</td>\n",
       "      <td>Category 6: 'High Performer' (High performance...</td>\n",
       "      <td>Self performer requires little coaching. High ...</td>\n",
       "      <td>False</td>\n",
       "      <td>False</td>\n",
       "      <td>102</td>\n",
       "      <td>Good Feedback</td>\n",
       "    </tr>\n",
       "    <tr>\n",
       "      <th>91</th>\n",
       "      <td>10044</td>\n",
       "      <td>Douglas Henry</td>\n",
       "      <td>Category 1: 'Risk' (Low performance, Low poten...</td>\n",
       "      <td>Douglas has a lot to work on and areas to grow...</td>\n",
       "      <td>False</td>\n",
       "      <td>False</td>\n",
       "      <td>290</td>\n",
       "      <td>Bad Feedback</td>\n",
       "    </tr>\n",
       "    <tr>\n",
       "      <th>425</th>\n",
       "      <td>10183</td>\n",
       "      <td>Camille Hahn</td>\n",
       "      <td>Category 4: 'Inconsistent Player' (Low perform...</td>\n",
       "      <td>Camille has changed her preferences a lot,\\n w...</td>\n",
       "      <td>False</td>\n",
       "      <td>False</td>\n",
       "      <td>295</td>\n",
       "      <td>Bad Feedback</td>\n",
       "    </tr>\n",
       "  </tbody>\n",
       "</table>\n",
       "</div>"
      ],
      "text/plain": [
       "        id     person_name                                  nine_box_category  \\\n",
       "337    276        Jay Reid  Category 4: 'Inconsistent Player' (Low perform...   \n",
       "313  10137  Markus Mathews  Category 3: 'Solid Performer' (High performanc...   \n",
       "600    477     Pedro David  Category 6: 'High Performer' (High performance...   \n",
       "91   10044   Douglas Henry  Category 1: 'Risk' (Low performance, Low poten...   \n",
       "425  10183    Camille Hahn  Category 4: 'Inconsistent Player' (Low perform...   \n",
       "\n",
       "                                              feedback  adjusted  reviewed  \\\n",
       "337  Jay's reports frequently contained many seriou...     False     False   \n",
       "313  Markus is a great employee, he did a lot for t...     False     False   \n",
       "600  Self performer requires little coaching. High ...     False     False   \n",
       "91   Douglas has a lot to work on and areas to grow...     False     False   \n",
       "425  Camille has changed her preferences a lot,\\n w...     False     False   \n",
       "\n",
       "     length feedback_sentiment  \n",
       "337     604       Bad Feedback  \n",
       "313     509      Good Feedback  \n",
       "600     102      Good Feedback  \n",
       "91      290       Bad Feedback  \n",
       "425     295       Bad Feedback  "
      ]
     },
     "execution_count": 22,
     "metadata": {},
     "output_type": "execute_result"
    }
   ],
   "source": [
    "employees.sample(5)"
   ]
  },
  {
   "cell_type": "markdown",
   "id": "1ec1c4c9",
   "metadata": {},
   "source": [
    "Dropping Irrelevant Columns"
   ]
  },
  {
   "cell_type": "code",
   "execution_count": 23,
   "id": "65181eeb",
   "metadata": {},
   "outputs": [],
   "source": [
    "#dropping irrelevant columns\n",
    "columns_to_delete = ['id','person_name', 'nine_box_category','adjusted','reviewed','length']\n",
    "employees.drop(columns_to_delete, inplace=True, axis=1)"
   ]
  },
  {
   "cell_type": "markdown",
   "id": "12ce08b0",
   "metadata": {},
   "source": [
    "Let's create a function that will process the string in the feedback column, then we can just use **apply()** in pandas do process all the text in the DataFrame."
   ]
  },
  {
   "cell_type": "code",
   "execution_count": 24,
   "id": "21930b37",
   "metadata": {},
   "outputs": [],
   "source": [
    "# return the wordnet object value corresponding to the POS tag\n",
    "from nltk.corpus import wordnet\n",
    "\n",
    "def get_wordnet_pos(pos_tag):\n",
    "    if pos_tag.startswith('J'):\n",
    "        return wordnet.ADJ\n",
    "    elif pos_tag.startswith('V'):\n",
    "        return wordnet.VERB\n",
    "    elif pos_tag.startswith('N'):\n",
    "        return wordnet.NOUN\n",
    "    elif pos_tag.startswith('R'):\n",
    "        return wordnet.ADV\n",
    "    else:\n",
    "        return wordnet.NOUN\n",
    "    \n",
    "import string\n",
    "from nltk import pos_tag\n",
    "from nltk.corpus import stopwords\n",
    "from nltk.tokenize import WhitespaceTokenizer\n",
    "from nltk.stem import WordNetLemmatizer\n",
    "\n",
    "def clean_text(text):\n",
    "    # lower text\n",
    "    text = text.lower()\n",
    "    # tokenize text and remove puncutation\n",
    "    text = [word.strip(string.punctuation) for word in text.split(\" \")]\n",
    "    # remove words that contain numbers\n",
    "    text = [word for word in text if not any(c.isdigit() for c in word)]\n",
    "    # remove stop words\n",
    "    stop = stopwords.words('english')\n",
    "    text = [x for x in text if x not in stop]\n",
    "    # remove empty tokens\n",
    "    text = [t for t in text if len(t) > 0]\n",
    "    # pos tag text\n",
    "    pos_tags = pos_tag(text)\n",
    "    # lemmatize text\n",
    "    text = [WordNetLemmatizer().lemmatize(t[0], get_wordnet_pos(t[1])) for t in pos_tags]\n",
    "    # remove words with only one letter\n",
    "    text = [t for t in text if len(t) > 1]\n",
    "    # join all\n",
    "    text = \" \".join(text)\n",
    "    return(text)\n",
    "\n",
    "# clean text data\n",
    "employees[\"feedback_clean\"] = employees[\"feedback\"].apply(lambda x: clean_text(x))"
   ]
  },
  {
   "cell_type": "markdown",
   "id": "a8810f73",
   "metadata": {},
   "source": [
    "\n",
    "\n",
    "To clean textual data, i made a 'clean_text' function that performs several transformations:\n",
    "- lower the text\n",
    "- tokenize the text (split the text into words) and remove the punctuation\n",
    "- remove useless words that contain numbers\n",
    "- remove useless stop words like 'the', 'a' ,'this' etc.\n",
    "- Part-Of-Speech (POS) tagging: assign a tag to every word to define if it corresponds to a noun, a verb etc. using the WordNet lexical database\n",
    "- lemmatize the text: transform every word into their root form (e.g. jobs -> job, felt -> feel)\n"
   ]
  },
  {
   "cell_type": "code",
   "execution_count": 25,
   "id": "d1d3c112",
   "metadata": {},
   "outputs": [
    {
     "data": {
      "text/html": [
       "<div>\n",
       "<style scoped>\n",
       "    .dataframe tbody tr th:only-of-type {\n",
       "        vertical-align: middle;\n",
       "    }\n",
       "\n",
       "    .dataframe tbody tr th {\n",
       "        vertical-align: top;\n",
       "    }\n",
       "\n",
       "    .dataframe thead th {\n",
       "        text-align: right;\n",
       "    }\n",
       "</style>\n",
       "<table border=\"1\" class=\"dataframe\">\n",
       "  <thead>\n",
       "    <tr style=\"text-align: right;\">\n",
       "      <th></th>\n",
       "      <th>feedback</th>\n",
       "      <th>feedback_sentiment</th>\n",
       "      <th>feedback_clean</th>\n",
       "    </tr>\n",
       "  </thead>\n",
       "  <tbody>\n",
       "    <tr>\n",
       "      <th>115</th>\n",
       "      <td>Andy was a very inconsistent player, he would ...</td>\n",
       "      <td>Bad Feedback</td>\n",
       "      <td>andy inconsistent player would day every two m...</td>\n",
       "    </tr>\n",
       "    <tr>\n",
       "      <th>98</th>\n",
       "      <td>I feel like Layla may have overpromised during...</td>\n",
       "      <td>Bad Feedback</td>\n",
       "      <td>feel like layla may overpromised interview oft...</td>\n",
       "    </tr>\n",
       "    <tr>\n",
       "      <th>338</th>\n",
       "      <td>Jay needs some work to fully unlock his capabi...</td>\n",
       "      <td>Bad Feedback</td>\n",
       "      <td>jay need work fully unlock capability work com...</td>\n",
       "    </tr>\n",
       "    <tr>\n",
       "      <th>549</th>\n",
       "      <td>Ms. Thomas continually exceeds job expectation...</td>\n",
       "      <td>Good Feedback</td>\n",
       "      <td>thomas continually exceed job expectation turn...</td>\n",
       "    </tr>\n",
       "    <tr>\n",
       "      <th>507</th>\n",
       "      <td>Andrea Works well in all areas of data entry. ...</td>\n",
       "      <td>Good Feedback</td>\n",
       "      <td>andrea work well area data entry high performa...</td>\n",
       "    </tr>\n",
       "  </tbody>\n",
       "</table>\n",
       "</div>"
      ],
      "text/plain": [
       "                                              feedback feedback_sentiment  \\\n",
       "115  Andy was a very inconsistent player, he would ...       Bad Feedback   \n",
       "98   I feel like Layla may have overpromised during...       Bad Feedback   \n",
       "338  Jay needs some work to fully unlock his capabi...       Bad Feedback   \n",
       "549  Ms. Thomas continually exceeds job expectation...      Good Feedback   \n",
       "507  Andrea Works well in all areas of data entry. ...      Good Feedback   \n",
       "\n",
       "                                        feedback_clean  \n",
       "115  andy inconsistent player would day every two m...  \n",
       "98   feel like layla may overpromised interview oft...  \n",
       "338  jay need work fully unlock capability work com...  \n",
       "549  thomas continually exceed job expectation turn...  \n",
       "507  andrea work well area data entry high performa...  "
      ]
     },
     "execution_count": 25,
     "metadata": {},
     "output_type": "execute_result"
    }
   ],
   "source": [
    "employees.sample(5)"
   ]
  },
  {
   "cell_type": "markdown",
   "id": "1e5efcf3",
   "metadata": {},
   "source": [
    "### Feature Engineering"
   ]
  },
  {
   "cell_type": "markdown",
   "id": "f51f312a",
   "metadata": {},
   "source": [
    "The feature engineering pipeline is the preprocessing steps that transform raw data into features that can be used in machine learning algorithms, such as predictive models."
   ]
  },
  {
   "cell_type": "markdown",
   "id": "9721f6da",
   "metadata": {},
   "source": [
    "I will first start by adding sentiment analysis features because we can guess that the feedbacks are highly linked to how the managers are feeling about their employeees performance and potential. I will use Vader, which is a part of the NLTK module designed for sentiment analysis. Vader uses a lexicon of words to find which ones are positives or negatives. It also takes into account the context of the sentences to determine the sentiment scores. For each text, Vader retuns 4 values:\n",
    "- a neutrality score\n",
    "- a positivity score\n",
    "- a negativity score\n",
    "- an overall score that summarizes the previous scores\n",
    "\n",
    "I will integrate those 4 values as features in our dataset .\n"
   ]
  },
  {
   "cell_type": "code",
   "execution_count": 26,
   "id": "32d315d4",
   "metadata": {},
   "outputs": [],
   "source": [
    "# add sentiment anaylsis columns\n",
    "from nltk.sentiment.vader import SentimentIntensityAnalyzer\n",
    "\n",
    "sid = SentimentIntensityAnalyzer()\n",
    "employees[\"sentiments\"] = employees[\"feedback\"].apply(lambda x: sid.polarity_scores(x))\n",
    "employees = pd.concat([employees.drop(['sentiments'], axis=1), employees['sentiments'].apply(pd.Series)], axis=1)"
   ]
  },
  {
   "cell_type": "code",
   "execution_count": 27,
   "id": "e512dc0e",
   "metadata": {},
   "outputs": [
    {
     "data": {
      "text/html": [
       "<div>\n",
       "<style scoped>\n",
       "    .dataframe tbody tr th:only-of-type {\n",
       "        vertical-align: middle;\n",
       "    }\n",
       "\n",
       "    .dataframe tbody tr th {\n",
       "        vertical-align: top;\n",
       "    }\n",
       "\n",
       "    .dataframe thead th {\n",
       "        text-align: right;\n",
       "    }\n",
       "</style>\n",
       "<table border=\"1\" class=\"dataframe\">\n",
       "  <thead>\n",
       "    <tr style=\"text-align: right;\">\n",
       "      <th></th>\n",
       "      <th>feedback</th>\n",
       "      <th>feedback_sentiment</th>\n",
       "      <th>feedback_clean</th>\n",
       "      <th>neg</th>\n",
       "      <th>neu</th>\n",
       "      <th>pos</th>\n",
       "      <th>compound</th>\n",
       "    </tr>\n",
       "  </thead>\n",
       "  <tbody>\n",
       "    <tr>\n",
       "      <th>579</th>\n",
       "      <td>Madison Hawkins continuously goes above and be...</td>\n",
       "      <td>Good Feedback</td>\n",
       "      <td>madison hawkins continuously go beyond job dut...</td>\n",
       "      <td>0.057</td>\n",
       "      <td>0.827</td>\n",
       "      <td>0.116</td>\n",
       "      <td>0.7383</td>\n",
       "    </tr>\n",
       "    <tr>\n",
       "      <th>484</th>\n",
       "      <td>Finley Harrison has earned the Category 5 rati...</td>\n",
       "      <td>Good Feedback</td>\n",
       "      <td>finley harrison earn category rating current e...</td>\n",
       "      <td>0.059</td>\n",
       "      <td>0.915</td>\n",
       "      <td>0.026</td>\n",
       "      <td>-0.4287</td>\n",
       "    </tr>\n",
       "    <tr>\n",
       "      <th>807</th>\n",
       "      <td>Gavyn Acevedo is an excellent employee, he goe...</td>\n",
       "      <td>Good Feedback</td>\n",
       "      <td>gavyn acevedo excellent employee go beyond exp...</td>\n",
       "      <td>0.000</td>\n",
       "      <td>0.790</td>\n",
       "      <td>0.210</td>\n",
       "      <td>0.9517</td>\n",
       "    </tr>\n",
       "    <tr>\n",
       "      <th>458</th>\n",
       "      <td>Morgan Butler has demonstrated solid work this...</td>\n",
       "      <td>Good Feedback</td>\n",
       "      <td>morgan butler demonstrate solid work year frie...</td>\n",
       "      <td>0.000</td>\n",
       "      <td>0.759</td>\n",
       "      <td>0.241</td>\n",
       "      <td>0.8934</td>\n",
       "    </tr>\n",
       "    <tr>\n",
       "      <th>254</th>\n",
       "      <td>I consider Matthew to be the true quarterback ...</td>\n",
       "      <td>Good Feedback</td>\n",
       "      <td>consider matthew true quarterback team analyst...</td>\n",
       "      <td>0.098</td>\n",
       "      <td>0.787</td>\n",
       "      <td>0.115</td>\n",
       "      <td>0.3612</td>\n",
       "    </tr>\n",
       "  </tbody>\n",
       "</table>\n",
       "</div>"
      ],
      "text/plain": [
       "                                              feedback feedback_sentiment  \\\n",
       "579  Madison Hawkins continuously goes above and be...      Good Feedback   \n",
       "484  Finley Harrison has earned the Category 5 rati...      Good Feedback   \n",
       "807  Gavyn Acevedo is an excellent employee, he goe...      Good Feedback   \n",
       "458  Morgan Butler has demonstrated solid work this...      Good Feedback   \n",
       "254  I consider Matthew to be the true quarterback ...      Good Feedback   \n",
       "\n",
       "                                        feedback_clean    neg    neu    pos  \\\n",
       "579  madison hawkins continuously go beyond job dut...  0.057  0.827  0.116   \n",
       "484  finley harrison earn category rating current e...  0.059  0.915  0.026   \n",
       "807  gavyn acevedo excellent employee go beyond exp...  0.000  0.790  0.210   \n",
       "458  morgan butler demonstrate solid work year frie...  0.000  0.759  0.241   \n",
       "254  consider matthew true quarterback team analyst...  0.098  0.787  0.115   \n",
       "\n",
       "     compound  \n",
       "579    0.7383  \n",
       "484   -0.4287  \n",
       "807    0.9517  \n",
       "458    0.8934  \n",
       "254    0.3612  "
      ]
     },
     "execution_count": 27,
     "metadata": {},
     "output_type": "execute_result"
    }
   ],
   "source": [
    "employees.sample(5)"
   ]
  },
  {
   "cell_type": "markdown",
   "id": "5c76d064",
   "metadata": {},
   "source": [
    "### Text Mining Algorithms"
   ]
  },
  {
   "cell_type": "code",
   "execution_count": 28,
   "id": "9d698db2",
   "metadata": {},
   "outputs": [],
   "source": [
    "# Lemmatization process\n",
    "'''\n",
    "Words in the third person are changed to first person and verbs in past and future tenses are changed into the present by the \n",
    "lemmatization process. \n",
    "'''\n",
    "lemmatizer = WordNetLemmatizer()\n",
    "\n",
    "def tokenize_and_lemmatize(text):\n",
    "    # tokenization to ensure that punctuation is caught as its own token\n",
    "    tokens = [word.lower() for sent in nltk.sent_tokenize(text) for word in nltk.word_tokenize(sent)]\n",
    "    filtered_tokens = []\n",
    "    \n",
    "    for token in tokens:\n",
    "        if re.search('[a-zA-Z]', token):\n",
    "            filtered_tokens.append(token)\n",
    "    lem = [lemmatizer.lemmatize(t) for t in filtered_tokens]\n",
    "    return lem"
   ]
  },
  {
   "cell_type": "markdown",
   "id": "4b25f5cf",
   "metadata": {},
   "source": [
    "### Vectorization"
   ]
  },
  {
   "cell_type": "markdown",
   "id": "6196c171",
   "metadata": {},
   "source": [
    "Currently, we have the messages as lists of tokens (also known as lemmas) and now we need to convert each of those messages into a vector the SciKit Learn's algorithm models can work with.\n",
    "\n",
    "Now we'll convert each message, represented as a list of tokens (lemmas) above, into a vector that machine learning models can understand.\n",
    "\n",
    "We'll do that in three steps using the bag-of-words model:\n",
    "\n",
    "- Count how many times does a word occur in each message (Known as term frequency)\n",
    "\n",
    "- Weigh the counts, so that frequent tokens get lower weight (inverse document frequency)\n",
    "\n",
    "- Normalize the vectors to unit length, to abstract from the original text length (L2 norm)\n"
   ]
  },
  {
   "cell_type": "markdown",
   "id": "2b9a39e6",
   "metadata": {},
   "source": [
    "Next, I will add some simple metrics for every text:\n",
    "- number of characters in the text (I already did this)\n",
    "- number of words in the text"
   ]
  },
  {
   "cell_type": "code",
   "execution_count": 29,
   "id": "5f79fb6d",
   "metadata": {},
   "outputs": [],
   "source": [
    "# add number of characters column\n",
    "employees[\"nb_chars\"] = employees[\"feedback\"].apply(lambda x: len(x))\n",
    "\n",
    "# add number of words column\n",
    "employees[\"nb_words\"] = employees[\"feedback\"].apply(lambda x: len(x.split(\" \")))"
   ]
  },
  {
   "cell_type": "code",
   "execution_count": 30,
   "id": "a58949a7",
   "metadata": {},
   "outputs": [
    {
     "data": {
      "text/html": [
       "<div>\n",
       "<style scoped>\n",
       "    .dataframe tbody tr th:only-of-type {\n",
       "        vertical-align: middle;\n",
       "    }\n",
       "\n",
       "    .dataframe tbody tr th {\n",
       "        vertical-align: top;\n",
       "    }\n",
       "\n",
       "    .dataframe thead th {\n",
       "        text-align: right;\n",
       "    }\n",
       "</style>\n",
       "<table border=\"1\" class=\"dataframe\">\n",
       "  <thead>\n",
       "    <tr style=\"text-align: right;\">\n",
       "      <th></th>\n",
       "      <th>feedback</th>\n",
       "      <th>feedback_sentiment</th>\n",
       "      <th>feedback_clean</th>\n",
       "      <th>neg</th>\n",
       "      <th>neu</th>\n",
       "      <th>pos</th>\n",
       "      <th>compound</th>\n",
       "      <th>nb_chars</th>\n",
       "      <th>nb_words</th>\n",
       "    </tr>\n",
       "  </thead>\n",
       "  <tbody>\n",
       "    <tr>\n",
       "      <th>505</th>\n",
       "      <td>Bobby's work is always flawless and I can trus...</td>\n",
       "      <td>Good Feedback</td>\n",
       "      <td>bobby's work always flawless trust good shape ...</td>\n",
       "      <td>0.035</td>\n",
       "      <td>0.786</td>\n",
       "      <td>0.179</td>\n",
       "      <td>0.9427</td>\n",
       "      <td>546</td>\n",
       "      <td>100</td>\n",
       "    </tr>\n",
       "    <tr>\n",
       "      <th>542</th>\n",
       "      <td>Andy Kennedy has been working with a varied ap...</td>\n",
       "      <td>Good Feedback</td>\n",
       "      <td>andy kennedy work vary approach time promise s...</td>\n",
       "      <td>0.000</td>\n",
       "      <td>0.780</td>\n",
       "      <td>0.220</td>\n",
       "      <td>0.8750</td>\n",
       "      <td>249</td>\n",
       "      <td>44</td>\n",
       "    </tr>\n",
       "    <tr>\n",
       "      <th>808</th>\n",
       "      <td>Gavyn has increased productivity substantially...</td>\n",
       "      <td>Good Feedback</td>\n",
       "      <td>gavyn increase productivity substantially year...</td>\n",
       "      <td>0.033</td>\n",
       "      <td>0.841</td>\n",
       "      <td>0.126</td>\n",
       "      <td>0.6555</td>\n",
       "      <td>336</td>\n",
       "      <td>58</td>\n",
       "    </tr>\n",
       "    <tr>\n",
       "      <th>522</th>\n",
       "      <td>Moises is conscientious about her work and I k...</td>\n",
       "      <td>Good Feedback</td>\n",
       "      <td>moises conscientious work know trust get job d...</td>\n",
       "      <td>0.039</td>\n",
       "      <td>0.823</td>\n",
       "      <td>0.139</td>\n",
       "      <td>0.7351</td>\n",
       "      <td>308</td>\n",
       "      <td>58</td>\n",
       "    </tr>\n",
       "    <tr>\n",
       "      <th>431</th>\n",
       "      <td>Zachary's performance was not up to the mark i...</td>\n",
       "      <td>Bad Feedback</td>\n",
       "      <td>zachary's performance mark last quarter howeve...</td>\n",
       "      <td>0.000</td>\n",
       "      <td>0.824</td>\n",
       "      <td>0.176</td>\n",
       "      <td>0.9161</td>\n",
       "      <td>396</td>\n",
       "      <td>73</td>\n",
       "    </tr>\n",
       "  </tbody>\n",
       "</table>\n",
       "</div>"
      ],
      "text/plain": [
       "                                              feedback feedback_sentiment  \\\n",
       "505  Bobby's work is always flawless and I can trus...      Good Feedback   \n",
       "542  Andy Kennedy has been working with a varied ap...      Good Feedback   \n",
       "808  Gavyn has increased productivity substantially...      Good Feedback   \n",
       "522  Moises is conscientious about her work and I k...      Good Feedback   \n",
       "431  Zachary's performance was not up to the mark i...       Bad Feedback   \n",
       "\n",
       "                                        feedback_clean    neg    neu    pos  \\\n",
       "505  bobby's work always flawless trust good shape ...  0.035  0.786  0.179   \n",
       "542  andy kennedy work vary approach time promise s...  0.000  0.780  0.220   \n",
       "808  gavyn increase productivity substantially year...  0.033  0.841  0.126   \n",
       "522  moises conscientious work know trust get job d...  0.039  0.823  0.139   \n",
       "431  zachary's performance mark last quarter howeve...  0.000  0.824  0.176   \n",
       "\n",
       "     compound  nb_chars  nb_words  \n",
       "505    0.9427       546       100  \n",
       "542    0.8750       249        44  \n",
       "808    0.6555       336        58  \n",
       "522    0.7351       308        58  \n",
       "431    0.9161       396        73  "
      ]
     },
     "execution_count": 30,
     "metadata": {},
     "output_type": "execute_result"
    }
   ],
   "source": [
    "employees.sample(5)"
   ]
  },
  {
   "cell_type": "markdown",
   "id": "f735360f",
   "metadata": {},
   "source": [
    "So the next step consist in extracting vector representations for every review. The module Gensim creates a numerical vector representation of every word in the corpus by using the contexts in which they appear (Word2Vec). This is performed using shallow neural networks. What's interesting is that similar words will have similar representation vectors.\n",
    "\n",
    "Each text can also be transformed into numerical vectors using the word vectors (Doc2Vec). Same texts will also have similar representations and that is why we can use those vectors as training features.\n",
    "\n",
    "We first have to train a Doc2Vec model by feeding in our text data. By applying this model on our reviews, we can get those representation vectors.\n"
   ]
  },
  {
   "cell_type": "code",
   "execution_count": 31,
   "id": "39333e02",
   "metadata": {},
   "outputs": [],
   "source": [
    "# Defining a Count Vectorizer object\n",
    "count_vec = CountVectorizer(stop_words='english', max_features=10000)\n",
    "# Defining a TF-IDF Vectorizer\n",
    "tfidf_vec = TfidfVectorizer(stop_words='english', ngram_range=(1, 2), tokenizer=tokenize_and_lemmatize, max_features=10000, use_idf=True)"
   ]
  },
  {
   "cell_type": "code",
   "execution_count": 32,
   "id": "ad38d620",
   "metadata": {},
   "outputs": [
    {
     "name": "stdout",
     "output_type": "stream",
     "text": [
      "[[1 0]\n",
      " [1 0]\n",
      " [1 0]\n",
      " ...\n",
      " [0 1]\n",
      " [0 1]\n",
      " [0 1]]\n",
      "['Bad Feedback' 'Good Feedback']\n"
     ]
    }
   ],
   "source": [
    "mb = MultiLabelBinarizer()\n",
    "y=mb.fit_transform(employees['feedback_sentiment'].dropna().str.split(', ')) \n",
    "print (y)\n",
    "print(mb.classes_ )\n",
    "#y = mb.transform(skills_df['Example'])"
   ]
  },
  {
   "cell_type": "markdown",
   "id": "54e47b77",
   "metadata": {},
   "source": [
    " Basic validation: splitting the data 80-20 train/test"
   ]
  },
  {
   "cell_type": "code",
   "execution_count": 33,
   "id": "dae13457",
   "metadata": {},
   "outputs": [],
   "source": [
    "X_train, X_test, y_train, y_test = train_test_split(employees['feedback_clean'], y, test_size=0.2, random_state=55)"
   ]
  },
  {
   "cell_type": "markdown",
   "id": "91bcbe6f",
   "metadata": {},
   "source": [
    "### TF-IDF"
   ]
  },
  {
   "cell_type": "markdown",
   "id": "ac76e3a6",
   "metadata": {},
   "source": [
    "TF-IDF stands for *term frequency-inverse document frequency*, and the tf-idf weight is a weight often used in information retrieval and text mining. This weight is a statistical measure used to evaluate how important a word is to a document in a collection or corpus. The importance increases proportionally to the number of times a word appears in the document but is offset by the frequency of the word in the corpus. Variations of the tf-idf weighting scheme are often used by search engines as a central tool in scoring and ranking a document's relevance given a user query.\n",
    "\n",
    "One of the simplest ranking functions is computed by summing the tf-idf for each query term; many more sophisticated ranking functions are variants of this simple model.\n",
    "\n",
    "Typically, the tf-idf weight is composed by two terms: the first computes the normalized Term Frequency (TF), aka. the number of times a word appears in a document, divided by the total number of words in that document; the second term is the Inverse Document Frequency (IDF), computed as the logarithm of the number of the documents in the corpus divided by the number of documents where the specific term appears.\n",
    "\n",
    "**TF: Term Frequency**, which measures how frequently a term occurs in a document. Since every document is different in length, it is possible that a term would appear much more times in long documents than shorter ones. Thus, the term frequency is often divided by the document length (aka. the total number of terms in the document) as a way of normalization: \n",
    "\n",
    "*TF(t) = (Number of times term t appears in a document) / (Total number of terms in the document).*\n",
    "\n",
    "**IDF: Inverse Document Frequency**, which measures how important a term is. While computing TF, all terms are considered equally important. However it is known that certain terms, such as \"is\", \"of\", and \"that\", may appear a lot of times but have little importance. Thus we need to weigh down the frequent terms while scale up the rare ones, by computing the following: \n",
    "\n",
    "*IDF(t) = log_e(Total number of documents / Number of documents with term t in it).*"
   ]
  },
  {
   "cell_type": "markdown",
   "id": "9a2238dc",
   "metadata": {},
   "source": [
    "Finally we add the TF-IDF (Term Frequency - Inverse Document Frequency) values for every word and every document.\n",
    "\n",
    "But why not simply counting how many times each word appears in every document? The problem with this method is that it doesn't take into account the relative importance of words in the texts. A word that appears in almost every text would not likely bring useful information for analysis. On the contrary, rare words may have a lot more of meanings.\n",
    "\n",
    "The TF-IDF metric solves this problem:\n",
    "- TF computes the classic number of times the word appears in the text\n",
    "- IDF computes the relative importance of this word which depends on how many texts the word can be found\n",
    "\n",
    "We add TF-IDF columns for every word that appear in at least 10 different texts to filter some of them and reduce the size of the final output.\n"
   ]
  },
  {
   "cell_type": "code",
   "execution_count": 34,
   "id": "38c2203d",
   "metadata": {},
   "outputs": [
    {
     "name": "stderr",
     "output_type": "stream",
     "text": [
      "D:\\Programs\\Anaconda3\\lib\\site-packages\\sklearn\\feature_extraction\\text.py:388: UserWarning: Your stop_words may be inconsistent with your preprocessing. Tokenizing the stop words generated tokens ['ha', 'le', 'u', 'wa'] not in stop_words.\n",
      "  warnings.warn('Your stop_words may be inconsistent with '\n"
     ]
    },
    {
     "data": {
      "text/plain": [
       "(702, 10000)"
      ]
     },
     "execution_count": 34,
     "metadata": {},
     "output_type": "execute_result"
    }
   ],
   "source": [
    "# Tf-Idf transformation \n",
    "xtrain_tfidf = tfidf_vec.fit_transform(X_train)\n",
    "xtest_tfidf = tfidf_vec.transform(X_test)\n",
    "xtrain_tfidf.shape"
   ]
  },
  {
   "cell_type": "code",
   "execution_count": 35,
   "id": "4f70f816",
   "metadata": {},
   "outputs": [],
   "source": [
    "# Count Vectorizer transformation\n",
    "xtrain_cv = count_vec.fit_transform(X_train)\n",
    "xtest_cv = count_vec.transform(X_test)"
   ]
  },
  {
   "cell_type": "code",
   "execution_count": 36,
   "id": "a0f9f242",
   "metadata": {},
   "outputs": [
    {
     "data": {
      "text/plain": [
       "(702, 2614)"
      ]
     },
     "execution_count": 36,
     "metadata": {},
     "output_type": "execute_result"
    }
   ],
   "source": [
    "xtrain_cv.shape"
   ]
  },
  {
   "cell_type": "markdown",
   "id": "ce95b29c",
   "metadata": {},
   "source": [
    "## Exploratory data analysis (2)"
   ]
  },
  {
   "cell_type": "markdown",
   "id": "a49b5a86",
   "metadata": {},
   "source": [
    "in order to have a better understanding of our data, let's explore it again after i've done the text preprocessing and cleaning : "
   ]
  },
  {
   "cell_type": "code",
   "execution_count": 37,
   "id": "86c5c484",
   "metadata": {},
   "outputs": [
    {
     "data": {
      "text/plain": [
       "Good Feedback    0.560364\n",
       "Bad Feedback     0.439636\n",
       "Name: feedback_sentiment, dtype: float64"
      ]
     },
     "execution_count": 37,
     "metadata": {},
     "output_type": "execute_result"
    }
   ],
   "source": [
    "# show is_good_feedback distribution\n",
    "employees[\"feedback_sentiment\"].value_counts(normalize = True)"
   ]
  },
  {
   "cell_type": "markdown",
   "id": "3c2c0218",
   "metadata": {},
   "source": [
    "WordCloud is a data visualization technique used for representing text data in which the size of each word indicates its frequency or importance , i'm going to create a wordcloud function"
   ]
  },
  {
   "cell_type": "markdown",
   "id": "898cf15c",
   "metadata": {},
   "source": [
    "**Now let's print some wordclouds to have a glimpse at what kind of words apear in our reviews:**"
   ]
  },
  {
   "cell_type": "code",
   "execution_count": 38,
   "id": "60d55f44",
   "metadata": {},
   "outputs": [
    {
     "data": {
      "image/png": "[encoded data removed]",
      "text/plain": [
       "<Figure size 1440x1440 with 1 Axes>"
      ]
     },
     "metadata": {
      "needs_background": "light"
     },
     "output_type": "display_data"
    }
   ],
   "source": [
    "# wordcloud function\n",
    "\n",
    "from wordcloud import WordCloud\n",
    "import matplotlib.pyplot as plt\n",
    "\n",
    "def show_wordcloud(data, title = None):\n",
    "    wordcloud = WordCloud(\n",
    "        background_color = 'white',\n",
    "        max_words = 200,\n",
    "        max_font_size = 40, \n",
    "        scale = 3,\n",
    "        random_state = 42\n",
    "    ).generate(str(data))\n",
    "\n",
    "    fig = plt.figure(1, figsize = (20, 20))\n",
    "    plt.axis('off')\n",
    "    if title: \n",
    "        fig.suptitle(title, fontsize = 20)\n",
    "        fig.subplots_adjust(top = 2.3)\n",
    "\n",
    "    plt.imshow(wordcloud)\n",
    "    plt.show()\n",
    "    \n",
    "# print wordcloud\n",
    "show_wordcloud(employees[\"feedback\"])"
   ]
  },
  {
   "cell_type": "markdown",
   "id": "81314ba0",
   "metadata": {},
   "source": [
    "**Interpretation** : Most of the words are indeed related to feedbacks and performance: performs, progressed, product,work,great,constant,feedback etc. Some other words reflect the 39% of negative feedbacks : disappointed, subpar, low etc. "
   ]
  },
  {
   "cell_type": "code",
   "execution_count": 39,
   "id": "a42be7ea",
   "metadata": {},
   "outputs": [
    {
     "data": {
      "text/html": [
       "<div>\n",
       "<style scoped>\n",
       "    .dataframe tbody tr th:only-of-type {\n",
       "        vertical-align: middle;\n",
       "    }\n",
       "\n",
       "    .dataframe tbody tr th {\n",
       "        vertical-align: top;\n",
       "    }\n",
       "\n",
       "    .dataframe thead th {\n",
       "        text-align: right;\n",
       "    }\n",
       "</style>\n",
       "<table border=\"1\" class=\"dataframe\">\n",
       "  <thead>\n",
       "    <tr style=\"text-align: right;\">\n",
       "      <th></th>\n",
       "      <th>feedback</th>\n",
       "      <th>pos</th>\n",
       "    </tr>\n",
       "  </thead>\n",
       "  <tbody>\n",
       "    <tr>\n",
       "      <th>453</th>\n",
       "      <td>Generally of good speed.\\nSightly enthusiast.\\...</td>\n",
       "      <td>0.596</td>\n",
       "    </tr>\n",
       "    <tr>\n",
       "      <th>215</th>\n",
       "      <td>Joyce douglas is a pleasure to have at work, s...</td>\n",
       "      <td>0.553</td>\n",
       "    </tr>\n",
       "    <tr>\n",
       "      <th>170</th>\n",
       "      <td>He is a good player.\\nshould improve on speed....</td>\n",
       "      <td>0.512</td>\n",
       "    </tr>\n",
       "    <tr>\n",
       "      <th>286</th>\n",
       "      <td>Willingness to accomplish. Needs constant coac...</td>\n",
       "      <td>0.502</td>\n",
       "    </tr>\n",
       "    <tr>\n",
       "      <th>41</th>\n",
       "      <td>wade shows no meaningful improvements and will...</td>\n",
       "      <td>0.482</td>\n",
       "    </tr>\n",
       "    <tr>\n",
       "      <th>421</th>\n",
       "      <td>Lexi Rogers Is one of best workers. He is good...</td>\n",
       "      <td>0.475</td>\n",
       "    </tr>\n",
       "    <tr>\n",
       "      <th>190</th>\n",
       "      <td>Requires additional encouragement. Needs mento...</td>\n",
       "      <td>0.450</td>\n",
       "    </tr>\n",
       "    <tr>\n",
       "      <th>402</th>\n",
       "      <td>Alina Britt offer potential solutions to a pro...</td>\n",
       "      <td>0.417</td>\n",
       "    </tr>\n",
       "    <tr>\n",
       "      <th>819</th>\n",
       "      <td>Hey Nathan! You've been doing a great job late...</td>\n",
       "      <td>0.409</td>\n",
       "    </tr>\n",
       "    <tr>\n",
       "      <th>217</th>\n",
       "      <td>Teagan Pate Is getting better at performance. ...</td>\n",
       "      <td>0.407</td>\n",
       "    </tr>\n",
       "  </tbody>\n",
       "</table>\n",
       "</div>"
      ],
      "text/plain": [
       "                                              feedback    pos\n",
       "453  Generally of good speed.\\nSightly enthusiast.\\...  0.596\n",
       "215  Joyce douglas is a pleasure to have at work, s...  0.553\n",
       "170  He is a good player.\\nshould improve on speed....  0.512\n",
       "286  Willingness to accomplish. Needs constant coac...  0.502\n",
       "41   wade shows no meaningful improvements and will...  0.482\n",
       "421  Lexi Rogers Is one of best workers. He is good...  0.475\n",
       "190  Requires additional encouragement. Needs mento...  0.450\n",
       "402  Alina Britt offer potential solutions to a pro...  0.417\n",
       "819  Hey Nathan! You've been doing a great job late...  0.409\n",
       "217  Teagan Pate Is getting better at performance. ...  0.407"
      ]
     },
     "execution_count": 39,
     "metadata": {},
     "output_type": "execute_result"
    }
   ],
   "source": [
    "# highest positive sentiment reviews (with more than 5 words)\n",
    "employees[employees[\"nb_words\"] >= 5].sort_values(\"pos\", ascending = False)[[\"feedback\", \"pos\"]].head(10)"
   ]
  },
  {
   "cell_type": "markdown",
   "id": "6041b127",
   "metadata": {},
   "source": [
    "Some errors can be found among the most postive reviews: Vader sometimes interpret 'no' or 'nothing' as negative words whereas they are sometimes used to say that there were no problems with the employer. Fortunately, most of the reviews are indeed good ones."
   ]
  },
  {
   "cell_type": "code",
   "execution_count": 40,
   "id": "505b80c1",
   "metadata": {},
   "outputs": [
    {
     "data": {
      "text/html": [
       "<div>\n",
       "<style scoped>\n",
       "    .dataframe tbody tr th:only-of-type {\n",
       "        vertical-align: middle;\n",
       "    }\n",
       "\n",
       "    .dataframe tbody tr th {\n",
       "        vertical-align: top;\n",
       "    }\n",
       "\n",
       "    .dataframe thead th {\n",
       "        text-align: right;\n",
       "    }\n",
       "</style>\n",
       "<table border=\"1\" class=\"dataframe\">\n",
       "  <thead>\n",
       "    <tr style=\"text-align: right;\">\n",
       "      <th></th>\n",
       "      <th>feedback</th>\n",
       "      <th>neg</th>\n",
       "    </tr>\n",
       "  </thead>\n",
       "  <tbody>\n",
       "    <tr>\n",
       "      <th>88</th>\n",
       "      <td>You have poor potential to make value judgment...</td>\n",
       "      <td>0.277</td>\n",
       "    </tr>\n",
       "    <tr>\n",
       "      <th>54</th>\n",
       "      <td>Mr Geroge Gill struggles to get the task done....</td>\n",
       "      <td>0.231</td>\n",
       "    </tr>\n",
       "    <tr>\n",
       "      <th>483</th>\n",
       "      <td>Finley is an average worker with nothing extra...</td>\n",
       "      <td>0.218</td>\n",
       "    </tr>\n",
       "    <tr>\n",
       "      <th>106</th>\n",
       "      <td>Katherine has a bad attitude towards work and ...</td>\n",
       "      <td>0.213</td>\n",
       "    </tr>\n",
       "    <tr>\n",
       "      <th>402</th>\n",
       "      <td>Alina Britt offer potential solutions to a pro...</td>\n",
       "      <td>0.211</td>\n",
       "    </tr>\n",
       "    <tr>\n",
       "      <th>13</th>\n",
       "      <td>Libby started off well but no longer has motiv...</td>\n",
       "      <td>0.204</td>\n",
       "    </tr>\n",
       "    <tr>\n",
       "      <th>29</th>\n",
       "      <td>Kayden Hill struggles with the tasks set befor...</td>\n",
       "      <td>0.200</td>\n",
       "    </tr>\n",
       "    <tr>\n",
       "      <th>655</th>\n",
       "      <td>He has the ability to extract an idea about pa...</td>\n",
       "      <td>0.197</td>\n",
       "    </tr>\n",
       "    <tr>\n",
       "      <th>356</th>\n",
       "      <td>Lacey was very tough to deal with. She never s...</td>\n",
       "      <td>0.193</td>\n",
       "    </tr>\n",
       "    <tr>\n",
       "      <th>89</th>\n",
       "      <td>Freddie has been quite disappointing this quar...</td>\n",
       "      <td>0.190</td>\n",
       "    </tr>\n",
       "  </tbody>\n",
       "</table>\n",
       "</div>"
      ],
      "text/plain": [
       "                                              feedback    neg\n",
       "88   You have poor potential to make value judgment...  0.277\n",
       "54   Mr Geroge Gill struggles to get the task done....  0.231\n",
       "483  Finley is an average worker with nothing extra...  0.218\n",
       "106  Katherine has a bad attitude towards work and ...  0.213\n",
       "402  Alina Britt offer potential solutions to a pro...  0.211\n",
       "13   Libby started off well but no longer has motiv...  0.204\n",
       "29   Kayden Hill struggles with the tasks set befor...  0.200\n",
       "655  He has the ability to extract an idea about pa...  0.197\n",
       "356  Lacey was very tough to deal with. She never s...  0.193\n",
       "89   Freddie has been quite disappointing this quar...  0.190"
      ]
     },
     "execution_count": 40,
     "metadata": {},
     "output_type": "execute_result"
    }
   ],
   "source": [
    "# lowest negative sentiment reviews (with more than 5 words)\n",
    "employees[employees[\"nb_words\"] >= 5].sort_values(\"neg\", ascending = False)[[\"feedback\", \"neg\"]].head(10)"
   ]
  },
  {
   "cell_type": "markdown",
   "id": "ac4fdd4a",
   "metadata": {},
   "source": [
    "The most negative reviews indeed correspond to some bad feedbacks."
   ]
  },
  {
   "cell_type": "markdown",
   "id": "f507cbb9",
   "metadata": {},
   "source": [
    "## Classification"
   ]
  },
  {
   "cell_type": "markdown",
   "id": "57f3993d",
   "metadata": {},
   "source": [
    "With feedbacks represented as vectors, we can finally train our model. Now we can actually use almost any sort of classification algorithms"
   ]
  },
  {
   "cell_type": "markdown",
   "id": "2eb41f6b",
   "metadata": {},
   "source": [
    "### Model Evaluation Function"
   ]
  },
  {
   "cell_type": "code",
   "execution_count": 41,
   "id": "065bdd85",
   "metadata": {},
   "outputs": [],
   "source": [
    "from sklearn.metrics import confusion_matrix, classification_report\n",
    "def model_Evaluate(model):\n",
    "    # Predict values for Test dataset\n",
    "    y_pred = model.predict(xtest_tfidf)\n",
    "    # Print the evaluation metrics for the dataset.\n",
    "    print(classification_report(y_test, y_pred))\n",
    "    # Compute and plot the Confusion matrix\n",
    "    cf_matrix = confusion_matrix(y_test.argmax(axis=1), y_pred.argmax(axis=1))\n",
    "    categories = ['Negative','Positive']\n",
    "    group_names = ['True Neg','False Pos', 'False Neg','True Pos']\n",
    "    group_percentages = ['{0:.2%}'.format(value) for value in cf_matrix.flatten() / np.sum(cf_matrix)]\n",
    "    labels = [f'{v1}n{v2}' for v1, v2 in zip(group_names,group_percentages)]\n",
    "    labels = np.asarray(labels).reshape(2,2)\n",
    "    sns.heatmap(cf_matrix, annot = labels, cmap = 'Blues',fmt = '',\n",
    "    xticklabels = categories, yticklabels = categories)\n",
    "    plt.xlabel(\"Predicted values\", fontdict = {'size':14}, labelpad = 10)\n",
    "    plt.ylabel(\"Actual values\" , fontdict = {'size':14}, labelpad = 10)\n",
    "    plt.title (\"Confusion Matrix\", fontdict = {'size':18}, pad = 20)"
   ]
  },
  {
   "cell_type": "markdown",
   "id": "af9036e0",
   "metadata": {},
   "source": [
    "### Logistic Regression"
   ]
  },
  {
   "cell_type": "code",
   "execution_count": 42,
   "id": "b37b8cc4",
   "metadata": {},
   "outputs": [
    {
     "data": {
      "text/plain": [
       "OneVsRestClassifier(estimator=LogisticRegression())"
      ]
     },
     "execution_count": 42,
     "metadata": {},
     "output_type": "execute_result"
    }
   ],
   "source": [
    "log_reg = LogisticRegression()\n",
    "oneVsRest = OneVsRestClassifier(log_reg)\n",
    "oneVsRest.fit(xtrain_tfidf, y_train)"
   ]
  },
  {
   "cell_type": "code",
   "execution_count": 43,
   "id": "d82b5fe0",
   "metadata": {},
   "outputs": [
    {
     "name": "stdout",
     "output_type": "stream",
     "text": [
      "Test Accuracy Score of Basic Logistic Reg.: % 77.27\n",
      "Precision : 0.7727272727272727\n",
      "Recall    : 0.7727272727272727\n",
      "F1-score   : 0.7727272727272727\n"
     ]
    }
   ],
   "source": [
    "y_pred = oneVsRest.predict(xtest_tfidf)\n",
    "\n",
    "def get_performance(y_test, y_pred):\n",
    "    # Evaluate Performance\n",
    "    accuracy = round(accuracy_score(y_test, y_pred) * 100, 2)\n",
    "    # Get precision, recall, f1 scores\n",
    "    precision, recall, f1score, support = score(y_test, y_pred, average='micro')\n",
    "    return accuracy, precision, recall, f1score\n",
    "\n",
    "# Performance metrics\n",
    "accuracy, precision, recall, f1score = get_performance(y_test, y_pred)\n",
    "print(f'Test Accuracy Score of Basic Logistic Reg.: % {accuracy}')\n",
    "print(f'Precision : {precision}')\n",
    "print(f'Recall    : {recall}')\n",
    "print(f'F1-score   : {f1score}')"
   ]
  },
  {
   "cell_type": "code",
   "execution_count": 44,
   "id": "ddaf6acf",
   "metadata": {},
   "outputs": [],
   "source": [
    "# to hold model's results\n",
    "evaluation_list=[]"
   ]
  },
  {
   "cell_type": "code",
   "execution_count": 45,
   "id": "76348d1f",
   "metadata": {},
   "outputs": [],
   "source": [
    "# Add performance parameters to list\n",
    "evaluation_list.append(dict([\n",
    "    ('Model', 'Logistic Regression'),\n",
    "    ('Test Accuracy', round(accuracy, 2)),\n",
    "    ('Precision', round(precision, 2)),\n",
    "    ('Recall', round(recall, 2)),\n",
    "    ('F1', round(f1score, 2))\n",
    "     ]))"
   ]
  },
  {
   "cell_type": "code",
   "execution_count": 46,
   "id": "f56e006d",
   "metadata": {},
   "outputs": [
    {
     "data": {
      "text/plain": [
       "('Bad Feedback',)"
      ]
     },
     "execution_count": 46,
     "metadata": {},
     "output_type": "execute_result"
    }
   ],
   "source": [
    "mb.inverse_transform(y_pred)[16]"
   ]
  },
  {
   "cell_type": "code",
   "execution_count": 47,
   "id": "20f61e6d",
   "metadata": {},
   "outputs": [
    {
     "name": "stdout",
     "output_type": "stream",
     "text": [
      "              precision    recall  f1-score   support\n",
      "\n",
      "           0       0.86      0.61      0.71        82\n",
      "           1       0.73      0.91      0.81        94\n",
      "\n",
      "   micro avg       0.77      0.77      0.77       176\n",
      "   macro avg       0.80      0.76      0.76       176\n",
      "weighted avg       0.79      0.77      0.77       176\n",
      " samples avg       0.77      0.77      0.77       176\n",
      "\n"
     ]
    },
    {
     "data": {
      "image/png": "[encoded data removed]",
      "text/plain": [
       "<Figure size 432x288 with 2 Axes>"
      ]
     },
     "metadata": {
      "needs_background": "light"
     },
     "output_type": "display_data"
    }
   ],
   "source": [
    "model_Evaluate(oneVsRest)"
   ]
  },
  {
   "cell_type": "markdown",
   "id": "030c96fb",
   "metadata": {},
   "source": [
    "### Multinomial Naive Bayes"
   ]
  },
  {
   "cell_type": "code",
   "execution_count": 48,
   "id": "6cc430e6",
   "metadata": {},
   "outputs": [
    {
     "data": {
      "text/plain": [
       "OneVsRestClassifier(estimator=MultinomialNB())"
      ]
     },
     "execution_count": 48,
     "metadata": {},
     "output_type": "execute_result"
    }
   ],
   "source": [
    "nbayes = MultinomialNB()\n",
    "oneVsRest_nb = OneVsRestClassifier(nbayes)\n",
    "oneVsRest_nb.fit(xtrain_tfidf, y_train)"
   ]
  },
  {
   "cell_type": "code",
   "execution_count": 49,
   "id": "c977efdf",
   "metadata": {},
   "outputs": [
    {
     "name": "stdout",
     "output_type": "stream",
     "text": [
      "Test Accuracy Score of Basic Multinomial Naive Bayes.: % 72.16\n",
      "Precision : 0.7215909090909091\n",
      "Recall    : 0.7215909090909091\n",
      "F1-score   : 0.7215909090909091\n"
     ]
    }
   ],
   "source": [
    "y_pred = oneVsRest_nb.predict(xtest_tfidf)\n",
    "\n",
    "# Performance metrics\n",
    "accuracy, precision, recall, f1score = get_performance(y_test, y_pred)\n",
    "print(f'Test Accuracy Score of Basic Multinomial Naive Bayes.: % {accuracy}')\n",
    "print(f'Precision : {precision}')\n",
    "print(f'Recall    : {recall}')\n",
    "print(f'F1-score   : {f1score}')"
   ]
  },
  {
   "cell_type": "code",
   "execution_count": 50,
   "id": "1f670816",
   "metadata": {},
   "outputs": [],
   "source": [
    "# Add performance parameters to list\n",
    "evaluation_list.append(dict([\n",
    "    ('Model', 'MultinomialNB'),\n",
    "    ('Test Accuracy', round(accuracy, 2)),\n",
    "    ('Precision', round(precision, 2)),\n",
    "    ('Recall', round(recall, 2)),\n",
    "    ('F1', round(f1score, 2))\n",
    "     ]))"
   ]
  },
  {
   "cell_type": "code",
   "execution_count": 51,
   "id": "31b75663",
   "metadata": {},
   "outputs": [
    {
     "name": "stdout",
     "output_type": "stream",
     "text": [
      "              precision    recall  f1-score   support\n",
      "\n",
      "           0       0.95      0.43      0.59        82\n",
      "           1       0.66      0.98      0.79        94\n",
      "\n",
      "   micro avg       0.72      0.72      0.72       176\n",
      "   macro avg       0.80      0.70      0.69       176\n",
      "weighted avg       0.79      0.72      0.70       176\n",
      " samples avg       0.72      0.72      0.72       176\n",
      "\n"
     ]
    },
    {
     "data": {
      "image/png": "[encoded data removed]",
      "text/plain": [
       "<Figure size 432x288 with 2 Axes>"
      ]
     },
     "metadata": {
      "needs_background": "light"
     },
     "output_type": "display_data"
    }
   ],
   "source": [
    "model_Evaluate(oneVsRest_nb)"
   ]
  },
  {
   "cell_type": "code",
   "execution_count": 52,
   "id": "536f74f4",
   "metadata": {},
   "outputs": [
    {
     "data": {
      "text/plain": [
       "('Bad Feedback',)"
      ]
     },
     "execution_count": 52,
     "metadata": {},
     "output_type": "execute_result"
    }
   ],
   "source": [
    "mb.inverse_transform(y_pred)[16]"
   ]
  },
  {
   "cell_type": "markdown",
   "id": "7a083dee",
   "metadata": {},
   "source": [
    "### Linear SVC"
   ]
  },
  {
   "cell_type": "code",
   "execution_count": 53,
   "id": "6584ac93",
   "metadata": {},
   "outputs": [
    {
     "data": {
      "text/plain": [
       "OneVsRestClassifier(estimator=LinearSVC())"
      ]
     },
     "execution_count": 53,
     "metadata": {},
     "output_type": "execute_result"
    }
   ],
   "source": [
    "linear_svc = LinearSVC()\n",
    "oneVsRest_svc = OneVsRestClassifier(linear_svc)\n",
    "oneVsRest_svc.fit(xtrain_tfidf, y_train)"
   ]
  },
  {
   "cell_type": "code",
   "execution_count": 54,
   "id": "70055a04",
   "metadata": {},
   "outputs": [
    {
     "name": "stdout",
     "output_type": "stream",
     "text": [
      "Test Accuracy Score of Basic Linear SVC.: % 84.09\n",
      "Precision : 0.8409090909090909\n",
      "Recall    : 0.8409090909090909\n",
      "F1-score   : 0.8409090909090909\n"
     ]
    }
   ],
   "source": [
    "y_pred = oneVsRest_svc.predict(xtest_tfidf)\n",
    "\n",
    "# Performance metrics\n",
    "accuracy, precision, recall, f1score = get_performance(y_test, y_pred)\n",
    "print(f'Test Accuracy Score of Basic Linear SVC.: % {accuracy}')\n",
    "print(f'Precision : {precision}')\n",
    "print(f'Recall    : {recall}')\n",
    "print(f'F1-score   : {f1score}')"
   ]
  },
  {
   "cell_type": "code",
   "execution_count": 55,
   "id": "8db4287e",
   "metadata": {},
   "outputs": [],
   "source": [
    "# Add performance parameters to list\n",
    "evaluation_list.append(dict([\n",
    "    ('Model', 'LinearSVC'),\n",
    "    ('Test Accuracy', round(accuracy, 2)),\n",
    "    ('Precision', round(precision, 2)),\n",
    "    ('Recall', round(recall, 2)),\n",
    "    ('F1', round(f1score, 2))\n",
    "     ]))"
   ]
  },
  {
   "cell_type": "code",
   "execution_count": 56,
   "id": "ea08edf6",
   "metadata": {},
   "outputs": [
    {
     "name": "stdout",
     "output_type": "stream",
     "text": [
      "              precision    recall  f1-score   support\n",
      "\n",
      "           0       0.88      0.77      0.82        82\n",
      "           1       0.82      0.90      0.86        94\n",
      "\n",
      "   micro avg       0.84      0.84      0.84       176\n",
      "   macro avg       0.85      0.84      0.84       176\n",
      "weighted avg       0.84      0.84      0.84       176\n",
      " samples avg       0.84      0.84      0.84       176\n",
      "\n"
     ]
    },
    {
     "data": {
      "image/png": "[encoded data removed]",
      "text/plain": [
       "<Figure size 432x288 with 2 Axes>"
      ]
     },
     "metadata": {
      "needs_background": "light"
     },
     "output_type": "display_data"
    }
   ],
   "source": [
    "model_Evaluate(oneVsRest_svc)"
   ]
  },
  {
   "cell_type": "code",
   "execution_count": 57,
   "id": "b4792ab6",
   "metadata": {},
   "outputs": [
    {
     "data": {
      "text/plain": [
       "('Bad Feedback',)"
      ]
     },
     "execution_count": 57,
     "metadata": {},
     "output_type": "execute_result"
    }
   ],
   "source": [
    "mb.inverse_transform(y_pred)[16]"
   ]
  },
  {
   "cell_type": "markdown",
   "id": "cf85b134",
   "metadata": {},
   "source": [
    "### Random Forest"
   ]
  },
  {
   "cell_type": "code",
   "execution_count": 58,
   "id": "a0d80095",
   "metadata": {},
   "outputs": [
    {
     "data": {
      "text/plain": [
       "OneVsRestClassifier(estimator=RandomForestClassifier())"
      ]
     },
     "execution_count": 58,
     "metadata": {},
     "output_type": "execute_result"
    }
   ],
   "source": [
    "rforest = RandomForestClassifier(n_estimators=100)\n",
    "oneVsRest_rf = OneVsRestClassifier(rforest)\n",
    "oneVsRest_rf.fit(xtrain_tfidf, y_train)"
   ]
  },
  {
   "cell_type": "code",
   "execution_count": 59,
   "id": "aa6c2a4e",
   "metadata": {},
   "outputs": [
    {
     "name": "stdout",
     "output_type": "stream",
     "text": [
      "Test Accuracy Score of Basic Random Forest.: % 67.61\n",
      "Precision : 0.7440476190476191\n",
      "Recall    : 0.7102272727272727\n",
      "F1-score   : 0.7267441860465116\n"
     ]
    }
   ],
   "source": [
    "y_pred = oneVsRest_rf.predict(xtest_tfidf)\n",
    "\n",
    "# Performance metrics\n",
    "accuracy, precision, recall, f1score = get_performance(y_test, y_pred)\n",
    "print(f'Test Accuracy Score of Basic Random Forest.: % {accuracy}')\n",
    "print(f'Precision : {precision}')\n",
    "print(f'Recall    : {recall}')\n",
    "print(f'F1-score   : {f1score}')"
   ]
  },
  {
   "cell_type": "code",
   "execution_count": 60,
   "id": "13708671",
   "metadata": {},
   "outputs": [],
   "source": [
    "# Add performance parameters to list\n",
    "evaluation_list.append(dict([\n",
    "    ('Model', 'Random Forest'),\n",
    "    ('Test Accuracy', round(accuracy, 2)),\n",
    "    ('Precision', round(precision, 2)),\n",
    "    ('Recall', round(recall, 2)),\n",
    "    ('F1', round(f1score, 2))\n",
    "     ]))"
   ]
  },
  {
   "cell_type": "code",
   "execution_count": 61,
   "id": "835a0e30",
   "metadata": {},
   "outputs": [
    {
     "name": "stdout",
     "output_type": "stream",
     "text": [
      "              precision    recall  f1-score   support\n",
      "\n",
      "           0       0.79      0.51      0.62        82\n",
      "           1       0.72      0.88      0.79        94\n",
      "\n",
      "   micro avg       0.74      0.71      0.73       176\n",
      "   macro avg       0.76      0.70      0.71       176\n",
      "weighted avg       0.75      0.71      0.71       176\n",
      " samples avg       0.69      0.71      0.70       176\n",
      "\n"
     ]
    },
    {
     "name": "stderr",
     "output_type": "stream",
     "text": [
      "D:\\Programs\\Anaconda3\\lib\\site-packages\\sklearn\\metrics\\_classification.py:1248: UndefinedMetricWarning: Precision and F-score are ill-defined and being set to 0.0 in samples with no predicted labels. Use `zero_division` parameter to control this behavior.\n",
      "  _warn_prf(average, modifier, msg_start, len(result))\n"
     ]
    },
    {
     "data": {
      "image/png": "[encoded data removed]",
      "text/plain": [
       "<Figure size 432x288 with 2 Axes>"
      ]
     },
     "metadata": {
      "needs_background": "light"
     },
     "output_type": "display_data"
    }
   ],
   "source": [
    "model_Evaluate(oneVsRest_rf)"
   ]
  },
  {
   "cell_type": "markdown",
   "id": "d2ae7015",
   "metadata": {},
   "source": [
    "### XGBoost"
   ]
  },
  {
   "cell_type": "code",
   "execution_count": 62,
   "id": "e6804b44",
   "metadata": {},
   "outputs": [
    {
     "data": {
      "text/plain": [
       "OneVsRestClassifier(estimator=XGBClassifier(base_score=None, booster=None,\n",
       "                                            callbacks=None,\n",
       "                                            colsample_bylevel=None,\n",
       "                                            colsample_bynode=None,\n",
       "                                            colsample_bytree=None,\n",
       "                                            early_stopping_rounds=None,\n",
       "                                            enable_categorical=False,\n",
       "                                            eval_metric=None, gamma=None,\n",
       "                                            gpu_id=None, grow_policy=None,\n",
       "                                            importance_type=None,\n",
       "                                            interaction_constraints=None,\n",
       "                                            learning_rate=None, max_bin=None,\n",
       "                                            max_cat_to_onehot=None,\n",
       "                                            max_delta_step=None, max_depth=None,\n",
       "                                            max_leaves=None,\n",
       "                                            min_child_weight=None, missing=nan,\n",
       "                                            monotone_constraints=None,\n",
       "                                            n_estimators=100, n_jobs=None,\n",
       "                                            num_parallel_tree=None,\n",
       "                                            predictor=None, random_state=None,\n",
       "                                            reg_alpha=None, reg_lambda=None, ...))"
      ]
     },
     "execution_count": 62,
     "metadata": {},
     "output_type": "execute_result"
    }
   ],
   "source": [
    "from xgboost import XGBClassifier\n",
    "XGB = XGBClassifier()\n",
    "oneVsRest_xgb = OneVsRestClassifier(XGB)\n",
    "oneVsRest_xgb.fit(xtrain_tfidf, y_train)"
   ]
  },
  {
   "cell_type": "code",
   "execution_count": 63,
   "id": "e65cf4f3",
   "metadata": {},
   "outputs": [
    {
     "name": "stdout",
     "output_type": "stream",
     "text": [
      "Test Accuracy Score of Basic XGboost.: % 67.61\n",
      "Precision : 0.6761363636363636\n",
      "Recall    : 0.6761363636363636\n",
      "F1-score   : 0.6761363636363636\n"
     ]
    }
   ],
   "source": [
    "y_pred = oneVsRest_xgb.predict(xtest_tfidf)\n",
    "\n",
    "# Performance metrics\n",
    "accuracy, precision, recall, f1score = get_performance(y_test, y_pred)\n",
    "print(f'Test Accuracy Score of Basic XGboost.: % {accuracy}')\n",
    "print(f'Precision : {precision}')\n",
    "print(f'Recall    : {recall}')\n",
    "print(f'F1-score   : {f1score}')"
   ]
  },
  {
   "cell_type": "code",
   "execution_count": 64,
   "id": "3a33bdc0",
   "metadata": {},
   "outputs": [],
   "source": [
    "# Add performance parameters to list\n",
    "evaluation_list.append(dict([\n",
    "    ('Model', 'XGBoost'),\n",
    "    ('Test Accuracy', round(accuracy, 2)),\n",
    "    ('Precision', round(precision, 2)),\n",
    "    ('Recall', round(recall, 2)),\n",
    "    ('F1', round(f1score, 2))\n",
    "     ]))"
   ]
  },
  {
   "cell_type": "code",
   "execution_count": 65,
   "id": "a911196c",
   "metadata": {},
   "outputs": [
    {
     "name": "stdout",
     "output_type": "stream",
     "text": [
      "              precision    recall  f1-score   support\n",
      "\n",
      "           0       0.68      0.59      0.63        82\n",
      "           1       0.68      0.76      0.71        94\n",
      "\n",
      "   micro avg       0.68      0.68      0.68       176\n",
      "   macro avg       0.68      0.67      0.67       176\n",
      "weighted avg       0.68      0.68      0.67       176\n",
      " samples avg       0.68      0.68      0.68       176\n",
      "\n"
     ]
    },
    {
     "data": {
      "image/png": "[encoded data removed]",
      "text/plain": [
       "<Figure size 432x288 with 2 Axes>"
      ]
     },
     "metadata": {
      "needs_background": "light"
     },
     "output_type": "display_data"
    }
   ],
   "source": [
    "model_Evaluate(oneVsRest_xgb)"
   ]
  },
  {
   "cell_type": "markdown",
   "id": "3a141bba",
   "metadata": {},
   "source": [
    "### BernoulliNB"
   ]
  },
  {
   "cell_type": "code",
   "execution_count": 66,
   "id": "28416aba",
   "metadata": {},
   "outputs": [
    {
     "data": {
      "text/plain": [
       "OneVsRestClassifier(estimator=BernoulliNB())"
      ]
     },
     "execution_count": 66,
     "metadata": {},
     "output_type": "execute_result"
    }
   ],
   "source": [
    "from sklearn.naive_bayes import BernoulliNB\n",
    "BNBmodel = BernoulliNB()\n",
    "oneVsRest_BNB = OneVsRestClassifier(BNBmodel)\n",
    "oneVsRest_BNB.fit(xtrain_tfidf, y_train)"
   ]
  },
  {
   "cell_type": "code",
   "execution_count": 67,
   "id": "f471b360",
   "metadata": {},
   "outputs": [
    {
     "name": "stdout",
     "output_type": "stream",
     "text": [
      "Test Accuracy Score of Basic BNB.: % 68.75\n",
      "Precision : 0.6875\n",
      "Recall    : 0.6875\n",
      "F1-score   : 0.6875\n"
     ]
    }
   ],
   "source": [
    "y_pred = oneVsRest_BNB.predict(xtest_tfidf)\n",
    "\n",
    "# Performance metrics\n",
    "accuracy, precision, recall, f1score = get_performance(y_test, y_pred)\n",
    "print(f'Test Accuracy Score of Basic BNB.: % {accuracy}')\n",
    "print(f'Precision : {precision}')\n",
    "print(f'Recall    : {recall}')\n",
    "print(f'F1-score   : {f1score}')"
   ]
  },
  {
   "cell_type": "code",
   "execution_count": 68,
   "id": "9e424437",
   "metadata": {},
   "outputs": [],
   "source": [
    "# Add performance parameters to list\n",
    "evaluation_list.append(dict([\n",
    "    ('Model', 'BernoulliNB'),\n",
    "    ('Test Accuracy', round(accuracy, 2)),\n",
    "    ('Precision', round(precision, 2)),\n",
    "    ('Recall', round(recall, 2)),\n",
    "    ('F1', round(f1score, 2))\n",
    "     ]))"
   ]
  },
  {
   "cell_type": "code",
   "execution_count": 69,
   "id": "13353b38",
   "metadata": {},
   "outputs": [
    {
     "name": "stdout",
     "output_type": "stream",
     "text": [
      "              precision    recall  f1-score   support\n",
      "\n",
      "           0       0.97      0.34      0.50        82\n",
      "           1       0.63      0.99      0.77        94\n",
      "\n",
      "   micro avg       0.69      0.69      0.69       176\n",
      "   macro avg       0.80      0.67      0.64       176\n",
      "weighted avg       0.79      0.69      0.65       176\n",
      " samples avg       0.69      0.69      0.69       176\n",
      "\n"
     ]
    },
    {
     "data": {
      "image/png": "[encoded data removed]",
      "text/plain": [
       "<Figure size 432x288 with 2 Axes>"
      ]
     },
     "metadata": {
      "needs_background": "light"
     },
     "output_type": "display_data"
    }
   ],
   "source": [
    "model_Evaluate(oneVsRest_BNB)"
   ]
  },
  {
   "cell_type": "markdown",
   "id": "aaf8eaaf",
   "metadata": {},
   "source": [
    "### Performance metrics of models"
   ]
  },
  {
   "cell_type": "code",
   "execution_count": 70,
   "id": "8575aac3",
   "metadata": {},
   "outputs": [
    {
     "data": {
      "text/html": [
       "<div>\n",
       "<style scoped>\n",
       "    .dataframe tbody tr th:only-of-type {\n",
       "        vertical-align: middle;\n",
       "    }\n",
       "\n",
       "    .dataframe tbody tr th {\n",
       "        vertical-align: top;\n",
       "    }\n",
       "\n",
       "    .dataframe thead th {\n",
       "        text-align: right;\n",
       "    }\n",
       "</style>\n",
       "<table border=\"1\" class=\"dataframe\">\n",
       "  <thead>\n",
       "    <tr style=\"text-align: right;\">\n",
       "      <th></th>\n",
       "      <th>Test Accuracy</th>\n",
       "      <th>Precision</th>\n",
       "      <th>Recall</th>\n",
       "      <th>F1</th>\n",
       "    </tr>\n",
       "    <tr>\n",
       "      <th>Model</th>\n",
       "      <th></th>\n",
       "      <th></th>\n",
       "      <th></th>\n",
       "      <th></th>\n",
       "    </tr>\n",
       "  </thead>\n",
       "  <tbody>\n",
       "    <tr>\n",
       "      <th>LinearSVC</th>\n",
       "      <td>84.09</td>\n",
       "      <td>0.84</td>\n",
       "      <td>0.84</td>\n",
       "      <td>0.84</td>\n",
       "    </tr>\n",
       "    <tr>\n",
       "      <th>Logistic Regression</th>\n",
       "      <td>77.27</td>\n",
       "      <td>0.77</td>\n",
       "      <td>0.77</td>\n",
       "      <td>0.77</td>\n",
       "    </tr>\n",
       "    <tr>\n",
       "      <th>Random Forest</th>\n",
       "      <td>67.61</td>\n",
       "      <td>0.74</td>\n",
       "      <td>0.71</td>\n",
       "      <td>0.73</td>\n",
       "    </tr>\n",
       "    <tr>\n",
       "      <th>MultinomialNB</th>\n",
       "      <td>72.16</td>\n",
       "      <td>0.72</td>\n",
       "      <td>0.72</td>\n",
       "      <td>0.72</td>\n",
       "    </tr>\n",
       "    <tr>\n",
       "      <th>BernoulliNB</th>\n",
       "      <td>68.75</td>\n",
       "      <td>0.69</td>\n",
       "      <td>0.69</td>\n",
       "      <td>0.69</td>\n",
       "    </tr>\n",
       "    <tr>\n",
       "      <th>XGBoost</th>\n",
       "      <td>67.61</td>\n",
       "      <td>0.68</td>\n",
       "      <td>0.68</td>\n",
       "      <td>0.68</td>\n",
       "    </tr>\n",
       "  </tbody>\n",
       "</table>\n",
       "</div>"
      ],
      "text/plain": [
       "                     Test Accuracy  Precision  Recall    F1\n",
       "Model                                                      \n",
       "LinearSVC                    84.09       0.84    0.84  0.84\n",
       "Logistic Regression          77.27       0.77    0.77  0.77\n",
       "Random Forest                67.61       0.74    0.71  0.73\n",
       "MultinomialNB                72.16       0.72    0.72  0.72\n",
       "BernoulliNB                  68.75       0.69    0.69  0.69\n",
       "XGBoost                      67.61       0.68    0.68  0.68"
      ]
     },
     "execution_count": 70,
     "metadata": {},
     "output_type": "execute_result"
    }
   ],
   "source": [
    "results = pd.DataFrame(data=evaluation_list)\n",
    "results = results[['Model', 'Test Accuracy', 'Precision', 'Recall', 'F1']]\n",
    "results = results.sort_values(by='F1', ascending=False)\n",
    "results = results.set_index('Model')\n",
    "results"
   ]
  },
  {
   "cell_type": "markdown",
   "id": "416f6ed6",
   "metadata": {},
   "source": [
    "### Optimization-GridSearch "
   ]
  },
  {
   "cell_type": "code",
   "execution_count": 71,
   "id": "dc969696",
   "metadata": {},
   "outputs": [],
   "source": [
    "param = {'estimator__penalty':['l1', 'l2'], 'estimator__C':[0.001, 0.01, 1, 10]}"
   ]
  },
  {
   "cell_type": "code",
   "execution_count": 72,
   "id": "6f13db30",
   "metadata": {},
   "outputs": [
    {
     "data": {
      "text/plain": [
       "dict_keys(['estimator__C', 'estimator__class_weight', 'estimator__dual', 'estimator__fit_intercept', 'estimator__intercept_scaling', 'estimator__l1_ratio', 'estimator__max_iter', 'estimator__multi_class', 'estimator__n_jobs', 'estimator__penalty', 'estimator__random_state', 'estimator__solver', 'estimator__tol', 'estimator__verbose', 'estimator__warm_start', 'estimator', 'n_jobs'])"
      ]
     },
     "execution_count": 72,
     "metadata": {},
     "output_type": "execute_result"
    }
   ],
   "source": [
    "oneVsRest.get_params().keys()"
   ]
  },
  {
   "cell_type": "code",
   "execution_count": 73,
   "id": "81477998",
   "metadata": {},
   "outputs": [
    {
     "name": "stderr",
     "output_type": "stream",
     "text": [
      "D:\\Programs\\Anaconda3\\lib\\site-packages\\sklearn\\model_selection\\_search.py:922: UserWarning: One or more of the test scores are non-finite: [       nan 0.56706237        nan 0.56706237        nan 0.83764588\n",
      "        nan 0.84615694]\n",
      "  warnings.warn(\n"
     ]
    },
    {
     "data": {
      "text/plain": [
       "GridSearchCV(cv=KFold(n_splits=10, random_state=55, shuffle=True),\n",
       "             estimator=OneVsRestClassifier(estimator=LinearSVC()), n_jobs=-1,\n",
       "             param_grid={'estimator__C': [0.001, 0.01, 1, 10],\n",
       "                         'estimator__penalty': ['l1', 'l2']},\n",
       "             scoring='f1_micro')"
      ]
     },
     "execution_count": 73,
     "metadata": {},
     "output_type": "execute_result"
    }
   ],
   "source": [
    "# GridSearchCV\n",
    "kf=KFold(n_splits=10, shuffle=True, random_state=55)\n",
    "SVC_grid = GridSearchCV(oneVsRest_svc, param_grid = param, cv = kf, scoring='f1_micro', n_jobs=-1)\n",
    "SVC_grid.fit(xtrain_tfidf, y_train)"
   ]
  },
  {
   "cell_type": "code",
   "execution_count": 74,
   "id": "23b7cf27",
   "metadata": {},
   "outputs": [
    {
     "name": "stdout",
     "output_type": "stream",
     "text": [
      "0.8461569416498993\n",
      "{'estimator__C': 10, 'estimator__penalty': 'l2'}\n",
      "OneVsRestClassifier(estimator=LinearSVC(C=10))\n"
     ]
    }
   ],
   "source": [
    "# examine the best model\n",
    "print(SVC_grid.best_score_)\n",
    "print(SVC_grid.best_params_)\n",
    "print(SVC_grid.best_estimator_)"
   ]
  },
  {
   "cell_type": "code",
   "execution_count": 75,
   "id": "63fbb5c2",
   "metadata": {},
   "outputs": [
    {
     "data": {
      "text/plain": [
       "OneVsRestClassifier(estimator=LinearSVC())"
      ]
     },
     "execution_count": 75,
     "metadata": {},
     "output_type": "execute_result"
    }
   ],
   "source": [
    "# Optimized Linear SVC Model\n",
    "Grid_linear_svc = LinearSVC(C=10, penalty='l2')\n",
    "ovr = OneVsRestClassifier(linear_svc)\n",
    "ovr.fit(xtrain_tfidf, y_train)"
   ]
  },
  {
   "cell_type": "code",
   "execution_count": 76,
   "id": "4967d712",
   "metadata": {},
   "outputs": [
    {
     "name": "stdout",
     "output_type": "stream",
     "text": [
      "Test Accuracy Score of Grid SVC.: % 84.09\n",
      "Precision : 0.8409090909090909\n",
      "Recall    : 0.8409090909090909\n",
      "F1-score   : 0.8409090909090909\n"
     ]
    }
   ],
   "source": [
    "# performance metrics of the optimized model\n",
    "y_pred = ovr.predict(xtest_tfidf)\n",
    "\n",
    "accuracy, precision, recall, f1score = get_performance(y_test, y_pred)\n",
    "print(f'Test Accuracy Score of Grid SVC.: % {accuracy}')\n",
    "print(f'Precision : {precision}')\n",
    "print(f'Recall    : {recall}')\n",
    "print(f'F1-score   : {f1score}')"
   ]
  },
  {
   "cell_type": "code",
   "execution_count": 77,
   "id": "ef2be55f",
   "metadata": {},
   "outputs": [],
   "source": [
    "# Add performance parameters to list\n",
    "evaluation_list.append(dict([\n",
    "    ('Model', 'Grid SVC'),\n",
    "    ('Test Accuracy', round(accuracy, 2)),\n",
    "    ('Precision', round(precision, 2)),\n",
    "    ('Recall', round(recall, 2)),\n",
    "    ('F1', round(f1score, 2))\n",
    "     ]))"
   ]
  },
  {
   "cell_type": "code",
   "execution_count": 78,
   "id": "656a2e97",
   "metadata": {},
   "outputs": [
    {
     "name": "stdout",
     "output_type": "stream",
     "text": [
      "              precision    recall  f1-score   support\n",
      "\n",
      "           0       0.88      0.77      0.82        82\n",
      "           1       0.82      0.90      0.86        94\n",
      "\n",
      "   micro avg       0.84      0.84      0.84       176\n",
      "   macro avg       0.85      0.84      0.84       176\n",
      "weighted avg       0.84      0.84      0.84       176\n",
      " samples avg       0.84      0.84      0.84       176\n",
      "\n"
     ]
    },
    {
     "data": {
      "image/png": "[encoded data removed]",
      "text/plain": [
       "<Figure size 432x288 with 2 Axes>"
      ]
     },
     "metadata": {
      "needs_background": "light"
     },
     "output_type": "display_data"
    }
   ],
   "source": [
    "model_Evaluate(ovr)"
   ]
  },
  {
   "cell_type": "code",
   "execution_count": 79,
   "id": "c7bff59d",
   "metadata": {},
   "outputs": [
    {
     "data": {
      "text/html": [
       "<div>\n",
       "<style scoped>\n",
       "    .dataframe tbody tr th:only-of-type {\n",
       "        vertical-align: middle;\n",
       "    }\n",
       "\n",
       "    .dataframe tbody tr th {\n",
       "        vertical-align: top;\n",
       "    }\n",
       "\n",
       "    .dataframe thead th {\n",
       "        text-align: right;\n",
       "    }\n",
       "</style>\n",
       "<table border=\"1\" class=\"dataframe\">\n",
       "  <thead>\n",
       "    <tr style=\"text-align: right;\">\n",
       "      <th></th>\n",
       "      <th>Test Accuracy</th>\n",
       "      <th>Precision</th>\n",
       "      <th>Recall</th>\n",
       "      <th>F1</th>\n",
       "    </tr>\n",
       "    <tr>\n",
       "      <th>Model</th>\n",
       "      <th></th>\n",
       "      <th></th>\n",
       "      <th></th>\n",
       "      <th></th>\n",
       "    </tr>\n",
       "  </thead>\n",
       "  <tbody>\n",
       "    <tr>\n",
       "      <th>LinearSVC</th>\n",
       "      <td>84.09</td>\n",
       "      <td>0.84</td>\n",
       "      <td>0.84</td>\n",
       "      <td>0.84</td>\n",
       "    </tr>\n",
       "    <tr>\n",
       "      <th>Grid SVC</th>\n",
       "      <td>84.09</td>\n",
       "      <td>0.84</td>\n",
       "      <td>0.84</td>\n",
       "      <td>0.84</td>\n",
       "    </tr>\n",
       "    <tr>\n",
       "      <th>Logistic Regression</th>\n",
       "      <td>77.27</td>\n",
       "      <td>0.77</td>\n",
       "      <td>0.77</td>\n",
       "      <td>0.77</td>\n",
       "    </tr>\n",
       "    <tr>\n",
       "      <th>Random Forest</th>\n",
       "      <td>67.61</td>\n",
       "      <td>0.74</td>\n",
       "      <td>0.71</td>\n",
       "      <td>0.73</td>\n",
       "    </tr>\n",
       "    <tr>\n",
       "      <th>MultinomialNB</th>\n",
       "      <td>72.16</td>\n",
       "      <td>0.72</td>\n",
       "      <td>0.72</td>\n",
       "      <td>0.72</td>\n",
       "    </tr>\n",
       "    <tr>\n",
       "      <th>BernoulliNB</th>\n",
       "      <td>68.75</td>\n",
       "      <td>0.69</td>\n",
       "      <td>0.69</td>\n",
       "      <td>0.69</td>\n",
       "    </tr>\n",
       "    <tr>\n",
       "      <th>XGBoost</th>\n",
       "      <td>67.61</td>\n",
       "      <td>0.68</td>\n",
       "      <td>0.68</td>\n",
       "      <td>0.68</td>\n",
       "    </tr>\n",
       "  </tbody>\n",
       "</table>\n",
       "</div>"
      ],
      "text/plain": [
       "                     Test Accuracy  Precision  Recall    F1\n",
       "Model                                                      \n",
       "LinearSVC                    84.09       0.84    0.84  0.84\n",
       "Grid SVC                     84.09       0.84    0.84  0.84\n",
       "Logistic Regression          77.27       0.77    0.77  0.77\n",
       "Random Forest                67.61       0.74    0.71  0.73\n",
       "MultinomialNB                72.16       0.72    0.72  0.72\n",
       "BernoulliNB                  68.75       0.69    0.69  0.69\n",
       "XGBoost                      67.61       0.68    0.68  0.68"
      ]
     },
     "execution_count": 79,
     "metadata": {},
     "output_type": "execute_result"
    }
   ],
   "source": [
    "results = pd.DataFrame(data=evaluation_list)\n",
    "results = results[['Model', 'Test Accuracy', 'Precision', 'Recall', 'F1']]\n",
    "results = results.sort_values(by='F1', ascending=False)\n",
    "results = results.set_index('Model')\n",
    "results"
   ]
  },
  {
   "cell_type": "markdown",
   "id": "3b85ac9a",
   "metadata": {},
   "source": [
    "## Prediction"
   ]
  },
  {
   "cell_type": "code",
   "execution_count": 80,
   "id": "122eefbb",
   "metadata": {},
   "outputs": [],
   "source": [
    "# Inference funct to handle new data that will come in the future\n",
    "def infer_sentiment(text):\n",
    "    text = clean_text(text)\n",
    "    text_vec = tfidf_vec.transform([text])\n",
    "    y_pred = ovr.predict(text_vec)\n",
    "    return mb.inverse_transform(y_pred)"
   ]
  },
  {
   "cell_type": "code",
   "execution_count": 81,
   "id": "c980fdd3",
   "metadata": {},
   "outputs": [
    {
     "ename": "NameError",
     "evalue": "name 'infer_tags' is not defined",
     "output_type": "error",
     "traceback": [
      "\u001b[1;31m---------------------------------------------------------------------------\u001b[0m",
      "\u001b[1;31mNameError\u001b[0m                                 Traceback (most recent call last)",
      "\u001b[1;32m~\\AppData\\Local\\Temp/ipykernel_7360/3669884232.py\u001b[0m in \u001b[0;36m<module>\u001b[1;34m\u001b[0m\n\u001b[0;32m      1\u001b[0m \u001b[1;32mfor\u001b[0m \u001b[0mi\u001b[0m \u001b[1;32min\u001b[0m \u001b[0mrange\u001b[0m\u001b[1;33m(\u001b[0m\u001b[1;36m10\u001b[0m\u001b[1;33m)\u001b[0m\u001b[1;33m:\u001b[0m\u001b[1;33m\u001b[0m\u001b[1;33m\u001b[0m\u001b[0m\n\u001b[0;32m      2\u001b[0m     \u001b[0msp\u001b[0m \u001b[1;33m=\u001b[0m \u001b[0mX_test\u001b[0m\u001b[1;33m.\u001b[0m\u001b[0msample\u001b[0m\u001b[1;33m(\u001b[0m\u001b[1;36m1\u001b[0m\u001b[1;33m)\u001b[0m\u001b[1;33m.\u001b[0m\u001b[0mindex\u001b[0m\u001b[1;33m[\u001b[0m\u001b[1;36m0\u001b[0m\u001b[1;33m]\u001b[0m\u001b[1;33m\u001b[0m\u001b[1;33m\u001b[0m\u001b[0m\n\u001b[1;32m----> 3\u001b[1;33m     \u001b[0mprint\u001b[0m\u001b[1;33m(\u001b[0m\u001b[1;34m\"Feedback: \"\u001b[0m \u001b[1;33m,\u001b[0m\u001b[0memployees\u001b[0m\u001b[1;33m[\u001b[0m\u001b[1;34m'feedback'\u001b[0m\u001b[1;33m]\u001b[0m\u001b[1;33m[\u001b[0m\u001b[0msp\u001b[0m\u001b[1;33m]\u001b[0m\u001b[1;33m,\u001b[0m \u001b[1;34m\"\\nPredicted Sentiment: \"\u001b[0m\u001b[1;33m,\u001b[0m \u001b[0minfer_tags\u001b[0m\u001b[1;33m(\u001b[0m\u001b[0mX_test\u001b[0m\u001b[1;33m[\u001b[0m\u001b[0msp\u001b[0m\u001b[1;33m]\u001b[0m\u001b[1;33m)\u001b[0m\u001b[1;33m)\u001b[0m\u001b[1;33m,\u001b[0m \u001b[0mprint\u001b[0m\u001b[1;33m(\u001b[0m\u001b[1;34m\"Actual Sentiment: \"\u001b[0m\u001b[1;33m,\u001b[0m\u001b[0memployees\u001b[0m\u001b[1;33m[\u001b[0m\u001b[1;34m'feedback_sentiment'\u001b[0m\u001b[1;33m]\u001b[0m\u001b[1;33m[\u001b[0m\u001b[0msp\u001b[0m\u001b[1;33m]\u001b[0m\u001b[1;33m,\u001b[0m \u001b[1;34m\"\\n\"\u001b[0m\u001b[1;33m)\u001b[0m\u001b[1;33m\u001b[0m\u001b[1;33m\u001b[0m\u001b[0m\n\u001b[0m",
      "\u001b[1;31mNameError\u001b[0m: name 'infer_tags' is not defined"
     ]
    }
   ],
   "source": [
    "for i in range(10):\n",
    "    sp = X_test.sample(1).index[0]\n",
    "    print(\"Feedback: \" ,employees['feedback'][sp], \"\\nPredicted Sentiment: \", infer_tags(X_test[sp])), print(\"Actual Sentiment: \",employees['feedback_sentiment'][sp], \"\\n\")   "
   ]
  },
  {
   "cell_type": "code",
   "execution_count": null,
   "id": "21c03b2b",
   "metadata": {},
   "outputs": [],
   "source": [
    "infer_sentiment(\"Fedi is always absent , he has potential but sadly he dosn't show it, he always comes late and rarely finishes his work on time\")"
   ]
  },
  {
   "cell_type": "code",
   "execution_count": null,
   "id": "b57c41eb",
   "metadata": {},
   "outputs": [],
   "source": [
    "#works hard"
   ]
  },
  {
   "cell_type": "code",
   "execution_count": null,
   "id": "7a6a9808",
   "metadata": {},
   "outputs": [],
   "source": [
    "infer_sentiment('Fedi has improved a lot and is working hard , if he keeps working like this he will definitly become the star of the company ')"
   ]
  },
  {
   "cell_type": "markdown",
   "id": "baa581d5",
   "metadata": {},
   "source": [
    "## Saving The Model For deployment"
   ]
  },
  {
   "cell_type": "code",
   "execution_count": null,
   "id": "9715c958",
   "metadata": {},
   "outputs": [],
   "source": [
    "import pickle\n",
    "import joblib"
   ]
  },
  {
   "cell_type": "code",
   "execution_count": null,
   "id": "0a51e4e9",
   "metadata": {},
   "outputs": [],
   "source": [
    "filename = \"NLP_model.joblib\""
   ]
  },
  {
   "cell_type": "code",
   "execution_count": null,
   "id": "bcf65d9c",
   "metadata": {},
   "outputs": [],
   "source": [
    "#joblib.dump(ovr, filename)"
   ]
  },
  {
   "cell_type": "code",
   "execution_count": null,
   "id": "3b416cb2",
   "metadata": {},
   "outputs": [],
   "source": [
    "#joblib.dump(tfidf_obj, NLP_TFIDF.joblib)"
   ]
  }
 ],
 "metadata": {
  "kernelspec": {
   "display_name": "Python 3 (ipykernel)",
   "language": "python",
   "name": "python3"
  },
  "language_info": {
   "codemirror_mode": {
    "name": "ipython",
    "version": 3
   },
   "file_extension": ".py",
   "mimetype": "text/x-python",
   "name": "python",
   "nbconvert_exporter": "python",
   "pygments_lexer": "ipython3",
   "version": "3.9.7"
  }
 },
 "nbformat": 4,
 "nbformat_minor": 5
}
