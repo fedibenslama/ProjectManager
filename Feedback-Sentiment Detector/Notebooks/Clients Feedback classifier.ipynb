{
 "cells": [
  {
   "cell_type": "markdown",
   "id": "61f4f935",
   "metadata": {},
   "source": [
    "# NLP and Classification"
   ]
  },
  {
   "cell_type": "markdown",
   "id": "fff81fb9",
   "metadata": {},
   "source": [
    "## Importing Libraries"
   ]
  },
  {
   "cell_type": "code",
   "execution_count": 1,
   "id": "aa8b50b0",
   "metadata": {},
   "outputs": [],
   "source": [
    "import csv\n",
    "import pandas as pd\n",
    "# utilities\n",
    "import re\n",
    "import numpy as np\n",
    "# plotting\n",
    "import seaborn as sns\n",
    "sns.set_style('white')\n",
    "%matplotlib inline\n",
    "from wordcloud import WordCloud\n",
    "import matplotlib.pyplot as plt\n",
    "# Data Preprocessing & NLP\n",
    "import nltk\n",
    "import string\n",
    "import gensim\n",
    "from textblob import Word\n",
    "\n",
    "from gensim.utils import simple_preprocess\n",
    "from nltk.corpus import stopwords\n",
    "from nltk.stem import WordNetLemmatizer, SnowballStemmer\n",
    "from nltk.stem.porter import *\n",
    "from sklearn.feature_extraction.text import CountVectorizer\n",
    "from sklearn.feature_extraction.text import TfidfVectorizer\n",
    "from sklearn.preprocessing import MultiLabelBinarizer\n",
    "from sklearn.preprocessing import LabelBinarizer\n",
    "#nltk.download('wordnet')\n",
    "#nltk.download('punkt')\n",
    "\n",
    "# Models\n",
    "from sklearn.linear_model import LogisticRegression\n",
    "from sklearn.naive_bayes import MultinomialNB\n",
    "from sklearn.multiclass import OneVsRestClassifier\n",
    "from sklearn.svm import SVC, LinearSVC\n",
    "from sklearn.ensemble import (RandomForestClassifier, GradientBoostingClassifier)\n",
    "from sklearn.neighbors import NearestNeighbors\n",
    "from sklearn.model_selection import GridSearchCV\n",
    "from sklearn.metrics.pairwise import linear_kernel\n",
    "\n",
    "# Performance metrics\n",
    "from sklearn.model_selection import cross_validate, train_test_split\n",
    "from sklearn.metrics import accuracy_score\n",
    "from sklearn.metrics import confusion_matrix, f1_score\n",
    "from sklearn.model_selection import cross_val_score, KFold\n",
    "from sklearn.metrics import accuracy_score, make_scorer\n",
    "from sklearn.metrics import precision_recall_fscore_support as score\n",
    "from sklearn.metrics.pairwise import cosine_similarity\n",
    "\n",
    "# Visualization Libraries\n",
    "from wordcloud import WordCloud, STOPWORDS, ImageColorGenerator"
   ]
  },
  {
   "cell_type": "code",
   "execution_count": 2,
   "id": "9446babe",
   "metadata": {},
   "outputs": [],
   "source": [
    "employees = pd.read_csv('employees.csv')"
   ]
  },
  {
   "cell_type": "markdown",
   "id": "4c423c34",
   "metadata": {},
   "source": [
    "## Exploratory Data Analysis"
   ]
  },
  {
   "cell_type": "code",
   "execution_count": 3,
   "id": "559db120",
   "metadata": {},
   "outputs": [
    {
     "data": {
      "text/html": [
       "<div>\n",
       "<style scoped>\n",
       "    .dataframe tbody tr th:only-of-type {\n",
       "        vertical-align: middle;\n",
       "    }\n",
       "\n",
       "    .dataframe tbody tr th {\n",
       "        vertical-align: top;\n",
       "    }\n",
       "\n",
       "    .dataframe thead th {\n",
       "        text-align: right;\n",
       "    }\n",
       "</style>\n",
       "<table border=\"1\" class=\"dataframe\">\n",
       "  <thead>\n",
       "    <tr style=\"text-align: right;\">\n",
       "      <th></th>\n",
       "      <th>id</th>\n",
       "      <th>person_name</th>\n",
       "      <th>nine_box_category</th>\n",
       "      <th>feedback</th>\n",
       "      <th>adjusted</th>\n",
       "      <th>reviewed</th>\n",
       "    </tr>\n",
       "  </thead>\n",
       "  <tbody>\n",
       "    <tr>\n",
       "      <th>576</th>\n",
       "      <td>449</td>\n",
       "      <td>Daniel Carr</td>\n",
       "      <td>Category 6: 'High Performer' (High performance...</td>\n",
       "      <td>Daniel is a rock-solid member of the team and ...</td>\n",
       "      <td>False</td>\n",
       "      <td>True</td>\n",
       "    </tr>\n",
       "    <tr>\n",
       "      <th>156</th>\n",
       "      <td>127</td>\n",
       "      <td>Isabella James</td>\n",
       "      <td>Category 2: 'Average performer' (Moderate perf...</td>\n",
       "      <td>Isabella James is just here for the paycheck. ...</td>\n",
       "      <td>False</td>\n",
       "      <td>False</td>\n",
       "    </tr>\n",
       "    <tr>\n",
       "      <th>732</th>\n",
       "      <td>621</td>\n",
       "      <td>Dennis Buchanan</td>\n",
       "      <td>Category 8: 'High Potential' (Moderate perform...</td>\n",
       "      <td>Dennis is a consistently reliable as an employ...</td>\n",
       "      <td>False</td>\n",
       "      <td>False</td>\n",
       "    </tr>\n",
       "    <tr>\n",
       "      <th>338</th>\n",
       "      <td>277</td>\n",
       "      <td>Jay Reid</td>\n",
       "      <td>Category 4: 'Inconsistent Player' (Low perform...</td>\n",
       "      <td>Jay needs some work to fully unlock his capabi...</td>\n",
       "      <td>False</td>\n",
       "      <td>False</td>\n",
       "    </tr>\n",
       "    <tr>\n",
       "      <th>348</th>\n",
       "      <td>289</td>\n",
       "      <td>Alfie Wright</td>\n",
       "      <td>Category 4: 'Inconsistent Player' (Low perform...</td>\n",
       "      <td>Alfie's quantitative skills simply are not up ...</td>\n",
       "      <td>False</td>\n",
       "      <td>False</td>\n",
       "    </tr>\n",
       "  </tbody>\n",
       "</table>\n",
       "</div>"
      ],
      "text/plain": [
       "      id      person_name                                  nine_box_category  \\\n",
       "576  449      Daniel Carr  Category 6: 'High Performer' (High performance...   \n",
       "156  127   Isabella James  Category 2: 'Average performer' (Moderate perf...   \n",
       "732  621  Dennis Buchanan  Category 8: 'High Potential' (Moderate perform...   \n",
       "338  277         Jay Reid  Category 4: 'Inconsistent Player' (Low perform...   \n",
       "348  289     Alfie Wright  Category 4: 'Inconsistent Player' (Low perform...   \n",
       "\n",
       "                                              feedback  adjusted  reviewed  \n",
       "576  Daniel is a rock-solid member of the team and ...     False      True  \n",
       "156  Isabella James is just here for the paycheck. ...     False     False  \n",
       "732  Dennis is a consistently reliable as an employ...     False     False  \n",
       "338  Jay needs some work to fully unlock his capabi...     False     False  \n",
       "348  Alfie's quantitative skills simply are not up ...     False     False  "
      ]
     },
     "execution_count": 3,
     "metadata": {},
     "output_type": "execute_result"
    }
   ],
   "source": [
    "employees.sample(5)"
   ]
  },
  {
   "cell_type": "code",
   "execution_count": 4,
   "id": "9aa428f8",
   "metadata": {},
   "outputs": [
    {
     "name": "stdout",
     "output_type": "stream",
     "text": [
      "<class 'pandas.core.frame.DataFrame'>\n",
      "RangeIndex: 878 entries, 0 to 877\n",
      "Data columns (total 6 columns):\n",
      " #   Column             Non-Null Count  Dtype \n",
      "---  ------             --------------  ----- \n",
      " 0   id                 878 non-null    int64 \n",
      " 1   person_name        878 non-null    object\n",
      " 2   nine_box_category  878 non-null    object\n",
      " 3   feedback           878 non-null    object\n",
      " 4   adjusted           878 non-null    bool  \n",
      " 5   reviewed           878 non-null    bool  \n",
      "dtypes: bool(2), int64(1), object(3)\n",
      "memory usage: 29.3+ KB\n"
     ]
    }
   ],
   "source": [
    "employees.info()"
   ]
  },
  {
   "cell_type": "code",
   "execution_count": 5,
   "id": "bc0fa227",
   "metadata": {},
   "outputs": [
    {
     "data": {
      "text/html": [
       "<div>\n",
       "<style scoped>\n",
       "    .dataframe tbody tr th:only-of-type {\n",
       "        vertical-align: middle;\n",
       "    }\n",
       "\n",
       "    .dataframe tbody tr th {\n",
       "        vertical-align: top;\n",
       "    }\n",
       "\n",
       "    .dataframe thead th {\n",
       "        text-align: right;\n",
       "    }\n",
       "</style>\n",
       "<table border=\"1\" class=\"dataframe\">\n",
       "  <thead>\n",
       "    <tr style=\"text-align: right;\">\n",
       "      <th></th>\n",
       "      <th>id</th>\n",
       "    </tr>\n",
       "  </thead>\n",
       "  <tbody>\n",
       "    <tr>\n",
       "      <th>count</th>\n",
       "      <td>878.000000</td>\n",
       "    </tr>\n",
       "    <tr>\n",
       "      <th>mean</th>\n",
       "      <td>3235.269932</td>\n",
       "    </tr>\n",
       "    <tr>\n",
       "      <th>std</th>\n",
       "      <td>4956.401144</td>\n",
       "    </tr>\n",
       "    <tr>\n",
       "      <th>min</th>\n",
       "      <td>1.000000</td>\n",
       "    </tr>\n",
       "    <tr>\n",
       "      <th>25%</th>\n",
       "      <td>237.250000</td>\n",
       "    </tr>\n",
       "    <tr>\n",
       "      <th>50%</th>\n",
       "      <td>473.500000</td>\n",
       "    </tr>\n",
       "    <tr>\n",
       "      <th>75%</th>\n",
       "      <td>10019.750000</td>\n",
       "    </tr>\n",
       "    <tr>\n",
       "      <th>max</th>\n",
       "      <td>20222.000000</td>\n",
       "    </tr>\n",
       "  </tbody>\n",
       "</table>\n",
       "</div>"
      ],
      "text/plain": [
       "                 id\n",
       "count    878.000000\n",
       "mean    3235.269932\n",
       "std     4956.401144\n",
       "min        1.000000\n",
       "25%      237.250000\n",
       "50%      473.500000\n",
       "75%    10019.750000\n",
       "max    20222.000000"
      ]
     },
     "execution_count": 5,
     "metadata": {},
     "output_type": "execute_result"
    }
   ],
   "source": [
    "employees.describe()"
   ]
  },
  {
   "cell_type": "code",
   "execution_count": 6,
   "id": "cd738783",
   "metadata": {},
   "outputs": [
    {
     "data": {
      "text/html": [
       "<div>\n",
       "<style scoped>\n",
       "    .dataframe tbody tr th:only-of-type {\n",
       "        vertical-align: middle;\n",
       "    }\n",
       "\n",
       "    .dataframe tbody tr th {\n",
       "        vertical-align: top;\n",
       "    }\n",
       "\n",
       "    .dataframe thead th {\n",
       "        text-align: right;\n",
       "    }\n",
       "</style>\n",
       "<table border=\"1\" class=\"dataframe\">\n",
       "  <thead>\n",
       "    <tr style=\"text-align: right;\">\n",
       "      <th></th>\n",
       "      <th>id</th>\n",
       "      <th>person_name</th>\n",
       "      <th>nine_box_category</th>\n",
       "      <th>feedback</th>\n",
       "      <th>adjusted</th>\n",
       "      <th>reviewed</th>\n",
       "    </tr>\n",
       "  </thead>\n",
       "  <tbody>\n",
       "    <tr>\n",
       "      <th>443</th>\n",
       "      <td>207</td>\n",
       "      <td>Leo Lee</td>\n",
       "      <td>Category 5: 'Core Player' (Moderate performanc...</td>\n",
       "      <td>Leo is a solid worker. He's usually on time an...</td>\n",
       "      <td>True</td>\n",
       "      <td>True</td>\n",
       "    </tr>\n",
       "    <tr>\n",
       "      <th>11</th>\n",
       "      <td>15</td>\n",
       "      <td>George Gill</td>\n",
       "      <td>Category 1: 'Risk' (Low performance, Low poten...</td>\n",
       "      <td>George was given ample warning last quarter th...</td>\n",
       "      <td>False</td>\n",
       "      <td>True</td>\n",
       "    </tr>\n",
       "    <tr>\n",
       "      <th>530</th>\n",
       "      <td>10104</td>\n",
       "      <td>Declan Houghton</td>\n",
       "      <td>Category 5: 'Core Player' (Moderate performanc...</td>\n",
       "      <td>Declan Houghton is a very consistent part of t...</td>\n",
       "      <td>False</td>\n",
       "      <td>False</td>\n",
       "    </tr>\n",
       "    <tr>\n",
       "      <th>611</th>\n",
       "      <td>10024</td>\n",
       "      <td>Cristian Fleming</td>\n",
       "      <td>Category 6: 'High Performer' (High performance...</td>\n",
       "      <td>Cristian is an integral part of the team and i...</td>\n",
       "      <td>False</td>\n",
       "      <td>True</td>\n",
       "    </tr>\n",
       "    <tr>\n",
       "      <th>252</th>\n",
       "      <td>199</td>\n",
       "      <td>Freya Price</td>\n",
       "      <td>Category 3: 'Solid Performer' (High performanc...</td>\n",
       "      <td>Freya Price has the right mindset and attitude...</td>\n",
       "      <td>False</td>\n",
       "      <td>False</td>\n",
       "    </tr>\n",
       "  </tbody>\n",
       "</table>\n",
       "</div>"
      ],
      "text/plain": [
       "        id       person_name  \\\n",
       "443    207           Leo Lee   \n",
       "11      15       George Gill   \n",
       "530  10104   Declan Houghton   \n",
       "611  10024  Cristian Fleming   \n",
       "252    199       Freya Price   \n",
       "\n",
       "                                     nine_box_category  \\\n",
       "443  Category 5: 'Core Player' (Moderate performanc...   \n",
       "11   Category 1: 'Risk' (Low performance, Low poten...   \n",
       "530  Category 5: 'Core Player' (Moderate performanc...   \n",
       "611  Category 6: 'High Performer' (High performance...   \n",
       "252  Category 3: 'Solid Performer' (High performanc...   \n",
       "\n",
       "                                              feedback  adjusted  reviewed  \n",
       "443  Leo is a solid worker. He's usually on time an...      True      True  \n",
       "11   George was given ample warning last quarter th...     False      True  \n",
       "530  Declan Houghton is a very consistent part of t...     False     False  \n",
       "611  Cristian is an integral part of the team and i...     False      True  \n",
       "252  Freya Price has the right mindset and attitude...     False     False  "
      ]
     },
     "execution_count": 6,
     "metadata": {},
     "output_type": "execute_result"
    }
   ],
   "source": [
    "employees.sample(5)"
   ]
  },
  {
   "cell_type": "code",
   "execution_count": 7,
   "id": "4e5d3e52",
   "metadata": {},
   "outputs": [
    {
     "data": {
      "text/plain": [
       "Index(['id', 'person_name', 'nine_box_category', 'feedback', 'adjusted',\n",
       "       'reviewed'],\n",
       "      dtype='object')"
      ]
     },
     "execution_count": 7,
     "metadata": {},
     "output_type": "execute_result"
    }
   ],
   "source": [
    "employees.columns"
   ]
  },
  {
   "cell_type": "code",
   "execution_count": 8,
   "id": "d89b3363",
   "metadata": {},
   "outputs": [
    {
     "name": "stdout",
     "output_type": "stream",
     "text": [
      "length of data is 878\n"
     ]
    }
   ],
   "source": [
    "print('length of data is', len(employees))"
   ]
  },
  {
   "cell_type": "code",
   "execution_count": 9,
   "id": "66ad551a",
   "metadata": {},
   "outputs": [
    {
     "data": {
      "text/plain": [
       "(878, 6)"
      ]
     },
     "execution_count": 9,
     "metadata": {},
     "output_type": "execute_result"
    }
   ],
   "source": [
    "employees.shape"
   ]
  },
  {
   "cell_type": "code",
   "execution_count": 10,
   "id": "a4c79b78",
   "metadata": {},
   "outputs": [
    {
     "data": {
      "text/plain": [
       "id                    int64\n",
       "person_name          object\n",
       "nine_box_category    object\n",
       "feedback             object\n",
       "adjusted               bool\n",
       "reviewed               bool\n",
       "dtype: object"
      ]
     },
     "execution_count": 10,
     "metadata": {},
     "output_type": "execute_result"
    }
   ],
   "source": [
    "employees.dtypes"
   ]
  },
  {
   "cell_type": "code",
   "execution_count": 11,
   "id": "910f9055",
   "metadata": {},
   "outputs": [
    {
     "data": {
      "text/plain": [
       "0"
      ]
     },
     "execution_count": 11,
     "metadata": {},
     "output_type": "execute_result"
    }
   ],
   "source": [
    "np.sum(employees.isnull().any(axis=1))"
   ]
  },
  {
   "cell_type": "code",
   "execution_count": 12,
   "id": "e79a5fac",
   "metadata": {},
   "outputs": [
    {
     "data": {
      "text/html": [
       "<div>\n",
       "<style scoped>\n",
       "    .dataframe tbody tr th:only-of-type {\n",
       "        vertical-align: middle;\n",
       "    }\n",
       "\n",
       "    .dataframe tbody tr th {\n",
       "        vertical-align: top;\n",
       "    }\n",
       "\n",
       "    .dataframe thead tr th {\n",
       "        text-align: left;\n",
       "    }\n",
       "\n",
       "    .dataframe thead tr:last-of-type th {\n",
       "        text-align: right;\n",
       "    }\n",
       "</style>\n",
       "<table border=\"1\" class=\"dataframe\">\n",
       "  <thead>\n",
       "    <tr>\n",
       "      <th></th>\n",
       "      <th colspan=\"8\" halign=\"left\">id</th>\n",
       "    </tr>\n",
       "    <tr>\n",
       "      <th></th>\n",
       "      <th>count</th>\n",
       "      <th>mean</th>\n",
       "      <th>std</th>\n",
       "      <th>min</th>\n",
       "      <th>25%</th>\n",
       "      <th>50%</th>\n",
       "      <th>75%</th>\n",
       "      <th>max</th>\n",
       "    </tr>\n",
       "    <tr>\n",
       "      <th>nine_box_category</th>\n",
       "      <th></th>\n",
       "      <th></th>\n",
       "      <th></th>\n",
       "      <th></th>\n",
       "      <th></th>\n",
       "      <th></th>\n",
       "      <th></th>\n",
       "      <th></th>\n",
       "    </tr>\n",
       "  </thead>\n",
       "  <tbody>\n",
       "    <tr>\n",
       "      <th>Category 1: 'Risk' (Low performance, Low potential)</th>\n",
       "      <td>126.0</td>\n",
       "      <td>4036.992063</td>\n",
       "      <td>6337.438549</td>\n",
       "      <td>1.0</td>\n",
       "      <td>35.25</td>\n",
       "      <td>69.5</td>\n",
       "      <td>10046.75</td>\n",
       "      <td>20047.0</td>\n",
       "    </tr>\n",
       "    <tr>\n",
       "      <th>Category 2: 'Average performer' (Moderate performance, Low potential)</th>\n",
       "      <td>106.0</td>\n",
       "      <td>2874.547170</td>\n",
       "      <td>5237.138774</td>\n",
       "      <td>51.0</td>\n",
       "      <td>122.25</td>\n",
       "      <td>153.0</td>\n",
       "      <td>386.00</td>\n",
       "      <td>20010.0</td>\n",
       "    </tr>\n",
       "    <tr>\n",
       "      <th>Category 3: 'Solid Performer' (High performance, Low potential)</th>\n",
       "      <td>89.0</td>\n",
       "      <td>2775.764045</td>\n",
       "      <td>4355.917182</td>\n",
       "      <td>177.0</td>\n",
       "      <td>201.00</td>\n",
       "      <td>235.0</td>\n",
       "      <td>10009.00</td>\n",
       "      <td>10220.0</td>\n",
       "    </tr>\n",
       "    <tr>\n",
       "      <th>Category 4: 'Inconsistent Player' (Low performance, Moderate potential)</th>\n",
       "      <td>113.0</td>\n",
       "      <td>2407.053097</td>\n",
       "      <td>4015.109358</td>\n",
       "      <td>73.0</td>\n",
       "      <td>290.00</td>\n",
       "      <td>319.0</td>\n",
       "      <td>536.00</td>\n",
       "      <td>10221.0</td>\n",
       "    </tr>\n",
       "    <tr>\n",
       "      <th>Category 5: 'Core Player' (Moderate performance, Moderate potential)</th>\n",
       "      <td>112.0</td>\n",
       "      <td>2801.830357</td>\n",
       "      <td>4238.287976</td>\n",
       "      <td>106.0</td>\n",
       "      <td>359.75</td>\n",
       "      <td>394.5</td>\n",
       "      <td>2975.00</td>\n",
       "      <td>10228.0</td>\n",
       "    </tr>\n",
       "    <tr>\n",
       "      <th>Category 6: 'High Performer' (High performance, Moderate potential)</th>\n",
       "      <td>91.0</td>\n",
       "      <td>3649.538462</td>\n",
       "      <td>5447.574688</td>\n",
       "      <td>217.0</td>\n",
       "      <td>440.50</td>\n",
       "      <td>467.0</td>\n",
       "      <td>10026.50</td>\n",
       "      <td>20222.0</td>\n",
       "    </tr>\n",
       "    <tr>\n",
       "      <th>Category 7: 'Potential Gem' (Low performance, High potential)</th>\n",
       "      <td>41.0</td>\n",
       "      <td>4742.536585</td>\n",
       "      <td>4801.706546</td>\n",
       "      <td>534.0</td>\n",
       "      <td>545.00</td>\n",
       "      <td>559.0</td>\n",
       "      <td>10073.00</td>\n",
       "      <td>10194.0</td>\n",
       "    </tr>\n",
       "    <tr>\n",
       "      <th>Category 8: 'High Potential' (Moderate performance, High potential)</th>\n",
       "      <td>88.0</td>\n",
       "      <td>2868.693182</td>\n",
       "      <td>4088.073732</td>\n",
       "      <td>495.0</td>\n",
       "      <td>583.75</td>\n",
       "      <td>608.5</td>\n",
       "      <td>633.25</td>\n",
       "      <td>10227.0</td>\n",
       "    </tr>\n",
       "    <tr>\n",
       "      <th>Category 9: 'Star' (High performance, High potential)</th>\n",
       "      <td>112.0</td>\n",
       "      <td>3708.589286</td>\n",
       "      <td>4995.451319</td>\n",
       "      <td>435.0</td>\n",
       "      <td>657.75</td>\n",
       "      <td>686.5</td>\n",
       "      <td>10042.25</td>\n",
       "      <td>20024.0</td>\n",
       "    </tr>\n",
       "  </tbody>\n",
       "</table>\n",
       "</div>"
      ],
      "text/plain": [
       "                                                       id               \\\n",
       "                                                    count         mean   \n",
       "nine_box_category                                                        \n",
       "Category 1: 'Risk' (Low performance, Low potent...  126.0  4036.992063   \n",
       "Category 2: 'Average performer' (Moderate perfo...  106.0  2874.547170   \n",
       "Category 3: 'Solid Performer' (High performance...   89.0  2775.764045   \n",
       "Category 4: 'Inconsistent Player' (Low performa...  113.0  2407.053097   \n",
       "Category 5: 'Core Player' (Moderate performance...  112.0  2801.830357   \n",
       "Category 6: 'High Performer' (High performance,...   91.0  3649.538462   \n",
       "Category 7: 'Potential Gem' (Low performance, H...   41.0  4742.536585   \n",
       "Category 8: 'High Potential' (Moderate performa...   88.0  2868.693182   \n",
       "Category 9: 'Star' (High performance, High pote...  112.0  3708.589286   \n",
       "\n",
       "                                                                        \\\n",
       "                                                            std    min   \n",
       "nine_box_category                                                        \n",
       "Category 1: 'Risk' (Low performance, Low potent...  6337.438549    1.0   \n",
       "Category 2: 'Average performer' (Moderate perfo...  5237.138774   51.0   \n",
       "Category 3: 'Solid Performer' (High performance...  4355.917182  177.0   \n",
       "Category 4: 'Inconsistent Player' (Low performa...  4015.109358   73.0   \n",
       "Category 5: 'Core Player' (Moderate performance...  4238.287976  106.0   \n",
       "Category 6: 'High Performer' (High performance,...  5447.574688  217.0   \n",
       "Category 7: 'Potential Gem' (Low performance, H...  4801.706546  534.0   \n",
       "Category 8: 'High Potential' (Moderate performa...  4088.073732  495.0   \n",
       "Category 9: 'Star' (High performance, High pote...  4995.451319  435.0   \n",
       "\n",
       "                                                                             \\\n",
       "                                                       25%    50%       75%   \n",
       "nine_box_category                                                             \n",
       "Category 1: 'Risk' (Low performance, Low potent...   35.25   69.5  10046.75   \n",
       "Category 2: 'Average performer' (Moderate perfo...  122.25  153.0    386.00   \n",
       "Category 3: 'Solid Performer' (High performance...  201.00  235.0  10009.00   \n",
       "Category 4: 'Inconsistent Player' (Low performa...  290.00  319.0    536.00   \n",
       "Category 5: 'Core Player' (Moderate performance...  359.75  394.5   2975.00   \n",
       "Category 6: 'High Performer' (High performance,...  440.50  467.0  10026.50   \n",
       "Category 7: 'Potential Gem' (Low performance, H...  545.00  559.0  10073.00   \n",
       "Category 8: 'High Potential' (Moderate performa...  583.75  608.5    633.25   \n",
       "Category 9: 'Star' (High performance, High pote...  657.75  686.5  10042.25   \n",
       "\n",
       "                                                             \n",
       "                                                        max  \n",
       "nine_box_category                                            \n",
       "Category 1: 'Risk' (Low performance, Low potent...  20047.0  \n",
       "Category 2: 'Average performer' (Moderate perfo...  20010.0  \n",
       "Category 3: 'Solid Performer' (High performance...  10220.0  \n",
       "Category 4: 'Inconsistent Player' (Low performa...  10221.0  \n",
       "Category 5: 'Core Player' (Moderate performance...  10228.0  \n",
       "Category 6: 'High Performer' (High performance,...  20222.0  \n",
       "Category 7: 'Potential Gem' (Low performance, H...  10194.0  \n",
       "Category 8: 'High Potential' (Moderate performa...  10227.0  \n",
       "Category 9: 'Star' (High performance, High pote...  20024.0  "
      ]
     },
     "execution_count": 12,
     "metadata": {},
     "output_type": "execute_result"
    }
   ],
   "source": [
    "employees.groupby('nine_box_category').describe()"
   ]
  },
  {
   "cell_type": "code",
   "execution_count": 13,
   "id": "b0a9e990",
   "metadata": {},
   "outputs": [
    {
     "data": {
      "text/html": [
       "<div>\n",
       "<style scoped>\n",
       "    .dataframe tbody tr th:only-of-type {\n",
       "        vertical-align: middle;\n",
       "    }\n",
       "\n",
       "    .dataframe tbody tr th {\n",
       "        vertical-align: top;\n",
       "    }\n",
       "\n",
       "    .dataframe thead th {\n",
       "        text-align: right;\n",
       "    }\n",
       "</style>\n",
       "<table border=\"1\" class=\"dataframe\">\n",
       "  <thead>\n",
       "    <tr style=\"text-align: right;\">\n",
       "      <th></th>\n",
       "      <th>id</th>\n",
       "      <th>person_name</th>\n",
       "      <th>nine_box_category</th>\n",
       "      <th>feedback</th>\n",
       "      <th>adjusted</th>\n",
       "      <th>reviewed</th>\n",
       "      <th>length</th>\n",
       "    </tr>\n",
       "  </thead>\n",
       "  <tbody>\n",
       "    <tr>\n",
       "      <th>350</th>\n",
       "      <td>291</td>\n",
       "      <td>Isaac Parry</td>\n",
       "      <td>Category 4: 'Inconsistent Player' (Low perform...</td>\n",
       "      <td>Isaac currently is not doing a good job. He is...</td>\n",
       "      <td>False</td>\n",
       "      <td>False</td>\n",
       "      <td>386</td>\n",
       "    </tr>\n",
       "    <tr>\n",
       "      <th>858</th>\n",
       "      <td>10120</td>\n",
       "      <td>Gunnar Herrera</td>\n",
       "      <td>Category 9: 'Star' (High performance, High pot...</td>\n",
       "      <td>Gunnar is a high performing individual who con...</td>\n",
       "      <td>False</td>\n",
       "      <td>False</td>\n",
       "      <td>296</td>\n",
       "    </tr>\n",
       "    <tr>\n",
       "      <th>111</th>\n",
       "      <td>10207</td>\n",
       "      <td>Jaiden Horne</td>\n",
       "      <td>Category 1: 'Risk' (Low performance, Low poten...</td>\n",
       "      <td>Jayden Horne is not a team player. She has sho...</td>\n",
       "      <td>False</td>\n",
       "      <td>False</td>\n",
       "      <td>194</td>\n",
       "    </tr>\n",
       "    <tr>\n",
       "      <th>604</th>\n",
       "      <td>481</td>\n",
       "      <td>Natasha Richardson</td>\n",
       "      <td>Category 6: 'High Performer' (High performance...</td>\n",
       "      <td>Natasha Richardson was a peak producer this qu...</td>\n",
       "      <td>False</td>\n",
       "      <td>True</td>\n",
       "      <td>358</td>\n",
       "    </tr>\n",
       "    <tr>\n",
       "      <th>574</th>\n",
       "      <td>447</td>\n",
       "      <td>Chelsea Ross</td>\n",
       "      <td>Category 6: 'High Performer' (High performance...</td>\n",
       "      <td>Chelsea Ross performed at a high level this pa...</td>\n",
       "      <td>False</td>\n",
       "      <td>False</td>\n",
       "      <td>287</td>\n",
       "    </tr>\n",
       "  </tbody>\n",
       "</table>\n",
       "</div>"
      ],
      "text/plain": [
       "        id         person_name  \\\n",
       "350    291         Isaac Parry   \n",
       "858  10120      Gunnar Herrera   \n",
       "111  10207        Jaiden Horne   \n",
       "604    481  Natasha Richardson   \n",
       "574    447        Chelsea Ross   \n",
       "\n",
       "                                     nine_box_category  \\\n",
       "350  Category 4: 'Inconsistent Player' (Low perform...   \n",
       "858  Category 9: 'Star' (High performance, High pot...   \n",
       "111  Category 1: 'Risk' (Low performance, Low poten...   \n",
       "604  Category 6: 'High Performer' (High performance...   \n",
       "574  Category 6: 'High Performer' (High performance...   \n",
       "\n",
       "                                              feedback  adjusted  reviewed  \\\n",
       "350  Isaac currently is not doing a good job. He is...     False     False   \n",
       "858  Gunnar is a high performing individual who con...     False     False   \n",
       "111  Jayden Horne is not a team player. She has sho...     False     False   \n",
       "604  Natasha Richardson was a peak producer this qu...     False      True   \n",
       "574  Chelsea Ross performed at a high level this pa...     False     False   \n",
       "\n",
       "     length  \n",
       "350     386  \n",
       "858     296  \n",
       "111     194  \n",
       "604     358  \n",
       "574     287  "
      ]
     },
     "execution_count": 13,
     "metadata": {},
     "output_type": "execute_result"
    }
   ],
   "source": [
    "employees['length'] = employees['feedback'].apply(len)\n",
    "employees.sample(5)"
   ]
  },
  {
   "cell_type": "markdown",
   "id": "224ffafe",
   "metadata": {},
   "source": [
    "## Data Visualization"
   ]
  },
  {
   "cell_type": "code",
   "execution_count": 14,
   "id": "08b2f37e",
   "metadata": {},
   "outputs": [
    {
     "data": {
      "text/html": [
       "        <script type=\"text/javascript\">\n",
       "        window.PlotlyConfig = {MathJaxConfig: 'local'};\n",
       "        if (window.MathJax && window.MathJax.Hub && window.MathJax.Hub.Config) {window.MathJax.Hub.Config({SVG: {font: \"STIX-Web\"}});}\n",
       "        if (typeof require !== 'undefined') {\n",
       "        require.undef(\"plotly\");\n",
       "        requirejs.config({\n",
       "            paths: {\n",
       "                'plotly': ['https://cdn.plot.ly/plotly-2.14.0.min']\n",
       "            }\n",
       "        });\n",
       "        require(['plotly'], function(Plotly) {\n",
       "            window._Plotly = Plotly;\n",
       "        });\n",
       "        }\n",
       "        </script>\n",
       "        "
      ]
     },
     "metadata": {},
     "output_type": "display_data"
    }
   ],
   "source": [
    "import cufflinks as cf\n",
    "cf.go_offline()\n",
    "cf.set_config_file(offline=False, world_readable=True)"
   ]
  },
  {
   "cell_type": "code",
   "execution_count": 15,
   "id": "a393e18d",
   "metadata": {},
   "outputs": [
    {
     "name": "stdout",
     "output_type": "stream",
     "text": [
      "to 2175\n",
      "the 1548\n",
      "and 1479\n",
      "he 1415\n",
      "is 1390\n",
      "in 955\n",
      "she 908\n",
      "his 858\n",
      "has 824\n",
      "work 812\n",
      "of 782\n",
      "her 729\n",
      "that 602\n",
      "with 542\n",
      "on 505\n",
      "not 460\n",
      "for 449\n",
      "be 418\n",
      "this 397\n",
      "but 313\n"
     ]
    },
    {
     "data": {
      "application/vnd.plotly.v1+json": {
       "config": {
        "linkText": "Export to plot.ly",
        "plotlyServerURL": "https://plot.ly",
        "showLink": true
       },
       "data": [
        {
         "marker": {
          "color": "rgba(55, 128, 191, 0.6)",
          "line": {
           "color": "rgba(55, 128, 191, 1.0)",
           "width": 1
          }
         },
         "name": "count",
         "orientation": "v",
         "text": "",
         "type": "bar",
         "x": [
          "to",
          "the",
          "and",
          "he",
          "is",
          "in",
          "she",
          "his",
          "has",
          "work",
          "of",
          "her",
          "that",
          "with",
          "on",
          "not",
          "for",
          "be",
          "this",
          "but"
         ],
         "y": [
          2175,
          1548,
          1479,
          1415,
          1390,
          955,
          908,
          858,
          824,
          812,
          782,
          729,
          602,
          542,
          505,
          460,
          449,
          418,
          397,
          313
         ]
        }
       ],
       "layout": {
        "legend": {
         "bgcolor": "#F5F6F9",
         "font": {
          "color": "#4D5663"
         }
        },
        "paper_bgcolor": "#F5F6F9",
        "plot_bgcolor": "#F5F6F9",
        "template": {
         "data": {
          "bar": [
           {
            "error_x": {
             "color": "#2a3f5f"
            },
            "error_y": {
             "color": "#2a3f5f"
            },
            "marker": {
             "line": {
              "color": "#E5ECF6",
              "width": 0.5
             },
             "pattern": {
              "fillmode": "overlay",
              "size": 10,
              "solidity": 0.2
             }
            },
            "type": "bar"
           }
          ],
          "barpolar": [
           {
            "marker": {
             "line": {
              "color": "#E5ECF6",
              "width": 0.5
             },
             "pattern": {
              "fillmode": "overlay",
              "size": 10,
              "solidity": 0.2
             }
            },
            "type": "barpolar"
           }
          ],
          "carpet": [
           {
            "aaxis": {
             "endlinecolor": "#2a3f5f",
             "gridcolor": "white",
             "linecolor": "white",
             "minorgridcolor": "white",
             "startlinecolor": "#2a3f5f"
            },
            "baxis": {
             "endlinecolor": "#2a3f5f",
             "gridcolor": "white",
             "linecolor": "white",
             "minorgridcolor": "white",
             "startlinecolor": "#2a3f5f"
            },
            "type": "carpet"
           }
          ],
          "choropleth": [
           {
            "colorbar": {
             "outlinewidth": 0,
             "ticks": ""
            },
            "type": "choropleth"
           }
          ],
          "contour": [
           {
            "colorbar": {
             "outlinewidth": 0,
             "ticks": ""
            },
            "colorscale": [
             [
              0,
              "#0d0887"
             ],
             [
              0.1111111111111111,
              "#46039f"
             ],
             [
              0.2222222222222222,
              "#7201a8"
             ],
             [
              0.3333333333333333,
              "#9c179e"
             ],
             [
              0.4444444444444444,
              "#bd3786"
             ],
             [
              0.5555555555555556,
              "#d8576b"
             ],
             [
              0.6666666666666666,
              "#ed7953"
             ],
             [
              0.7777777777777778,
              "#fb9f3a"
             ],
             [
              0.8888888888888888,
              "#fdca26"
             ],
             [
              1,
              "#f0f921"
             ]
            ],
            "type": "contour"
           }
          ],
          "contourcarpet": [
           {
            "colorbar": {
             "outlinewidth": 0,
             "ticks": ""
            },
            "type": "contourcarpet"
           }
          ],
          "heatmap": [
           {
            "colorbar": {
             "outlinewidth": 0,
             "ticks": ""
            },
            "colorscale": [
             [
              0,
              "#0d0887"
             ],
             [
              0.1111111111111111,
              "#46039f"
             ],
             [
              0.2222222222222222,
              "#7201a8"
             ],
             [
              0.3333333333333333,
              "#9c179e"
             ],
             [
              0.4444444444444444,
              "#bd3786"
             ],
             [
              0.5555555555555556,
              "#d8576b"
             ],
             [
              0.6666666666666666,
              "#ed7953"
             ],
             [
              0.7777777777777778,
              "#fb9f3a"
             ],
             [
              0.8888888888888888,
              "#fdca26"
             ],
             [
              1,
              "#f0f921"
             ]
            ],
            "type": "heatmap"
           }
          ],
          "heatmapgl": [
           {
            "colorbar": {
             "outlinewidth": 0,
             "ticks": ""
            },
            "colorscale": [
             [
              0,
              "#0d0887"
             ],
             [
              0.1111111111111111,
              "#46039f"
             ],
             [
              0.2222222222222222,
              "#7201a8"
             ],
             [
              0.3333333333333333,
              "#9c179e"
             ],
             [
              0.4444444444444444,
              "#bd3786"
             ],
             [
              0.5555555555555556,
              "#d8576b"
             ],
             [
              0.6666666666666666,
              "#ed7953"
             ],
             [
              0.7777777777777778,
              "#fb9f3a"
             ],
             [
              0.8888888888888888,
              "#fdca26"
             ],
             [
              1,
              "#f0f921"
             ]
            ],
            "type": "heatmapgl"
           }
          ],
          "histogram": [
           {
            "marker": {
             "pattern": {
              "fillmode": "overlay",
              "size": 10,
              "solidity": 0.2
             }
            },
            "type": "histogram"
           }
          ],
          "histogram2d": [
           {
            "colorbar": {
             "outlinewidth": 0,
             "ticks": ""
            },
            "colorscale": [
             [
              0,
              "#0d0887"
             ],
             [
              0.1111111111111111,
              "#46039f"
             ],
             [
              0.2222222222222222,
              "#7201a8"
             ],
             [
              0.3333333333333333,
              "#9c179e"
             ],
             [
              0.4444444444444444,
              "#bd3786"
             ],
             [
              0.5555555555555556,
              "#d8576b"
             ],
             [
              0.6666666666666666,
              "#ed7953"
             ],
             [
              0.7777777777777778,
              "#fb9f3a"
             ],
             [
              0.8888888888888888,
              "#fdca26"
             ],
             [
              1,
              "#f0f921"
             ]
            ],
            "type": "histogram2d"
           }
          ],
          "histogram2dcontour": [
           {
            "colorbar": {
             "outlinewidth": 0,
             "ticks": ""
            },
            "colorscale": [
             [
              0,
              "#0d0887"
             ],
             [
              0.1111111111111111,
              "#46039f"
             ],
             [
              0.2222222222222222,
              "#7201a8"
             ],
             [
              0.3333333333333333,
              "#9c179e"
             ],
             [
              0.4444444444444444,
              "#bd3786"
             ],
             [
              0.5555555555555556,
              "#d8576b"
             ],
             [
              0.6666666666666666,
              "#ed7953"
             ],
             [
              0.7777777777777778,
              "#fb9f3a"
             ],
             [
              0.8888888888888888,
              "#fdca26"
             ],
             [
              1,
              "#f0f921"
             ]
            ],
            "type": "histogram2dcontour"
           }
          ],
          "mesh3d": [
           {
            "colorbar": {
             "outlinewidth": 0,
             "ticks": ""
            },
            "type": "mesh3d"
           }
          ],
          "parcoords": [
           {
            "line": {
             "colorbar": {
              "outlinewidth": 0,
              "ticks": ""
             }
            },
            "type": "parcoords"
           }
          ],
          "pie": [
           {
            "automargin": true,
            "type": "pie"
           }
          ],
          "scatter": [
           {
            "fillpattern": {
             "fillmode": "overlay",
             "size": 10,
             "solidity": 0.2
            },
            "type": "scatter"
           }
          ],
          "scatter3d": [
           {
            "line": {
             "colorbar": {
              "outlinewidth": 0,
              "ticks": ""
             }
            },
            "marker": {
             "colorbar": {
              "outlinewidth": 0,
              "ticks": ""
             }
            },
            "type": "scatter3d"
           }
          ],
          "scattercarpet": [
           {
            "marker": {
             "colorbar": {
              "outlinewidth": 0,
              "ticks": ""
             }
            },
            "type": "scattercarpet"
           }
          ],
          "scattergeo": [
           {
            "marker": {
             "colorbar": {
              "outlinewidth": 0,
              "ticks": ""
             }
            },
            "type": "scattergeo"
           }
          ],
          "scattergl": [
           {
            "marker": {
             "colorbar": {
              "outlinewidth": 0,
              "ticks": ""
             }
            },
            "type": "scattergl"
           }
          ],
          "scattermapbox": [
           {
            "marker": {
             "colorbar": {
              "outlinewidth": 0,
              "ticks": ""
             }
            },
            "type": "scattermapbox"
           }
          ],
          "scatterpolar": [
           {
            "marker": {
             "colorbar": {
              "outlinewidth": 0,
              "ticks": ""
             }
            },
            "type": "scatterpolar"
           }
          ],
          "scatterpolargl": [
           {
            "marker": {
             "colorbar": {
              "outlinewidth": 0,
              "ticks": ""
             }
            },
            "type": "scatterpolargl"
           }
          ],
          "scatterternary": [
           {
            "marker": {
             "colorbar": {
              "outlinewidth": 0,
              "ticks": ""
             }
            },
            "type": "scatterternary"
           }
          ],
          "surface": [
           {
            "colorbar": {
             "outlinewidth": 0,
             "ticks": ""
            },
            "colorscale": [
             [
              0,
              "#0d0887"
             ],
             [
              0.1111111111111111,
              "#46039f"
             ],
             [
              0.2222222222222222,
              "#7201a8"
             ],
             [
              0.3333333333333333,
              "#9c179e"
             ],
             [
              0.4444444444444444,
              "#bd3786"
             ],
             [
              0.5555555555555556,
              "#d8576b"
             ],
             [
              0.6666666666666666,
              "#ed7953"
             ],
             [
              0.7777777777777778,
              "#fb9f3a"
             ],
             [
              0.8888888888888888,
              "#fdca26"
             ],
             [
              1,
              "#f0f921"
             ]
            ],
            "type": "surface"
           }
          ],
          "table": [
           {
            "cells": {
             "fill": {
              "color": "#EBF0F8"
             },
             "line": {
              "color": "white"
             }
            },
            "header": {
             "fill": {
              "color": "#C8D4E3"
             },
             "line": {
              "color": "white"
             }
            },
            "type": "table"
           }
          ]
         },
         "layout": {
          "annotationdefaults": {
           "arrowcolor": "#2a3f5f",
           "arrowhead": 0,
           "arrowwidth": 1
          },
          "autotypenumbers": "strict",
          "coloraxis": {
           "colorbar": {
            "outlinewidth": 0,
            "ticks": ""
           }
          },
          "colorscale": {
           "diverging": [
            [
             0,
             "#8e0152"
            ],
            [
             0.1,
             "#c51b7d"
            ],
            [
             0.2,
             "#de77ae"
            ],
            [
             0.3,
             "#f1b6da"
            ],
            [
             0.4,
             "#fde0ef"
            ],
            [
             0.5,
             "#f7f7f7"
            ],
            [
             0.6,
             "#e6f5d0"
            ],
            [
             0.7,
             "#b8e186"
            ],
            [
             0.8,
             "#7fbc41"
            ],
            [
             0.9,
             "#4d9221"
            ],
            [
             1,
             "#276419"
            ]
           ],
           "sequential": [
            [
             0,
             "#0d0887"
            ],
            [
             0.1111111111111111,
             "#46039f"
            ],
            [
             0.2222222222222222,
             "#7201a8"
            ],
            [
             0.3333333333333333,
             "#9c179e"
            ],
            [
             0.4444444444444444,
             "#bd3786"
            ],
            [
             0.5555555555555556,
             "#d8576b"
            ],
            [
             0.6666666666666666,
             "#ed7953"
            ],
            [
             0.7777777777777778,
             "#fb9f3a"
            ],
            [
             0.8888888888888888,
             "#fdca26"
            ],
            [
             1,
             "#f0f921"
            ]
           ],
           "sequentialminus": [
            [
             0,
             "#0d0887"
            ],
            [
             0.1111111111111111,
             "#46039f"
            ],
            [
             0.2222222222222222,
             "#7201a8"
            ],
            [
             0.3333333333333333,
             "#9c179e"
            ],
            [
             0.4444444444444444,
             "#bd3786"
            ],
            [
             0.5555555555555556,
             "#d8576b"
            ],
            [
             0.6666666666666666,
             "#ed7953"
            ],
            [
             0.7777777777777778,
             "#fb9f3a"
            ],
            [
             0.8888888888888888,
             "#fdca26"
            ],
            [
             1,
             "#f0f921"
            ]
           ]
          },
          "colorway": [
           "#636efa",
           "#EF553B",
           "#00cc96",
           "#ab63fa",
           "#FFA15A",
           "#19d3f3",
           "#FF6692",
           "#B6E880",
           "#FF97FF",
           "#FECB52"
          ],
          "font": {
           "color": "#2a3f5f"
          },
          "geo": {
           "bgcolor": "white",
           "lakecolor": "white",
           "landcolor": "#E5ECF6",
           "showlakes": true,
           "showland": true,
           "subunitcolor": "white"
          },
          "hoverlabel": {
           "align": "left"
          },
          "hovermode": "closest",
          "mapbox": {
           "style": "light"
          },
          "paper_bgcolor": "white",
          "plot_bgcolor": "#E5ECF6",
          "polar": {
           "angularaxis": {
            "gridcolor": "white",
            "linecolor": "white",
            "ticks": ""
           },
           "bgcolor": "#E5ECF6",
           "radialaxis": {
            "gridcolor": "white",
            "linecolor": "white",
            "ticks": ""
           }
          },
          "scene": {
           "xaxis": {
            "backgroundcolor": "#E5ECF6",
            "gridcolor": "white",
            "gridwidth": 2,
            "linecolor": "white",
            "showbackground": true,
            "ticks": "",
            "zerolinecolor": "white"
           },
           "yaxis": {
            "backgroundcolor": "#E5ECF6",
            "gridcolor": "white",
            "gridwidth": 2,
            "linecolor": "white",
            "showbackground": true,
            "ticks": "",
            "zerolinecolor": "white"
           },
           "zaxis": {
            "backgroundcolor": "#E5ECF6",
            "gridcolor": "white",
            "gridwidth": 2,
            "linecolor": "white",
            "showbackground": true,
            "ticks": "",
            "zerolinecolor": "white"
           }
          },
          "shapedefaults": {
           "line": {
            "color": "#2a3f5f"
           }
          },
          "ternary": {
           "aaxis": {
            "gridcolor": "white",
            "linecolor": "white",
            "ticks": ""
           },
           "baxis": {
            "gridcolor": "white",
            "linecolor": "white",
            "ticks": ""
           },
           "bgcolor": "#E5ECF6",
           "caxis": {
            "gridcolor": "white",
            "linecolor": "white",
            "ticks": ""
           }
          },
          "title": {
           "x": 0.05
          },
          "xaxis": {
           "automargin": true,
           "gridcolor": "white",
           "linecolor": "white",
           "ticks": "",
           "title": {
            "standoff": 15
           },
           "zerolinecolor": "white",
           "zerolinewidth": 2
          },
          "yaxis": {
           "automargin": true,
           "gridcolor": "white",
           "linecolor": "white",
           "ticks": "",
           "title": {
            "standoff": 15
           },
           "zerolinecolor": "white",
           "zerolinewidth": 2
          }
         }
        },
        "title": {
         "font": {
          "color": "#4D5663"
         },
         "text": "Top 20 words in feedback before cleaning"
        },
        "xaxis": {
         "gridcolor": "#E1E5ED",
         "linecolor": "black",
         "showgrid": true,
         "tickfont": {
          "color": "#4D5663"
         },
         "title": {
          "font": {
           "color": "#4D5663"
          },
          "text": ""
         },
         "zerolinecolor": "#E1E5ED"
        },
        "yaxis": {
         "gridcolor": "#E1E5ED",
         "linecolor": "black",
         "showgrid": true,
         "tickfont": {
          "color": "#4D5663"
         },
         "title": {
          "font": {
           "color": "#4D5663"
          },
          "text": "Count"
         },
         "zerolinecolor": "#E1E5ED"
        }
       }
      },
      "text/html": [
       "<div>                            <div id=\"c96bd8f1-d3da-437e-b1e6-8aaac5329204\" class=\"plotly-graph-div\" style=\"height:525px; width:100%;\"></div>            <script type=\"text/javascript\">                require([\"plotly\"], function(Plotly) {                    window.PLOTLYENV=window.PLOTLYENV || {};\n",
       "                    window.PLOTLYENV.BASE_URL='https://plot.ly';                                    if (document.getElementById(\"c96bd8f1-d3da-437e-b1e6-8aaac5329204\")) {                    Plotly.newPlot(                        \"c96bd8f1-d3da-437e-b1e6-8aaac5329204\",                        [{\"marker\":{\"color\":\"rgba(55, 128, 191, 0.6)\",\"line\":{\"color\":\"rgba(55, 128, 191, 1.0)\",\"width\":1}},\"name\":\"count\",\"orientation\":\"v\",\"text\":\"\",\"x\":[\"to\",\"the\",\"and\",\"he\",\"is\",\"in\",\"she\",\"his\",\"has\",\"work\",\"of\",\"her\",\"that\",\"with\",\"on\",\"not\",\"for\",\"be\",\"this\",\"but\"],\"y\":[2175,1548,1479,1415,1390,955,908,858,824,812,782,729,602,542,505,460,449,418,397,313],\"type\":\"bar\"}],                        {\"legend\":{\"bgcolor\":\"#F5F6F9\",\"font\":{\"color\":\"#4D5663\"}},\"paper_bgcolor\":\"#F5F6F9\",\"plot_bgcolor\":\"#F5F6F9\",\"template\":{\"data\":{\"barpolar\":[{\"marker\":{\"line\":{\"color\":\"#E5ECF6\",\"width\":0.5},\"pattern\":{\"fillmode\":\"overlay\",\"size\":10,\"solidity\":0.2}},\"type\":\"barpolar\"}],\"bar\":[{\"error_x\":{\"color\":\"#2a3f5f\"},\"error_y\":{\"color\":\"#2a3f5f\"},\"marker\":{\"line\":{\"color\":\"#E5ECF6\",\"width\":0.5},\"pattern\":{\"fillmode\":\"overlay\",\"size\":10,\"solidity\":0.2}},\"type\":\"bar\"}],\"carpet\":[{\"aaxis\":{\"endlinecolor\":\"#2a3f5f\",\"gridcolor\":\"white\",\"linecolor\":\"white\",\"minorgridcolor\":\"white\",\"startlinecolor\":\"#2a3f5f\"},\"baxis\":{\"endlinecolor\":\"#2a3f5f\",\"gridcolor\":\"white\",\"linecolor\":\"white\",\"minorgridcolor\":\"white\",\"startlinecolor\":\"#2a3f5f\"},\"type\":\"carpet\"}],\"choropleth\":[{\"colorbar\":{\"outlinewidth\":0,\"ticks\":\"\"},\"type\":\"choropleth\"}],\"contourcarpet\":[{\"colorbar\":{\"outlinewidth\":0,\"ticks\":\"\"},\"type\":\"contourcarpet\"}],\"contour\":[{\"colorbar\":{\"outlinewidth\":0,\"ticks\":\"\"},\"colorscale\":[[0.0,\"#0d0887\"],[0.1111111111111111,\"#46039f\"],[0.2222222222222222,\"#7201a8\"],[0.3333333333333333,\"#9c179e\"],[0.4444444444444444,\"#bd3786\"],[0.5555555555555556,\"#d8576b\"],[0.6666666666666666,\"#ed7953\"],[0.7777777777777778,\"#fb9f3a\"],[0.8888888888888888,\"#fdca26\"],[1.0,\"#f0f921\"]],\"type\":\"contour\"}],\"heatmapgl\":[{\"colorbar\":{\"outlinewidth\":0,\"ticks\":\"\"},\"colorscale\":[[0.0,\"#0d0887\"],[0.1111111111111111,\"#46039f\"],[0.2222222222222222,\"#7201a8\"],[0.3333333333333333,\"#9c179e\"],[0.4444444444444444,\"#bd3786\"],[0.5555555555555556,\"#d8576b\"],[0.6666666666666666,\"#ed7953\"],[0.7777777777777778,\"#fb9f3a\"],[0.8888888888888888,\"#fdca26\"],[1.0,\"#f0f921\"]],\"type\":\"heatmapgl\"}],\"heatmap\":[{\"colorbar\":{\"outlinewidth\":0,\"ticks\":\"\"},\"colorscale\":[[0.0,\"#0d0887\"],[0.1111111111111111,\"#46039f\"],[0.2222222222222222,\"#7201a8\"],[0.3333333333333333,\"#9c179e\"],[0.4444444444444444,\"#bd3786\"],[0.5555555555555556,\"#d8576b\"],[0.6666666666666666,\"#ed7953\"],[0.7777777777777778,\"#fb9f3a\"],[0.8888888888888888,\"#fdca26\"],[1.0,\"#f0f921\"]],\"type\":\"heatmap\"}],\"histogram2dcontour\":[{\"colorbar\":{\"outlinewidth\":0,\"ticks\":\"\"},\"colorscale\":[[0.0,\"#0d0887\"],[0.1111111111111111,\"#46039f\"],[0.2222222222222222,\"#7201a8\"],[0.3333333333333333,\"#9c179e\"],[0.4444444444444444,\"#bd3786\"],[0.5555555555555556,\"#d8576b\"],[0.6666666666666666,\"#ed7953\"],[0.7777777777777778,\"#fb9f3a\"],[0.8888888888888888,\"#fdca26\"],[1.0,\"#f0f921\"]],\"type\":\"histogram2dcontour\"}],\"histogram2d\":[{\"colorbar\":{\"outlinewidth\":0,\"ticks\":\"\"},\"colorscale\":[[0.0,\"#0d0887\"],[0.1111111111111111,\"#46039f\"],[0.2222222222222222,\"#7201a8\"],[0.3333333333333333,\"#9c179e\"],[0.4444444444444444,\"#bd3786\"],[0.5555555555555556,\"#d8576b\"],[0.6666666666666666,\"#ed7953\"],[0.7777777777777778,\"#fb9f3a\"],[0.8888888888888888,\"#fdca26\"],[1.0,\"#f0f921\"]],\"type\":\"histogram2d\"}],\"histogram\":[{\"marker\":{\"pattern\":{\"fillmode\":\"overlay\",\"size\":10,\"solidity\":0.2}},\"type\":\"histogram\"}],\"mesh3d\":[{\"colorbar\":{\"outlinewidth\":0,\"ticks\":\"\"},\"type\":\"mesh3d\"}],\"parcoords\":[{\"line\":{\"colorbar\":{\"outlinewidth\":0,\"ticks\":\"\"}},\"type\":\"parcoords\"}],\"pie\":[{\"automargin\":true,\"type\":\"pie\"}],\"scatter3d\":[{\"line\":{\"colorbar\":{\"outlinewidth\":0,\"ticks\":\"\"}},\"marker\":{\"colorbar\":{\"outlinewidth\":0,\"ticks\":\"\"}},\"type\":\"scatter3d\"}],\"scattercarpet\":[{\"marker\":{\"colorbar\":{\"outlinewidth\":0,\"ticks\":\"\"}},\"type\":\"scattercarpet\"}],\"scattergeo\":[{\"marker\":{\"colorbar\":{\"outlinewidth\":0,\"ticks\":\"\"}},\"type\":\"scattergeo\"}],\"scattergl\":[{\"marker\":{\"colorbar\":{\"outlinewidth\":0,\"ticks\":\"\"}},\"type\":\"scattergl\"}],\"scattermapbox\":[{\"marker\":{\"colorbar\":{\"outlinewidth\":0,\"ticks\":\"\"}},\"type\":\"scattermapbox\"}],\"scatterpolargl\":[{\"marker\":{\"colorbar\":{\"outlinewidth\":0,\"ticks\":\"\"}},\"type\":\"scatterpolargl\"}],\"scatterpolar\":[{\"marker\":{\"colorbar\":{\"outlinewidth\":0,\"ticks\":\"\"}},\"type\":\"scatterpolar\"}],\"scatter\":[{\"fillpattern\":{\"fillmode\":\"overlay\",\"size\":10,\"solidity\":0.2},\"type\":\"scatter\"}],\"scatterternary\":[{\"marker\":{\"colorbar\":{\"outlinewidth\":0,\"ticks\":\"\"}},\"type\":\"scatterternary\"}],\"surface\":[{\"colorbar\":{\"outlinewidth\":0,\"ticks\":\"\"},\"colorscale\":[[0.0,\"#0d0887\"],[0.1111111111111111,\"#46039f\"],[0.2222222222222222,\"#7201a8\"],[0.3333333333333333,\"#9c179e\"],[0.4444444444444444,\"#bd3786\"],[0.5555555555555556,\"#d8576b\"],[0.6666666666666666,\"#ed7953\"],[0.7777777777777778,\"#fb9f3a\"],[0.8888888888888888,\"#fdca26\"],[1.0,\"#f0f921\"]],\"type\":\"surface\"}],\"table\":[{\"cells\":{\"fill\":{\"color\":\"#EBF0F8\"},\"line\":{\"color\":\"white\"}},\"header\":{\"fill\":{\"color\":\"#C8D4E3\"},\"line\":{\"color\":\"white\"}},\"type\":\"table\"}]},\"layout\":{\"annotationdefaults\":{\"arrowcolor\":\"#2a3f5f\",\"arrowhead\":0,\"arrowwidth\":1},\"autotypenumbers\":\"strict\",\"coloraxis\":{\"colorbar\":{\"outlinewidth\":0,\"ticks\":\"\"}},\"colorscale\":{\"diverging\":[[0,\"#8e0152\"],[0.1,\"#c51b7d\"],[0.2,\"#de77ae\"],[0.3,\"#f1b6da\"],[0.4,\"#fde0ef\"],[0.5,\"#f7f7f7\"],[0.6,\"#e6f5d0\"],[0.7,\"#b8e186\"],[0.8,\"#7fbc41\"],[0.9,\"#4d9221\"],[1,\"#276419\"]],\"sequential\":[[0.0,\"#0d0887\"],[0.1111111111111111,\"#46039f\"],[0.2222222222222222,\"#7201a8\"],[0.3333333333333333,\"#9c179e\"],[0.4444444444444444,\"#bd3786\"],[0.5555555555555556,\"#d8576b\"],[0.6666666666666666,\"#ed7953\"],[0.7777777777777778,\"#fb9f3a\"],[0.8888888888888888,\"#fdca26\"],[1.0,\"#f0f921\"]],\"sequentialminus\":[[0.0,\"#0d0887\"],[0.1111111111111111,\"#46039f\"],[0.2222222222222222,\"#7201a8\"],[0.3333333333333333,\"#9c179e\"],[0.4444444444444444,\"#bd3786\"],[0.5555555555555556,\"#d8576b\"],[0.6666666666666666,\"#ed7953\"],[0.7777777777777778,\"#fb9f3a\"],[0.8888888888888888,\"#fdca26\"],[1.0,\"#f0f921\"]]},\"colorway\":[\"#636efa\",\"#EF553B\",\"#00cc96\",\"#ab63fa\",\"#FFA15A\",\"#19d3f3\",\"#FF6692\",\"#B6E880\",\"#FF97FF\",\"#FECB52\"],\"font\":{\"color\":\"#2a3f5f\"},\"geo\":{\"bgcolor\":\"white\",\"lakecolor\":\"white\",\"landcolor\":\"#E5ECF6\",\"showlakes\":true,\"showland\":true,\"subunitcolor\":\"white\"},\"hoverlabel\":{\"align\":\"left\"},\"hovermode\":\"closest\",\"mapbox\":{\"style\":\"light\"},\"paper_bgcolor\":\"white\",\"plot_bgcolor\":\"#E5ECF6\",\"polar\":{\"angularaxis\":{\"gridcolor\":\"white\",\"linecolor\":\"white\",\"ticks\":\"\"},\"bgcolor\":\"#E5ECF6\",\"radialaxis\":{\"gridcolor\":\"white\",\"linecolor\":\"white\",\"ticks\":\"\"}},\"scene\":{\"xaxis\":{\"backgroundcolor\":\"#E5ECF6\",\"gridcolor\":\"white\",\"gridwidth\":2,\"linecolor\":\"white\",\"showbackground\":true,\"ticks\":\"\",\"zerolinecolor\":\"white\"},\"yaxis\":{\"backgroundcolor\":\"#E5ECF6\",\"gridcolor\":\"white\",\"gridwidth\":2,\"linecolor\":\"white\",\"showbackground\":true,\"ticks\":\"\",\"zerolinecolor\":\"white\"},\"zaxis\":{\"backgroundcolor\":\"#E5ECF6\",\"gridcolor\":\"white\",\"gridwidth\":2,\"linecolor\":\"white\",\"showbackground\":true,\"ticks\":\"\",\"zerolinecolor\":\"white\"}},\"shapedefaults\":{\"line\":{\"color\":\"#2a3f5f\"}},\"ternary\":{\"aaxis\":{\"gridcolor\":\"white\",\"linecolor\":\"white\",\"ticks\":\"\"},\"baxis\":{\"gridcolor\":\"white\",\"linecolor\":\"white\",\"ticks\":\"\"},\"bgcolor\":\"#E5ECF6\",\"caxis\":{\"gridcolor\":\"white\",\"linecolor\":\"white\",\"ticks\":\"\"}},\"title\":{\"x\":0.05},\"xaxis\":{\"automargin\":true,\"gridcolor\":\"white\",\"linecolor\":\"white\",\"ticks\":\"\",\"title\":{\"standoff\":15},\"zerolinecolor\":\"white\",\"zerolinewidth\":2},\"yaxis\":{\"automargin\":true,\"gridcolor\":\"white\",\"linecolor\":\"white\",\"ticks\":\"\",\"title\":{\"standoff\":15},\"zerolinecolor\":\"white\",\"zerolinewidth\":2}}},\"title\":{\"font\":{\"color\":\"#4D5663\"},\"text\":\"Top 20 words in feedback before cleaning\"},\"xaxis\":{\"gridcolor\":\"#E1E5ED\",\"linecolor\":\"black\",\"showgrid\":true,\"tickfont\":{\"color\":\"#4D5663\"},\"title\":{\"font\":{\"color\":\"#4D5663\"},\"text\":\"\"},\"zerolinecolor\":\"#E1E5ED\"},\"yaxis\":{\"gridcolor\":\"#E1E5ED\",\"linecolor\":\"black\",\"showgrid\":true,\"tickfont\":{\"color\":\"#4D5663\"},\"title\":{\"font\":{\"color\":\"#4D5663\"},\"text\":\"Count\"},\"zerolinecolor\":\"#E1E5ED\"}},                        {\"showLink\": true, \"linkText\": \"Export to plot.ly\", \"plotlyServerURL\": \"https://plot.ly\", \"responsive\": true}                    ).then(function(){\n",
       "                            \n",
       "var gd = document.getElementById('c96bd8f1-d3da-437e-b1e6-8aaac5329204');\n",
       "var x = new MutationObserver(function (mutations, observer) {{\n",
       "        var display = window.getComputedStyle(gd).display;\n",
       "        if (!display || display === 'none') {{\n",
       "            console.log([gd, 'removed!']);\n",
       "            Plotly.purge(gd);\n",
       "            observer.disconnect();\n",
       "        }}\n",
       "}});\n",
       "\n",
       "// Listen for the removal of the full notebook cells\n",
       "var notebookContainer = gd.closest('#notebook-container');\n",
       "if (notebookContainer) {{\n",
       "    x.observe(notebookContainer, {childList: true});\n",
       "}}\n",
       "\n",
       "// Listen for the clearing of the current output cell\n",
       "var outputEl = gd.closest('.output');\n",
       "if (outputEl) {{\n",
       "    x.observe(outputEl, {childList: true});\n",
       "}}\n",
       "\n",
       "                        })                };                });            </script>        </div>"
      ]
     },
     "metadata": {},
     "output_type": "display_data"
    }
   ],
   "source": [
    "def get_top_n_words(corpus, n=None):\n",
    "    vec = CountVectorizer().fit(corpus)\n",
    "    bag_of_words = vec.transform(corpus)\n",
    "    sum_words = bag_of_words.sum(axis=0) \n",
    "    words_freq = [(word, sum_words[0, idx]) for word, idx in vec.vocabulary_.items()]\n",
    "    words_freq =sorted(words_freq, key = lambda x: x[1], reverse=True)\n",
    "    return words_freq[:n]\n",
    "common_words = get_top_n_words(employees['feedback'], 20)\n",
    "for word, freq in common_words:\n",
    "    print(word, freq)\n",
    "df1 = pd.DataFrame(common_words, columns = ['feedback' , 'count'])\n",
    "df1.groupby('feedback').sum()['count'].sort_values(ascending=False).iplot(\n",
    "    kind='bar', yTitle='Count',color=\"blue\", linecolor='black', title='Top 20 words in feedback before cleaning')"
   ]
  },
  {
   "cell_type": "code",
   "execution_count": 16,
   "id": "9f3553be",
   "metadata": {},
   "outputs": [
    {
     "name": "stdout",
     "output_type": "stream",
     "text": [
      "quality work 57\n",
      "work product 37\n",
      "member team 37\n",
      "work ethic 31\n",
      "team player 30\n",
      "work time 28\n",
      "high potential 23\n",
      "day day 20\n",
      "high quality 19\n",
      "work does 19\n",
      "communication skills 18\n",
      "team member 17\n",
      "room grow 17\n",
      "moving forward 16\n",
      "future company 15\n",
      "does work 15\n",
      "good work 15\n",
      "timely manner 14\n",
      "moderate potential 14\n",
      "time work 13\n"
     ]
    },
    {
     "data": {
      "application/vnd.plotly.v1+json": {
       "config": {
        "linkText": "Export to plot.ly",
        "plotlyServerURL": "https://plot.ly",
        "showLink": true
       },
       "data": [
        {
         "marker": {
          "color": "rgba(255, 153, 51, 0.6)",
          "line": {
           "color": "rgba(255, 153, 51, 1.0)",
           "width": 1
          }
         },
         "name": "count",
         "orientation": "v",
         "text": "",
         "type": "bar",
         "x": [
          "quality work",
          "member team",
          "work product",
          "work ethic",
          "team player",
          "work time",
          "high potential",
          "day day",
          "high quality",
          "work does",
          "communication skills",
          "room grow",
          "team member",
          "moving forward",
          "good work",
          "future company",
          "does work",
          "moderate potential",
          "timely manner",
          "time work"
         ],
         "y": [
          57,
          37,
          37,
          31,
          30,
          28,
          23,
          20,
          19,
          19,
          18,
          17,
          17,
          16,
          15,
          15,
          15,
          14,
          14,
          13
         ]
        }
       ],
       "layout": {
        "legend": {
         "bgcolor": "#F5F6F9",
         "font": {
          "color": "#4D5663"
         }
        },
        "paper_bgcolor": "#F5F6F9",
        "plot_bgcolor": "#F5F6F9",
        "template": {
         "data": {
          "bar": [
           {
            "error_x": {
             "color": "#2a3f5f"
            },
            "error_y": {
             "color": "#2a3f5f"
            },
            "marker": {
             "line": {
              "color": "#E5ECF6",
              "width": 0.5
             },
             "pattern": {
              "fillmode": "overlay",
              "size": 10,
              "solidity": 0.2
             }
            },
            "type": "bar"
           }
          ],
          "barpolar": [
           {
            "marker": {
             "line": {
              "color": "#E5ECF6",
              "width": 0.5
             },
             "pattern": {
              "fillmode": "overlay",
              "size": 10,
              "solidity": 0.2
             }
            },
            "type": "barpolar"
           }
          ],
          "carpet": [
           {
            "aaxis": {
             "endlinecolor": "#2a3f5f",
             "gridcolor": "white",
             "linecolor": "white",
             "minorgridcolor": "white",
             "startlinecolor": "#2a3f5f"
            },
            "baxis": {
             "endlinecolor": "#2a3f5f",
             "gridcolor": "white",
             "linecolor": "white",
             "minorgridcolor": "white",
             "startlinecolor": "#2a3f5f"
            },
            "type": "carpet"
           }
          ],
          "choropleth": [
           {
            "colorbar": {
             "outlinewidth": 0,
             "ticks": ""
            },
            "type": "choropleth"
           }
          ],
          "contour": [
           {
            "colorbar": {
             "outlinewidth": 0,
             "ticks": ""
            },
            "colorscale": [
             [
              0,
              "#0d0887"
             ],
             [
              0.1111111111111111,
              "#46039f"
             ],
             [
              0.2222222222222222,
              "#7201a8"
             ],
             [
              0.3333333333333333,
              "#9c179e"
             ],
             [
              0.4444444444444444,
              "#bd3786"
             ],
             [
              0.5555555555555556,
              "#d8576b"
             ],
             [
              0.6666666666666666,
              "#ed7953"
             ],
             [
              0.7777777777777778,
              "#fb9f3a"
             ],
             [
              0.8888888888888888,
              "#fdca26"
             ],
             [
              1,
              "#f0f921"
             ]
            ],
            "type": "contour"
           }
          ],
          "contourcarpet": [
           {
            "colorbar": {
             "outlinewidth": 0,
             "ticks": ""
            },
            "type": "contourcarpet"
           }
          ],
          "heatmap": [
           {
            "colorbar": {
             "outlinewidth": 0,
             "ticks": ""
            },
            "colorscale": [
             [
              0,
              "#0d0887"
             ],
             [
              0.1111111111111111,
              "#46039f"
             ],
             [
              0.2222222222222222,
              "#7201a8"
             ],
             [
              0.3333333333333333,
              "#9c179e"
             ],
             [
              0.4444444444444444,
              "#bd3786"
             ],
             [
              0.5555555555555556,
              "#d8576b"
             ],
             [
              0.6666666666666666,
              "#ed7953"
             ],
             [
              0.7777777777777778,
              "#fb9f3a"
             ],
             [
              0.8888888888888888,
              "#fdca26"
             ],
             [
              1,
              "#f0f921"
             ]
            ],
            "type": "heatmap"
           }
          ],
          "heatmapgl": [
           {
            "colorbar": {
             "outlinewidth": 0,
             "ticks": ""
            },
            "colorscale": [
             [
              0,
              "#0d0887"
             ],
             [
              0.1111111111111111,
              "#46039f"
             ],
             [
              0.2222222222222222,
              "#7201a8"
             ],
             [
              0.3333333333333333,
              "#9c179e"
             ],
             [
              0.4444444444444444,
              "#bd3786"
             ],
             [
              0.5555555555555556,
              "#d8576b"
             ],
             [
              0.6666666666666666,
              "#ed7953"
             ],
             [
              0.7777777777777778,
              "#fb9f3a"
             ],
             [
              0.8888888888888888,
              "#fdca26"
             ],
             [
              1,
              "#f0f921"
             ]
            ],
            "type": "heatmapgl"
           }
          ],
          "histogram": [
           {
            "marker": {
             "pattern": {
              "fillmode": "overlay",
              "size": 10,
              "solidity": 0.2
             }
            },
            "type": "histogram"
           }
          ],
          "histogram2d": [
           {
            "colorbar": {
             "outlinewidth": 0,
             "ticks": ""
            },
            "colorscale": [
             [
              0,
              "#0d0887"
             ],
             [
              0.1111111111111111,
              "#46039f"
             ],
             [
              0.2222222222222222,
              "#7201a8"
             ],
             [
              0.3333333333333333,
              "#9c179e"
             ],
             [
              0.4444444444444444,
              "#bd3786"
             ],
             [
              0.5555555555555556,
              "#d8576b"
             ],
             [
              0.6666666666666666,
              "#ed7953"
             ],
             [
              0.7777777777777778,
              "#fb9f3a"
             ],
             [
              0.8888888888888888,
              "#fdca26"
             ],
             [
              1,
              "#f0f921"
             ]
            ],
            "type": "histogram2d"
           }
          ],
          "histogram2dcontour": [
           {
            "colorbar": {
             "outlinewidth": 0,
             "ticks": ""
            },
            "colorscale": [
             [
              0,
              "#0d0887"
             ],
             [
              0.1111111111111111,
              "#46039f"
             ],
             [
              0.2222222222222222,
              "#7201a8"
             ],
             [
              0.3333333333333333,
              "#9c179e"
             ],
             [
              0.4444444444444444,
              "#bd3786"
             ],
             [
              0.5555555555555556,
              "#d8576b"
             ],
             [
              0.6666666666666666,
              "#ed7953"
             ],
             [
              0.7777777777777778,
              "#fb9f3a"
             ],
             [
              0.8888888888888888,
              "#fdca26"
             ],
             [
              1,
              "#f0f921"
             ]
            ],
            "type": "histogram2dcontour"
           }
          ],
          "mesh3d": [
           {
            "colorbar": {
             "outlinewidth": 0,
             "ticks": ""
            },
            "type": "mesh3d"
           }
          ],
          "parcoords": [
           {
            "line": {
             "colorbar": {
              "outlinewidth": 0,
              "ticks": ""
             }
            },
            "type": "parcoords"
           }
          ],
          "pie": [
           {
            "automargin": true,
            "type": "pie"
           }
          ],
          "scatter": [
           {
            "fillpattern": {
             "fillmode": "overlay",
             "size": 10,
             "solidity": 0.2
            },
            "type": "scatter"
           }
          ],
          "scatter3d": [
           {
            "line": {
             "colorbar": {
              "outlinewidth": 0,
              "ticks": ""
             }
            },
            "marker": {
             "colorbar": {
              "outlinewidth": 0,
              "ticks": ""
             }
            },
            "type": "scatter3d"
           }
          ],
          "scattercarpet": [
           {
            "marker": {
             "colorbar": {
              "outlinewidth": 0,
              "ticks": ""
             }
            },
            "type": "scattercarpet"
           }
          ],
          "scattergeo": [
           {
            "marker": {
             "colorbar": {
              "outlinewidth": 0,
              "ticks": ""
             }
            },
            "type": "scattergeo"
           }
          ],
          "scattergl": [
           {
            "marker": {
             "colorbar": {
              "outlinewidth": 0,
              "ticks": ""
             }
            },
            "type": "scattergl"
           }
          ],
          "scattermapbox": [
           {
            "marker": {
             "colorbar": {
              "outlinewidth": 0,
              "ticks": ""
             }
            },
            "type": "scattermapbox"
           }
          ],
          "scatterpolar": [
           {
            "marker": {
             "colorbar": {
              "outlinewidth": 0,
              "ticks": ""
             }
            },
            "type": "scatterpolar"
           }
          ],
          "scatterpolargl": [
           {
            "marker": {
             "colorbar": {
              "outlinewidth": 0,
              "ticks": ""
             }
            },
            "type": "scatterpolargl"
           }
          ],
          "scatterternary": [
           {
            "marker": {
             "colorbar": {
              "outlinewidth": 0,
              "ticks": ""
             }
            },
            "type": "scatterternary"
           }
          ],
          "surface": [
           {
            "colorbar": {
             "outlinewidth": 0,
             "ticks": ""
            },
            "colorscale": [
             [
              0,
              "#0d0887"
             ],
             [
              0.1111111111111111,
              "#46039f"
             ],
             [
              0.2222222222222222,
              "#7201a8"
             ],
             [
              0.3333333333333333,
              "#9c179e"
             ],
             [
              0.4444444444444444,
              "#bd3786"
             ],
             [
              0.5555555555555556,
              "#d8576b"
             ],
             [
              0.6666666666666666,
              "#ed7953"
             ],
             [
              0.7777777777777778,
              "#fb9f3a"
             ],
             [
              0.8888888888888888,
              "#fdca26"
             ],
             [
              1,
              "#f0f921"
             ]
            ],
            "type": "surface"
           }
          ],
          "table": [
           {
            "cells": {
             "fill": {
              "color": "#EBF0F8"
             },
             "line": {
              "color": "white"
             }
            },
            "header": {
             "fill": {
              "color": "#C8D4E3"
             },
             "line": {
              "color": "white"
             }
            },
            "type": "table"
           }
          ]
         },
         "layout": {
          "annotationdefaults": {
           "arrowcolor": "#2a3f5f",
           "arrowhead": 0,
           "arrowwidth": 1
          },
          "autotypenumbers": "strict",
          "coloraxis": {
           "colorbar": {
            "outlinewidth": 0,
            "ticks": ""
           }
          },
          "colorscale": {
           "diverging": [
            [
             0,
             "#8e0152"
            ],
            [
             0.1,
             "#c51b7d"
            ],
            [
             0.2,
             "#de77ae"
            ],
            [
             0.3,
             "#f1b6da"
            ],
            [
             0.4,
             "#fde0ef"
            ],
            [
             0.5,
             "#f7f7f7"
            ],
            [
             0.6,
             "#e6f5d0"
            ],
            [
             0.7,
             "#b8e186"
            ],
            [
             0.8,
             "#7fbc41"
            ],
            [
             0.9,
             "#4d9221"
            ],
            [
             1,
             "#276419"
            ]
           ],
           "sequential": [
            [
             0,
             "#0d0887"
            ],
            [
             0.1111111111111111,
             "#46039f"
            ],
            [
             0.2222222222222222,
             "#7201a8"
            ],
            [
             0.3333333333333333,
             "#9c179e"
            ],
            [
             0.4444444444444444,
             "#bd3786"
            ],
            [
             0.5555555555555556,
             "#d8576b"
            ],
            [
             0.6666666666666666,
             "#ed7953"
            ],
            [
             0.7777777777777778,
             "#fb9f3a"
            ],
            [
             0.8888888888888888,
             "#fdca26"
            ],
            [
             1,
             "#f0f921"
            ]
           ],
           "sequentialminus": [
            [
             0,
             "#0d0887"
            ],
            [
             0.1111111111111111,
             "#46039f"
            ],
            [
             0.2222222222222222,
             "#7201a8"
            ],
            [
             0.3333333333333333,
             "#9c179e"
            ],
            [
             0.4444444444444444,
             "#bd3786"
            ],
            [
             0.5555555555555556,
             "#d8576b"
            ],
            [
             0.6666666666666666,
             "#ed7953"
            ],
            [
             0.7777777777777778,
             "#fb9f3a"
            ],
            [
             0.8888888888888888,
             "#fdca26"
            ],
            [
             1,
             "#f0f921"
            ]
           ]
          },
          "colorway": [
           "#636efa",
           "#EF553B",
           "#00cc96",
           "#ab63fa",
           "#FFA15A",
           "#19d3f3",
           "#FF6692",
           "#B6E880",
           "#FF97FF",
           "#FECB52"
          ],
          "font": {
           "color": "#2a3f5f"
          },
          "geo": {
           "bgcolor": "white",
           "lakecolor": "white",
           "landcolor": "#E5ECF6",
           "showlakes": true,
           "showland": true,
           "subunitcolor": "white"
          },
          "hoverlabel": {
           "align": "left"
          },
          "hovermode": "closest",
          "mapbox": {
           "style": "light"
          },
          "paper_bgcolor": "white",
          "plot_bgcolor": "#E5ECF6",
          "polar": {
           "angularaxis": {
            "gridcolor": "white",
            "linecolor": "white",
            "ticks": ""
           },
           "bgcolor": "#E5ECF6",
           "radialaxis": {
            "gridcolor": "white",
            "linecolor": "white",
            "ticks": ""
           }
          },
          "scene": {
           "xaxis": {
            "backgroundcolor": "#E5ECF6",
            "gridcolor": "white",
            "gridwidth": 2,
            "linecolor": "white",
            "showbackground": true,
            "ticks": "",
            "zerolinecolor": "white"
           },
           "yaxis": {
            "backgroundcolor": "#E5ECF6",
            "gridcolor": "white",
            "gridwidth": 2,
            "linecolor": "white",
            "showbackground": true,
            "ticks": "",
            "zerolinecolor": "white"
           },
           "zaxis": {
            "backgroundcolor": "#E5ECF6",
            "gridcolor": "white",
            "gridwidth": 2,
            "linecolor": "white",
            "showbackground": true,
            "ticks": "",
            "zerolinecolor": "white"
           }
          },
          "shapedefaults": {
           "line": {
            "color": "#2a3f5f"
           }
          },
          "ternary": {
           "aaxis": {
            "gridcolor": "white",
            "linecolor": "white",
            "ticks": ""
           },
           "baxis": {
            "gridcolor": "white",
            "linecolor": "white",
            "ticks": ""
           },
           "bgcolor": "#E5ECF6",
           "caxis": {
            "gridcolor": "white",
            "linecolor": "white",
            "ticks": ""
           }
          },
          "title": {
           "x": 0.05
          },
          "xaxis": {
           "automargin": true,
           "gridcolor": "white",
           "linecolor": "white",
           "ticks": "",
           "title": {
            "standoff": 15
           },
           "zerolinecolor": "white",
           "zerolinewidth": 2
          },
          "yaxis": {
           "automargin": true,
           "gridcolor": "white",
           "linecolor": "white",
           "ticks": "",
           "title": {
            "standoff": 15
           },
           "zerolinecolor": "white",
           "zerolinewidth": 2
          }
         }
        },
        "title": {
         "font": {
          "color": "#4D5663"
         },
         "text": "Top 20 bigrams in \"feedback\" column"
        },
        "xaxis": {
         "gridcolor": "#E1E5ED",
         "linecolor": "black",
         "showgrid": true,
         "tickfont": {
          "color": "#4D5663"
         },
         "title": {
          "font": {
           "color": "#4D5663"
          },
          "text": ""
         },
         "zerolinecolor": "#E1E5ED"
        },
        "yaxis": {
         "gridcolor": "#E1E5ED",
         "linecolor": "black",
         "showgrid": true,
         "tickfont": {
          "color": "#4D5663"
         },
         "title": {
          "font": {
           "color": "#4D5663"
          },
          "text": "Count"
         },
         "zerolinecolor": "#E1E5ED"
        }
       }
      },
      "text/html": [
       "<div>                            <div id=\"2a5c9bdb-ae0b-4ac3-872b-a6d980c3a7cd\" class=\"plotly-graph-div\" style=\"height:525px; width:100%;\"></div>            <script type=\"text/javascript\">                require([\"plotly\"], function(Plotly) {                    window.PLOTLYENV=window.PLOTLYENV || {};\n",
       "                    window.PLOTLYENV.BASE_URL='https://plot.ly';                                    if (document.getElementById(\"2a5c9bdb-ae0b-4ac3-872b-a6d980c3a7cd\")) {                    Plotly.newPlot(                        \"2a5c9bdb-ae0b-4ac3-872b-a6d980c3a7cd\",                        [{\"marker\":{\"color\":\"rgba(255, 153, 51, 0.6)\",\"line\":{\"color\":\"rgba(255, 153, 51, 1.0)\",\"width\":1}},\"name\":\"count\",\"orientation\":\"v\",\"text\":\"\",\"x\":[\"quality work\",\"member team\",\"work product\",\"work ethic\",\"team player\",\"work time\",\"high potential\",\"day day\",\"high quality\",\"work does\",\"communication skills\",\"room grow\",\"team member\",\"moving forward\",\"good work\",\"future company\",\"does work\",\"moderate potential\",\"timely manner\",\"time work\"],\"y\":[57,37,37,31,30,28,23,20,19,19,18,17,17,16,15,15,15,14,14,13],\"type\":\"bar\"}],                        {\"legend\":{\"bgcolor\":\"#F5F6F9\",\"font\":{\"color\":\"#4D5663\"}},\"paper_bgcolor\":\"#F5F6F9\",\"plot_bgcolor\":\"#F5F6F9\",\"template\":{\"data\":{\"barpolar\":[{\"marker\":{\"line\":{\"color\":\"#E5ECF6\",\"width\":0.5},\"pattern\":{\"fillmode\":\"overlay\",\"size\":10,\"solidity\":0.2}},\"type\":\"barpolar\"}],\"bar\":[{\"error_x\":{\"color\":\"#2a3f5f\"},\"error_y\":{\"color\":\"#2a3f5f\"},\"marker\":{\"line\":{\"color\":\"#E5ECF6\",\"width\":0.5},\"pattern\":{\"fillmode\":\"overlay\",\"size\":10,\"solidity\":0.2}},\"type\":\"bar\"}],\"carpet\":[{\"aaxis\":{\"endlinecolor\":\"#2a3f5f\",\"gridcolor\":\"white\",\"linecolor\":\"white\",\"minorgridcolor\":\"white\",\"startlinecolor\":\"#2a3f5f\"},\"baxis\":{\"endlinecolor\":\"#2a3f5f\",\"gridcolor\":\"white\",\"linecolor\":\"white\",\"minorgridcolor\":\"white\",\"startlinecolor\":\"#2a3f5f\"},\"type\":\"carpet\"}],\"choropleth\":[{\"colorbar\":{\"outlinewidth\":0,\"ticks\":\"\"},\"type\":\"choropleth\"}],\"contourcarpet\":[{\"colorbar\":{\"outlinewidth\":0,\"ticks\":\"\"},\"type\":\"contourcarpet\"}],\"contour\":[{\"colorbar\":{\"outlinewidth\":0,\"ticks\":\"\"},\"colorscale\":[[0.0,\"#0d0887\"],[0.1111111111111111,\"#46039f\"],[0.2222222222222222,\"#7201a8\"],[0.3333333333333333,\"#9c179e\"],[0.4444444444444444,\"#bd3786\"],[0.5555555555555556,\"#d8576b\"],[0.6666666666666666,\"#ed7953\"],[0.7777777777777778,\"#fb9f3a\"],[0.8888888888888888,\"#fdca26\"],[1.0,\"#f0f921\"]],\"type\":\"contour\"}],\"heatmapgl\":[{\"colorbar\":{\"outlinewidth\":0,\"ticks\":\"\"},\"colorscale\":[[0.0,\"#0d0887\"],[0.1111111111111111,\"#46039f\"],[0.2222222222222222,\"#7201a8\"],[0.3333333333333333,\"#9c179e\"],[0.4444444444444444,\"#bd3786\"],[0.5555555555555556,\"#d8576b\"],[0.6666666666666666,\"#ed7953\"],[0.7777777777777778,\"#fb9f3a\"],[0.8888888888888888,\"#fdca26\"],[1.0,\"#f0f921\"]],\"type\":\"heatmapgl\"}],\"heatmap\":[{\"colorbar\":{\"outlinewidth\":0,\"ticks\":\"\"},\"colorscale\":[[0.0,\"#0d0887\"],[0.1111111111111111,\"#46039f\"],[0.2222222222222222,\"#7201a8\"],[0.3333333333333333,\"#9c179e\"],[0.4444444444444444,\"#bd3786\"],[0.5555555555555556,\"#d8576b\"],[0.6666666666666666,\"#ed7953\"],[0.7777777777777778,\"#fb9f3a\"],[0.8888888888888888,\"#fdca26\"],[1.0,\"#f0f921\"]],\"type\":\"heatmap\"}],\"histogram2dcontour\":[{\"colorbar\":{\"outlinewidth\":0,\"ticks\":\"\"},\"colorscale\":[[0.0,\"#0d0887\"],[0.1111111111111111,\"#46039f\"],[0.2222222222222222,\"#7201a8\"],[0.3333333333333333,\"#9c179e\"],[0.4444444444444444,\"#bd3786\"],[0.5555555555555556,\"#d8576b\"],[0.6666666666666666,\"#ed7953\"],[0.7777777777777778,\"#fb9f3a\"],[0.8888888888888888,\"#fdca26\"],[1.0,\"#f0f921\"]],\"type\":\"histogram2dcontour\"}],\"histogram2d\":[{\"colorbar\":{\"outlinewidth\":0,\"ticks\":\"\"},\"colorscale\":[[0.0,\"#0d0887\"],[0.1111111111111111,\"#46039f\"],[0.2222222222222222,\"#7201a8\"],[0.3333333333333333,\"#9c179e\"],[0.4444444444444444,\"#bd3786\"],[0.5555555555555556,\"#d8576b\"],[0.6666666666666666,\"#ed7953\"],[0.7777777777777778,\"#fb9f3a\"],[0.8888888888888888,\"#fdca26\"],[1.0,\"#f0f921\"]],\"type\":\"histogram2d\"}],\"histogram\":[{\"marker\":{\"pattern\":{\"fillmode\":\"overlay\",\"size\":10,\"solidity\":0.2}},\"type\":\"histogram\"}],\"mesh3d\":[{\"colorbar\":{\"outlinewidth\":0,\"ticks\":\"\"},\"type\":\"mesh3d\"}],\"parcoords\":[{\"line\":{\"colorbar\":{\"outlinewidth\":0,\"ticks\":\"\"}},\"type\":\"parcoords\"}],\"pie\":[{\"automargin\":true,\"type\":\"pie\"}],\"scatter3d\":[{\"line\":{\"colorbar\":{\"outlinewidth\":0,\"ticks\":\"\"}},\"marker\":{\"colorbar\":{\"outlinewidth\":0,\"ticks\":\"\"}},\"type\":\"scatter3d\"}],\"scattercarpet\":[{\"marker\":{\"colorbar\":{\"outlinewidth\":0,\"ticks\":\"\"}},\"type\":\"scattercarpet\"}],\"scattergeo\":[{\"marker\":{\"colorbar\":{\"outlinewidth\":0,\"ticks\":\"\"}},\"type\":\"scattergeo\"}],\"scattergl\":[{\"marker\":{\"colorbar\":{\"outlinewidth\":0,\"ticks\":\"\"}},\"type\":\"scattergl\"}],\"scattermapbox\":[{\"marker\":{\"colorbar\":{\"outlinewidth\":0,\"ticks\":\"\"}},\"type\":\"scattermapbox\"}],\"scatterpolargl\":[{\"marker\":{\"colorbar\":{\"outlinewidth\":0,\"ticks\":\"\"}},\"type\":\"scatterpolargl\"}],\"scatterpolar\":[{\"marker\":{\"colorbar\":{\"outlinewidth\":0,\"ticks\":\"\"}},\"type\":\"scatterpolar\"}],\"scatter\":[{\"fillpattern\":{\"fillmode\":\"overlay\",\"size\":10,\"solidity\":0.2},\"type\":\"scatter\"}],\"scatterternary\":[{\"marker\":{\"colorbar\":{\"outlinewidth\":0,\"ticks\":\"\"}},\"type\":\"scatterternary\"}],\"surface\":[{\"colorbar\":{\"outlinewidth\":0,\"ticks\":\"\"},\"colorscale\":[[0.0,\"#0d0887\"],[0.1111111111111111,\"#46039f\"],[0.2222222222222222,\"#7201a8\"],[0.3333333333333333,\"#9c179e\"],[0.4444444444444444,\"#bd3786\"],[0.5555555555555556,\"#d8576b\"],[0.6666666666666666,\"#ed7953\"],[0.7777777777777778,\"#fb9f3a\"],[0.8888888888888888,\"#fdca26\"],[1.0,\"#f0f921\"]],\"type\":\"surface\"}],\"table\":[{\"cells\":{\"fill\":{\"color\":\"#EBF0F8\"},\"line\":{\"color\":\"white\"}},\"header\":{\"fill\":{\"color\":\"#C8D4E3\"},\"line\":{\"color\":\"white\"}},\"type\":\"table\"}]},\"layout\":{\"annotationdefaults\":{\"arrowcolor\":\"#2a3f5f\",\"arrowhead\":0,\"arrowwidth\":1},\"autotypenumbers\":\"strict\",\"coloraxis\":{\"colorbar\":{\"outlinewidth\":0,\"ticks\":\"\"}},\"colorscale\":{\"diverging\":[[0,\"#8e0152\"],[0.1,\"#c51b7d\"],[0.2,\"#de77ae\"],[0.3,\"#f1b6da\"],[0.4,\"#fde0ef\"],[0.5,\"#f7f7f7\"],[0.6,\"#e6f5d0\"],[0.7,\"#b8e186\"],[0.8,\"#7fbc41\"],[0.9,\"#4d9221\"],[1,\"#276419\"]],\"sequential\":[[0.0,\"#0d0887\"],[0.1111111111111111,\"#46039f\"],[0.2222222222222222,\"#7201a8\"],[0.3333333333333333,\"#9c179e\"],[0.4444444444444444,\"#bd3786\"],[0.5555555555555556,\"#d8576b\"],[0.6666666666666666,\"#ed7953\"],[0.7777777777777778,\"#fb9f3a\"],[0.8888888888888888,\"#fdca26\"],[1.0,\"#f0f921\"]],\"sequentialminus\":[[0.0,\"#0d0887\"],[0.1111111111111111,\"#46039f\"],[0.2222222222222222,\"#7201a8\"],[0.3333333333333333,\"#9c179e\"],[0.4444444444444444,\"#bd3786\"],[0.5555555555555556,\"#d8576b\"],[0.6666666666666666,\"#ed7953\"],[0.7777777777777778,\"#fb9f3a\"],[0.8888888888888888,\"#fdca26\"],[1.0,\"#f0f921\"]]},\"colorway\":[\"#636efa\",\"#EF553B\",\"#00cc96\",\"#ab63fa\",\"#FFA15A\",\"#19d3f3\",\"#FF6692\",\"#B6E880\",\"#FF97FF\",\"#FECB52\"],\"font\":{\"color\":\"#2a3f5f\"},\"geo\":{\"bgcolor\":\"white\",\"lakecolor\":\"white\",\"landcolor\":\"#E5ECF6\",\"showlakes\":true,\"showland\":true,\"subunitcolor\":\"white\"},\"hoverlabel\":{\"align\":\"left\"},\"hovermode\":\"closest\",\"mapbox\":{\"style\":\"light\"},\"paper_bgcolor\":\"white\",\"plot_bgcolor\":\"#E5ECF6\",\"polar\":{\"angularaxis\":{\"gridcolor\":\"white\",\"linecolor\":\"white\",\"ticks\":\"\"},\"bgcolor\":\"#E5ECF6\",\"radialaxis\":{\"gridcolor\":\"white\",\"linecolor\":\"white\",\"ticks\":\"\"}},\"scene\":{\"xaxis\":{\"backgroundcolor\":\"#E5ECF6\",\"gridcolor\":\"white\",\"gridwidth\":2,\"linecolor\":\"white\",\"showbackground\":true,\"ticks\":\"\",\"zerolinecolor\":\"white\"},\"yaxis\":{\"backgroundcolor\":\"#E5ECF6\",\"gridcolor\":\"white\",\"gridwidth\":2,\"linecolor\":\"white\",\"showbackground\":true,\"ticks\":\"\",\"zerolinecolor\":\"white\"},\"zaxis\":{\"backgroundcolor\":\"#E5ECF6\",\"gridcolor\":\"white\",\"gridwidth\":2,\"linecolor\":\"white\",\"showbackground\":true,\"ticks\":\"\",\"zerolinecolor\":\"white\"}},\"shapedefaults\":{\"line\":{\"color\":\"#2a3f5f\"}},\"ternary\":{\"aaxis\":{\"gridcolor\":\"white\",\"linecolor\":\"white\",\"ticks\":\"\"},\"baxis\":{\"gridcolor\":\"white\",\"linecolor\":\"white\",\"ticks\":\"\"},\"bgcolor\":\"#E5ECF6\",\"caxis\":{\"gridcolor\":\"white\",\"linecolor\":\"white\",\"ticks\":\"\"}},\"title\":{\"x\":0.05},\"xaxis\":{\"automargin\":true,\"gridcolor\":\"white\",\"linecolor\":\"white\",\"ticks\":\"\",\"title\":{\"standoff\":15},\"zerolinecolor\":\"white\",\"zerolinewidth\":2},\"yaxis\":{\"automargin\":true,\"gridcolor\":\"white\",\"linecolor\":\"white\",\"ticks\":\"\",\"title\":{\"standoff\":15},\"zerolinecolor\":\"white\",\"zerolinewidth\":2}}},\"title\":{\"font\":{\"color\":\"#4D5663\"},\"text\":\"Top 20 bigrams in \\\"feedback\\\" column\"},\"xaxis\":{\"gridcolor\":\"#E1E5ED\",\"linecolor\":\"black\",\"showgrid\":true,\"tickfont\":{\"color\":\"#4D5663\"},\"title\":{\"font\":{\"color\":\"#4D5663\"},\"text\":\"\"},\"zerolinecolor\":\"#E1E5ED\"},\"yaxis\":{\"gridcolor\":\"#E1E5ED\",\"linecolor\":\"black\",\"showgrid\":true,\"tickfont\":{\"color\":\"#4D5663\"},\"title\":{\"font\":{\"color\":\"#4D5663\"},\"text\":\"Count\"},\"zerolinecolor\":\"#E1E5ED\"}},                        {\"showLink\": true, \"linkText\": \"Export to plot.ly\", \"plotlyServerURL\": \"https://plot.ly\", \"responsive\": true}                    ).then(function(){\n",
       "                            \n",
       "var gd = document.getElementById('2a5c9bdb-ae0b-4ac3-872b-a6d980c3a7cd');\n",
       "var x = new MutationObserver(function (mutations, observer) {{\n",
       "        var display = window.getComputedStyle(gd).display;\n",
       "        if (!display || display === 'none') {{\n",
       "            console.log([gd, 'removed!']);\n",
       "            Plotly.purge(gd);\n",
       "            observer.disconnect();\n",
       "        }}\n",
       "}});\n",
       "\n",
       "// Listen for the removal of the full notebook cells\n",
       "var notebookContainer = gd.closest('#notebook-container');\n",
       "if (notebookContainer) {{\n",
       "    x.observe(notebookContainer, {childList: true});\n",
       "}}\n",
       "\n",
       "// Listen for the clearing of the current output cell\n",
       "var outputEl = gd.closest('.output');\n",
       "if (outputEl) {{\n",
       "    x.observe(outputEl, {childList: true});\n",
       "}}\n",
       "\n",
       "                        })                };                });            </script>        </div>"
      ]
     },
     "metadata": {},
     "output_type": "display_data"
    }
   ],
   "source": [
    "def get_top_n_bigram(corpus, n=None):\n",
    "    vec = CountVectorizer(ngram_range=(2, 2), stop_words='english').fit(corpus)\n",
    "    bag_of_words = vec.transform(corpus)\n",
    "    sum_words = bag_of_words.sum(axis=0) \n",
    "    words_freq = [(word, sum_words[0, idx]) for word, idx in vec.vocabulary_.items()]\n",
    "    words_freq =sorted(words_freq, key = lambda x: x[1], reverse=True)\n",
    "    return words_freq[:n]\n",
    "common_words = get_top_n_bigram(employees['feedback'], 20)\n",
    "for word, freq in common_words:\n",
    "    print(word, freq)\n",
    "df4 = pd.DataFrame(common_words, columns = ['feedback' , 'count'])\n",
    "df4.groupby('feedback').sum()['count'].sort_values(ascending=False).iplot(\n",
    "    kind='bar', yTitle='Count', linecolor='black', title='Top 20 bigrams in \"feedback\" column')"
   ]
  },
  {
   "cell_type": "code",
   "execution_count": 17,
   "id": "a445b601",
   "metadata": {},
   "outputs": [
    {
     "data": {
      "application/vnd.plotly.v1+json": {
       "config": {
        "linkText": "Export to plot.ly",
        "plotlyServerURL": "https://plot.ly",
        "showLink": true
       },
       "data": [
        {
         "histfunc": "count",
         "histnorm": "",
         "marker": {
          "color": "rgba(255, 153, 51, 1.0)",
          "line": {
           "color": "#000000",
           "width": 1.3
          }
         },
         "name": "length",
         "nbinsx": 50,
         "opacity": 0.8,
         "orientation": "v",
         "type": "histogram",
         "x": [
          287,
          485,
          488,
          197,
          127,
          163,
          331,
          336,
          202,
          492,
          295,
          338,
          560,
          322,
          292,
          642,
          247,
          315,
          206,
          340,
          576,
          193,
          388,
          212,
          193,
          266,
          165,
          455,
          419,
          185,
          250,
          482,
          169,
          302,
          523,
          180,
          368,
          619,
          331,
          300,
          189,
          61,
          449,
          401,
          527,
          265,
          314,
          205,
          274,
          412,
          419,
          334,
          252,
          647,
          244,
          552,
          445,
          355,
          740,
          364,
          340,
          400,
          203,
          368,
          351,
          438,
          434,
          180,
          472,
          405,
          352,
          277,
          276,
          500,
          421,
          514,
          204,
          226,
          385,
          264,
          309,
          177,
          308,
          533,
          181,
          432,
          265,
          502,
          214,
          449,
          418,
          290,
          430,
          321,
          479,
          233,
          437,
          621,
          285,
          335,
          159,
          318,
          358,
          163,
          210,
          282,
          209,
          567,
          303,
          196,
          514,
          194,
          299,
          268,
          358,
          217,
          400,
          442,
          156,
          296,
          473,
          484,
          599,
          425,
          253,
          238,
          225,
          215,
          267,
          777,
          104,
          471,
          352,
          273,
          268,
          118,
          325,
          351,
          307,
          580,
          633,
          255,
          452,
          345,
          523,
          205,
          309,
          574,
          538,
          303,
          109,
          292,
          187,
          265,
          339,
          126,
          255,
          382,
          247,
          581,
          298,
          319,
          358,
          237,
          740,
          222,
          381,
          154,
          486,
          263,
          117,
          334,
          340,
          331,
          249,
          402,
          348,
          299,
          489,
          495,
          232,
          316,
          196,
          475,
          261,
          540,
          301,
          371,
          439,
          252,
          139,
          971,
          437,
          290,
          492,
          264,
          476,
          485,
          205,
          286,
          226,
          446,
          242,
          312,
          304,
          414,
          229,
          261,
          234,
          234,
          224,
          367,
          266,
          322,
          309,
          91,
          347,
          148,
          218,
          247,
          354,
          263,
          213,
          231,
          423,
          470,
          314,
          278,
          141,
          203,
          474,
          286,
          552,
          64,
          272,
          159,
          281,
          555,
          338,
          136,
          285,
          286,
          284,
          425,
          64,
          190,
          312,
          397,
          208,
          162,
          491,
          171,
          332,
          626,
          504,
          431,
          259,
          482,
          183,
          366,
          395,
          358,
          365,
          510,
          264,
          326,
          469,
          375,
          544,
          220,
          505,
          496,
          351,
          556,
          399,
          422,
          476,
          261,
          290,
          296,
          369,
          260,
          430,
          536,
          474,
          329,
          114,
          383,
          436,
          380,
          477,
          299,
          499,
          267,
          434,
          176,
          220,
          160,
          366,
          135,
          375,
          220,
          234,
          203,
          213,
          294,
          296,
          252,
          376,
          207,
          214,
          389,
          267,
          509,
          878,
          429,
          173,
          277,
          250,
          395,
          493,
          303,
          319,
          202,
          349,
          297,
          279,
          354,
          151,
          177,
          143,
          265,
          382,
          354,
          405,
          242,
          293,
          604,
          317,
          233,
          394,
          484,
          548,
          163,
          335,
          249,
          360,
          398,
          495,
          300,
          386,
          168,
          475,
          424,
          265,
          315,
          178,
          115,
          689,
          425,
          266,
          351,
          330,
          375,
          185,
          386,
          182,
          287,
          327,
          220,
          705,
          313,
          373,
          278,
          502,
          173,
          523,
          235,
          324,
          361,
          427,
          363,
          323,
          124,
          412,
          683,
          272,
          238,
          246,
          343,
          377,
          167,
          308,
          178,
          419,
          153,
          168,
          792,
          597,
          162,
          221,
          179,
          95,
          283,
          294,
          328,
          491,
          176,
          311,
          184,
          371,
          259,
          574,
          429,
          310,
          304,
          377,
          247,
          575,
          552,
          321,
          119,
          200,
          222,
          310,
          295,
          268,
          568,
          467,
          524,
          678,
          396,
          795,
          326,
          208,
          366,
          356,
          401,
          235,
          254,
          262,
          282,
          245,
          355,
          402,
          192,
          211,
          306,
          441,
          498,
          329,
          387,
          219,
          93,
          565,
          618,
          207,
          582,
          273,
          418,
          237,
          317,
          442,
          129,
          565,
          155,
          182,
          237,
          311,
          373,
          393,
          583,
          331,
          661,
          274,
          291,
          499,
          380,
          346,
          325,
          334,
          400,
          540,
          341,
          549,
          148,
          246,
          498,
          278,
          340,
          303,
          389,
          254,
          374,
          363,
          162,
          200,
          485,
          237,
          379,
          390,
          226,
          358,
          317,
          251,
          546,
          295,
          243,
          302,
          301,
          309,
          582,
          358,
          320,
          473,
          488,
          364,
          240,
          190,
          307,
          297,
          195,
          308,
          241,
          363,
          196,
          397,
          255,
          272,
          268,
          226,
          311,
          317,
          303,
          322,
          408,
          243,
          525,
          207,
          238,
          390,
          372,
          249,
          313,
          409,
          296,
          319,
          316,
          488,
          233,
          335,
          143,
          247,
          361,
          346,
          264,
          408,
          498,
          241,
          220,
          573,
          245,
          632,
          342,
          308,
          794,
          463,
          228,
          175,
          199,
          144,
          605,
          388,
          324,
          287,
          533,
          560,
          263,
          377,
          386,
          149,
          345,
          407,
          289,
          615,
          157,
          551,
          160,
          143,
          407,
          317,
          259,
          447,
          297,
          305,
          216,
          229,
          187,
          529,
          404,
          102,
          231,
          423,
          190,
          358,
          287,
          193,
          416,
          341,
          94,
          443,
          373,
          451,
          308,
          359,
          266,
          245,
          237,
          273,
          596,
          732,
          391,
          219,
          391,
          475,
          316,
          239,
          161,
          405,
          213,
          372,
          270,
          164,
          170,
          432,
          465,
          413,
          429,
          254,
          417,
          222,
          527,
          344,
          408,
          416,
          594,
          344,
          432,
          222,
          265,
          381,
          257,
          241,
          554,
          204,
          103,
          542,
          426,
          628,
          179,
          481,
          545,
          403,
          314,
          409,
          508,
          270,
          253,
          371,
          328,
          295,
          215,
          344,
          355,
          355,
          282,
          326,
          131,
          527,
          347,
          325,
          322,
          155,
          135,
          321,
          425,
          557,
          103,
          289,
          214,
          207,
          315,
          214,
          402,
          383,
          625,
          339,
          172,
          186,
          585,
          246,
          370,
          223,
          617,
          210,
          585,
          419,
          193,
          249,
          236,
          451,
          160,
          215,
          265,
          321,
          247,
          341,
          674,
          321,
          398,
          557,
          487,
          342,
          274,
          316,
          160,
          392,
          251,
          274,
          268,
          400,
          526,
          363,
          257,
          373,
          185,
          357,
          252,
          343,
          282,
          387,
          169,
          388,
          238,
          398,
          249,
          604,
          236,
          254,
          255,
          279,
          553,
          438,
          121,
          521,
          329,
          251,
          482,
          301,
          221,
          270,
          188,
          399,
          269,
          163,
          435,
          518,
          439,
          418,
          221,
          214,
          279,
          291,
          274,
          697,
          573,
          396,
          283,
          405,
          178,
          214,
          233,
          362,
          357,
          323,
          478,
          414,
          587,
          360,
          374,
          497,
          147,
          520,
          271,
          461,
          365,
          384,
          318,
          373,
          267,
          378,
          171,
          515,
          353,
          106,
          209,
          652,
          405,
          336,
          219,
          382,
          280,
          204,
          319,
          191,
          273,
          467,
          372,
          525,
          137,
          443,
          300,
          266,
          523,
          313,
          385,
          339,
          340,
          336,
          257,
          298,
          199,
          384,
          255,
          254,
          395,
          455,
          207,
          192,
          532,
          324,
          275,
          431,
          337,
          80,
          432,
          238,
          399,
          184,
          294,
          238,
          189,
          408,
          347,
          323,
          270,
          232,
          245,
          296,
          255,
          358,
          368,
          290,
          389,
          298,
          203,
          281,
          625,
          179,
          338,
          211,
          226,
          274,
          183,
          231,
          215,
          128,
          219
         ]
        }
       ],
       "layout": {
        "barmode": "overlay",
        "legend": {
         "bgcolor": "#F5F6F9",
         "font": {
          "color": "#4D5663"
         }
        },
        "paper_bgcolor": "#F5F6F9",
        "plot_bgcolor": "#F5F6F9",
        "template": {
         "data": {
          "bar": [
           {
            "error_x": {
             "color": "#2a3f5f"
            },
            "error_y": {
             "color": "#2a3f5f"
            },
            "marker": {
             "line": {
              "color": "#E5ECF6",
              "width": 0.5
             },
             "pattern": {
              "fillmode": "overlay",
              "size": 10,
              "solidity": 0.2
             }
            },
            "type": "bar"
           }
          ],
          "barpolar": [
           {
            "marker": {
             "line": {
              "color": "#E5ECF6",
              "width": 0.5
             },
             "pattern": {
              "fillmode": "overlay",
              "size": 10,
              "solidity": 0.2
             }
            },
            "type": "barpolar"
           }
          ],
          "carpet": [
           {
            "aaxis": {
             "endlinecolor": "#2a3f5f",
             "gridcolor": "white",
             "linecolor": "white",
             "minorgridcolor": "white",
             "startlinecolor": "#2a3f5f"
            },
            "baxis": {
             "endlinecolor": "#2a3f5f",
             "gridcolor": "white",
             "linecolor": "white",
             "minorgridcolor": "white",
             "startlinecolor": "#2a3f5f"
            },
            "type": "carpet"
           }
          ],
          "choropleth": [
           {
            "colorbar": {
             "outlinewidth": 0,
             "ticks": ""
            },
            "type": "choropleth"
           }
          ],
          "contour": [
           {
            "colorbar": {
             "outlinewidth": 0,
             "ticks": ""
            },
            "colorscale": [
             [
              0,
              "#0d0887"
             ],
             [
              0.1111111111111111,
              "#46039f"
             ],
             [
              0.2222222222222222,
              "#7201a8"
             ],
             [
              0.3333333333333333,
              "#9c179e"
             ],
             [
              0.4444444444444444,
              "#bd3786"
             ],
             [
              0.5555555555555556,
              "#d8576b"
             ],
             [
              0.6666666666666666,
              "#ed7953"
             ],
             [
              0.7777777777777778,
              "#fb9f3a"
             ],
             [
              0.8888888888888888,
              "#fdca26"
             ],
             [
              1,
              "#f0f921"
             ]
            ],
            "type": "contour"
           }
          ],
          "contourcarpet": [
           {
            "colorbar": {
             "outlinewidth": 0,
             "ticks": ""
            },
            "type": "contourcarpet"
           }
          ],
          "heatmap": [
           {
            "colorbar": {
             "outlinewidth": 0,
             "ticks": ""
            },
            "colorscale": [
             [
              0,
              "#0d0887"
             ],
             [
              0.1111111111111111,
              "#46039f"
             ],
             [
              0.2222222222222222,
              "#7201a8"
             ],
             [
              0.3333333333333333,
              "#9c179e"
             ],
             [
              0.4444444444444444,
              "#bd3786"
             ],
             [
              0.5555555555555556,
              "#d8576b"
             ],
             [
              0.6666666666666666,
              "#ed7953"
             ],
             [
              0.7777777777777778,
              "#fb9f3a"
             ],
             [
              0.8888888888888888,
              "#fdca26"
             ],
             [
              1,
              "#f0f921"
             ]
            ],
            "type": "heatmap"
           }
          ],
          "heatmapgl": [
           {
            "colorbar": {
             "outlinewidth": 0,
             "ticks": ""
            },
            "colorscale": [
             [
              0,
              "#0d0887"
             ],
             [
              0.1111111111111111,
              "#46039f"
             ],
             [
              0.2222222222222222,
              "#7201a8"
             ],
             [
              0.3333333333333333,
              "#9c179e"
             ],
             [
              0.4444444444444444,
              "#bd3786"
             ],
             [
              0.5555555555555556,
              "#d8576b"
             ],
             [
              0.6666666666666666,
              "#ed7953"
             ],
             [
              0.7777777777777778,
              "#fb9f3a"
             ],
             [
              0.8888888888888888,
              "#fdca26"
             ],
             [
              1,
              "#f0f921"
             ]
            ],
            "type": "heatmapgl"
           }
          ],
          "histogram": [
           {
            "marker": {
             "pattern": {
              "fillmode": "overlay",
              "size": 10,
              "solidity": 0.2
             }
            },
            "type": "histogram"
           }
          ],
          "histogram2d": [
           {
            "colorbar": {
             "outlinewidth": 0,
             "ticks": ""
            },
            "colorscale": [
             [
              0,
              "#0d0887"
             ],
             [
              0.1111111111111111,
              "#46039f"
             ],
             [
              0.2222222222222222,
              "#7201a8"
             ],
             [
              0.3333333333333333,
              "#9c179e"
             ],
             [
              0.4444444444444444,
              "#bd3786"
             ],
             [
              0.5555555555555556,
              "#d8576b"
             ],
             [
              0.6666666666666666,
              "#ed7953"
             ],
             [
              0.7777777777777778,
              "#fb9f3a"
             ],
             [
              0.8888888888888888,
              "#fdca26"
             ],
             [
              1,
              "#f0f921"
             ]
            ],
            "type": "histogram2d"
           }
          ],
          "histogram2dcontour": [
           {
            "colorbar": {
             "outlinewidth": 0,
             "ticks": ""
            },
            "colorscale": [
             [
              0,
              "#0d0887"
             ],
             [
              0.1111111111111111,
              "#46039f"
             ],
             [
              0.2222222222222222,
              "#7201a8"
             ],
             [
              0.3333333333333333,
              "#9c179e"
             ],
             [
              0.4444444444444444,
              "#bd3786"
             ],
             [
              0.5555555555555556,
              "#d8576b"
             ],
             [
              0.6666666666666666,
              "#ed7953"
             ],
             [
              0.7777777777777778,
              "#fb9f3a"
             ],
             [
              0.8888888888888888,
              "#fdca26"
             ],
             [
              1,
              "#f0f921"
             ]
            ],
            "type": "histogram2dcontour"
           }
          ],
          "mesh3d": [
           {
            "colorbar": {
             "outlinewidth": 0,
             "ticks": ""
            },
            "type": "mesh3d"
           }
          ],
          "parcoords": [
           {
            "line": {
             "colorbar": {
              "outlinewidth": 0,
              "ticks": ""
             }
            },
            "type": "parcoords"
           }
          ],
          "pie": [
           {
            "automargin": true,
            "type": "pie"
           }
          ],
          "scatter": [
           {
            "fillpattern": {
             "fillmode": "overlay",
             "size": 10,
             "solidity": 0.2
            },
            "type": "scatter"
           }
          ],
          "scatter3d": [
           {
            "line": {
             "colorbar": {
              "outlinewidth": 0,
              "ticks": ""
             }
            },
            "marker": {
             "colorbar": {
              "outlinewidth": 0,
              "ticks": ""
             }
            },
            "type": "scatter3d"
           }
          ],
          "scattercarpet": [
           {
            "marker": {
             "colorbar": {
              "outlinewidth": 0,
              "ticks": ""
             }
            },
            "type": "scattercarpet"
           }
          ],
          "scattergeo": [
           {
            "marker": {
             "colorbar": {
              "outlinewidth": 0,
              "ticks": ""
             }
            },
            "type": "scattergeo"
           }
          ],
          "scattergl": [
           {
            "marker": {
             "colorbar": {
              "outlinewidth": 0,
              "ticks": ""
             }
            },
            "type": "scattergl"
           }
          ],
          "scattermapbox": [
           {
            "marker": {
             "colorbar": {
              "outlinewidth": 0,
              "ticks": ""
             }
            },
            "type": "scattermapbox"
           }
          ],
          "scatterpolar": [
           {
            "marker": {
             "colorbar": {
              "outlinewidth": 0,
              "ticks": ""
             }
            },
            "type": "scatterpolar"
           }
          ],
          "scatterpolargl": [
           {
            "marker": {
             "colorbar": {
              "outlinewidth": 0,
              "ticks": ""
             }
            },
            "type": "scatterpolargl"
           }
          ],
          "scatterternary": [
           {
            "marker": {
             "colorbar": {
              "outlinewidth": 0,
              "ticks": ""
             }
            },
            "type": "scatterternary"
           }
          ],
          "surface": [
           {
            "colorbar": {
             "outlinewidth": 0,
             "ticks": ""
            },
            "colorscale": [
             [
              0,
              "#0d0887"
             ],
             [
              0.1111111111111111,
              "#46039f"
             ],
             [
              0.2222222222222222,
              "#7201a8"
             ],
             [
              0.3333333333333333,
              "#9c179e"
             ],
             [
              0.4444444444444444,
              "#bd3786"
             ],
             [
              0.5555555555555556,
              "#d8576b"
             ],
             [
              0.6666666666666666,
              "#ed7953"
             ],
             [
              0.7777777777777778,
              "#fb9f3a"
             ],
             [
              0.8888888888888888,
              "#fdca26"
             ],
             [
              1,
              "#f0f921"
             ]
            ],
            "type": "surface"
           }
          ],
          "table": [
           {
            "cells": {
             "fill": {
              "color": "#EBF0F8"
             },
             "line": {
              "color": "white"
             }
            },
            "header": {
             "fill": {
              "color": "#C8D4E3"
             },
             "line": {
              "color": "white"
             }
            },
            "type": "table"
           }
          ]
         },
         "layout": {
          "annotationdefaults": {
           "arrowcolor": "#2a3f5f",
           "arrowhead": 0,
           "arrowwidth": 1
          },
          "autotypenumbers": "strict",
          "coloraxis": {
           "colorbar": {
            "outlinewidth": 0,
            "ticks": ""
           }
          },
          "colorscale": {
           "diverging": [
            [
             0,
             "#8e0152"
            ],
            [
             0.1,
             "#c51b7d"
            ],
            [
             0.2,
             "#de77ae"
            ],
            [
             0.3,
             "#f1b6da"
            ],
            [
             0.4,
             "#fde0ef"
            ],
            [
             0.5,
             "#f7f7f7"
            ],
            [
             0.6,
             "#e6f5d0"
            ],
            [
             0.7,
             "#b8e186"
            ],
            [
             0.8,
             "#7fbc41"
            ],
            [
             0.9,
             "#4d9221"
            ],
            [
             1,
             "#276419"
            ]
           ],
           "sequential": [
            [
             0,
             "#0d0887"
            ],
            [
             0.1111111111111111,
             "#46039f"
            ],
            [
             0.2222222222222222,
             "#7201a8"
            ],
            [
             0.3333333333333333,
             "#9c179e"
            ],
            [
             0.4444444444444444,
             "#bd3786"
            ],
            [
             0.5555555555555556,
             "#d8576b"
            ],
            [
             0.6666666666666666,
             "#ed7953"
            ],
            [
             0.7777777777777778,
             "#fb9f3a"
            ],
            [
             0.8888888888888888,
             "#fdca26"
            ],
            [
             1,
             "#f0f921"
            ]
           ],
           "sequentialminus": [
            [
             0,
             "#0d0887"
            ],
            [
             0.1111111111111111,
             "#46039f"
            ],
            [
             0.2222222222222222,
             "#7201a8"
            ],
            [
             0.3333333333333333,
             "#9c179e"
            ],
            [
             0.4444444444444444,
             "#bd3786"
            ],
            [
             0.5555555555555556,
             "#d8576b"
            ],
            [
             0.6666666666666666,
             "#ed7953"
            ],
            [
             0.7777777777777778,
             "#fb9f3a"
            ],
            [
             0.8888888888888888,
             "#fdca26"
            ],
            [
             1,
             "#f0f921"
            ]
           ]
          },
          "colorway": [
           "#636efa",
           "#EF553B",
           "#00cc96",
           "#ab63fa",
           "#FFA15A",
           "#19d3f3",
           "#FF6692",
           "#B6E880",
           "#FF97FF",
           "#FECB52"
          ],
          "font": {
           "color": "#2a3f5f"
          },
          "geo": {
           "bgcolor": "white",
           "lakecolor": "white",
           "landcolor": "#E5ECF6",
           "showlakes": true,
           "showland": true,
           "subunitcolor": "white"
          },
          "hoverlabel": {
           "align": "left"
          },
          "hovermode": "closest",
          "mapbox": {
           "style": "light"
          },
          "paper_bgcolor": "white",
          "plot_bgcolor": "#E5ECF6",
          "polar": {
           "angularaxis": {
            "gridcolor": "white",
            "linecolor": "white",
            "ticks": ""
           },
           "bgcolor": "#E5ECF6",
           "radialaxis": {
            "gridcolor": "white",
            "linecolor": "white",
            "ticks": ""
           }
          },
          "scene": {
           "xaxis": {
            "backgroundcolor": "#E5ECF6",
            "gridcolor": "white",
            "gridwidth": 2,
            "linecolor": "white",
            "showbackground": true,
            "ticks": "",
            "zerolinecolor": "white"
           },
           "yaxis": {
            "backgroundcolor": "#E5ECF6",
            "gridcolor": "white",
            "gridwidth": 2,
            "linecolor": "white",
            "showbackground": true,
            "ticks": "",
            "zerolinecolor": "white"
           },
           "zaxis": {
            "backgroundcolor": "#E5ECF6",
            "gridcolor": "white",
            "gridwidth": 2,
            "linecolor": "white",
            "showbackground": true,
            "ticks": "",
            "zerolinecolor": "white"
           }
          },
          "shapedefaults": {
           "line": {
            "color": "#2a3f5f"
           }
          },
          "ternary": {
           "aaxis": {
            "gridcolor": "white",
            "linecolor": "white",
            "ticks": ""
           },
           "baxis": {
            "gridcolor": "white",
            "linecolor": "white",
            "ticks": ""
           },
           "bgcolor": "#E5ECF6",
           "caxis": {
            "gridcolor": "white",
            "linecolor": "white",
            "ticks": ""
           }
          },
          "title": {
           "x": 0.05
          },
          "xaxis": {
           "automargin": true,
           "gridcolor": "white",
           "linecolor": "white",
           "ticks": "",
           "title": {
            "standoff": 15
           },
           "zerolinecolor": "white",
           "zerolinewidth": 2
          },
          "yaxis": {
           "automargin": true,
           "gridcolor": "white",
           "linecolor": "white",
           "ticks": "",
           "title": {
            "standoff": 15
           },
           "zerolinecolor": "white",
           "zerolinewidth": 2
          }
         }
        },
        "title": {
         "font": {
          "color": "#4D5663"
         },
         "text": "Feedback Length Distribution"
        },
        "xaxis": {
         "gridcolor": "#E1E5ED",
         "linecolor": "black",
         "showgrid": true,
         "tickfont": {
          "color": "#4D5663"
         },
         "title": {
          "font": {
           "color": "#4D5663"
          },
          "text": "Length"
         },
         "zerolinecolor": "#E1E5ED"
        },
        "yaxis": {
         "gridcolor": "#E1E5ED",
         "linecolor": "black",
         "showgrid": true,
         "tickfont": {
          "color": "#4D5663"
         },
         "title": {
          "font": {
           "color": "#4D5663"
          },
          "text": "count"
         },
         "zerolinecolor": "#E1E5ED"
        }
       }
      },
      "text/html": [
       "<div>                            <div id=\"35f4926c-3325-42f4-9661-56a16460ebe3\" class=\"plotly-graph-div\" style=\"height:525px; width:100%;\"></div>            <script type=\"text/javascript\">                require([\"plotly\"], function(Plotly) {                    window.PLOTLYENV=window.PLOTLYENV || {};\n",
       "                    window.PLOTLYENV.BASE_URL='https://plot.ly';                                    if (document.getElementById(\"35f4926c-3325-42f4-9661-56a16460ebe3\")) {                    Plotly.newPlot(                        \"35f4926c-3325-42f4-9661-56a16460ebe3\",                        [{\"histfunc\":\"count\",\"histnorm\":\"\",\"marker\":{\"color\":\"rgba(255, 153, 51, 1.0)\",\"line\":{\"color\":\"#000000\",\"width\":1.3}},\"name\":\"length\",\"nbinsx\":50,\"opacity\":0.8,\"orientation\":\"v\",\"x\":[287,485,488,197,127,163,331,336,202,492,295,338,560,322,292,642,247,315,206,340,576,193,388,212,193,266,165,455,419,185,250,482,169,302,523,180,368,619,331,300,189,61,449,401,527,265,314,205,274,412,419,334,252,647,244,552,445,355,740,364,340,400,203,368,351,438,434,180,472,405,352,277,276,500,421,514,204,226,385,264,309,177,308,533,181,432,265,502,214,449,418,290,430,321,479,233,437,621,285,335,159,318,358,163,210,282,209,567,303,196,514,194,299,268,358,217,400,442,156,296,473,484,599,425,253,238,225,215,267,777,104,471,352,273,268,118,325,351,307,580,633,255,452,345,523,205,309,574,538,303,109,292,187,265,339,126,255,382,247,581,298,319,358,237,740,222,381,154,486,263,117,334,340,331,249,402,348,299,489,495,232,316,196,475,261,540,301,371,439,252,139,971,437,290,492,264,476,485,205,286,226,446,242,312,304,414,229,261,234,234,224,367,266,322,309,91,347,148,218,247,354,263,213,231,423,470,314,278,141,203,474,286,552,64,272,159,281,555,338,136,285,286,284,425,64,190,312,397,208,162,491,171,332,626,504,431,259,482,183,366,395,358,365,510,264,326,469,375,544,220,505,496,351,556,399,422,476,261,290,296,369,260,430,536,474,329,114,383,436,380,477,299,499,267,434,176,220,160,366,135,375,220,234,203,213,294,296,252,376,207,214,389,267,509,878,429,173,277,250,395,493,303,319,202,349,297,279,354,151,177,143,265,382,354,405,242,293,604,317,233,394,484,548,163,335,249,360,398,495,300,386,168,475,424,265,315,178,115,689,425,266,351,330,375,185,386,182,287,327,220,705,313,373,278,502,173,523,235,324,361,427,363,323,124,412,683,272,238,246,343,377,167,308,178,419,153,168,792,597,162,221,179,95,283,294,328,491,176,311,184,371,259,574,429,310,304,377,247,575,552,321,119,200,222,310,295,268,568,467,524,678,396,795,326,208,366,356,401,235,254,262,282,245,355,402,192,211,306,441,498,329,387,219,93,565,618,207,582,273,418,237,317,442,129,565,155,182,237,311,373,393,583,331,661,274,291,499,380,346,325,334,400,540,341,549,148,246,498,278,340,303,389,254,374,363,162,200,485,237,379,390,226,358,317,251,546,295,243,302,301,309,582,358,320,473,488,364,240,190,307,297,195,308,241,363,196,397,255,272,268,226,311,317,303,322,408,243,525,207,238,390,372,249,313,409,296,319,316,488,233,335,143,247,361,346,264,408,498,241,220,573,245,632,342,308,794,463,228,175,199,144,605,388,324,287,533,560,263,377,386,149,345,407,289,615,157,551,160,143,407,317,259,447,297,305,216,229,187,529,404,102,231,423,190,358,287,193,416,341,94,443,373,451,308,359,266,245,237,273,596,732,391,219,391,475,316,239,161,405,213,372,270,164,170,432,465,413,429,254,417,222,527,344,408,416,594,344,432,222,265,381,257,241,554,204,103,542,426,628,179,481,545,403,314,409,508,270,253,371,328,295,215,344,355,355,282,326,131,527,347,325,322,155,135,321,425,557,103,289,214,207,315,214,402,383,625,339,172,186,585,246,370,223,617,210,585,419,193,249,236,451,160,215,265,321,247,341,674,321,398,557,487,342,274,316,160,392,251,274,268,400,526,363,257,373,185,357,252,343,282,387,169,388,238,398,249,604,236,254,255,279,553,438,121,521,329,251,482,301,221,270,188,399,269,163,435,518,439,418,221,214,279,291,274,697,573,396,283,405,178,214,233,362,357,323,478,414,587,360,374,497,147,520,271,461,365,384,318,373,267,378,171,515,353,106,209,652,405,336,219,382,280,204,319,191,273,467,372,525,137,443,300,266,523,313,385,339,340,336,257,298,199,384,255,254,395,455,207,192,532,324,275,431,337,80,432,238,399,184,294,238,189,408,347,323,270,232,245,296,255,358,368,290,389,298,203,281,625,179,338,211,226,274,183,231,215,128,219],\"type\":\"histogram\"}],                        {\"barmode\":\"overlay\",\"legend\":{\"bgcolor\":\"#F5F6F9\",\"font\":{\"color\":\"#4D5663\"}},\"paper_bgcolor\":\"#F5F6F9\",\"plot_bgcolor\":\"#F5F6F9\",\"template\":{\"data\":{\"barpolar\":[{\"marker\":{\"line\":{\"color\":\"#E5ECF6\",\"width\":0.5},\"pattern\":{\"fillmode\":\"overlay\",\"size\":10,\"solidity\":0.2}},\"type\":\"barpolar\"}],\"bar\":[{\"error_x\":{\"color\":\"#2a3f5f\"},\"error_y\":{\"color\":\"#2a3f5f\"},\"marker\":{\"line\":{\"color\":\"#E5ECF6\",\"width\":0.5},\"pattern\":{\"fillmode\":\"overlay\",\"size\":10,\"solidity\":0.2}},\"type\":\"bar\"}],\"carpet\":[{\"aaxis\":{\"endlinecolor\":\"#2a3f5f\",\"gridcolor\":\"white\",\"linecolor\":\"white\",\"minorgridcolor\":\"white\",\"startlinecolor\":\"#2a3f5f\"},\"baxis\":{\"endlinecolor\":\"#2a3f5f\",\"gridcolor\":\"white\",\"linecolor\":\"white\",\"minorgridcolor\":\"white\",\"startlinecolor\":\"#2a3f5f\"},\"type\":\"carpet\"}],\"choropleth\":[{\"colorbar\":{\"outlinewidth\":0,\"ticks\":\"\"},\"type\":\"choropleth\"}],\"contourcarpet\":[{\"colorbar\":{\"outlinewidth\":0,\"ticks\":\"\"},\"type\":\"contourcarpet\"}],\"contour\":[{\"colorbar\":{\"outlinewidth\":0,\"ticks\":\"\"},\"colorscale\":[[0.0,\"#0d0887\"],[0.1111111111111111,\"#46039f\"],[0.2222222222222222,\"#7201a8\"],[0.3333333333333333,\"#9c179e\"],[0.4444444444444444,\"#bd3786\"],[0.5555555555555556,\"#d8576b\"],[0.6666666666666666,\"#ed7953\"],[0.7777777777777778,\"#fb9f3a\"],[0.8888888888888888,\"#fdca26\"],[1.0,\"#f0f921\"]],\"type\":\"contour\"}],\"heatmapgl\":[{\"colorbar\":{\"outlinewidth\":0,\"ticks\":\"\"},\"colorscale\":[[0.0,\"#0d0887\"],[0.1111111111111111,\"#46039f\"],[0.2222222222222222,\"#7201a8\"],[0.3333333333333333,\"#9c179e\"],[0.4444444444444444,\"#bd3786\"],[0.5555555555555556,\"#d8576b\"],[0.6666666666666666,\"#ed7953\"],[0.7777777777777778,\"#fb9f3a\"],[0.8888888888888888,\"#fdca26\"],[1.0,\"#f0f921\"]],\"type\":\"heatmapgl\"}],\"heatmap\":[{\"colorbar\":{\"outlinewidth\":0,\"ticks\":\"\"},\"colorscale\":[[0.0,\"#0d0887\"],[0.1111111111111111,\"#46039f\"],[0.2222222222222222,\"#7201a8\"],[0.3333333333333333,\"#9c179e\"],[0.4444444444444444,\"#bd3786\"],[0.5555555555555556,\"#d8576b\"],[0.6666666666666666,\"#ed7953\"],[0.7777777777777778,\"#fb9f3a\"],[0.8888888888888888,\"#fdca26\"],[1.0,\"#f0f921\"]],\"type\":\"heatmap\"}],\"histogram2dcontour\":[{\"colorbar\":{\"outlinewidth\":0,\"ticks\":\"\"},\"colorscale\":[[0.0,\"#0d0887\"],[0.1111111111111111,\"#46039f\"],[0.2222222222222222,\"#7201a8\"],[0.3333333333333333,\"#9c179e\"],[0.4444444444444444,\"#bd3786\"],[0.5555555555555556,\"#d8576b\"],[0.6666666666666666,\"#ed7953\"],[0.7777777777777778,\"#fb9f3a\"],[0.8888888888888888,\"#fdca26\"],[1.0,\"#f0f921\"]],\"type\":\"histogram2dcontour\"}],\"histogram2d\":[{\"colorbar\":{\"outlinewidth\":0,\"ticks\":\"\"},\"colorscale\":[[0.0,\"#0d0887\"],[0.1111111111111111,\"#46039f\"],[0.2222222222222222,\"#7201a8\"],[0.3333333333333333,\"#9c179e\"],[0.4444444444444444,\"#bd3786\"],[0.5555555555555556,\"#d8576b\"],[0.6666666666666666,\"#ed7953\"],[0.7777777777777778,\"#fb9f3a\"],[0.8888888888888888,\"#fdca26\"],[1.0,\"#f0f921\"]],\"type\":\"histogram2d\"}],\"histogram\":[{\"marker\":{\"pattern\":{\"fillmode\":\"overlay\",\"size\":10,\"solidity\":0.2}},\"type\":\"histogram\"}],\"mesh3d\":[{\"colorbar\":{\"outlinewidth\":0,\"ticks\":\"\"},\"type\":\"mesh3d\"}],\"parcoords\":[{\"line\":{\"colorbar\":{\"outlinewidth\":0,\"ticks\":\"\"}},\"type\":\"parcoords\"}],\"pie\":[{\"automargin\":true,\"type\":\"pie\"}],\"scatter3d\":[{\"line\":{\"colorbar\":{\"outlinewidth\":0,\"ticks\":\"\"}},\"marker\":{\"colorbar\":{\"outlinewidth\":0,\"ticks\":\"\"}},\"type\":\"scatter3d\"}],\"scattercarpet\":[{\"marker\":{\"colorbar\":{\"outlinewidth\":0,\"ticks\":\"\"}},\"type\":\"scattercarpet\"}],\"scattergeo\":[{\"marker\":{\"colorbar\":{\"outlinewidth\":0,\"ticks\":\"\"}},\"type\":\"scattergeo\"}],\"scattergl\":[{\"marker\":{\"colorbar\":{\"outlinewidth\":0,\"ticks\":\"\"}},\"type\":\"scattergl\"}],\"scattermapbox\":[{\"marker\":{\"colorbar\":{\"outlinewidth\":0,\"ticks\":\"\"}},\"type\":\"scattermapbox\"}],\"scatterpolargl\":[{\"marker\":{\"colorbar\":{\"outlinewidth\":0,\"ticks\":\"\"}},\"type\":\"scatterpolargl\"}],\"scatterpolar\":[{\"marker\":{\"colorbar\":{\"outlinewidth\":0,\"ticks\":\"\"}},\"type\":\"scatterpolar\"}],\"scatter\":[{\"fillpattern\":{\"fillmode\":\"overlay\",\"size\":10,\"solidity\":0.2},\"type\":\"scatter\"}],\"scatterternary\":[{\"marker\":{\"colorbar\":{\"outlinewidth\":0,\"ticks\":\"\"}},\"type\":\"scatterternary\"}],\"surface\":[{\"colorbar\":{\"outlinewidth\":0,\"ticks\":\"\"},\"colorscale\":[[0.0,\"#0d0887\"],[0.1111111111111111,\"#46039f\"],[0.2222222222222222,\"#7201a8\"],[0.3333333333333333,\"#9c179e\"],[0.4444444444444444,\"#bd3786\"],[0.5555555555555556,\"#d8576b\"],[0.6666666666666666,\"#ed7953\"],[0.7777777777777778,\"#fb9f3a\"],[0.8888888888888888,\"#fdca26\"],[1.0,\"#f0f921\"]],\"type\":\"surface\"}],\"table\":[{\"cells\":{\"fill\":{\"color\":\"#EBF0F8\"},\"line\":{\"color\":\"white\"}},\"header\":{\"fill\":{\"color\":\"#C8D4E3\"},\"line\":{\"color\":\"white\"}},\"type\":\"table\"}]},\"layout\":{\"annotationdefaults\":{\"arrowcolor\":\"#2a3f5f\",\"arrowhead\":0,\"arrowwidth\":1},\"autotypenumbers\":\"strict\",\"coloraxis\":{\"colorbar\":{\"outlinewidth\":0,\"ticks\":\"\"}},\"colorscale\":{\"diverging\":[[0,\"#8e0152\"],[0.1,\"#c51b7d\"],[0.2,\"#de77ae\"],[0.3,\"#f1b6da\"],[0.4,\"#fde0ef\"],[0.5,\"#f7f7f7\"],[0.6,\"#e6f5d0\"],[0.7,\"#b8e186\"],[0.8,\"#7fbc41\"],[0.9,\"#4d9221\"],[1,\"#276419\"]],\"sequential\":[[0.0,\"#0d0887\"],[0.1111111111111111,\"#46039f\"],[0.2222222222222222,\"#7201a8\"],[0.3333333333333333,\"#9c179e\"],[0.4444444444444444,\"#bd3786\"],[0.5555555555555556,\"#d8576b\"],[0.6666666666666666,\"#ed7953\"],[0.7777777777777778,\"#fb9f3a\"],[0.8888888888888888,\"#fdca26\"],[1.0,\"#f0f921\"]],\"sequentialminus\":[[0.0,\"#0d0887\"],[0.1111111111111111,\"#46039f\"],[0.2222222222222222,\"#7201a8\"],[0.3333333333333333,\"#9c179e\"],[0.4444444444444444,\"#bd3786\"],[0.5555555555555556,\"#d8576b\"],[0.6666666666666666,\"#ed7953\"],[0.7777777777777778,\"#fb9f3a\"],[0.8888888888888888,\"#fdca26\"],[1.0,\"#f0f921\"]]},\"colorway\":[\"#636efa\",\"#EF553B\",\"#00cc96\",\"#ab63fa\",\"#FFA15A\",\"#19d3f3\",\"#FF6692\",\"#B6E880\",\"#FF97FF\",\"#FECB52\"],\"font\":{\"color\":\"#2a3f5f\"},\"geo\":{\"bgcolor\":\"white\",\"lakecolor\":\"white\",\"landcolor\":\"#E5ECF6\",\"showlakes\":true,\"showland\":true,\"subunitcolor\":\"white\"},\"hoverlabel\":{\"align\":\"left\"},\"hovermode\":\"closest\",\"mapbox\":{\"style\":\"light\"},\"paper_bgcolor\":\"white\",\"plot_bgcolor\":\"#E5ECF6\",\"polar\":{\"angularaxis\":{\"gridcolor\":\"white\",\"linecolor\":\"white\",\"ticks\":\"\"},\"bgcolor\":\"#E5ECF6\",\"radialaxis\":{\"gridcolor\":\"white\",\"linecolor\":\"white\",\"ticks\":\"\"}},\"scene\":{\"xaxis\":{\"backgroundcolor\":\"#E5ECF6\",\"gridcolor\":\"white\",\"gridwidth\":2,\"linecolor\":\"white\",\"showbackground\":true,\"ticks\":\"\",\"zerolinecolor\":\"white\"},\"yaxis\":{\"backgroundcolor\":\"#E5ECF6\",\"gridcolor\":\"white\",\"gridwidth\":2,\"linecolor\":\"white\",\"showbackground\":true,\"ticks\":\"\",\"zerolinecolor\":\"white\"},\"zaxis\":{\"backgroundcolor\":\"#E5ECF6\",\"gridcolor\":\"white\",\"gridwidth\":2,\"linecolor\":\"white\",\"showbackground\":true,\"ticks\":\"\",\"zerolinecolor\":\"white\"}},\"shapedefaults\":{\"line\":{\"color\":\"#2a3f5f\"}},\"ternary\":{\"aaxis\":{\"gridcolor\":\"white\",\"linecolor\":\"white\",\"ticks\":\"\"},\"baxis\":{\"gridcolor\":\"white\",\"linecolor\":\"white\",\"ticks\":\"\"},\"bgcolor\":\"#E5ECF6\",\"caxis\":{\"gridcolor\":\"white\",\"linecolor\":\"white\",\"ticks\":\"\"}},\"title\":{\"x\":0.05},\"xaxis\":{\"automargin\":true,\"gridcolor\":\"white\",\"linecolor\":\"white\",\"ticks\":\"\",\"title\":{\"standoff\":15},\"zerolinecolor\":\"white\",\"zerolinewidth\":2},\"yaxis\":{\"automargin\":true,\"gridcolor\":\"white\",\"linecolor\":\"white\",\"ticks\":\"\",\"title\":{\"standoff\":15},\"zerolinecolor\":\"white\",\"zerolinewidth\":2}}},\"title\":{\"font\":{\"color\":\"#4D5663\"},\"text\":\"Feedback Length Distribution\"},\"xaxis\":{\"gridcolor\":\"#E1E5ED\",\"linecolor\":\"black\",\"showgrid\":true,\"tickfont\":{\"color\":\"#4D5663\"},\"title\":{\"font\":{\"color\":\"#4D5663\"},\"text\":\"Length\"},\"zerolinecolor\":\"#E1E5ED\"},\"yaxis\":{\"gridcolor\":\"#E1E5ED\",\"linecolor\":\"black\",\"showgrid\":true,\"tickfont\":{\"color\":\"#4D5663\"},\"title\":{\"font\":{\"color\":\"#4D5663\"},\"text\":\"count\"},\"zerolinecolor\":\"#E1E5ED\"}},                        {\"showLink\": true, \"linkText\": \"Export to plot.ly\", \"plotlyServerURL\": \"https://plot.ly\", \"responsive\": true}                    ).then(function(){\n",
       "                            \n",
       "var gd = document.getElementById('35f4926c-3325-42f4-9661-56a16460ebe3');\n",
       "var x = new MutationObserver(function (mutations, observer) {{\n",
       "        var display = window.getComputedStyle(gd).display;\n",
       "        if (!display || display === 'none') {{\n",
       "            console.log([gd, 'removed!']);\n",
       "            Plotly.purge(gd);\n",
       "            observer.disconnect();\n",
       "        }}\n",
       "}});\n",
       "\n",
       "// Listen for the removal of the full notebook cells\n",
       "var notebookContainer = gd.closest('#notebook-container');\n",
       "if (notebookContainer) {{\n",
       "    x.observe(notebookContainer, {childList: true});\n",
       "}}\n",
       "\n",
       "// Listen for the clearing of the current output cell\n",
       "var outputEl = gd.closest('.output');\n",
       "if (outputEl) {{\n",
       "    x.observe(outputEl, {childList: true});\n",
       "}}\n",
       "\n",
       "                        })                };                });            </script>        </div>"
      ]
     },
     "metadata": {},
     "output_type": "display_data"
    }
   ],
   "source": [
    "employees['length'].iplot(\n",
    "    kind='hist',\n",
    "    bins=50,\n",
    "    xTitle='Length',\n",
    "    linecolor='black',\n",
    "    yTitle='count',\n",
    "    title='Feedback Length Distribution')"
   ]
  },
  {
   "cell_type": "code",
   "execution_count": 18,
   "id": "948b9464",
   "metadata": {},
   "outputs": [
    {
     "data": {
      "text/plain": [
       "<AxesSubplot:ylabel='Frequency'>"
      ]
     },
     "execution_count": 18,
     "metadata": {},
     "output_type": "execute_result"
    },
    {
     "data": {
      "image/png": "[encoded data removed]",
      "text/plain": [
       "<Figure size 432x288 with 1 Axes>"
      ]
     },
     "metadata": {
      "needs_background": "light"
     },
     "output_type": "display_data"
    }
   ],
   "source": [
    "employees['length'].plot(bins=50, kind='hist') "
   ]
  },
  {
   "cell_type": "code",
   "execution_count": 19,
   "id": "c1d30d9c",
   "metadata": {},
   "outputs": [
    {
     "data": {
      "text/plain": [
       "count    878.000000\n",
       "mean     335.930524\n",
       "std      133.783240\n",
       "min       61.000000\n",
       "25%      238.250000\n",
       "50%      317.000000\n",
       "75%      408.750000\n",
       "max      971.000000\n",
       "Name: length, dtype: float64"
      ]
     },
     "execution_count": 19,
     "metadata": {},
     "output_type": "execute_result"
    }
   ],
   "source": [
    "employees.length.describe()"
   ]
  },
  {
   "cell_type": "code",
   "execution_count": 20,
   "id": "8bfd7f28",
   "metadata": {},
   "outputs": [
    {
     "data": {
      "text/plain": [
       "\"Ms. Amaya, I appreciate you taking the time to look over my feedback. During your time at this company, your work has been consistent. You have not done anything that is strikingly bad. However, you have yet to 'wow' any of the superiors with your work. Unfortunately this has led some to believe that your potential at this company is limited. If you hope to stay at this company and advance, I might advise you to try and put in a little extra effort. The bare minimum is a typically accepted standard, especially if the work is accurate and meets requirements. However, the bare minimum does not encourage others to see you as a 'good' worker or recognize you for your performance. While your work here has been satisfactory thus far and I have no complaints, I implore you to attempt to catch the interest of your superiors. This will benefit you in the long run at this company and hopefully invigorate your desire to be here. A little extra effort can go along way!\""
      ]
     },
     "execution_count": 20,
     "metadata": {},
     "output_type": "execute_result"
    }
   ],
   "source": [
    "employees[employees['length'] == 971]['feedback'].iloc[0]"
   ]
  },
  {
   "cell_type": "markdown",
   "id": "659e2d87",
   "metadata": {},
   "source": [
    "### Feedback Sentiment Function"
   ]
  },
  {
   "cell_type": "code",
   "execution_count": 21,
   "id": "2c66efef",
   "metadata": {},
   "outputs": [],
   "source": [
    "employees[\"feedback_sentiment\"] = employees[\"nine_box_category\"].apply(lambda x: \"Positive Feedback\" if x == \"Category 9: 'Star' (High performance, High potential)\" \n",
    "                                                                  or x==\"Category 8: 'High Potential' (Moderate performance, High potential)\" \n",
    "                                                                  or x==\"Category 6: 'High Performer' (High performance, Moderate potential)\"\n",
    "                                                                  or x==\"Category 3: 'Solid Performer' (High performance, Low potential)\"\n",
    "                                                                  or x==\"Category 5: 'Core Player' (Moderate performance, Moderate potential)\"\n",
    "                                                                  else \"Negative Feedback\" )"
   ]
  },
  {
   "cell_type": "code",
   "execution_count": 22,
   "id": "ca2da5f9",
   "metadata": {},
   "outputs": [
    {
     "data": {
      "text/html": [
       "<div>\n",
       "<style scoped>\n",
       "    .dataframe tbody tr th:only-of-type {\n",
       "        vertical-align: middle;\n",
       "    }\n",
       "\n",
       "    .dataframe tbody tr th {\n",
       "        vertical-align: top;\n",
       "    }\n",
       "\n",
       "    .dataframe thead th {\n",
       "        text-align: right;\n",
       "    }\n",
       "</style>\n",
       "<table border=\"1\" class=\"dataframe\">\n",
       "  <thead>\n",
       "    <tr style=\"text-align: right;\">\n",
       "      <th></th>\n",
       "      <th>id</th>\n",
       "      <th>person_name</th>\n",
       "      <th>nine_box_category</th>\n",
       "      <th>feedback</th>\n",
       "      <th>adjusted</th>\n",
       "      <th>reviewed</th>\n",
       "      <th>length</th>\n",
       "      <th>feedback_sentiment</th>\n",
       "    </tr>\n",
       "  </thead>\n",
       "  <tbody>\n",
       "    <tr>\n",
       "      <th>135</th>\n",
       "      <td>96</td>\n",
       "      <td>Bailey Hunter</td>\n",
       "      <td>Category 2: 'Average performer' (Moderate perf...</td>\n",
       "      <td>Bailey has always been an average worker, noti...</td>\n",
       "      <td>False</td>\n",
       "      <td>False</td>\n",
       "      <td>118</td>\n",
       "      <td>Negative Feedback</td>\n",
       "    </tr>\n",
       "    <tr>\n",
       "      <th>812</th>\n",
       "      <td>677</td>\n",
       "      <td>Chelsea Stevens</td>\n",
       "      <td>Category 9: 'Star' (High performance, High pot...</td>\n",
       "      <td>Chelsea Stevens is an ideal employee. She deli...</td>\n",
       "      <td>False</td>\n",
       "      <td>False</td>\n",
       "      <td>204</td>\n",
       "      <td>Positive Feedback</td>\n",
       "    </tr>\n",
       "    <tr>\n",
       "      <th>274</th>\n",
       "      <td>231</td>\n",
       "      <td>Braydon Terrell</td>\n",
       "      <td>Category 3: 'Solid Performer' (High performanc...</td>\n",
       "      <td>Braydon Terrell has been a solid performer for...</td>\n",
       "      <td>False</td>\n",
       "      <td>False</td>\n",
       "      <td>399</td>\n",
       "      <td>Positive Feedback</td>\n",
       "    </tr>\n",
       "    <tr>\n",
       "      <th>810</th>\n",
       "      <td>675</td>\n",
       "      <td>Gavyn Acevedo</td>\n",
       "      <td>Category 9: 'Star' (High performance, High pot...</td>\n",
       "      <td>Gavyn an absolutely employee. His work is alwa...</td>\n",
       "      <td>False</td>\n",
       "      <td>False</td>\n",
       "      <td>382</td>\n",
       "      <td>Positive Feedback</td>\n",
       "    </tr>\n",
       "    <tr>\n",
       "      <th>435</th>\n",
       "      <td>107</td>\n",
       "      <td>Joel Wells</td>\n",
       "      <td>Category 5: 'Core Player' (Moderate performanc...</td>\n",
       "      <td>Joel is an able worker who is yet to really de...</td>\n",
       "      <td>True</td>\n",
       "      <td>True</td>\n",
       "      <td>366</td>\n",
       "      <td>Positive Feedback</td>\n",
       "    </tr>\n",
       "    <tr>\n",
       "      <th>179</th>\n",
       "      <td>154</td>\n",
       "      <td>Amy John</td>\n",
       "      <td>Category 2: 'Average performer' (Moderate perf...</td>\n",
       "      <td>Amy John is dedicated to the work atmosphere a...</td>\n",
       "      <td>False</td>\n",
       "      <td>False</td>\n",
       "      <td>495</td>\n",
       "      <td>Negative Feedback</td>\n",
       "    </tr>\n",
       "    <tr>\n",
       "      <th>182</th>\n",
       "      <td>159</td>\n",
       "      <td>Joel Wells</td>\n",
       "      <td>Category 2: 'Average performer' (Moderate perf...</td>\n",
       "      <td>When Joel is engaged in his  work,he can be ve...</td>\n",
       "      <td>False</td>\n",
       "      <td>False</td>\n",
       "      <td>196</td>\n",
       "      <td>Negative Feedback</td>\n",
       "    </tr>\n",
       "    <tr>\n",
       "      <th>836</th>\n",
       "      <td>701</td>\n",
       "      <td>Emilie Carroll</td>\n",
       "      <td>Category 9: 'Star' (High performance, High pot...</td>\n",
       "      <td>Emilie has quickly made her self an important ...</td>\n",
       "      <td>False</td>\n",
       "      <td>False</td>\n",
       "      <td>455</td>\n",
       "      <td>Positive Feedback</td>\n",
       "    </tr>\n",
       "    <tr>\n",
       "      <th>579</th>\n",
       "      <td>453</td>\n",
       "      <td>Madison Hawkins</td>\n",
       "      <td>Category 6: 'High Performer' (High performance...</td>\n",
       "      <td>Madison Hawkins continuously goes above and be...</td>\n",
       "      <td>False</td>\n",
       "      <td>False</td>\n",
       "      <td>386</td>\n",
       "      <td>Positive Feedback</td>\n",
       "    </tr>\n",
       "    <tr>\n",
       "      <th>624</th>\n",
       "      <td>10149</td>\n",
       "      <td>Bethany Cunningham</td>\n",
       "      <td>Category 6: 'High Performer' (High performance...</td>\n",
       "      <td>Bethany shows great character and is very effi...</td>\n",
       "      <td>False</td>\n",
       "      <td>False</td>\n",
       "      <td>475</td>\n",
       "      <td>Positive Feedback</td>\n",
       "    </tr>\n",
       "  </tbody>\n",
       "</table>\n",
       "</div>"
      ],
      "text/plain": [
       "        id         person_name  \\\n",
       "135     96       Bailey Hunter   \n",
       "812    677     Chelsea Stevens   \n",
       "274    231     Braydon Terrell   \n",
       "810    675       Gavyn Acevedo   \n",
       "435    107          Joel Wells   \n",
       "179    154            Amy John   \n",
       "182    159          Joel Wells   \n",
       "836    701      Emilie Carroll   \n",
       "579    453     Madison Hawkins   \n",
       "624  10149  Bethany Cunningham   \n",
       "\n",
       "                                     nine_box_category  \\\n",
       "135  Category 2: 'Average performer' (Moderate perf...   \n",
       "812  Category 9: 'Star' (High performance, High pot...   \n",
       "274  Category 3: 'Solid Performer' (High performanc...   \n",
       "810  Category 9: 'Star' (High performance, High pot...   \n",
       "435  Category 5: 'Core Player' (Moderate performanc...   \n",
       "179  Category 2: 'Average performer' (Moderate perf...   \n",
       "182  Category 2: 'Average performer' (Moderate perf...   \n",
       "836  Category 9: 'Star' (High performance, High pot...   \n",
       "579  Category 6: 'High Performer' (High performance...   \n",
       "624  Category 6: 'High Performer' (High performance...   \n",
       "\n",
       "                                              feedback  adjusted  reviewed  \\\n",
       "135  Bailey has always been an average worker, noti...     False     False   \n",
       "812  Chelsea Stevens is an ideal employee. She deli...     False     False   \n",
       "274  Braydon Terrell has been a solid performer for...     False     False   \n",
       "810  Gavyn an absolutely employee. His work is alwa...     False     False   \n",
       "435  Joel is an able worker who is yet to really de...      True      True   \n",
       "179  Amy John is dedicated to the work atmosphere a...     False     False   \n",
       "182  When Joel is engaged in his  work,he can be ve...     False     False   \n",
       "836  Emilie has quickly made her self an important ...     False     False   \n",
       "579  Madison Hawkins continuously goes above and be...     False     False   \n",
       "624  Bethany shows great character and is very effi...     False     False   \n",
       "\n",
       "     length feedback_sentiment  \n",
       "135     118  Negative Feedback  \n",
       "812     204  Positive Feedback  \n",
       "274     399  Positive Feedback  \n",
       "810     382  Positive Feedback  \n",
       "435     366  Positive Feedback  \n",
       "179     495  Negative Feedback  \n",
       "182     196  Negative Feedback  \n",
       "836     455  Positive Feedback  \n",
       "579     386  Positive Feedback  \n",
       "624     475  Positive Feedback  "
      ]
     },
     "execution_count": 22,
     "metadata": {},
     "output_type": "execute_result"
    }
   ],
   "source": [
    "employees.sample(10)"
   ]
  },
  {
   "cell_type": "code",
   "execution_count": 23,
   "id": "d18c9683",
   "metadata": {},
   "outputs": [
    {
     "data": {
      "text/plain": [
       "<AxesSubplot:xlabel='feedback_sentiment', ylabel='nine_box_category'>"
      ]
     },
     "execution_count": 23,
     "metadata": {},
     "output_type": "execute_result"
    },
    {
     "data": {
      "image/png": "[encoded data removed]",
      "text/plain": [
       "<Figure size 432x288 with 1 Axes>"
      ]
     },
     "metadata": {
      "needs_background": "light"
     },
     "output_type": "display_data"
    }
   ],
   "source": [
    "sns.stripplot(x='feedback_sentiment',y='nine_box_category',data=employees,palette='rainbow')"
   ]
  },
  {
   "cell_type": "code",
   "execution_count": 24,
   "id": "d460ce72",
   "metadata": {},
   "outputs": [
    {
     "data": {
      "application/vnd.plotly.v1+json": {
       "config": {
        "linkText": "Export to plot.ly",
        "plotlyServerURL": "https://plot.ly",
        "showLink": true
       },
       "data": [
        {
         "histfunc": "count",
         "histnorm": "",
         "marker": {
          "color": "rgba(55, 128, 191, 1.0)",
          "line": {
           "color": "#000000",
           "width": 1.3
          }
         },
         "name": "feedback_sentiment",
         "opacity": 0.8,
         "orientation": "v",
         "type": "histogram",
         "x": [
          "Negative Feedback",
          "Negative Feedback",
          "Negative Feedback",
          "Negative Feedback",
          "Negative Feedback",
          "Negative Feedback",
          "Negative Feedback",
          "Negative Feedback",
          "Negative Feedback",
          "Negative Feedback",
          "Negative Feedback",
          "Negative Feedback",
          "Negative Feedback",
          "Negative Feedback",
          "Negative Feedback",
          "Negative Feedback",
          "Negative Feedback",
          "Negative Feedback",
          "Negative Feedback",
          "Negative Feedback",
          "Negative Feedback",
          "Negative Feedback",
          "Negative Feedback",
          "Negative Feedback",
          "Negative Feedback",
          "Negative Feedback",
          "Negative Feedback",
          "Negative Feedback",
          "Negative Feedback",
          "Negative Feedback",
          "Negative Feedback",
          "Negative Feedback",
          "Negative Feedback",
          "Negative Feedback",
          "Negative Feedback",
          "Negative Feedback",
          "Negative Feedback",
          "Negative Feedback",
          "Negative Feedback",
          "Negative Feedback",
          "Negative Feedback",
          "Negative Feedback",
          "Negative Feedback",
          "Negative Feedback",
          "Negative Feedback",
          "Negative Feedback",
          "Negative Feedback",
          "Negative Feedback",
          "Negative Feedback",
          "Negative Feedback",
          "Negative Feedback",
          "Negative Feedback",
          "Negative Feedback",
          "Negative Feedback",
          "Negative Feedback",
          "Negative Feedback",
          "Negative Feedback",
          "Negative Feedback",
          "Negative Feedback",
          "Negative Feedback",
          "Negative Feedback",
          "Negative Feedback",
          "Negative Feedback",
          "Negative Feedback",
          "Negative Feedback",
          "Negative Feedback",
          "Negative Feedback",
          "Negative Feedback",
          "Negative Feedback",
          "Negative Feedback",
          "Negative Feedback",
          "Negative Feedback",
          "Negative Feedback",
          "Negative Feedback",
          "Negative Feedback",
          "Negative Feedback",
          "Negative Feedback",
          "Negative Feedback",
          "Negative Feedback",
          "Negative Feedback",
          "Negative Feedback",
          "Negative Feedback",
          "Negative Feedback",
          "Negative Feedback",
          "Negative Feedback",
          "Negative Feedback",
          "Negative Feedback",
          "Negative Feedback",
          "Negative Feedback",
          "Negative Feedback",
          "Negative Feedback",
          "Negative Feedback",
          "Negative Feedback",
          "Negative Feedback",
          "Negative Feedback",
          "Negative Feedback",
          "Negative Feedback",
          "Negative Feedback",
          "Negative Feedback",
          "Negative Feedback",
          "Negative Feedback",
          "Negative Feedback",
          "Negative Feedback",
          "Negative Feedback",
          "Negative Feedback",
          "Negative Feedback",
          "Negative Feedback",
          "Negative Feedback",
          "Negative Feedback",
          "Negative Feedback",
          "Negative Feedback",
          "Negative Feedback",
          "Negative Feedback",
          "Negative Feedback",
          "Negative Feedback",
          "Negative Feedback",
          "Negative Feedback",
          "Negative Feedback",
          "Negative Feedback",
          "Negative Feedback",
          "Negative Feedback",
          "Negative Feedback",
          "Negative Feedback",
          "Negative Feedback",
          "Negative Feedback",
          "Negative Feedback",
          "Negative Feedback",
          "Negative Feedback",
          "Negative Feedback",
          "Negative Feedback",
          "Negative Feedback",
          "Negative Feedback",
          "Negative Feedback",
          "Negative Feedback",
          "Negative Feedback",
          "Negative Feedback",
          "Negative Feedback",
          "Negative Feedback",
          "Negative Feedback",
          "Negative Feedback",
          "Negative Feedback",
          "Negative Feedback",
          "Negative Feedback",
          "Negative Feedback",
          "Negative Feedback",
          "Negative Feedback",
          "Negative Feedback",
          "Negative Feedback",
          "Negative Feedback",
          "Negative Feedback",
          "Negative Feedback",
          "Negative Feedback",
          "Negative Feedback",
          "Negative Feedback",
          "Negative Feedback",
          "Negative Feedback",
          "Negative Feedback",
          "Negative Feedback",
          "Negative Feedback",
          "Negative Feedback",
          "Negative Feedback",
          "Negative Feedback",
          "Negative Feedback",
          "Negative Feedback",
          "Negative Feedback",
          "Negative Feedback",
          "Negative Feedback",
          "Negative Feedback",
          "Negative Feedback",
          "Negative Feedback",
          "Negative Feedback",
          "Negative Feedback",
          "Negative Feedback",
          "Negative Feedback",
          "Negative Feedback",
          "Negative Feedback",
          "Negative Feedback",
          "Negative Feedback",
          "Negative Feedback",
          "Negative Feedback",
          "Negative Feedback",
          "Negative Feedback",
          "Negative Feedback",
          "Negative Feedback",
          "Negative Feedback",
          "Negative Feedback",
          "Negative Feedback",
          "Negative Feedback",
          "Negative Feedback",
          "Negative Feedback",
          "Negative Feedback",
          "Negative Feedback",
          "Negative Feedback",
          "Negative Feedback",
          "Negative Feedback",
          "Negative Feedback",
          "Negative Feedback",
          "Negative Feedback",
          "Negative Feedback",
          "Negative Feedback",
          "Negative Feedback",
          "Negative Feedback",
          "Negative Feedback",
          "Negative Feedback",
          "Negative Feedback",
          "Negative Feedback",
          "Negative Feedback",
          "Negative Feedback",
          "Negative Feedback",
          "Negative Feedback",
          "Negative Feedback",
          "Negative Feedback",
          "Negative Feedback",
          "Negative Feedback",
          "Negative Feedback",
          "Negative Feedback",
          "Negative Feedback",
          "Negative Feedback",
          "Negative Feedback",
          "Negative Feedback",
          "Negative Feedback",
          "Negative Feedback",
          "Negative Feedback",
          "Negative Feedback",
          "Negative Feedback",
          "Negative Feedback",
          "Negative Feedback",
          "Negative Feedback",
          "Negative Feedback",
          "Negative Feedback",
          "Negative Feedback",
          "Negative Feedback",
          "Positive Feedback",
          "Positive Feedback",
          "Positive Feedback",
          "Positive Feedback",
          "Positive Feedback",
          "Positive Feedback",
          "Positive Feedback",
          "Positive Feedback",
          "Positive Feedback",
          "Positive Feedback",
          "Positive Feedback",
          "Positive Feedback",
          "Positive Feedback",
          "Positive Feedback",
          "Positive Feedback",
          "Positive Feedback",
          "Positive Feedback",
          "Positive Feedback",
          "Positive Feedback",
          "Positive Feedback",
          "Positive Feedback",
          "Positive Feedback",
          "Positive Feedback",
          "Positive Feedback",
          "Positive Feedback",
          "Positive Feedback",
          "Positive Feedback",
          "Positive Feedback",
          "Positive Feedback",
          "Positive Feedback",
          "Positive Feedback",
          "Positive Feedback",
          "Positive Feedback",
          "Positive Feedback",
          "Positive Feedback",
          "Positive Feedback",
          "Positive Feedback",
          "Positive Feedback",
          "Positive Feedback",
          "Positive Feedback",
          "Positive Feedback",
          "Positive Feedback",
          "Positive Feedback",
          "Positive Feedback",
          "Positive Feedback",
          "Positive Feedback",
          "Positive Feedback",
          "Positive Feedback",
          "Positive Feedback",
          "Positive Feedback",
          "Positive Feedback",
          "Positive Feedback",
          "Positive Feedback",
          "Positive Feedback",
          "Positive Feedback",
          "Positive Feedback",
          "Positive Feedback",
          "Positive Feedback",
          "Positive Feedback",
          "Positive Feedback",
          "Positive Feedback",
          "Positive Feedback",
          "Positive Feedback",
          "Positive Feedback",
          "Positive Feedback",
          "Positive Feedback",
          "Positive Feedback",
          "Positive Feedback",
          "Positive Feedback",
          "Positive Feedback",
          "Positive Feedback",
          "Positive Feedback",
          "Positive Feedback",
          "Positive Feedback",
          "Positive Feedback",
          "Positive Feedback",
          "Positive Feedback",
          "Positive Feedback",
          "Positive Feedback",
          "Positive Feedback",
          "Positive Feedback",
          "Positive Feedback",
          "Positive Feedback",
          "Positive Feedback",
          "Positive Feedback",
          "Positive Feedback",
          "Positive Feedback",
          "Positive Feedback",
          "Positive Feedback",
          "Negative Feedback",
          "Negative Feedback",
          "Negative Feedback",
          "Negative Feedback",
          "Negative Feedback",
          "Negative Feedback",
          "Negative Feedback",
          "Negative Feedback",
          "Negative Feedback",
          "Negative Feedback",
          "Negative Feedback",
          "Negative Feedback",
          "Negative Feedback",
          "Negative Feedback",
          "Negative Feedback",
          "Negative Feedback",
          "Negative Feedback",
          "Negative Feedback",
          "Negative Feedback",
          "Negative Feedback",
          "Negative Feedback",
          "Negative Feedback",
          "Negative Feedback",
          "Negative Feedback",
          "Negative Feedback",
          "Negative Feedback",
          "Negative Feedback",
          "Negative Feedback",
          "Negative Feedback",
          "Negative Feedback",
          "Negative Feedback",
          "Negative Feedback",
          "Negative Feedback",
          "Negative Feedback",
          "Negative Feedback",
          "Negative Feedback",
          "Negative Feedback",
          "Negative Feedback",
          "Negative Feedback",
          "Negative Feedback",
          "Negative Feedback",
          "Negative Feedback",
          "Negative Feedback",
          "Negative Feedback",
          "Negative Feedback",
          "Negative Feedback",
          "Negative Feedback",
          "Negative Feedback",
          "Negative Feedback",
          "Negative Feedback",
          "Negative Feedback",
          "Negative Feedback",
          "Negative Feedback",
          "Negative Feedback",
          "Negative Feedback",
          "Negative Feedback",
          "Negative Feedback",
          "Negative Feedback",
          "Negative Feedback",
          "Negative Feedback",
          "Negative Feedback",
          "Negative Feedback",
          "Negative Feedback",
          "Negative Feedback",
          "Negative Feedback",
          "Negative Feedback",
          "Negative Feedback",
          "Negative Feedback",
          "Negative Feedback",
          "Negative Feedback",
          "Negative Feedback",
          "Negative Feedback",
          "Negative Feedback",
          "Negative Feedback",
          "Negative Feedback",
          "Negative Feedback",
          "Negative Feedback",
          "Negative Feedback",
          "Negative Feedback",
          "Negative Feedback",
          "Negative Feedback",
          "Negative Feedback",
          "Negative Feedback",
          "Negative Feedback",
          "Negative Feedback",
          "Negative Feedback",
          "Negative Feedback",
          "Negative Feedback",
          "Negative Feedback",
          "Negative Feedback",
          "Negative Feedback",
          "Negative Feedback",
          "Negative Feedback",
          "Negative Feedback",
          "Negative Feedback",
          "Negative Feedback",
          "Negative Feedback",
          "Negative Feedback",
          "Negative Feedback",
          "Negative Feedback",
          "Negative Feedback",
          "Negative Feedback",
          "Negative Feedback",
          "Negative Feedback",
          "Negative Feedback",
          "Negative Feedback",
          "Negative Feedback",
          "Negative Feedback",
          "Negative Feedback",
          "Negative Feedback",
          "Negative Feedback",
          "Negative Feedback",
          "Negative Feedback",
          "Positive Feedback",
          "Positive Feedback",
          "Positive Feedback",
          "Positive Feedback",
          "Positive Feedback",
          "Positive Feedback",
          "Positive Feedback",
          "Positive Feedback",
          "Positive Feedback",
          "Positive Feedback",
          "Positive Feedback",
          "Positive Feedback",
          "Positive Feedback",
          "Positive Feedback",
          "Positive Feedback",
          "Positive Feedback",
          "Positive Feedback",
          "Positive Feedback",
          "Positive Feedback",
          "Positive Feedback",
          "Positive Feedback",
          "Positive Feedback",
          "Positive Feedback",
          "Positive Feedback",
          "Positive Feedback",
          "Positive Feedback",
          "Positive Feedback",
          "Positive Feedback",
          "Positive Feedback",
          "Positive Feedback",
          "Positive Feedback",
          "Positive Feedback",
          "Positive Feedback",
          "Positive Feedback",
          "Positive Feedback",
          "Positive Feedback",
          "Positive Feedback",
          "Positive Feedback",
          "Positive Feedback",
          "Positive Feedback",
          "Positive Feedback",
          "Positive Feedback",
          "Positive Feedback",
          "Positive Feedback",
          "Positive Feedback",
          "Positive Feedback",
          "Positive Feedback",
          "Positive Feedback",
          "Positive Feedback",
          "Positive Feedback",
          "Positive Feedback",
          "Positive Feedback",
          "Positive Feedback",
          "Positive Feedback",
          "Positive Feedback",
          "Positive Feedback",
          "Positive Feedback",
          "Positive Feedback",
          "Positive Feedback",
          "Positive Feedback",
          "Positive Feedback",
          "Positive Feedback",
          "Positive Feedback",
          "Positive Feedback",
          "Positive Feedback",
          "Positive Feedback",
          "Positive Feedback",
          "Positive Feedback",
          "Positive Feedback",
          "Positive Feedback",
          "Positive Feedback",
          "Positive Feedback",
          "Positive Feedback",
          "Positive Feedback",
          "Positive Feedback",
          "Positive Feedback",
          "Positive Feedback",
          "Positive Feedback",
          "Positive Feedback",
          "Positive Feedback",
          "Positive Feedback",
          "Positive Feedback",
          "Positive Feedback",
          "Positive Feedback",
          "Positive Feedback",
          "Positive Feedback",
          "Positive Feedback",
          "Positive Feedback",
          "Positive Feedback",
          "Positive Feedback",
          "Positive Feedback",
          "Positive Feedback",
          "Positive Feedback",
          "Positive Feedback",
          "Positive Feedback",
          "Positive Feedback",
          "Positive Feedback",
          "Positive Feedback",
          "Positive Feedback",
          "Positive Feedback",
          "Positive Feedback",
          "Positive Feedback",
          "Positive Feedback",
          "Positive Feedback",
          "Positive Feedback",
          "Positive Feedback",
          "Positive Feedback",
          "Positive Feedback",
          "Positive Feedback",
          "Positive Feedback",
          "Positive Feedback",
          "Positive Feedback",
          "Positive Feedback",
          "Positive Feedback",
          "Positive Feedback",
          "Positive Feedback",
          "Positive Feedback",
          "Positive Feedback",
          "Positive Feedback",
          "Positive Feedback",
          "Positive Feedback",
          "Positive Feedback",
          "Positive Feedback",
          "Positive Feedback",
          "Positive Feedback",
          "Positive Feedback",
          "Positive Feedback",
          "Positive Feedback",
          "Positive Feedback",
          "Positive Feedback",
          "Positive Feedback",
          "Positive Feedback",
          "Positive Feedback",
          "Positive Feedback",
          "Positive Feedback",
          "Positive Feedback",
          "Positive Feedback",
          "Positive Feedback",
          "Positive Feedback",
          "Positive Feedback",
          "Positive Feedback",
          "Positive Feedback",
          "Positive Feedback",
          "Positive Feedback",
          "Positive Feedback",
          "Positive Feedback",
          "Positive Feedback",
          "Positive Feedback",
          "Positive Feedback",
          "Positive Feedback",
          "Positive Feedback",
          "Positive Feedback",
          "Positive Feedback",
          "Positive Feedback",
          "Positive Feedback",
          "Positive Feedback",
          "Positive Feedback",
          "Positive Feedback",
          "Positive Feedback",
          "Positive Feedback",
          "Positive Feedback",
          "Positive Feedback",
          "Positive Feedback",
          "Positive Feedback",
          "Positive Feedback",
          "Positive Feedback",
          "Positive Feedback",
          "Positive Feedback",
          "Positive Feedback",
          "Positive Feedback",
          "Positive Feedback",
          "Positive Feedback",
          "Positive Feedback",
          "Positive Feedback",
          "Positive Feedback",
          "Positive Feedback",
          "Positive Feedback",
          "Positive Feedback",
          "Positive Feedback",
          "Positive Feedback",
          "Positive Feedback",
          "Positive Feedback",
          "Positive Feedback",
          "Positive Feedback",
          "Positive Feedback",
          "Positive Feedback",
          "Positive Feedback",
          "Positive Feedback",
          "Positive Feedback",
          "Positive Feedback",
          "Positive Feedback",
          "Positive Feedback",
          "Positive Feedback",
          "Positive Feedback",
          "Positive Feedback",
          "Positive Feedback",
          "Positive Feedback",
          "Positive Feedback",
          "Positive Feedback",
          "Positive Feedback",
          "Positive Feedback",
          "Positive Feedback",
          "Positive Feedback",
          "Negative Feedback",
          "Negative Feedback",
          "Negative Feedback",
          "Negative Feedback",
          "Negative Feedback",
          "Negative Feedback",
          "Negative Feedback",
          "Negative Feedback",
          "Negative Feedback",
          "Negative Feedback",
          "Negative Feedback",
          "Negative Feedback",
          "Negative Feedback",
          "Negative Feedback",
          "Negative Feedback",
          "Negative Feedback",
          "Negative Feedback",
          "Negative Feedback",
          "Negative Feedback",
          "Negative Feedback",
          "Negative Feedback",
          "Negative Feedback",
          "Negative Feedback",
          "Negative Feedback",
          "Negative Feedback",
          "Negative Feedback",
          "Negative Feedback",
          "Negative Feedback",
          "Negative Feedback",
          "Negative Feedback",
          "Negative Feedback",
          "Negative Feedback",
          "Negative Feedback",
          "Negative Feedback",
          "Negative Feedback",
          "Negative Feedback",
          "Negative Feedback",
          "Negative Feedback",
          "Negative Feedback",
          "Negative Feedback",
          "Negative Feedback",
          "Positive Feedback",
          "Positive Feedback",
          "Positive Feedback",
          "Positive Feedback",
          "Positive Feedback",
          "Positive Feedback",
          "Positive Feedback",
          "Positive Feedback",
          "Positive Feedback",
          "Positive Feedback",
          "Positive Feedback",
          "Positive Feedback",
          "Positive Feedback",
          "Positive Feedback",
          "Positive Feedback",
          "Positive Feedback",
          "Positive Feedback",
          "Positive Feedback",
          "Positive Feedback",
          "Positive Feedback",
          "Positive Feedback",
          "Positive Feedback",
          "Positive Feedback",
          "Positive Feedback",
          "Positive Feedback",
          "Positive Feedback",
          "Positive Feedback",
          "Positive Feedback",
          "Positive Feedback",
          "Positive Feedback",
          "Positive Feedback",
          "Positive Feedback",
          "Positive Feedback",
          "Positive Feedback",
          "Positive Feedback",
          "Positive Feedback",
          "Positive Feedback",
          "Positive Feedback",
          "Positive Feedback",
          "Positive Feedback",
          "Positive Feedback",
          "Positive Feedback",
          "Positive Feedback",
          "Positive Feedback",
          "Positive Feedback",
          "Positive Feedback",
          "Positive Feedback",
          "Positive Feedback",
          "Positive Feedback",
          "Positive Feedback",
          "Positive Feedback",
          "Positive Feedback",
          "Positive Feedback",
          "Positive Feedback",
          "Positive Feedback",
          "Positive Feedback",
          "Positive Feedback",
          "Positive Feedback",
          "Positive Feedback",
          "Positive Feedback",
          "Positive Feedback",
          "Positive Feedback",
          "Positive Feedback",
          "Positive Feedback",
          "Positive Feedback",
          "Positive Feedback",
          "Positive Feedback",
          "Positive Feedback",
          "Positive Feedback",
          "Positive Feedback",
          "Positive Feedback",
          "Positive Feedback",
          "Positive Feedback",
          "Positive Feedback",
          "Positive Feedback",
          "Positive Feedback",
          "Positive Feedback",
          "Positive Feedback",
          "Positive Feedback",
          "Positive Feedback",
          "Positive Feedback",
          "Positive Feedback",
          "Positive Feedback",
          "Positive Feedback",
          "Positive Feedback",
          "Positive Feedback",
          "Positive Feedback",
          "Positive Feedback",
          "Positive Feedback",
          "Positive Feedback",
          "Positive Feedback",
          "Positive Feedback",
          "Positive Feedback",
          "Positive Feedback",
          "Positive Feedback",
          "Positive Feedback",
          "Positive Feedback",
          "Positive Feedback",
          "Positive Feedback",
          "Positive Feedback",
          "Positive Feedback",
          "Positive Feedback",
          "Positive Feedback",
          "Positive Feedback",
          "Positive Feedback",
          "Positive Feedback",
          "Positive Feedback",
          "Positive Feedback",
          "Positive Feedback",
          "Positive Feedback",
          "Positive Feedback",
          "Positive Feedback",
          "Positive Feedback",
          "Positive Feedback",
          "Positive Feedback",
          "Positive Feedback",
          "Positive Feedback",
          "Positive Feedback",
          "Positive Feedback",
          "Positive Feedback",
          "Positive Feedback",
          "Positive Feedback",
          "Positive Feedback",
          "Positive Feedback",
          "Positive Feedback",
          "Positive Feedback",
          "Positive Feedback",
          "Positive Feedback",
          "Positive Feedback",
          "Positive Feedback",
          "Positive Feedback",
          "Positive Feedback",
          "Positive Feedback",
          "Positive Feedback",
          "Positive Feedback",
          "Positive Feedback",
          "Positive Feedback",
          "Positive Feedback",
          "Positive Feedback",
          "Positive Feedback",
          "Positive Feedback",
          "Positive Feedback",
          "Positive Feedback",
          "Positive Feedback",
          "Positive Feedback",
          "Positive Feedback",
          "Positive Feedback",
          "Positive Feedback",
          "Positive Feedback",
          "Positive Feedback",
          "Positive Feedback",
          "Positive Feedback",
          "Positive Feedback",
          "Positive Feedback",
          "Positive Feedback",
          "Positive Feedback",
          "Positive Feedback",
          "Positive Feedback",
          "Positive Feedback",
          "Positive Feedback",
          "Positive Feedback",
          "Positive Feedback",
          "Positive Feedback",
          "Positive Feedback",
          "Positive Feedback",
          "Positive Feedback",
          "Positive Feedback",
          "Positive Feedback",
          "Positive Feedback",
          "Positive Feedback",
          "Positive Feedback",
          "Positive Feedback",
          "Positive Feedback",
          "Positive Feedback",
          "Positive Feedback",
          "Positive Feedback",
          "Positive Feedback",
          "Positive Feedback",
          "Positive Feedback",
          "Positive Feedback",
          "Positive Feedback",
          "Positive Feedback",
          "Positive Feedback",
          "Positive Feedback",
          "Positive Feedback",
          "Positive Feedback",
          "Positive Feedback",
          "Positive Feedback",
          "Positive Feedback",
          "Positive Feedback",
          "Positive Feedback",
          "Positive Feedback",
          "Positive Feedback",
          "Positive Feedback",
          "Positive Feedback",
          "Positive Feedback",
          "Positive Feedback",
          "Positive Feedback",
          "Positive Feedback",
          "Positive Feedback"
         ]
        }
       ],
       "layout": {
        "barmode": "overlay",
        "legend": {
         "bgcolor": "#F5F6F9",
         "font": {
          "color": "#4D5663"
         }
        },
        "paper_bgcolor": "#F5F6F9",
        "plot_bgcolor": "#F5F6F9",
        "template": {
         "data": {
          "bar": [
           {
            "error_x": {
             "color": "#2a3f5f"
            },
            "error_y": {
             "color": "#2a3f5f"
            },
            "marker": {
             "line": {
              "color": "#E5ECF6",
              "width": 0.5
             },
             "pattern": {
              "fillmode": "overlay",
              "size": 10,
              "solidity": 0.2
             }
            },
            "type": "bar"
           }
          ],
          "barpolar": [
           {
            "marker": {
             "line": {
              "color": "#E5ECF6",
              "width": 0.5
             },
             "pattern": {
              "fillmode": "overlay",
              "size": 10,
              "solidity": 0.2
             }
            },
            "type": "barpolar"
           }
          ],
          "carpet": [
           {
            "aaxis": {
             "endlinecolor": "#2a3f5f",
             "gridcolor": "white",
             "linecolor": "white",
             "minorgridcolor": "white",
             "startlinecolor": "#2a3f5f"
            },
            "baxis": {
             "endlinecolor": "#2a3f5f",
             "gridcolor": "white",
             "linecolor": "white",
             "minorgridcolor": "white",
             "startlinecolor": "#2a3f5f"
            },
            "type": "carpet"
           }
          ],
          "choropleth": [
           {
            "colorbar": {
             "outlinewidth": 0,
             "ticks": ""
            },
            "type": "choropleth"
           }
          ],
          "contour": [
           {
            "colorbar": {
             "outlinewidth": 0,
             "ticks": ""
            },
            "colorscale": [
             [
              0,
              "#0d0887"
             ],
             [
              0.1111111111111111,
              "#46039f"
             ],
             [
              0.2222222222222222,
              "#7201a8"
             ],
             [
              0.3333333333333333,
              "#9c179e"
             ],
             [
              0.4444444444444444,
              "#bd3786"
             ],
             [
              0.5555555555555556,
              "#d8576b"
             ],
             [
              0.6666666666666666,
              "#ed7953"
             ],
             [
              0.7777777777777778,
              "#fb9f3a"
             ],
             [
              0.8888888888888888,
              "#fdca26"
             ],
             [
              1,
              "#f0f921"
             ]
            ],
            "type": "contour"
           }
          ],
          "contourcarpet": [
           {
            "colorbar": {
             "outlinewidth": 0,
             "ticks": ""
            },
            "type": "contourcarpet"
           }
          ],
          "heatmap": [
           {
            "colorbar": {
             "outlinewidth": 0,
             "ticks": ""
            },
            "colorscale": [
             [
              0,
              "#0d0887"
             ],
             [
              0.1111111111111111,
              "#46039f"
             ],
             [
              0.2222222222222222,
              "#7201a8"
             ],
             [
              0.3333333333333333,
              "#9c179e"
             ],
             [
              0.4444444444444444,
              "#bd3786"
             ],
             [
              0.5555555555555556,
              "#d8576b"
             ],
             [
              0.6666666666666666,
              "#ed7953"
             ],
             [
              0.7777777777777778,
              "#fb9f3a"
             ],
             [
              0.8888888888888888,
              "#fdca26"
             ],
             [
              1,
              "#f0f921"
             ]
            ],
            "type": "heatmap"
           }
          ],
          "heatmapgl": [
           {
            "colorbar": {
             "outlinewidth": 0,
             "ticks": ""
            },
            "colorscale": [
             [
              0,
              "#0d0887"
             ],
             [
              0.1111111111111111,
              "#46039f"
             ],
             [
              0.2222222222222222,
              "#7201a8"
             ],
             [
              0.3333333333333333,
              "#9c179e"
             ],
             [
              0.4444444444444444,
              "#bd3786"
             ],
             [
              0.5555555555555556,
              "#d8576b"
             ],
             [
              0.6666666666666666,
              "#ed7953"
             ],
             [
              0.7777777777777778,
              "#fb9f3a"
             ],
             [
              0.8888888888888888,
              "#fdca26"
             ],
             [
              1,
              "#f0f921"
             ]
            ],
            "type": "heatmapgl"
           }
          ],
          "histogram": [
           {
            "marker": {
             "pattern": {
              "fillmode": "overlay",
              "size": 10,
              "solidity": 0.2
             }
            },
            "type": "histogram"
           }
          ],
          "histogram2d": [
           {
            "colorbar": {
             "outlinewidth": 0,
             "ticks": ""
            },
            "colorscale": [
             [
              0,
              "#0d0887"
             ],
             [
              0.1111111111111111,
              "#46039f"
             ],
             [
              0.2222222222222222,
              "#7201a8"
             ],
             [
              0.3333333333333333,
              "#9c179e"
             ],
             [
              0.4444444444444444,
              "#bd3786"
             ],
             [
              0.5555555555555556,
              "#d8576b"
             ],
             [
              0.6666666666666666,
              "#ed7953"
             ],
             [
              0.7777777777777778,
              "#fb9f3a"
             ],
             [
              0.8888888888888888,
              "#fdca26"
             ],
             [
              1,
              "#f0f921"
             ]
            ],
            "type": "histogram2d"
           }
          ],
          "histogram2dcontour": [
           {
            "colorbar": {
             "outlinewidth": 0,
             "ticks": ""
            },
            "colorscale": [
             [
              0,
              "#0d0887"
             ],
             [
              0.1111111111111111,
              "#46039f"
             ],
             [
              0.2222222222222222,
              "#7201a8"
             ],
             [
              0.3333333333333333,
              "#9c179e"
             ],
             [
              0.4444444444444444,
              "#bd3786"
             ],
             [
              0.5555555555555556,
              "#d8576b"
             ],
             [
              0.6666666666666666,
              "#ed7953"
             ],
             [
              0.7777777777777778,
              "#fb9f3a"
             ],
             [
              0.8888888888888888,
              "#fdca26"
             ],
             [
              1,
              "#f0f921"
             ]
            ],
            "type": "histogram2dcontour"
           }
          ],
          "mesh3d": [
           {
            "colorbar": {
             "outlinewidth": 0,
             "ticks": ""
            },
            "type": "mesh3d"
           }
          ],
          "parcoords": [
           {
            "line": {
             "colorbar": {
              "outlinewidth": 0,
              "ticks": ""
             }
            },
            "type": "parcoords"
           }
          ],
          "pie": [
           {
            "automargin": true,
            "type": "pie"
           }
          ],
          "scatter": [
           {
            "fillpattern": {
             "fillmode": "overlay",
             "size": 10,
             "solidity": 0.2
            },
            "type": "scatter"
           }
          ],
          "scatter3d": [
           {
            "line": {
             "colorbar": {
              "outlinewidth": 0,
              "ticks": ""
             }
            },
            "marker": {
             "colorbar": {
              "outlinewidth": 0,
              "ticks": ""
             }
            },
            "type": "scatter3d"
           }
          ],
          "scattercarpet": [
           {
            "marker": {
             "colorbar": {
              "outlinewidth": 0,
              "ticks": ""
             }
            },
            "type": "scattercarpet"
           }
          ],
          "scattergeo": [
           {
            "marker": {
             "colorbar": {
              "outlinewidth": 0,
              "ticks": ""
             }
            },
            "type": "scattergeo"
           }
          ],
          "scattergl": [
           {
            "marker": {
             "colorbar": {
              "outlinewidth": 0,
              "ticks": ""
             }
            },
            "type": "scattergl"
           }
          ],
          "scattermapbox": [
           {
            "marker": {
             "colorbar": {
              "outlinewidth": 0,
              "ticks": ""
             }
            },
            "type": "scattermapbox"
           }
          ],
          "scatterpolar": [
           {
            "marker": {
             "colorbar": {
              "outlinewidth": 0,
              "ticks": ""
             }
            },
            "type": "scatterpolar"
           }
          ],
          "scatterpolargl": [
           {
            "marker": {
             "colorbar": {
              "outlinewidth": 0,
              "ticks": ""
             }
            },
            "type": "scatterpolargl"
           }
          ],
          "scatterternary": [
           {
            "marker": {
             "colorbar": {
              "outlinewidth": 0,
              "ticks": ""
             }
            },
            "type": "scatterternary"
           }
          ],
          "surface": [
           {
            "colorbar": {
             "outlinewidth": 0,
             "ticks": ""
            },
            "colorscale": [
             [
              0,
              "#0d0887"
             ],
             [
              0.1111111111111111,
              "#46039f"
             ],
             [
              0.2222222222222222,
              "#7201a8"
             ],
             [
              0.3333333333333333,
              "#9c179e"
             ],
             [
              0.4444444444444444,
              "#bd3786"
             ],
             [
              0.5555555555555556,
              "#d8576b"
             ],
             [
              0.6666666666666666,
              "#ed7953"
             ],
             [
              0.7777777777777778,
              "#fb9f3a"
             ],
             [
              0.8888888888888888,
              "#fdca26"
             ],
             [
              1,
              "#f0f921"
             ]
            ],
            "type": "surface"
           }
          ],
          "table": [
           {
            "cells": {
             "fill": {
              "color": "#EBF0F8"
             },
             "line": {
              "color": "white"
             }
            },
            "header": {
             "fill": {
              "color": "#C8D4E3"
             },
             "line": {
              "color": "white"
             }
            },
            "type": "table"
           }
          ]
         },
         "layout": {
          "annotationdefaults": {
           "arrowcolor": "#2a3f5f",
           "arrowhead": 0,
           "arrowwidth": 1
          },
          "autotypenumbers": "strict",
          "coloraxis": {
           "colorbar": {
            "outlinewidth": 0,
            "ticks": ""
           }
          },
          "colorscale": {
           "diverging": [
            [
             0,
             "#8e0152"
            ],
            [
             0.1,
             "#c51b7d"
            ],
            [
             0.2,
             "#de77ae"
            ],
            [
             0.3,
             "#f1b6da"
            ],
            [
             0.4,
             "#fde0ef"
            ],
            [
             0.5,
             "#f7f7f7"
            ],
            [
             0.6,
             "#e6f5d0"
            ],
            [
             0.7,
             "#b8e186"
            ],
            [
             0.8,
             "#7fbc41"
            ],
            [
             0.9,
             "#4d9221"
            ],
            [
             1,
             "#276419"
            ]
           ],
           "sequential": [
            [
             0,
             "#0d0887"
            ],
            [
             0.1111111111111111,
             "#46039f"
            ],
            [
             0.2222222222222222,
             "#7201a8"
            ],
            [
             0.3333333333333333,
             "#9c179e"
            ],
            [
             0.4444444444444444,
             "#bd3786"
            ],
            [
             0.5555555555555556,
             "#d8576b"
            ],
            [
             0.6666666666666666,
             "#ed7953"
            ],
            [
             0.7777777777777778,
             "#fb9f3a"
            ],
            [
             0.8888888888888888,
             "#fdca26"
            ],
            [
             1,
             "#f0f921"
            ]
           ],
           "sequentialminus": [
            [
             0,
             "#0d0887"
            ],
            [
             0.1111111111111111,
             "#46039f"
            ],
            [
             0.2222222222222222,
             "#7201a8"
            ],
            [
             0.3333333333333333,
             "#9c179e"
            ],
            [
             0.4444444444444444,
             "#bd3786"
            ],
            [
             0.5555555555555556,
             "#d8576b"
            ],
            [
             0.6666666666666666,
             "#ed7953"
            ],
            [
             0.7777777777777778,
             "#fb9f3a"
            ],
            [
             0.8888888888888888,
             "#fdca26"
            ],
            [
             1,
             "#f0f921"
            ]
           ]
          },
          "colorway": [
           "#636efa",
           "#EF553B",
           "#00cc96",
           "#ab63fa",
           "#FFA15A",
           "#19d3f3",
           "#FF6692",
           "#B6E880",
           "#FF97FF",
           "#FECB52"
          ],
          "font": {
           "color": "#2a3f5f"
          },
          "geo": {
           "bgcolor": "white",
           "lakecolor": "white",
           "landcolor": "#E5ECF6",
           "showlakes": true,
           "showland": true,
           "subunitcolor": "white"
          },
          "hoverlabel": {
           "align": "left"
          },
          "hovermode": "closest",
          "mapbox": {
           "style": "light"
          },
          "paper_bgcolor": "white",
          "plot_bgcolor": "#E5ECF6",
          "polar": {
           "angularaxis": {
            "gridcolor": "white",
            "linecolor": "white",
            "ticks": ""
           },
           "bgcolor": "#E5ECF6",
           "radialaxis": {
            "gridcolor": "white",
            "linecolor": "white",
            "ticks": ""
           }
          },
          "scene": {
           "xaxis": {
            "backgroundcolor": "#E5ECF6",
            "gridcolor": "white",
            "gridwidth": 2,
            "linecolor": "white",
            "showbackground": true,
            "ticks": "",
            "zerolinecolor": "white"
           },
           "yaxis": {
            "backgroundcolor": "#E5ECF6",
            "gridcolor": "white",
            "gridwidth": 2,
            "linecolor": "white",
            "showbackground": true,
            "ticks": "",
            "zerolinecolor": "white"
           },
           "zaxis": {
            "backgroundcolor": "#E5ECF6",
            "gridcolor": "white",
            "gridwidth": 2,
            "linecolor": "white",
            "showbackground": true,
            "ticks": "",
            "zerolinecolor": "white"
           }
          },
          "shapedefaults": {
           "line": {
            "color": "#2a3f5f"
           }
          },
          "ternary": {
           "aaxis": {
            "gridcolor": "white",
            "linecolor": "white",
            "ticks": ""
           },
           "baxis": {
            "gridcolor": "white",
            "linecolor": "white",
            "ticks": ""
           },
           "bgcolor": "#E5ECF6",
           "caxis": {
            "gridcolor": "white",
            "linecolor": "white",
            "ticks": ""
           }
          },
          "title": {
           "x": 0.05
          },
          "xaxis": {
           "automargin": true,
           "gridcolor": "white",
           "linecolor": "white",
           "ticks": "",
           "title": {
            "standoff": 15
           },
           "zerolinecolor": "white",
           "zerolinewidth": 2
          },
          "yaxis": {
           "automargin": true,
           "gridcolor": "white",
           "linecolor": "white",
           "ticks": "",
           "title": {
            "standoff": 15
           },
           "zerolinecolor": "white",
           "zerolinewidth": 2
          }
         }
        },
        "title": {
         "font": {
          "color": "#4D5663"
         },
         "text": "Feedback Rating Distribution"
        },
        "xaxis": {
         "gridcolor": "#E1E5ED",
         "linecolor": "black",
         "showgrid": true,
         "tickfont": {
          "color": "#4D5663"
         },
         "title": {
          "font": {
           "color": "#4D5663"
          },
          "text": "Rating"
         },
         "zerolinecolor": "#E1E5ED"
        },
        "yaxis": {
         "gridcolor": "#E1E5ED",
         "linecolor": "black",
         "showgrid": true,
         "tickfont": {
          "color": "#4D5663"
         },
         "title": {
          "font": {
           "color": "#4D5663"
          },
          "text": "Count"
         },
         "zerolinecolor": "#E1E5ED"
        }
       }
      },
      "text/html": [
       "<div>                            <div id=\"83624937-7b90-458b-b456-9feaaa0fe2b3\" class=\"plotly-graph-div\" style=\"height:525px; width:100%;\"></div>            <script type=\"text/javascript\">                require([\"plotly\"], function(Plotly) {                    window.PLOTLYENV=window.PLOTLYENV || {};\n",
       "                    window.PLOTLYENV.BASE_URL='https://plot.ly';                                    if (document.getElementById(\"83624937-7b90-458b-b456-9feaaa0fe2b3\")) {                    Plotly.newPlot(                        \"83624937-7b90-458b-b456-9feaaa0fe2b3\",                        [{\"histfunc\":\"count\",\"histnorm\":\"\",\"marker\":{\"color\":\"rgba(55, 128, 191, 1.0)\",\"line\":{\"color\":\"#000000\",\"width\":1.3}},\"name\":\"feedback_sentiment\",\"opacity\":0.8,\"orientation\":\"v\",\"x\":[\"Negative Feedback\",\"Negative Feedback\",\"Negative Feedback\",\"Negative Feedback\",\"Negative Feedback\",\"Negative Feedback\",\"Negative Feedback\",\"Negative Feedback\",\"Negative Feedback\",\"Negative Feedback\",\"Negative Feedback\",\"Negative Feedback\",\"Negative Feedback\",\"Negative Feedback\",\"Negative Feedback\",\"Negative Feedback\",\"Negative Feedback\",\"Negative Feedback\",\"Negative Feedback\",\"Negative Feedback\",\"Negative Feedback\",\"Negative Feedback\",\"Negative Feedback\",\"Negative Feedback\",\"Negative Feedback\",\"Negative Feedback\",\"Negative Feedback\",\"Negative Feedback\",\"Negative Feedback\",\"Negative Feedback\",\"Negative Feedback\",\"Negative Feedback\",\"Negative Feedback\",\"Negative Feedback\",\"Negative Feedback\",\"Negative Feedback\",\"Negative Feedback\",\"Negative Feedback\",\"Negative Feedback\",\"Negative Feedback\",\"Negative Feedback\",\"Negative Feedback\",\"Negative Feedback\",\"Negative Feedback\",\"Negative Feedback\",\"Negative Feedback\",\"Negative Feedback\",\"Negative Feedback\",\"Negative Feedback\",\"Negative Feedback\",\"Negative Feedback\",\"Negative Feedback\",\"Negative Feedback\",\"Negative Feedback\",\"Negative Feedback\",\"Negative Feedback\",\"Negative Feedback\",\"Negative Feedback\",\"Negative Feedback\",\"Negative Feedback\",\"Negative Feedback\",\"Negative Feedback\",\"Negative Feedback\",\"Negative Feedback\",\"Negative Feedback\",\"Negative Feedback\",\"Negative Feedback\",\"Negative Feedback\",\"Negative Feedback\",\"Negative Feedback\",\"Negative Feedback\",\"Negative Feedback\",\"Negative Feedback\",\"Negative Feedback\",\"Negative Feedback\",\"Negative Feedback\",\"Negative Feedback\",\"Negative Feedback\",\"Negative Feedback\",\"Negative Feedback\",\"Negative Feedback\",\"Negative Feedback\",\"Negative Feedback\",\"Negative Feedback\",\"Negative Feedback\",\"Negative Feedback\",\"Negative Feedback\",\"Negative Feedback\",\"Negative Feedback\",\"Negative Feedback\",\"Negative Feedback\",\"Negative Feedback\",\"Negative Feedback\",\"Negative Feedback\",\"Negative Feedback\",\"Negative Feedback\",\"Negative Feedback\",\"Negative Feedback\",\"Negative Feedback\",\"Negative Feedback\",\"Negative Feedback\",\"Negative Feedback\",\"Negative Feedback\",\"Negative Feedback\",\"Negative Feedback\",\"Negative Feedback\",\"Negative Feedback\",\"Negative Feedback\",\"Negative Feedback\",\"Negative Feedback\",\"Negative Feedback\",\"Negative Feedback\",\"Negative Feedback\",\"Negative Feedback\",\"Negative Feedback\",\"Negative Feedback\",\"Negative Feedback\",\"Negative Feedback\",\"Negative Feedback\",\"Negative Feedback\",\"Negative Feedback\",\"Negative Feedback\",\"Negative Feedback\",\"Negative Feedback\",\"Negative Feedback\",\"Negative Feedback\",\"Negative Feedback\",\"Negative Feedback\",\"Negative Feedback\",\"Negative Feedback\",\"Negative Feedback\",\"Negative Feedback\",\"Negative Feedback\",\"Negative Feedback\",\"Negative Feedback\",\"Negative Feedback\",\"Negative Feedback\",\"Negative Feedback\",\"Negative Feedback\",\"Negative Feedback\",\"Negative Feedback\",\"Negative Feedback\",\"Negative Feedback\",\"Negative Feedback\",\"Negative Feedback\",\"Negative Feedback\",\"Negative Feedback\",\"Negative Feedback\",\"Negative Feedback\",\"Negative Feedback\",\"Negative Feedback\",\"Negative Feedback\",\"Negative Feedback\",\"Negative Feedback\",\"Negative Feedback\",\"Negative Feedback\",\"Negative Feedback\",\"Negative Feedback\",\"Negative Feedback\",\"Negative Feedback\",\"Negative Feedback\",\"Negative Feedback\",\"Negative Feedback\",\"Negative Feedback\",\"Negative Feedback\",\"Negative Feedback\",\"Negative Feedback\",\"Negative Feedback\",\"Negative Feedback\",\"Negative Feedback\",\"Negative Feedback\",\"Negative Feedback\",\"Negative Feedback\",\"Negative Feedback\",\"Negative Feedback\",\"Negative Feedback\",\"Negative Feedback\",\"Negative Feedback\",\"Negative Feedback\",\"Negative Feedback\",\"Negative Feedback\",\"Negative Feedback\",\"Negative Feedback\",\"Negative Feedback\",\"Negative Feedback\",\"Negative Feedback\",\"Negative Feedback\",\"Negative Feedback\",\"Negative Feedback\",\"Negative Feedback\",\"Negative Feedback\",\"Negative Feedback\",\"Negative Feedback\",\"Negative Feedback\",\"Negative Feedback\",\"Negative Feedback\",\"Negative Feedback\",\"Negative Feedback\",\"Negative Feedback\",\"Negative Feedback\",\"Negative Feedback\",\"Negative Feedback\",\"Negative Feedback\",\"Negative Feedback\",\"Negative Feedback\",\"Negative Feedback\",\"Negative Feedback\",\"Negative Feedback\",\"Negative Feedback\",\"Negative Feedback\",\"Negative Feedback\",\"Negative Feedback\",\"Negative Feedback\",\"Negative Feedback\",\"Negative Feedback\",\"Negative Feedback\",\"Negative Feedback\",\"Negative Feedback\",\"Negative Feedback\",\"Negative Feedback\",\"Negative Feedback\",\"Negative Feedback\",\"Negative Feedback\",\"Negative Feedback\",\"Negative Feedback\",\"Negative Feedback\",\"Negative Feedback\",\"Negative Feedback\",\"Negative Feedback\",\"Negative Feedback\",\"Negative Feedback\",\"Negative Feedback\",\"Positive Feedback\",\"Positive Feedback\",\"Positive Feedback\",\"Positive Feedback\",\"Positive Feedback\",\"Positive Feedback\",\"Positive Feedback\",\"Positive Feedback\",\"Positive Feedback\",\"Positive Feedback\",\"Positive Feedback\",\"Positive Feedback\",\"Positive Feedback\",\"Positive Feedback\",\"Positive Feedback\",\"Positive Feedback\",\"Positive Feedback\",\"Positive Feedback\",\"Positive Feedback\",\"Positive Feedback\",\"Positive Feedback\",\"Positive Feedback\",\"Positive Feedback\",\"Positive Feedback\",\"Positive Feedback\",\"Positive Feedback\",\"Positive Feedback\",\"Positive Feedback\",\"Positive Feedback\",\"Positive Feedback\",\"Positive Feedback\",\"Positive Feedback\",\"Positive Feedback\",\"Positive Feedback\",\"Positive Feedback\",\"Positive Feedback\",\"Positive Feedback\",\"Positive Feedback\",\"Positive Feedback\",\"Positive Feedback\",\"Positive Feedback\",\"Positive Feedback\",\"Positive Feedback\",\"Positive Feedback\",\"Positive Feedback\",\"Positive Feedback\",\"Positive Feedback\",\"Positive Feedback\",\"Positive Feedback\",\"Positive Feedback\",\"Positive Feedback\",\"Positive Feedback\",\"Positive Feedback\",\"Positive Feedback\",\"Positive Feedback\",\"Positive Feedback\",\"Positive Feedback\",\"Positive Feedback\",\"Positive Feedback\",\"Positive Feedback\",\"Positive Feedback\",\"Positive Feedback\",\"Positive Feedback\",\"Positive Feedback\",\"Positive Feedback\",\"Positive Feedback\",\"Positive Feedback\",\"Positive Feedback\",\"Positive Feedback\",\"Positive Feedback\",\"Positive Feedback\",\"Positive Feedback\",\"Positive Feedback\",\"Positive Feedback\",\"Positive Feedback\",\"Positive Feedback\",\"Positive Feedback\",\"Positive Feedback\",\"Positive Feedback\",\"Positive Feedback\",\"Positive Feedback\",\"Positive Feedback\",\"Positive Feedback\",\"Positive Feedback\",\"Positive Feedback\",\"Positive Feedback\",\"Positive Feedback\",\"Positive Feedback\",\"Positive Feedback\",\"Negative Feedback\",\"Negative Feedback\",\"Negative Feedback\",\"Negative Feedback\",\"Negative Feedback\",\"Negative Feedback\",\"Negative Feedback\",\"Negative Feedback\",\"Negative Feedback\",\"Negative Feedback\",\"Negative Feedback\",\"Negative Feedback\",\"Negative Feedback\",\"Negative Feedback\",\"Negative Feedback\",\"Negative Feedback\",\"Negative Feedback\",\"Negative Feedback\",\"Negative Feedback\",\"Negative Feedback\",\"Negative Feedback\",\"Negative Feedback\",\"Negative Feedback\",\"Negative Feedback\",\"Negative Feedback\",\"Negative Feedback\",\"Negative Feedback\",\"Negative Feedback\",\"Negative Feedback\",\"Negative Feedback\",\"Negative Feedback\",\"Negative Feedback\",\"Negative Feedback\",\"Negative Feedback\",\"Negative Feedback\",\"Negative Feedback\",\"Negative Feedback\",\"Negative Feedback\",\"Negative Feedback\",\"Negative Feedback\",\"Negative Feedback\",\"Negative Feedback\",\"Negative Feedback\",\"Negative Feedback\",\"Negative Feedback\",\"Negative Feedback\",\"Negative Feedback\",\"Negative Feedback\",\"Negative Feedback\",\"Negative Feedback\",\"Negative Feedback\",\"Negative Feedback\",\"Negative Feedback\",\"Negative Feedback\",\"Negative Feedback\",\"Negative Feedback\",\"Negative Feedback\",\"Negative Feedback\",\"Negative Feedback\",\"Negative Feedback\",\"Negative Feedback\",\"Negative Feedback\",\"Negative Feedback\",\"Negative Feedback\",\"Negative Feedback\",\"Negative Feedback\",\"Negative Feedback\",\"Negative Feedback\",\"Negative Feedback\",\"Negative Feedback\",\"Negative Feedback\",\"Negative Feedback\",\"Negative Feedback\",\"Negative Feedback\",\"Negative Feedback\",\"Negative Feedback\",\"Negative Feedback\",\"Negative Feedback\",\"Negative Feedback\",\"Negative Feedback\",\"Negative Feedback\",\"Negative Feedback\",\"Negative Feedback\",\"Negative Feedback\",\"Negative Feedback\",\"Negative Feedback\",\"Negative Feedback\",\"Negative Feedback\",\"Negative Feedback\",\"Negative Feedback\",\"Negative Feedback\",\"Negative Feedback\",\"Negative Feedback\",\"Negative Feedback\",\"Negative Feedback\",\"Negative Feedback\",\"Negative Feedback\",\"Negative Feedback\",\"Negative Feedback\",\"Negative Feedback\",\"Negative Feedback\",\"Negative Feedback\",\"Negative Feedback\",\"Negative Feedback\",\"Negative Feedback\",\"Negative Feedback\",\"Negative Feedback\",\"Negative Feedback\",\"Negative Feedback\",\"Negative Feedback\",\"Negative Feedback\",\"Negative Feedback\",\"Negative Feedback\",\"Positive Feedback\",\"Positive Feedback\",\"Positive Feedback\",\"Positive Feedback\",\"Positive Feedback\",\"Positive Feedback\",\"Positive Feedback\",\"Positive Feedback\",\"Positive Feedback\",\"Positive Feedback\",\"Positive Feedback\",\"Positive Feedback\",\"Positive Feedback\",\"Positive Feedback\",\"Positive Feedback\",\"Positive Feedback\",\"Positive Feedback\",\"Positive Feedback\",\"Positive Feedback\",\"Positive Feedback\",\"Positive Feedback\",\"Positive Feedback\",\"Positive Feedback\",\"Positive Feedback\",\"Positive Feedback\",\"Positive Feedback\",\"Positive Feedback\",\"Positive Feedback\",\"Positive Feedback\",\"Positive Feedback\",\"Positive Feedback\",\"Positive Feedback\",\"Positive Feedback\",\"Positive Feedback\",\"Positive Feedback\",\"Positive Feedback\",\"Positive Feedback\",\"Positive Feedback\",\"Positive Feedback\",\"Positive Feedback\",\"Positive Feedback\",\"Positive Feedback\",\"Positive Feedback\",\"Positive Feedback\",\"Positive Feedback\",\"Positive Feedback\",\"Positive Feedback\",\"Positive Feedback\",\"Positive Feedback\",\"Positive Feedback\",\"Positive Feedback\",\"Positive Feedback\",\"Positive Feedback\",\"Positive Feedback\",\"Positive Feedback\",\"Positive Feedback\",\"Positive Feedback\",\"Positive Feedback\",\"Positive Feedback\",\"Positive Feedback\",\"Positive Feedback\",\"Positive Feedback\",\"Positive Feedback\",\"Positive Feedback\",\"Positive Feedback\",\"Positive Feedback\",\"Positive Feedback\",\"Positive Feedback\",\"Positive Feedback\",\"Positive Feedback\",\"Positive Feedback\",\"Positive Feedback\",\"Positive Feedback\",\"Positive Feedback\",\"Positive Feedback\",\"Positive Feedback\",\"Positive Feedback\",\"Positive Feedback\",\"Positive Feedback\",\"Positive Feedback\",\"Positive Feedback\",\"Positive Feedback\",\"Positive Feedback\",\"Positive Feedback\",\"Positive Feedback\",\"Positive Feedback\",\"Positive Feedback\",\"Positive Feedback\",\"Positive Feedback\",\"Positive Feedback\",\"Positive Feedback\",\"Positive Feedback\",\"Positive Feedback\",\"Positive Feedback\",\"Positive Feedback\",\"Positive Feedback\",\"Positive Feedback\",\"Positive Feedback\",\"Positive Feedback\",\"Positive Feedback\",\"Positive Feedback\",\"Positive Feedback\",\"Positive Feedback\",\"Positive Feedback\",\"Positive Feedback\",\"Positive Feedback\",\"Positive Feedback\",\"Positive Feedback\",\"Positive Feedback\",\"Positive Feedback\",\"Positive Feedback\",\"Positive Feedback\",\"Positive Feedback\",\"Positive Feedback\",\"Positive Feedback\",\"Positive Feedback\",\"Positive Feedback\",\"Positive Feedback\",\"Positive Feedback\",\"Positive Feedback\",\"Positive Feedback\",\"Positive Feedback\",\"Positive Feedback\",\"Positive Feedback\",\"Positive Feedback\",\"Positive Feedback\",\"Positive Feedback\",\"Positive Feedback\",\"Positive Feedback\",\"Positive Feedback\",\"Positive Feedback\",\"Positive Feedback\",\"Positive Feedback\",\"Positive Feedback\",\"Positive Feedback\",\"Positive Feedback\",\"Positive Feedback\",\"Positive Feedback\",\"Positive Feedback\",\"Positive Feedback\",\"Positive Feedback\",\"Positive Feedback\",\"Positive Feedback\",\"Positive Feedback\",\"Positive Feedback\",\"Positive Feedback\",\"Positive Feedback\",\"Positive Feedback\",\"Positive Feedback\",\"Positive Feedback\",\"Positive Feedback\",\"Positive Feedback\",\"Positive Feedback\",\"Positive Feedback\",\"Positive Feedback\",\"Positive Feedback\",\"Positive Feedback\",\"Positive Feedback\",\"Positive Feedback\",\"Positive Feedback\",\"Positive Feedback\",\"Positive Feedback\",\"Positive Feedback\",\"Positive Feedback\",\"Positive Feedback\",\"Positive Feedback\",\"Positive Feedback\",\"Positive Feedback\",\"Positive Feedback\",\"Positive Feedback\",\"Positive Feedback\",\"Positive Feedback\",\"Positive Feedback\",\"Positive Feedback\",\"Positive Feedback\",\"Positive Feedback\",\"Positive Feedback\",\"Positive Feedback\",\"Positive Feedback\",\"Positive Feedback\",\"Positive Feedback\",\"Positive Feedback\",\"Positive Feedback\",\"Positive Feedback\",\"Positive Feedback\",\"Positive Feedback\",\"Positive Feedback\",\"Positive Feedback\",\"Positive Feedback\",\"Positive Feedback\",\"Positive Feedback\",\"Positive Feedback\",\"Positive Feedback\",\"Positive Feedback\",\"Positive Feedback\",\"Positive Feedback\",\"Positive Feedback\",\"Positive Feedback\",\"Positive Feedback\",\"Positive Feedback\",\"Positive Feedback\",\"Positive Feedback\",\"Positive Feedback\",\"Negative Feedback\",\"Negative Feedback\",\"Negative Feedback\",\"Negative Feedback\",\"Negative Feedback\",\"Negative Feedback\",\"Negative Feedback\",\"Negative Feedback\",\"Negative Feedback\",\"Negative Feedback\",\"Negative Feedback\",\"Negative Feedback\",\"Negative Feedback\",\"Negative Feedback\",\"Negative Feedback\",\"Negative Feedback\",\"Negative Feedback\",\"Negative Feedback\",\"Negative Feedback\",\"Negative Feedback\",\"Negative Feedback\",\"Negative Feedback\",\"Negative Feedback\",\"Negative Feedback\",\"Negative Feedback\",\"Negative Feedback\",\"Negative Feedback\",\"Negative Feedback\",\"Negative Feedback\",\"Negative Feedback\",\"Negative Feedback\",\"Negative Feedback\",\"Negative Feedback\",\"Negative Feedback\",\"Negative Feedback\",\"Negative Feedback\",\"Negative Feedback\",\"Negative Feedback\",\"Negative Feedback\",\"Negative Feedback\",\"Negative Feedback\",\"Positive Feedback\",\"Positive Feedback\",\"Positive Feedback\",\"Positive Feedback\",\"Positive Feedback\",\"Positive Feedback\",\"Positive Feedback\",\"Positive Feedback\",\"Positive Feedback\",\"Positive Feedback\",\"Positive Feedback\",\"Positive Feedback\",\"Positive Feedback\",\"Positive Feedback\",\"Positive Feedback\",\"Positive Feedback\",\"Positive Feedback\",\"Positive Feedback\",\"Positive Feedback\",\"Positive Feedback\",\"Positive Feedback\",\"Positive Feedback\",\"Positive Feedback\",\"Positive Feedback\",\"Positive Feedback\",\"Positive Feedback\",\"Positive Feedback\",\"Positive Feedback\",\"Positive Feedback\",\"Positive Feedback\",\"Positive Feedback\",\"Positive Feedback\",\"Positive Feedback\",\"Positive Feedback\",\"Positive Feedback\",\"Positive Feedback\",\"Positive Feedback\",\"Positive Feedback\",\"Positive Feedback\",\"Positive Feedback\",\"Positive Feedback\",\"Positive Feedback\",\"Positive Feedback\",\"Positive Feedback\",\"Positive Feedback\",\"Positive Feedback\",\"Positive Feedback\",\"Positive Feedback\",\"Positive Feedback\",\"Positive Feedback\",\"Positive Feedback\",\"Positive Feedback\",\"Positive Feedback\",\"Positive Feedback\",\"Positive Feedback\",\"Positive Feedback\",\"Positive Feedback\",\"Positive Feedback\",\"Positive Feedback\",\"Positive Feedback\",\"Positive Feedback\",\"Positive Feedback\",\"Positive Feedback\",\"Positive Feedback\",\"Positive Feedback\",\"Positive Feedback\",\"Positive Feedback\",\"Positive Feedback\",\"Positive Feedback\",\"Positive Feedback\",\"Positive Feedback\",\"Positive Feedback\",\"Positive Feedback\",\"Positive Feedback\",\"Positive Feedback\",\"Positive Feedback\",\"Positive Feedback\",\"Positive Feedback\",\"Positive Feedback\",\"Positive Feedback\",\"Positive Feedback\",\"Positive Feedback\",\"Positive Feedback\",\"Positive Feedback\",\"Positive Feedback\",\"Positive Feedback\",\"Positive Feedback\",\"Positive Feedback\",\"Positive Feedback\",\"Positive Feedback\",\"Positive Feedback\",\"Positive Feedback\",\"Positive Feedback\",\"Positive Feedback\",\"Positive Feedback\",\"Positive Feedback\",\"Positive Feedback\",\"Positive Feedback\",\"Positive Feedback\",\"Positive Feedback\",\"Positive Feedback\",\"Positive Feedback\",\"Positive Feedback\",\"Positive Feedback\",\"Positive Feedback\",\"Positive Feedback\",\"Positive Feedback\",\"Positive Feedback\",\"Positive Feedback\",\"Positive Feedback\",\"Positive Feedback\",\"Positive Feedback\",\"Positive Feedback\",\"Positive Feedback\",\"Positive Feedback\",\"Positive Feedback\",\"Positive Feedback\",\"Positive Feedback\",\"Positive Feedback\",\"Positive Feedback\",\"Positive Feedback\",\"Positive Feedback\",\"Positive Feedback\",\"Positive Feedback\",\"Positive Feedback\",\"Positive Feedback\",\"Positive Feedback\",\"Positive Feedback\",\"Positive Feedback\",\"Positive Feedback\",\"Positive Feedback\",\"Positive Feedback\",\"Positive Feedback\",\"Positive Feedback\",\"Positive Feedback\",\"Positive Feedback\",\"Positive Feedback\",\"Positive Feedback\",\"Positive Feedback\",\"Positive Feedback\",\"Positive Feedback\",\"Positive Feedback\",\"Positive Feedback\",\"Positive Feedback\",\"Positive Feedback\",\"Positive Feedback\",\"Positive Feedback\",\"Positive Feedback\",\"Positive Feedback\",\"Positive Feedback\",\"Positive Feedback\",\"Positive Feedback\",\"Positive Feedback\",\"Positive Feedback\",\"Positive Feedback\",\"Positive Feedback\",\"Positive Feedback\",\"Positive Feedback\",\"Positive Feedback\",\"Positive Feedback\",\"Positive Feedback\",\"Positive Feedback\",\"Positive Feedback\",\"Positive Feedback\",\"Positive Feedback\",\"Positive Feedback\",\"Positive Feedback\",\"Positive Feedback\",\"Positive Feedback\",\"Positive Feedback\",\"Positive Feedback\",\"Positive Feedback\",\"Positive Feedback\",\"Positive Feedback\",\"Positive Feedback\",\"Positive Feedback\",\"Positive Feedback\",\"Positive Feedback\",\"Positive Feedback\",\"Positive Feedback\",\"Positive Feedback\",\"Positive Feedback\",\"Positive Feedback\",\"Positive Feedback\",\"Positive Feedback\",\"Positive Feedback\",\"Positive Feedback\",\"Positive Feedback\",\"Positive Feedback\",\"Positive Feedback\",\"Positive Feedback\",\"Positive Feedback\",\"Positive Feedback\",\"Positive Feedback\",\"Positive Feedback\",\"Positive Feedback\",\"Positive Feedback\",\"Positive Feedback\",\"Positive Feedback\",\"Positive Feedback\"],\"type\":\"histogram\"}],                        {\"barmode\":\"overlay\",\"legend\":{\"bgcolor\":\"#F5F6F9\",\"font\":{\"color\":\"#4D5663\"}},\"paper_bgcolor\":\"#F5F6F9\",\"plot_bgcolor\":\"#F5F6F9\",\"template\":{\"data\":{\"barpolar\":[{\"marker\":{\"line\":{\"color\":\"#E5ECF6\",\"width\":0.5},\"pattern\":{\"fillmode\":\"overlay\",\"size\":10,\"solidity\":0.2}},\"type\":\"barpolar\"}],\"bar\":[{\"error_x\":{\"color\":\"#2a3f5f\"},\"error_y\":{\"color\":\"#2a3f5f\"},\"marker\":{\"line\":{\"color\":\"#E5ECF6\",\"width\":0.5},\"pattern\":{\"fillmode\":\"overlay\",\"size\":10,\"solidity\":0.2}},\"type\":\"bar\"}],\"carpet\":[{\"aaxis\":{\"endlinecolor\":\"#2a3f5f\",\"gridcolor\":\"white\",\"linecolor\":\"white\",\"minorgridcolor\":\"white\",\"startlinecolor\":\"#2a3f5f\"},\"baxis\":{\"endlinecolor\":\"#2a3f5f\",\"gridcolor\":\"white\",\"linecolor\":\"white\",\"minorgridcolor\":\"white\",\"startlinecolor\":\"#2a3f5f\"},\"type\":\"carpet\"}],\"choropleth\":[{\"colorbar\":{\"outlinewidth\":0,\"ticks\":\"\"},\"type\":\"choropleth\"}],\"contourcarpet\":[{\"colorbar\":{\"outlinewidth\":0,\"ticks\":\"\"},\"type\":\"contourcarpet\"}],\"contour\":[{\"colorbar\":{\"outlinewidth\":0,\"ticks\":\"\"},\"colorscale\":[[0.0,\"#0d0887\"],[0.1111111111111111,\"#46039f\"],[0.2222222222222222,\"#7201a8\"],[0.3333333333333333,\"#9c179e\"],[0.4444444444444444,\"#bd3786\"],[0.5555555555555556,\"#d8576b\"],[0.6666666666666666,\"#ed7953\"],[0.7777777777777778,\"#fb9f3a\"],[0.8888888888888888,\"#fdca26\"],[1.0,\"#f0f921\"]],\"type\":\"contour\"}],\"heatmapgl\":[{\"colorbar\":{\"outlinewidth\":0,\"ticks\":\"\"},\"colorscale\":[[0.0,\"#0d0887\"],[0.1111111111111111,\"#46039f\"],[0.2222222222222222,\"#7201a8\"],[0.3333333333333333,\"#9c179e\"],[0.4444444444444444,\"#bd3786\"],[0.5555555555555556,\"#d8576b\"],[0.6666666666666666,\"#ed7953\"],[0.7777777777777778,\"#fb9f3a\"],[0.8888888888888888,\"#fdca26\"],[1.0,\"#f0f921\"]],\"type\":\"heatmapgl\"}],\"heatmap\":[{\"colorbar\":{\"outlinewidth\":0,\"ticks\":\"\"},\"colorscale\":[[0.0,\"#0d0887\"],[0.1111111111111111,\"#46039f\"],[0.2222222222222222,\"#7201a8\"],[0.3333333333333333,\"#9c179e\"],[0.4444444444444444,\"#bd3786\"],[0.5555555555555556,\"#d8576b\"],[0.6666666666666666,\"#ed7953\"],[0.7777777777777778,\"#fb9f3a\"],[0.8888888888888888,\"#fdca26\"],[1.0,\"#f0f921\"]],\"type\":\"heatmap\"}],\"histogram2dcontour\":[{\"colorbar\":{\"outlinewidth\":0,\"ticks\":\"\"},\"colorscale\":[[0.0,\"#0d0887\"],[0.1111111111111111,\"#46039f\"],[0.2222222222222222,\"#7201a8\"],[0.3333333333333333,\"#9c179e\"],[0.4444444444444444,\"#bd3786\"],[0.5555555555555556,\"#d8576b\"],[0.6666666666666666,\"#ed7953\"],[0.7777777777777778,\"#fb9f3a\"],[0.8888888888888888,\"#fdca26\"],[1.0,\"#f0f921\"]],\"type\":\"histogram2dcontour\"}],\"histogram2d\":[{\"colorbar\":{\"outlinewidth\":0,\"ticks\":\"\"},\"colorscale\":[[0.0,\"#0d0887\"],[0.1111111111111111,\"#46039f\"],[0.2222222222222222,\"#7201a8\"],[0.3333333333333333,\"#9c179e\"],[0.4444444444444444,\"#bd3786\"],[0.5555555555555556,\"#d8576b\"],[0.6666666666666666,\"#ed7953\"],[0.7777777777777778,\"#fb9f3a\"],[0.8888888888888888,\"#fdca26\"],[1.0,\"#f0f921\"]],\"type\":\"histogram2d\"}],\"histogram\":[{\"marker\":{\"pattern\":{\"fillmode\":\"overlay\",\"size\":10,\"solidity\":0.2}},\"type\":\"histogram\"}],\"mesh3d\":[{\"colorbar\":{\"outlinewidth\":0,\"ticks\":\"\"},\"type\":\"mesh3d\"}],\"parcoords\":[{\"line\":{\"colorbar\":{\"outlinewidth\":0,\"ticks\":\"\"}},\"type\":\"parcoords\"}],\"pie\":[{\"automargin\":true,\"type\":\"pie\"}],\"scatter3d\":[{\"line\":{\"colorbar\":{\"outlinewidth\":0,\"ticks\":\"\"}},\"marker\":{\"colorbar\":{\"outlinewidth\":0,\"ticks\":\"\"}},\"type\":\"scatter3d\"}],\"scattercarpet\":[{\"marker\":{\"colorbar\":{\"outlinewidth\":0,\"ticks\":\"\"}},\"type\":\"scattercarpet\"}],\"scattergeo\":[{\"marker\":{\"colorbar\":{\"outlinewidth\":0,\"ticks\":\"\"}},\"type\":\"scattergeo\"}],\"scattergl\":[{\"marker\":{\"colorbar\":{\"outlinewidth\":0,\"ticks\":\"\"}},\"type\":\"scattergl\"}],\"scattermapbox\":[{\"marker\":{\"colorbar\":{\"outlinewidth\":0,\"ticks\":\"\"}},\"type\":\"scattermapbox\"}],\"scatterpolargl\":[{\"marker\":{\"colorbar\":{\"outlinewidth\":0,\"ticks\":\"\"}},\"type\":\"scatterpolargl\"}],\"scatterpolar\":[{\"marker\":{\"colorbar\":{\"outlinewidth\":0,\"ticks\":\"\"}},\"type\":\"scatterpolar\"}],\"scatter\":[{\"fillpattern\":{\"fillmode\":\"overlay\",\"size\":10,\"solidity\":0.2},\"type\":\"scatter\"}],\"scatterternary\":[{\"marker\":{\"colorbar\":{\"outlinewidth\":0,\"ticks\":\"\"}},\"type\":\"scatterternary\"}],\"surface\":[{\"colorbar\":{\"outlinewidth\":0,\"ticks\":\"\"},\"colorscale\":[[0.0,\"#0d0887\"],[0.1111111111111111,\"#46039f\"],[0.2222222222222222,\"#7201a8\"],[0.3333333333333333,\"#9c179e\"],[0.4444444444444444,\"#bd3786\"],[0.5555555555555556,\"#d8576b\"],[0.6666666666666666,\"#ed7953\"],[0.7777777777777778,\"#fb9f3a\"],[0.8888888888888888,\"#fdca26\"],[1.0,\"#f0f921\"]],\"type\":\"surface\"}],\"table\":[{\"cells\":{\"fill\":{\"color\":\"#EBF0F8\"},\"line\":{\"color\":\"white\"}},\"header\":{\"fill\":{\"color\":\"#C8D4E3\"},\"line\":{\"color\":\"white\"}},\"type\":\"table\"}]},\"layout\":{\"annotationdefaults\":{\"arrowcolor\":\"#2a3f5f\",\"arrowhead\":0,\"arrowwidth\":1},\"autotypenumbers\":\"strict\",\"coloraxis\":{\"colorbar\":{\"outlinewidth\":0,\"ticks\":\"\"}},\"colorscale\":{\"diverging\":[[0,\"#8e0152\"],[0.1,\"#c51b7d\"],[0.2,\"#de77ae\"],[0.3,\"#f1b6da\"],[0.4,\"#fde0ef\"],[0.5,\"#f7f7f7\"],[0.6,\"#e6f5d0\"],[0.7,\"#b8e186\"],[0.8,\"#7fbc41\"],[0.9,\"#4d9221\"],[1,\"#276419\"]],\"sequential\":[[0.0,\"#0d0887\"],[0.1111111111111111,\"#46039f\"],[0.2222222222222222,\"#7201a8\"],[0.3333333333333333,\"#9c179e\"],[0.4444444444444444,\"#bd3786\"],[0.5555555555555556,\"#d8576b\"],[0.6666666666666666,\"#ed7953\"],[0.7777777777777778,\"#fb9f3a\"],[0.8888888888888888,\"#fdca26\"],[1.0,\"#f0f921\"]],\"sequentialminus\":[[0.0,\"#0d0887\"],[0.1111111111111111,\"#46039f\"],[0.2222222222222222,\"#7201a8\"],[0.3333333333333333,\"#9c179e\"],[0.4444444444444444,\"#bd3786\"],[0.5555555555555556,\"#d8576b\"],[0.6666666666666666,\"#ed7953\"],[0.7777777777777778,\"#fb9f3a\"],[0.8888888888888888,\"#fdca26\"],[1.0,\"#f0f921\"]]},\"colorway\":[\"#636efa\",\"#EF553B\",\"#00cc96\",\"#ab63fa\",\"#FFA15A\",\"#19d3f3\",\"#FF6692\",\"#B6E880\",\"#FF97FF\",\"#FECB52\"],\"font\":{\"color\":\"#2a3f5f\"},\"geo\":{\"bgcolor\":\"white\",\"lakecolor\":\"white\",\"landcolor\":\"#E5ECF6\",\"showlakes\":true,\"showland\":true,\"subunitcolor\":\"white\"},\"hoverlabel\":{\"align\":\"left\"},\"hovermode\":\"closest\",\"mapbox\":{\"style\":\"light\"},\"paper_bgcolor\":\"white\",\"plot_bgcolor\":\"#E5ECF6\",\"polar\":{\"angularaxis\":{\"gridcolor\":\"white\",\"linecolor\":\"white\",\"ticks\":\"\"},\"bgcolor\":\"#E5ECF6\",\"radialaxis\":{\"gridcolor\":\"white\",\"linecolor\":\"white\",\"ticks\":\"\"}},\"scene\":{\"xaxis\":{\"backgroundcolor\":\"#E5ECF6\",\"gridcolor\":\"white\",\"gridwidth\":2,\"linecolor\":\"white\",\"showbackground\":true,\"ticks\":\"\",\"zerolinecolor\":\"white\"},\"yaxis\":{\"backgroundcolor\":\"#E5ECF6\",\"gridcolor\":\"white\",\"gridwidth\":2,\"linecolor\":\"white\",\"showbackground\":true,\"ticks\":\"\",\"zerolinecolor\":\"white\"},\"zaxis\":{\"backgroundcolor\":\"#E5ECF6\",\"gridcolor\":\"white\",\"gridwidth\":2,\"linecolor\":\"white\",\"showbackground\":true,\"ticks\":\"\",\"zerolinecolor\":\"white\"}},\"shapedefaults\":{\"line\":{\"color\":\"#2a3f5f\"}},\"ternary\":{\"aaxis\":{\"gridcolor\":\"white\",\"linecolor\":\"white\",\"ticks\":\"\"},\"baxis\":{\"gridcolor\":\"white\",\"linecolor\":\"white\",\"ticks\":\"\"},\"bgcolor\":\"#E5ECF6\",\"caxis\":{\"gridcolor\":\"white\",\"linecolor\":\"white\",\"ticks\":\"\"}},\"title\":{\"x\":0.05},\"xaxis\":{\"automargin\":true,\"gridcolor\":\"white\",\"linecolor\":\"white\",\"ticks\":\"\",\"title\":{\"standoff\":15},\"zerolinecolor\":\"white\",\"zerolinewidth\":2},\"yaxis\":{\"automargin\":true,\"gridcolor\":\"white\",\"linecolor\":\"white\",\"ticks\":\"\",\"title\":{\"standoff\":15},\"zerolinecolor\":\"white\",\"zerolinewidth\":2}}},\"title\":{\"font\":{\"color\":\"#4D5663\"},\"text\":\"Feedback Rating Distribution\"},\"xaxis\":{\"gridcolor\":\"#E1E5ED\",\"linecolor\":\"black\",\"showgrid\":true,\"tickfont\":{\"color\":\"#4D5663\"},\"title\":{\"font\":{\"color\":\"#4D5663\"},\"text\":\"Rating\"},\"zerolinecolor\":\"#E1E5ED\"},\"yaxis\":{\"gridcolor\":\"#E1E5ED\",\"linecolor\":\"black\",\"showgrid\":true,\"tickfont\":{\"color\":\"#4D5663\"},\"title\":{\"font\":{\"color\":\"#4D5663\"},\"text\":\"Count\"},\"zerolinecolor\":\"#E1E5ED\"}},                        {\"showLink\": true, \"linkText\": \"Export to plot.ly\", \"plotlyServerURL\": \"https://plot.ly\", \"responsive\": true}                    ).then(function(){\n",
       "                            \n",
       "var gd = document.getElementById('83624937-7b90-458b-b456-9feaaa0fe2b3');\n",
       "var x = new MutationObserver(function (mutations, observer) {{\n",
       "        var display = window.getComputedStyle(gd).display;\n",
       "        if (!display || display === 'none') {{\n",
       "            console.log([gd, 'removed!']);\n",
       "            Plotly.purge(gd);\n",
       "            observer.disconnect();\n",
       "        }}\n",
       "}});\n",
       "\n",
       "// Listen for the removal of the full notebook cells\n",
       "var notebookContainer = gd.closest('#notebook-container');\n",
       "if (notebookContainer) {{\n",
       "    x.observe(notebookContainer, {childList: true});\n",
       "}}\n",
       "\n",
       "// Listen for the clearing of the current output cell\n",
       "var outputEl = gd.closest('.output');\n",
       "if (outputEl) {{\n",
       "    x.observe(outputEl, {childList: true});\n",
       "}}\n",
       "\n",
       "                        })                };                });            </script>        </div>"
      ]
     },
     "metadata": {},
     "output_type": "display_data"
    }
   ],
   "source": [
    "employees['feedback_sentiment'].iplot(\n",
    "    kind='hist',\n",
    "    xTitle='Rating',\n",
    "    color=\"blue\",\n",
    "    linecolor='black',\n",
    "    yTitle='Count',\n",
    "    title='Feedback Rating Distribution')"
   ]
  },
  {
   "cell_type": "markdown",
   "id": "63683ed0",
   "metadata": {},
   "source": [
    "**Create a countplot of the number of occurrences for each type of feedback rating.**"
   ]
  },
  {
   "cell_type": "code",
   "execution_count": 25,
   "id": "aa1f97db",
   "metadata": {},
   "outputs": [
    {
     "data": {
      "text/plain": [
       "<AxesSubplot:xlabel='feedback_sentiment', ylabel='count'>"
      ]
     },
     "execution_count": 25,
     "metadata": {},
     "output_type": "execute_result"
    },
    {
     "data": {
      "image/png": "[encoded data removed]",
      "text/plain": [
       "<Figure size 432x288 with 1 Axes>"
      ]
     },
     "metadata": {
      "needs_background": "light"
     },
     "output_type": "display_data"
    }
   ],
   "source": [
    "sns.countplot(x='feedback_sentiment',data=employees,palette='rainbow')"
   ]
  },
  {
   "cell_type": "code",
   "execution_count": 26,
   "id": "bb01f46b",
   "metadata": {},
   "outputs": [
    {
     "data": {
      "text/plain": [
       "array([<AxesSubplot:title={'center':'Negative Feedback'}>,\n",
       "       <AxesSubplot:title={'center':'Positive Feedback'}>], dtype=object)"
      ]
     },
     "execution_count": 26,
     "metadata": {},
     "output_type": "execute_result"
    },
    {
     "data": {
      "image/png": "[encoded data removed]",
      "text/plain": [
       "<Figure size 864x288 with 2 Axes>"
      ]
     },
     "metadata": {
      "needs_background": "light"
     },
     "output_type": "display_data"
    }
   ],
   "source": [
    "employees.hist(column='length', by='feedback_sentiment', bins=50,figsize=(12,4))"
   ]
  },
  {
   "cell_type": "markdown",
   "id": "c16993f9",
   "metadata": {},
   "source": [
    "## Text Pre-processing"
   ]
  },
  {
   "cell_type": "code",
   "execution_count": 27,
   "id": "58125a9a",
   "metadata": {},
   "outputs": [
    {
     "data": {
      "text/html": [
       "<div>\n",
       "<style scoped>\n",
       "    .dataframe tbody tr th:only-of-type {\n",
       "        vertical-align: middle;\n",
       "    }\n",
       "\n",
       "    .dataframe tbody tr th {\n",
       "        vertical-align: top;\n",
       "    }\n",
       "\n",
       "    .dataframe thead th {\n",
       "        text-align: right;\n",
       "    }\n",
       "</style>\n",
       "<table border=\"1\" class=\"dataframe\">\n",
       "  <thead>\n",
       "    <tr style=\"text-align: right;\">\n",
       "      <th></th>\n",
       "      <th>id</th>\n",
       "      <th>person_name</th>\n",
       "      <th>nine_box_category</th>\n",
       "      <th>feedback</th>\n",
       "      <th>adjusted</th>\n",
       "      <th>reviewed</th>\n",
       "      <th>length</th>\n",
       "      <th>feedback_sentiment</th>\n",
       "    </tr>\n",
       "  </thead>\n",
       "  <tbody>\n",
       "    <tr>\n",
       "      <th>348</th>\n",
       "      <td>289</td>\n",
       "      <td>Alfie Wright</td>\n",
       "      <td>Category 4: 'Inconsistent Player' (Low perform...</td>\n",
       "      <td>Alfie's quantitative skills simply are not up ...</td>\n",
       "      <td>False</td>\n",
       "      <td>False</td>\n",
       "      <td>495</td>\n",
       "      <td>Negative Feedback</td>\n",
       "    </tr>\n",
       "    <tr>\n",
       "      <th>776</th>\n",
       "      <td>639</td>\n",
       "      <td>Theodor Peters</td>\n",
       "      <td>Category 9: 'Star' (High performance, High pot...</td>\n",
       "      <td>Theodor has consistently been a very promising...</td>\n",
       "      <td>False</td>\n",
       "      <td>False</td>\n",
       "      <td>396</td>\n",
       "      <td>Positive Feedback</td>\n",
       "    </tr>\n",
       "    <tr>\n",
       "      <th>208</th>\n",
       "      <td>10008</td>\n",
       "      <td>Harvey Watts</td>\n",
       "      <td>Category 2: 'Average performer' (Moderate perf...</td>\n",
       "      <td>Harvey Watts is a very regular worker. His com...</td>\n",
       "      <td>False</td>\n",
       "      <td>False</td>\n",
       "      <td>234</td>\n",
       "      <td>Negative Feedback</td>\n",
       "    </tr>\n",
       "    <tr>\n",
       "      <th>792</th>\n",
       "      <td>656</td>\n",
       "      <td>Emilie Carroll</td>\n",
       "      <td>Category 9: 'Star' (High performance, High pot...</td>\n",
       "      <td>Emilie is such an absolute pleasure to work wi...</td>\n",
       "      <td>False</td>\n",
       "      <td>False</td>\n",
       "      <td>520</td>\n",
       "      <td>Positive Feedback</td>\n",
       "    </tr>\n",
       "    <tr>\n",
       "      <th>1</th>\n",
       "      <td>2</td>\n",
       "      <td>John Carter</td>\n",
       "      <td>Category 1: 'Risk' (Low performance, Low poten...</td>\n",
       "      <td>John has consistently disappointed me this qua...</td>\n",
       "      <td>False</td>\n",
       "      <td>True</td>\n",
       "      <td>485</td>\n",
       "      <td>Negative Feedback</td>\n",
       "    </tr>\n",
       "  </tbody>\n",
       "</table>\n",
       "</div>"
      ],
      "text/plain": [
       "        id     person_name                                  nine_box_category  \\\n",
       "348    289    Alfie Wright  Category 4: 'Inconsistent Player' (Low perform...   \n",
       "776    639  Theodor Peters  Category 9: 'Star' (High performance, High pot...   \n",
       "208  10008    Harvey Watts  Category 2: 'Average performer' (Moderate perf...   \n",
       "792    656  Emilie Carroll  Category 9: 'Star' (High performance, High pot...   \n",
       "1        2     John Carter  Category 1: 'Risk' (Low performance, Low poten...   \n",
       "\n",
       "                                              feedback  adjusted  reviewed  \\\n",
       "348  Alfie's quantitative skills simply are not up ...     False     False   \n",
       "776  Theodor has consistently been a very promising...     False     False   \n",
       "208  Harvey Watts is a very regular worker. His com...     False     False   \n",
       "792  Emilie is such an absolute pleasure to work wi...     False     False   \n",
       "1    John has consistently disappointed me this qua...     False      True   \n",
       "\n",
       "     length feedback_sentiment  \n",
       "348     495  Negative Feedback  \n",
       "776     396  Positive Feedback  \n",
       "208     234  Negative Feedback  \n",
       "792     520  Positive Feedback  \n",
       "1       485  Negative Feedback  "
      ]
     },
     "execution_count": 27,
     "metadata": {},
     "output_type": "execute_result"
    }
   ],
   "source": [
    "employees.sample(5)"
   ]
  },
  {
   "cell_type": "code",
   "execution_count": 28,
   "id": "65181eeb",
   "metadata": {},
   "outputs": [],
   "source": [
    "#dropping irrelevant columns\n",
    "columns_to_delete = ['id','person_name', 'adjusted','reviewed','length'] #'nine_box_category',\n",
    "employees.drop(columns_to_delete, inplace=True, axis=1)"
   ]
  },
  {
   "cell_type": "code",
   "execution_count": 29,
   "id": "09e2681b",
   "metadata": {},
   "outputs": [],
   "source": [
    "employees.drop(\"nine_box_category\", inplace=True, axis=1)"
   ]
  },
  {
   "cell_type": "code",
   "execution_count": 30,
   "id": "ceb2fc07",
   "metadata": {},
   "outputs": [
    {
     "data": {
      "text/html": [
       "<div>\n",
       "<style scoped>\n",
       "    .dataframe tbody tr th:only-of-type {\n",
       "        vertical-align: middle;\n",
       "    }\n",
       "\n",
       "    .dataframe tbody tr th {\n",
       "        vertical-align: top;\n",
       "    }\n",
       "\n",
       "    .dataframe thead th {\n",
       "        text-align: right;\n",
       "    }\n",
       "</style>\n",
       "<table border=\"1\" class=\"dataframe\">\n",
       "  <thead>\n",
       "    <tr style=\"text-align: right;\">\n",
       "      <th></th>\n",
       "      <th>feedback</th>\n",
       "      <th>feedback_sentiment</th>\n",
       "    </tr>\n",
       "  </thead>\n",
       "  <tbody>\n",
       "    <tr>\n",
       "      <th>715</th>\n",
       "      <td>Deegan is a great employee that delivers what ...</td>\n",
       "      <td>Positive Feedback</td>\n",
       "    </tr>\n",
       "    <tr>\n",
       "      <th>97</th>\n",
       "      <td>Layla Scott, a Customer Service Representative...</td>\n",
       "      <td>Negative Feedback</td>\n",
       "    </tr>\n",
       "    <tr>\n",
       "      <th>155</th>\n",
       "      <td>she tries hard but she is in the wrong positio...</td>\n",
       "      <td>Negative Feedback</td>\n",
       "    </tr>\n",
       "    <tr>\n",
       "      <th>812</th>\n",
       "      <td>Chelsea Stevens is an ideal employee. She deli...</td>\n",
       "      <td>Positive Feedback</td>\n",
       "    </tr>\n",
       "    <tr>\n",
       "      <th>281</th>\n",
       "      <td>Edward is doing such a great job with his work...</td>\n",
       "      <td>Positive Feedback</td>\n",
       "    </tr>\n",
       "  </tbody>\n",
       "</table>\n",
       "</div>"
      ],
      "text/plain": [
       "                                              feedback feedback_sentiment\n",
       "715  Deegan is a great employee that delivers what ...  Positive Feedback\n",
       "97   Layla Scott, a Customer Service Representative...  Negative Feedback\n",
       "155  she tries hard but she is in the wrong positio...  Negative Feedback\n",
       "812  Chelsea Stevens is an ideal employee. She deli...  Positive Feedback\n",
       "281  Edward is doing such a great job with his work...  Positive Feedback"
      ]
     },
     "execution_count": 30,
     "metadata": {},
     "output_type": "execute_result"
    }
   ],
   "source": [
    "employees.sample(5)"
   ]
  },
  {
   "cell_type": "markdown",
   "id": "12ce08b0",
   "metadata": {},
   "source": [
    "Let's create a function that will process the string in the feedback column, then we can just use **apply()** in pandas do process all the text in the DataFrame."
   ]
  },
  {
   "cell_type": "code",
   "execution_count": 31,
   "id": "21930b37",
   "metadata": {},
   "outputs": [],
   "source": [
    "# return the wordnet object value corresponding to the POS tag\n",
    "from nltk.corpus import wordnet\n",
    "\n",
    "def get_wordnet_pos(pos_tag):\n",
    "    if pos_tag.startswith('J'):\n",
    "        return wordnet.ADJ\n",
    "    elif pos_tag.startswith('V'):\n",
    "        return wordnet.VERB\n",
    "    elif pos_tag.startswith('N'):\n",
    "        return wordnet.NOUN\n",
    "    elif pos_tag.startswith('R'):\n",
    "        return wordnet.ADV\n",
    "    else:\n",
    "        return wordnet.NOUN\n",
    "    \n",
    "import string\n",
    "from nltk import pos_tag\n",
    "from nltk.corpus import stopwords\n",
    "from nltk.tokenize import WhitespaceTokenizer\n",
    "from nltk.stem import WordNetLemmatizer\n",
    "\n",
    "def clean_text(text):\n",
    "    # lower text\n",
    "    text = text.lower()\n",
    "    # tokenize text and remove puncutation\n",
    "    text = [word.strip(string.punctuation) for word in text.split(\" \")]\n",
    "    # remove words that contain numbers\n",
    "    text = [word for word in text if not any(c.isdigit() for c in word)]\n",
    "    # remove stop words\n",
    "    stop = stopwords.words('english')\n",
    "    text = [x for x in text if x not in stop]\n",
    "    # remove empty tokens\n",
    "    text = [t for t in text if len(t) > 0]\n",
    "    # pos tag text\n",
    "    pos_tags = pos_tag(text)\n",
    "    # lemmatize text\n",
    "    text = [WordNetLemmatizer().lemmatize(t[0], get_wordnet_pos(t[1])) for t in pos_tags]\n",
    "    # remove words with only one letter\n",
    "    text = [t for t in text if len(t) > 1]\n",
    "    # join all\n",
    "    text = \" \".join(text)\n",
    "    return(text)\n",
    "\n",
    "# clean text data\n",
    "employees[\"feedback_clean\"] = employees[\"feedback\"].apply(lambda x: clean_text(x))"
   ]
  },
  {
   "cell_type": "markdown",
   "id": "a8810f73",
   "metadata": {},
   "source": [
    "\n",
    "\n",
    "To clean textual data, i made a 'clean_text' function that performs several transformations:\n",
    "- lower the text\n",
    "- tokenize the text (split the text into words) and remove the punctuation\n",
    "- remove useless words that contain numbers\n",
    "- remove useless stop words like 'the', 'a' ,'this' etc.\n",
    "- Part-Of-Speech (POS) tagging: assign a tag to every word to define if it corresponds to a noun, a verb etc. using the WordNet lexical database\n",
    "- lemmatize the text: transform every word into their root form (e.g. jobs -> job, felt -> feel)\n"
   ]
  },
  {
   "cell_type": "code",
   "execution_count": 32,
   "id": "1acd8311",
   "metadata": {},
   "outputs": [],
   "source": [
    "#pd.set_option('display.max_colwidth', None)"
   ]
  },
  {
   "cell_type": "code",
   "execution_count": 33,
   "id": "d1d3c112",
   "metadata": {},
   "outputs": [
    {
     "data": {
      "text/html": [
       "<div>\n",
       "<style scoped>\n",
       "    .dataframe tbody tr th:only-of-type {\n",
       "        vertical-align: middle;\n",
       "    }\n",
       "\n",
       "    .dataframe tbody tr th {\n",
       "        vertical-align: top;\n",
       "    }\n",
       "\n",
       "    .dataframe thead th {\n",
       "        text-align: right;\n",
       "    }\n",
       "</style>\n",
       "<table border=\"1\" class=\"dataframe\">\n",
       "  <thead>\n",
       "    <tr style=\"text-align: right;\">\n",
       "      <th></th>\n",
       "      <th>feedback</th>\n",
       "      <th>feedback_sentiment</th>\n",
       "      <th>feedback_clean</th>\n",
       "    </tr>\n",
       "  </thead>\n",
       "  <tbody>\n",
       "    <tr>\n",
       "      <th>740</th>\n",
       "      <td>Chanel has shown great improvement this year. ...</td>\n",
       "      <td>Positive Feedback</td>\n",
       "      <td>chanel show great improvement year willingness...</td>\n",
       "    </tr>\n",
       "    <tr>\n",
       "      <th>145</th>\n",
       "      <td>Sara was a great colleague of mine. she did he...</td>\n",
       "      <td>Negative Feedback</td>\n",
       "      <td>sara great colleague mine day day task meet ex...</td>\n",
       "    </tr>\n",
       "  </tbody>\n",
       "</table>\n",
       "</div>"
      ],
      "text/plain": [
       "                                              feedback feedback_sentiment  \\\n",
       "740  Chanel has shown great improvement this year. ...  Positive Feedback   \n",
       "145  Sara was a great colleague of mine. she did he...  Negative Feedback   \n",
       "\n",
       "                                        feedback_clean  \n",
       "740  chanel show great improvement year willingness...  \n",
       "145  sara great colleague mine day day task meet ex...  "
      ]
     },
     "execution_count": 33,
     "metadata": {},
     "output_type": "execute_result"
    }
   ],
   "source": [
    "employees.sample(2)"
   ]
  },
  {
   "cell_type": "code",
   "execution_count": 34,
   "id": "2add2947",
   "metadata": {},
   "outputs": [
    {
     "name": "stdout",
     "output_type": "stream",
     "text": [
      "work 942\n",
      "time 350\n",
      "team 310\n",
      "show 297\n",
      "improve 239\n",
      "company 235\n",
      "well 226\n",
      "potential 224\n",
      "performance 204\n",
      "task 204\n",
      "good 194\n",
      "need 192\n",
      "great 186\n",
      "always 181\n",
      "worker 164\n",
      "see 154\n",
      "take 150\n",
      "however 149\n",
      "job 147\n",
      "high 142\n"
     ]
    },
    {
     "data": {
      "application/vnd.plotly.v1+json": {
       "config": {
        "linkText": "Export to plot.ly",
        "plotlyServerURL": "https://plot.ly",
        "showLink": true
       },
       "data": [
        {
         "marker": {
          "color": "rgba(55, 128, 191, 0.6)",
          "line": {
           "color": "rgba(55, 128, 191, 1.0)",
           "width": 1
          }
         },
         "name": "count",
         "orientation": "v",
         "text": "",
         "type": "bar",
         "x": [
          "work",
          "time",
          "team",
          "show",
          "improve",
          "company",
          "well",
          "potential",
          "task",
          "performance",
          "good",
          "need",
          "great",
          "always",
          "worker",
          "see",
          "take",
          "however",
          "job",
          "high"
         ],
         "y": [
          942,
          350,
          310,
          297,
          239,
          235,
          226,
          224,
          204,
          204,
          194,
          192,
          186,
          181,
          164,
          154,
          150,
          149,
          147,
          142
         ]
        }
       ],
       "layout": {
        "legend": {
         "bgcolor": "#F5F6F9",
         "font": {
          "color": "#4D5663"
         }
        },
        "paper_bgcolor": "#F5F6F9",
        "plot_bgcolor": "#F5F6F9",
        "template": {
         "data": {
          "bar": [
           {
            "error_x": {
             "color": "#2a3f5f"
            },
            "error_y": {
             "color": "#2a3f5f"
            },
            "marker": {
             "line": {
              "color": "#E5ECF6",
              "width": 0.5
             },
             "pattern": {
              "fillmode": "overlay",
              "size": 10,
              "solidity": 0.2
             }
            },
            "type": "bar"
           }
          ],
          "barpolar": [
           {
            "marker": {
             "line": {
              "color": "#E5ECF6",
              "width": 0.5
             },
             "pattern": {
              "fillmode": "overlay",
              "size": 10,
              "solidity": 0.2
             }
            },
            "type": "barpolar"
           }
          ],
          "carpet": [
           {
            "aaxis": {
             "endlinecolor": "#2a3f5f",
             "gridcolor": "white",
             "linecolor": "white",
             "minorgridcolor": "white",
             "startlinecolor": "#2a3f5f"
            },
            "baxis": {
             "endlinecolor": "#2a3f5f",
             "gridcolor": "white",
             "linecolor": "white",
             "minorgridcolor": "white",
             "startlinecolor": "#2a3f5f"
            },
            "type": "carpet"
           }
          ],
          "choropleth": [
           {
            "colorbar": {
             "outlinewidth": 0,
             "ticks": ""
            },
            "type": "choropleth"
           }
          ],
          "contour": [
           {
            "colorbar": {
             "outlinewidth": 0,
             "ticks": ""
            },
            "colorscale": [
             [
              0,
              "#0d0887"
             ],
             [
              0.1111111111111111,
              "#46039f"
             ],
             [
              0.2222222222222222,
              "#7201a8"
             ],
             [
              0.3333333333333333,
              "#9c179e"
             ],
             [
              0.4444444444444444,
              "#bd3786"
             ],
             [
              0.5555555555555556,
              "#d8576b"
             ],
             [
              0.6666666666666666,
              "#ed7953"
             ],
             [
              0.7777777777777778,
              "#fb9f3a"
             ],
             [
              0.8888888888888888,
              "#fdca26"
             ],
             [
              1,
              "#f0f921"
             ]
            ],
            "type": "contour"
           }
          ],
          "contourcarpet": [
           {
            "colorbar": {
             "outlinewidth": 0,
             "ticks": ""
            },
            "type": "contourcarpet"
           }
          ],
          "heatmap": [
           {
            "colorbar": {
             "outlinewidth": 0,
             "ticks": ""
            },
            "colorscale": [
             [
              0,
              "#0d0887"
             ],
             [
              0.1111111111111111,
              "#46039f"
             ],
             [
              0.2222222222222222,
              "#7201a8"
             ],
             [
              0.3333333333333333,
              "#9c179e"
             ],
             [
              0.4444444444444444,
              "#bd3786"
             ],
             [
              0.5555555555555556,
              "#d8576b"
             ],
             [
              0.6666666666666666,
              "#ed7953"
             ],
             [
              0.7777777777777778,
              "#fb9f3a"
             ],
             [
              0.8888888888888888,
              "#fdca26"
             ],
             [
              1,
              "#f0f921"
             ]
            ],
            "type": "heatmap"
           }
          ],
          "heatmapgl": [
           {
            "colorbar": {
             "outlinewidth": 0,
             "ticks": ""
            },
            "colorscale": [
             [
              0,
              "#0d0887"
             ],
             [
              0.1111111111111111,
              "#46039f"
             ],
             [
              0.2222222222222222,
              "#7201a8"
             ],
             [
              0.3333333333333333,
              "#9c179e"
             ],
             [
              0.4444444444444444,
              "#bd3786"
             ],
             [
              0.5555555555555556,
              "#d8576b"
             ],
             [
              0.6666666666666666,
              "#ed7953"
             ],
             [
              0.7777777777777778,
              "#fb9f3a"
             ],
             [
              0.8888888888888888,
              "#fdca26"
             ],
             [
              1,
              "#f0f921"
             ]
            ],
            "type": "heatmapgl"
           }
          ],
          "histogram": [
           {
            "marker": {
             "pattern": {
              "fillmode": "overlay",
              "size": 10,
              "solidity": 0.2
             }
            },
            "type": "histogram"
           }
          ],
          "histogram2d": [
           {
            "colorbar": {
             "outlinewidth": 0,
             "ticks": ""
            },
            "colorscale": [
             [
              0,
              "#0d0887"
             ],
             [
              0.1111111111111111,
              "#46039f"
             ],
             [
              0.2222222222222222,
              "#7201a8"
             ],
             [
              0.3333333333333333,
              "#9c179e"
             ],
             [
              0.4444444444444444,
              "#bd3786"
             ],
             [
              0.5555555555555556,
              "#d8576b"
             ],
             [
              0.6666666666666666,
              "#ed7953"
             ],
             [
              0.7777777777777778,
              "#fb9f3a"
             ],
             [
              0.8888888888888888,
              "#fdca26"
             ],
             [
              1,
              "#f0f921"
             ]
            ],
            "type": "histogram2d"
           }
          ],
          "histogram2dcontour": [
           {
            "colorbar": {
             "outlinewidth": 0,
             "ticks": ""
            },
            "colorscale": [
             [
              0,
              "#0d0887"
             ],
             [
              0.1111111111111111,
              "#46039f"
             ],
             [
              0.2222222222222222,
              "#7201a8"
             ],
             [
              0.3333333333333333,
              "#9c179e"
             ],
             [
              0.4444444444444444,
              "#bd3786"
             ],
             [
              0.5555555555555556,
              "#d8576b"
             ],
             [
              0.6666666666666666,
              "#ed7953"
             ],
             [
              0.7777777777777778,
              "#fb9f3a"
             ],
             [
              0.8888888888888888,
              "#fdca26"
             ],
             [
              1,
              "#f0f921"
             ]
            ],
            "type": "histogram2dcontour"
           }
          ],
          "mesh3d": [
           {
            "colorbar": {
             "outlinewidth": 0,
             "ticks": ""
            },
            "type": "mesh3d"
           }
          ],
          "parcoords": [
           {
            "line": {
             "colorbar": {
              "outlinewidth": 0,
              "ticks": ""
             }
            },
            "type": "parcoords"
           }
          ],
          "pie": [
           {
            "automargin": true,
            "type": "pie"
           }
          ],
          "scatter": [
           {
            "fillpattern": {
             "fillmode": "overlay",
             "size": 10,
             "solidity": 0.2
            },
            "type": "scatter"
           }
          ],
          "scatter3d": [
           {
            "line": {
             "colorbar": {
              "outlinewidth": 0,
              "ticks": ""
             }
            },
            "marker": {
             "colorbar": {
              "outlinewidth": 0,
              "ticks": ""
             }
            },
            "type": "scatter3d"
           }
          ],
          "scattercarpet": [
           {
            "marker": {
             "colorbar": {
              "outlinewidth": 0,
              "ticks": ""
             }
            },
            "type": "scattercarpet"
           }
          ],
          "scattergeo": [
           {
            "marker": {
             "colorbar": {
              "outlinewidth": 0,
              "ticks": ""
             }
            },
            "type": "scattergeo"
           }
          ],
          "scattergl": [
           {
            "marker": {
             "colorbar": {
              "outlinewidth": 0,
              "ticks": ""
             }
            },
            "type": "scattergl"
           }
          ],
          "scattermapbox": [
           {
            "marker": {
             "colorbar": {
              "outlinewidth": 0,
              "ticks": ""
             }
            },
            "type": "scattermapbox"
           }
          ],
          "scatterpolar": [
           {
            "marker": {
             "colorbar": {
              "outlinewidth": 0,
              "ticks": ""
             }
            },
            "type": "scatterpolar"
           }
          ],
          "scatterpolargl": [
           {
            "marker": {
             "colorbar": {
              "outlinewidth": 0,
              "ticks": ""
             }
            },
            "type": "scatterpolargl"
           }
          ],
          "scatterternary": [
           {
            "marker": {
             "colorbar": {
              "outlinewidth": 0,
              "ticks": ""
             }
            },
            "type": "scatterternary"
           }
          ],
          "surface": [
           {
            "colorbar": {
             "outlinewidth": 0,
             "ticks": ""
            },
            "colorscale": [
             [
              0,
              "#0d0887"
             ],
             [
              0.1111111111111111,
              "#46039f"
             ],
             [
              0.2222222222222222,
              "#7201a8"
             ],
             [
              0.3333333333333333,
              "#9c179e"
             ],
             [
              0.4444444444444444,
              "#bd3786"
             ],
             [
              0.5555555555555556,
              "#d8576b"
             ],
             [
              0.6666666666666666,
              "#ed7953"
             ],
             [
              0.7777777777777778,
              "#fb9f3a"
             ],
             [
              0.8888888888888888,
              "#fdca26"
             ],
             [
              1,
              "#f0f921"
             ]
            ],
            "type": "surface"
           }
          ],
          "table": [
           {
            "cells": {
             "fill": {
              "color": "#EBF0F8"
             },
             "line": {
              "color": "white"
             }
            },
            "header": {
             "fill": {
              "color": "#C8D4E3"
             },
             "line": {
              "color": "white"
             }
            },
            "type": "table"
           }
          ]
         },
         "layout": {
          "annotationdefaults": {
           "arrowcolor": "#2a3f5f",
           "arrowhead": 0,
           "arrowwidth": 1
          },
          "autotypenumbers": "strict",
          "coloraxis": {
           "colorbar": {
            "outlinewidth": 0,
            "ticks": ""
           }
          },
          "colorscale": {
           "diverging": [
            [
             0,
             "#8e0152"
            ],
            [
             0.1,
             "#c51b7d"
            ],
            [
             0.2,
             "#de77ae"
            ],
            [
             0.3,
             "#f1b6da"
            ],
            [
             0.4,
             "#fde0ef"
            ],
            [
             0.5,
             "#f7f7f7"
            ],
            [
             0.6,
             "#e6f5d0"
            ],
            [
             0.7,
             "#b8e186"
            ],
            [
             0.8,
             "#7fbc41"
            ],
            [
             0.9,
             "#4d9221"
            ],
            [
             1,
             "#276419"
            ]
           ],
           "sequential": [
            [
             0,
             "#0d0887"
            ],
            [
             0.1111111111111111,
             "#46039f"
            ],
            [
             0.2222222222222222,
             "#7201a8"
            ],
            [
             0.3333333333333333,
             "#9c179e"
            ],
            [
             0.4444444444444444,
             "#bd3786"
            ],
            [
             0.5555555555555556,
             "#d8576b"
            ],
            [
             0.6666666666666666,
             "#ed7953"
            ],
            [
             0.7777777777777778,
             "#fb9f3a"
            ],
            [
             0.8888888888888888,
             "#fdca26"
            ],
            [
             1,
             "#f0f921"
            ]
           ],
           "sequentialminus": [
            [
             0,
             "#0d0887"
            ],
            [
             0.1111111111111111,
             "#46039f"
            ],
            [
             0.2222222222222222,
             "#7201a8"
            ],
            [
             0.3333333333333333,
             "#9c179e"
            ],
            [
             0.4444444444444444,
             "#bd3786"
            ],
            [
             0.5555555555555556,
             "#d8576b"
            ],
            [
             0.6666666666666666,
             "#ed7953"
            ],
            [
             0.7777777777777778,
             "#fb9f3a"
            ],
            [
             0.8888888888888888,
             "#fdca26"
            ],
            [
             1,
             "#f0f921"
            ]
           ]
          },
          "colorway": [
           "#636efa",
           "#EF553B",
           "#00cc96",
           "#ab63fa",
           "#FFA15A",
           "#19d3f3",
           "#FF6692",
           "#B6E880",
           "#FF97FF",
           "#FECB52"
          ],
          "font": {
           "color": "#2a3f5f"
          },
          "geo": {
           "bgcolor": "white",
           "lakecolor": "white",
           "landcolor": "#E5ECF6",
           "showlakes": true,
           "showland": true,
           "subunitcolor": "white"
          },
          "hoverlabel": {
           "align": "left"
          },
          "hovermode": "closest",
          "mapbox": {
           "style": "light"
          },
          "paper_bgcolor": "white",
          "plot_bgcolor": "#E5ECF6",
          "polar": {
           "angularaxis": {
            "gridcolor": "white",
            "linecolor": "white",
            "ticks": ""
           },
           "bgcolor": "#E5ECF6",
           "radialaxis": {
            "gridcolor": "white",
            "linecolor": "white",
            "ticks": ""
           }
          },
          "scene": {
           "xaxis": {
            "backgroundcolor": "#E5ECF6",
            "gridcolor": "white",
            "gridwidth": 2,
            "linecolor": "white",
            "showbackground": true,
            "ticks": "",
            "zerolinecolor": "white"
           },
           "yaxis": {
            "backgroundcolor": "#E5ECF6",
            "gridcolor": "white",
            "gridwidth": 2,
            "linecolor": "white",
            "showbackground": true,
            "ticks": "",
            "zerolinecolor": "white"
           },
           "zaxis": {
            "backgroundcolor": "#E5ECF6",
            "gridcolor": "white",
            "gridwidth": 2,
            "linecolor": "white",
            "showbackground": true,
            "ticks": "",
            "zerolinecolor": "white"
           }
          },
          "shapedefaults": {
           "line": {
            "color": "#2a3f5f"
           }
          },
          "ternary": {
           "aaxis": {
            "gridcolor": "white",
            "linecolor": "white",
            "ticks": ""
           },
           "baxis": {
            "gridcolor": "white",
            "linecolor": "white",
            "ticks": ""
           },
           "bgcolor": "#E5ECF6",
           "caxis": {
            "gridcolor": "white",
            "linecolor": "white",
            "ticks": ""
           }
          },
          "title": {
           "x": 0.05
          },
          "xaxis": {
           "automargin": true,
           "gridcolor": "white",
           "linecolor": "white",
           "ticks": "",
           "title": {
            "standoff": 15
           },
           "zerolinecolor": "white",
           "zerolinewidth": 2
          },
          "yaxis": {
           "automargin": true,
           "gridcolor": "white",
           "linecolor": "white",
           "ticks": "",
           "title": {
            "standoff": 15
           },
           "zerolinecolor": "white",
           "zerolinewidth": 2
          }
         }
        },
        "title": {
         "font": {
          "color": "#4D5663"
         },
         "text": "Top 20 words in feedback after cleaning"
        },
        "xaxis": {
         "gridcolor": "#E1E5ED",
         "linecolor": "black",
         "showgrid": true,
         "tickfont": {
          "color": "#4D5663"
         },
         "title": {
          "font": {
           "color": "#4D5663"
          },
          "text": ""
         },
         "zerolinecolor": "#E1E5ED"
        },
        "yaxis": {
         "gridcolor": "#E1E5ED",
         "linecolor": "black",
         "showgrid": true,
         "tickfont": {
          "color": "#4D5663"
         },
         "title": {
          "font": {
           "color": "#4D5663"
          },
          "text": "Count"
         },
         "zerolinecolor": "#E1E5ED"
        }
       }
      },
      "text/html": [
       "<div>                            <div id=\"88e2776a-5727-4674-93df-c5535435ccd6\" class=\"plotly-graph-div\" style=\"height:525px; width:100%;\"></div>            <script type=\"text/javascript\">                require([\"plotly\"], function(Plotly) {                    window.PLOTLYENV=window.PLOTLYENV || {};\n",
       "                    window.PLOTLYENV.BASE_URL='https://plot.ly';                                    if (document.getElementById(\"88e2776a-5727-4674-93df-c5535435ccd6\")) {                    Plotly.newPlot(                        \"88e2776a-5727-4674-93df-c5535435ccd6\",                        [{\"marker\":{\"color\":\"rgba(55, 128, 191, 0.6)\",\"line\":{\"color\":\"rgba(55, 128, 191, 1.0)\",\"width\":1}},\"name\":\"count\",\"orientation\":\"v\",\"text\":\"\",\"x\":[\"work\",\"time\",\"team\",\"show\",\"improve\",\"company\",\"well\",\"potential\",\"task\",\"performance\",\"good\",\"need\",\"great\",\"always\",\"worker\",\"see\",\"take\",\"however\",\"job\",\"high\"],\"y\":[942,350,310,297,239,235,226,224,204,204,194,192,186,181,164,154,150,149,147,142],\"type\":\"bar\"}],                        {\"legend\":{\"bgcolor\":\"#F5F6F9\",\"font\":{\"color\":\"#4D5663\"}},\"paper_bgcolor\":\"#F5F6F9\",\"plot_bgcolor\":\"#F5F6F9\",\"template\":{\"data\":{\"barpolar\":[{\"marker\":{\"line\":{\"color\":\"#E5ECF6\",\"width\":0.5},\"pattern\":{\"fillmode\":\"overlay\",\"size\":10,\"solidity\":0.2}},\"type\":\"barpolar\"}],\"bar\":[{\"error_x\":{\"color\":\"#2a3f5f\"},\"error_y\":{\"color\":\"#2a3f5f\"},\"marker\":{\"line\":{\"color\":\"#E5ECF6\",\"width\":0.5},\"pattern\":{\"fillmode\":\"overlay\",\"size\":10,\"solidity\":0.2}},\"type\":\"bar\"}],\"carpet\":[{\"aaxis\":{\"endlinecolor\":\"#2a3f5f\",\"gridcolor\":\"white\",\"linecolor\":\"white\",\"minorgridcolor\":\"white\",\"startlinecolor\":\"#2a3f5f\"},\"baxis\":{\"endlinecolor\":\"#2a3f5f\",\"gridcolor\":\"white\",\"linecolor\":\"white\",\"minorgridcolor\":\"white\",\"startlinecolor\":\"#2a3f5f\"},\"type\":\"carpet\"}],\"choropleth\":[{\"colorbar\":{\"outlinewidth\":0,\"ticks\":\"\"},\"type\":\"choropleth\"}],\"contourcarpet\":[{\"colorbar\":{\"outlinewidth\":0,\"ticks\":\"\"},\"type\":\"contourcarpet\"}],\"contour\":[{\"colorbar\":{\"outlinewidth\":0,\"ticks\":\"\"},\"colorscale\":[[0.0,\"#0d0887\"],[0.1111111111111111,\"#46039f\"],[0.2222222222222222,\"#7201a8\"],[0.3333333333333333,\"#9c179e\"],[0.4444444444444444,\"#bd3786\"],[0.5555555555555556,\"#d8576b\"],[0.6666666666666666,\"#ed7953\"],[0.7777777777777778,\"#fb9f3a\"],[0.8888888888888888,\"#fdca26\"],[1.0,\"#f0f921\"]],\"type\":\"contour\"}],\"heatmapgl\":[{\"colorbar\":{\"outlinewidth\":0,\"ticks\":\"\"},\"colorscale\":[[0.0,\"#0d0887\"],[0.1111111111111111,\"#46039f\"],[0.2222222222222222,\"#7201a8\"],[0.3333333333333333,\"#9c179e\"],[0.4444444444444444,\"#bd3786\"],[0.5555555555555556,\"#d8576b\"],[0.6666666666666666,\"#ed7953\"],[0.7777777777777778,\"#fb9f3a\"],[0.8888888888888888,\"#fdca26\"],[1.0,\"#f0f921\"]],\"type\":\"heatmapgl\"}],\"heatmap\":[{\"colorbar\":{\"outlinewidth\":0,\"ticks\":\"\"},\"colorscale\":[[0.0,\"#0d0887\"],[0.1111111111111111,\"#46039f\"],[0.2222222222222222,\"#7201a8\"],[0.3333333333333333,\"#9c179e\"],[0.4444444444444444,\"#bd3786\"],[0.5555555555555556,\"#d8576b\"],[0.6666666666666666,\"#ed7953\"],[0.7777777777777778,\"#fb9f3a\"],[0.8888888888888888,\"#fdca26\"],[1.0,\"#f0f921\"]],\"type\":\"heatmap\"}],\"histogram2dcontour\":[{\"colorbar\":{\"outlinewidth\":0,\"ticks\":\"\"},\"colorscale\":[[0.0,\"#0d0887\"],[0.1111111111111111,\"#46039f\"],[0.2222222222222222,\"#7201a8\"],[0.3333333333333333,\"#9c179e\"],[0.4444444444444444,\"#bd3786\"],[0.5555555555555556,\"#d8576b\"],[0.6666666666666666,\"#ed7953\"],[0.7777777777777778,\"#fb9f3a\"],[0.8888888888888888,\"#fdca26\"],[1.0,\"#f0f921\"]],\"type\":\"histogram2dcontour\"}],\"histogram2d\":[{\"colorbar\":{\"outlinewidth\":0,\"ticks\":\"\"},\"colorscale\":[[0.0,\"#0d0887\"],[0.1111111111111111,\"#46039f\"],[0.2222222222222222,\"#7201a8\"],[0.3333333333333333,\"#9c179e\"],[0.4444444444444444,\"#bd3786\"],[0.5555555555555556,\"#d8576b\"],[0.6666666666666666,\"#ed7953\"],[0.7777777777777778,\"#fb9f3a\"],[0.8888888888888888,\"#fdca26\"],[1.0,\"#f0f921\"]],\"type\":\"histogram2d\"}],\"histogram\":[{\"marker\":{\"pattern\":{\"fillmode\":\"overlay\",\"size\":10,\"solidity\":0.2}},\"type\":\"histogram\"}],\"mesh3d\":[{\"colorbar\":{\"outlinewidth\":0,\"ticks\":\"\"},\"type\":\"mesh3d\"}],\"parcoords\":[{\"line\":{\"colorbar\":{\"outlinewidth\":0,\"ticks\":\"\"}},\"type\":\"parcoords\"}],\"pie\":[{\"automargin\":true,\"type\":\"pie\"}],\"scatter3d\":[{\"line\":{\"colorbar\":{\"outlinewidth\":0,\"ticks\":\"\"}},\"marker\":{\"colorbar\":{\"outlinewidth\":0,\"ticks\":\"\"}},\"type\":\"scatter3d\"}],\"scattercarpet\":[{\"marker\":{\"colorbar\":{\"outlinewidth\":0,\"ticks\":\"\"}},\"type\":\"scattercarpet\"}],\"scattergeo\":[{\"marker\":{\"colorbar\":{\"outlinewidth\":0,\"ticks\":\"\"}},\"type\":\"scattergeo\"}],\"scattergl\":[{\"marker\":{\"colorbar\":{\"outlinewidth\":0,\"ticks\":\"\"}},\"type\":\"scattergl\"}],\"scattermapbox\":[{\"marker\":{\"colorbar\":{\"outlinewidth\":0,\"ticks\":\"\"}},\"type\":\"scattermapbox\"}],\"scatterpolargl\":[{\"marker\":{\"colorbar\":{\"outlinewidth\":0,\"ticks\":\"\"}},\"type\":\"scatterpolargl\"}],\"scatterpolar\":[{\"marker\":{\"colorbar\":{\"outlinewidth\":0,\"ticks\":\"\"}},\"type\":\"scatterpolar\"}],\"scatter\":[{\"fillpattern\":{\"fillmode\":\"overlay\",\"size\":10,\"solidity\":0.2},\"type\":\"scatter\"}],\"scatterternary\":[{\"marker\":{\"colorbar\":{\"outlinewidth\":0,\"ticks\":\"\"}},\"type\":\"scatterternary\"}],\"surface\":[{\"colorbar\":{\"outlinewidth\":0,\"ticks\":\"\"},\"colorscale\":[[0.0,\"#0d0887\"],[0.1111111111111111,\"#46039f\"],[0.2222222222222222,\"#7201a8\"],[0.3333333333333333,\"#9c179e\"],[0.4444444444444444,\"#bd3786\"],[0.5555555555555556,\"#d8576b\"],[0.6666666666666666,\"#ed7953\"],[0.7777777777777778,\"#fb9f3a\"],[0.8888888888888888,\"#fdca26\"],[1.0,\"#f0f921\"]],\"type\":\"surface\"}],\"table\":[{\"cells\":{\"fill\":{\"color\":\"#EBF0F8\"},\"line\":{\"color\":\"white\"}},\"header\":{\"fill\":{\"color\":\"#C8D4E3\"},\"line\":{\"color\":\"white\"}},\"type\":\"table\"}]},\"layout\":{\"annotationdefaults\":{\"arrowcolor\":\"#2a3f5f\",\"arrowhead\":0,\"arrowwidth\":1},\"autotypenumbers\":\"strict\",\"coloraxis\":{\"colorbar\":{\"outlinewidth\":0,\"ticks\":\"\"}},\"colorscale\":{\"diverging\":[[0,\"#8e0152\"],[0.1,\"#c51b7d\"],[0.2,\"#de77ae\"],[0.3,\"#f1b6da\"],[0.4,\"#fde0ef\"],[0.5,\"#f7f7f7\"],[0.6,\"#e6f5d0\"],[0.7,\"#b8e186\"],[0.8,\"#7fbc41\"],[0.9,\"#4d9221\"],[1,\"#276419\"]],\"sequential\":[[0.0,\"#0d0887\"],[0.1111111111111111,\"#46039f\"],[0.2222222222222222,\"#7201a8\"],[0.3333333333333333,\"#9c179e\"],[0.4444444444444444,\"#bd3786\"],[0.5555555555555556,\"#d8576b\"],[0.6666666666666666,\"#ed7953\"],[0.7777777777777778,\"#fb9f3a\"],[0.8888888888888888,\"#fdca26\"],[1.0,\"#f0f921\"]],\"sequentialminus\":[[0.0,\"#0d0887\"],[0.1111111111111111,\"#46039f\"],[0.2222222222222222,\"#7201a8\"],[0.3333333333333333,\"#9c179e\"],[0.4444444444444444,\"#bd3786\"],[0.5555555555555556,\"#d8576b\"],[0.6666666666666666,\"#ed7953\"],[0.7777777777777778,\"#fb9f3a\"],[0.8888888888888888,\"#fdca26\"],[1.0,\"#f0f921\"]]},\"colorway\":[\"#636efa\",\"#EF553B\",\"#00cc96\",\"#ab63fa\",\"#FFA15A\",\"#19d3f3\",\"#FF6692\",\"#B6E880\",\"#FF97FF\",\"#FECB52\"],\"font\":{\"color\":\"#2a3f5f\"},\"geo\":{\"bgcolor\":\"white\",\"lakecolor\":\"white\",\"landcolor\":\"#E5ECF6\",\"showlakes\":true,\"showland\":true,\"subunitcolor\":\"white\"},\"hoverlabel\":{\"align\":\"left\"},\"hovermode\":\"closest\",\"mapbox\":{\"style\":\"light\"},\"paper_bgcolor\":\"white\",\"plot_bgcolor\":\"#E5ECF6\",\"polar\":{\"angularaxis\":{\"gridcolor\":\"white\",\"linecolor\":\"white\",\"ticks\":\"\"},\"bgcolor\":\"#E5ECF6\",\"radialaxis\":{\"gridcolor\":\"white\",\"linecolor\":\"white\",\"ticks\":\"\"}},\"scene\":{\"xaxis\":{\"backgroundcolor\":\"#E5ECF6\",\"gridcolor\":\"white\",\"gridwidth\":2,\"linecolor\":\"white\",\"showbackground\":true,\"ticks\":\"\",\"zerolinecolor\":\"white\"},\"yaxis\":{\"backgroundcolor\":\"#E5ECF6\",\"gridcolor\":\"white\",\"gridwidth\":2,\"linecolor\":\"white\",\"showbackground\":true,\"ticks\":\"\",\"zerolinecolor\":\"white\"},\"zaxis\":{\"backgroundcolor\":\"#E5ECF6\",\"gridcolor\":\"white\",\"gridwidth\":2,\"linecolor\":\"white\",\"showbackground\":true,\"ticks\":\"\",\"zerolinecolor\":\"white\"}},\"shapedefaults\":{\"line\":{\"color\":\"#2a3f5f\"}},\"ternary\":{\"aaxis\":{\"gridcolor\":\"white\",\"linecolor\":\"white\",\"ticks\":\"\"},\"baxis\":{\"gridcolor\":\"white\",\"linecolor\":\"white\",\"ticks\":\"\"},\"bgcolor\":\"#E5ECF6\",\"caxis\":{\"gridcolor\":\"white\",\"linecolor\":\"white\",\"ticks\":\"\"}},\"title\":{\"x\":0.05},\"xaxis\":{\"automargin\":true,\"gridcolor\":\"white\",\"linecolor\":\"white\",\"ticks\":\"\",\"title\":{\"standoff\":15},\"zerolinecolor\":\"white\",\"zerolinewidth\":2},\"yaxis\":{\"automargin\":true,\"gridcolor\":\"white\",\"linecolor\":\"white\",\"ticks\":\"\",\"title\":{\"standoff\":15},\"zerolinecolor\":\"white\",\"zerolinewidth\":2}}},\"title\":{\"font\":{\"color\":\"#4D5663\"},\"text\":\"Top 20 words in feedback after cleaning\"},\"xaxis\":{\"gridcolor\":\"#E1E5ED\",\"linecolor\":\"black\",\"showgrid\":true,\"tickfont\":{\"color\":\"#4D5663\"},\"title\":{\"font\":{\"color\":\"#4D5663\"},\"text\":\"\"},\"zerolinecolor\":\"#E1E5ED\"},\"yaxis\":{\"gridcolor\":\"#E1E5ED\",\"linecolor\":\"black\",\"showgrid\":true,\"tickfont\":{\"color\":\"#4D5663\"},\"title\":{\"font\":{\"color\":\"#4D5663\"},\"text\":\"Count\"},\"zerolinecolor\":\"#E1E5ED\"}},                        {\"showLink\": true, \"linkText\": \"Export to plot.ly\", \"plotlyServerURL\": \"https://plot.ly\", \"responsive\": true}                    ).then(function(){\n",
       "                            \n",
       "var gd = document.getElementById('88e2776a-5727-4674-93df-c5535435ccd6');\n",
       "var x = new MutationObserver(function (mutations, observer) {{\n",
       "        var display = window.getComputedStyle(gd).display;\n",
       "        if (!display || display === 'none') {{\n",
       "            console.log([gd, 'removed!']);\n",
       "            Plotly.purge(gd);\n",
       "            observer.disconnect();\n",
       "        }}\n",
       "}});\n",
       "\n",
       "// Listen for the removal of the full notebook cells\n",
       "var notebookContainer = gd.closest('#notebook-container');\n",
       "if (notebookContainer) {{\n",
       "    x.observe(notebookContainer, {childList: true});\n",
       "}}\n",
       "\n",
       "// Listen for the clearing of the current output cell\n",
       "var outputEl = gd.closest('.output');\n",
       "if (outputEl) {{\n",
       "    x.observe(outputEl, {childList: true});\n",
       "}}\n",
       "\n",
       "                        })                };                });            </script>        </div>"
      ]
     },
     "metadata": {},
     "output_type": "display_data"
    }
   ],
   "source": [
    "def get_top_n_words(corpus, n=None):\n",
    "    vec = CountVectorizer().fit(corpus)\n",
    "    bag_of_words = vec.transform(corpus)\n",
    "    sum_words = bag_of_words.sum(axis=0) \n",
    "    words_freq = [(word, sum_words[0, idx]) for word, idx in vec.vocabulary_.items()]\n",
    "    words_freq =sorted(words_freq, key = lambda x: x[1], reverse=True)\n",
    "    return words_freq[:n]\n",
    "common_words = get_top_n_words(employees['feedback_clean'], 20)\n",
    "for word, freq in common_words:\n",
    "    print(word, freq)\n",
    "df1 = pd.DataFrame(common_words, columns = ['feedback_clean' , 'count'])\n",
    "df1.groupby('feedback_clean').sum()['count'].sort_values(ascending=False).iplot(\n",
    "    kind='bar', yTitle='Count',color=\"blue\", linecolor='black', title='Top 20 words in feedback after cleaning')"
   ]
  },
  {
   "cell_type": "markdown",
   "id": "1e5efcf3",
   "metadata": {},
   "source": [
    "### Feature Engineering"
   ]
  },
  {
   "cell_type": "code",
   "execution_count": 35,
   "id": "32d315d4",
   "metadata": {},
   "outputs": [],
   "source": [
    "# add sentiment anaylsis columns\n",
    "from nltk.sentiment.vader import SentimentIntensityAnalyzer\n",
    "\n",
    "sid = SentimentIntensityAnalyzer()\n",
    "employees[\"sentiments\"] = employees[\"feedback\"].apply(lambda x: sid.polarity_scores(x))\n",
    "employees = pd.concat([employees.drop(['sentiments'], axis=1), employees['sentiments'].apply(pd.Series)], axis=1)"
   ]
  },
  {
   "cell_type": "code",
   "execution_count": 36,
   "id": "e512dc0e",
   "metadata": {},
   "outputs": [
    {
     "data": {
      "text/html": [
       "<div>\n",
       "<style scoped>\n",
       "    .dataframe tbody tr th:only-of-type {\n",
       "        vertical-align: middle;\n",
       "    }\n",
       "\n",
       "    .dataframe tbody tr th {\n",
       "        vertical-align: top;\n",
       "    }\n",
       "\n",
       "    .dataframe thead th {\n",
       "        text-align: right;\n",
       "    }\n",
       "</style>\n",
       "<table border=\"1\" class=\"dataframe\">\n",
       "  <thead>\n",
       "    <tr style=\"text-align: right;\">\n",
       "      <th></th>\n",
       "      <th>feedback</th>\n",
       "      <th>feedback_sentiment</th>\n",
       "      <th>feedback_clean</th>\n",
       "      <th>neg</th>\n",
       "      <th>neu</th>\n",
       "      <th>pos</th>\n",
       "      <th>compound</th>\n",
       "    </tr>\n",
       "  </thead>\n",
       "  <tbody>\n",
       "    <tr>\n",
       "      <th>652</th>\n",
       "      <td>Basically Briley Mcknight  have high potential...</td>\n",
       "      <td>Negative Feedback</td>\n",
       "      <td>basically briley mcknight high potential work ...</td>\n",
       "      <td>0.061</td>\n",
       "      <td>0.939</td>\n",
       "      <td>0.000</td>\n",
       "      <td>-0.3919</td>\n",
       "    </tr>\n",
       "    <tr>\n",
       "      <th>642</th>\n",
       "      <td>Brantley continues to be less productive than ...</td>\n",
       "      <td>Negative Feedback</td>\n",
       "      <td>brantley continue less productive believe coul...</td>\n",
       "      <td>0.000</td>\n",
       "      <td>0.758</td>\n",
       "      <td>0.242</td>\n",
       "      <td>0.9423</td>\n",
       "    </tr>\n",
       "    <tr>\n",
       "      <th>673</th>\n",
       "      <td>Erin has proven that she has a love for what s...</td>\n",
       "      <td>Negative Feedback</td>\n",
       "      <td>erin proven love push performance low work tur...</td>\n",
       "      <td>0.038</td>\n",
       "      <td>0.845</td>\n",
       "      <td>0.117</td>\n",
       "      <td>0.5403</td>\n",
       "    </tr>\n",
       "    <tr>\n",
       "      <th>500</th>\n",
       "      <td>Alex's work is greatly appreciated. He achieve...</td>\n",
       "      <td>Positive Feedback</td>\n",
       "      <td>alex's work greatly appreciated achieves level...</td>\n",
       "      <td>0.032</td>\n",
       "      <td>0.738</td>\n",
       "      <td>0.230</td>\n",
       "      <td>0.9442</td>\n",
       "    </tr>\n",
       "    <tr>\n",
       "      <th>768</th>\n",
       "      <td>Chelsea has earned a high performer rating.  D...</td>\n",
       "      <td>Positive Feedback</td>\n",
       "      <td>chelsea earn high performer rating evaluation ...</td>\n",
       "      <td>0.000</td>\n",
       "      <td>0.887</td>\n",
       "      <td>0.113</td>\n",
       "      <td>0.7574</td>\n",
       "    </tr>\n",
       "  </tbody>\n",
       "</table>\n",
       "</div>"
      ],
      "text/plain": [
       "                                              feedback feedback_sentiment  \\\n",
       "652  Basically Briley Mcknight  have high potential...  Negative Feedback   \n",
       "642  Brantley continues to be less productive than ...  Negative Feedback   \n",
       "673  Erin has proven that she has a love for what s...  Negative Feedback   \n",
       "500  Alex's work is greatly appreciated. He achieve...  Positive Feedback   \n",
       "768  Chelsea has earned a high performer rating.  D...  Positive Feedback   \n",
       "\n",
       "                                        feedback_clean    neg    neu    pos  \\\n",
       "652  basically briley mcknight high potential work ...  0.061  0.939  0.000   \n",
       "642  brantley continue less productive believe coul...  0.000  0.758  0.242   \n",
       "673  erin proven love push performance low work tur...  0.038  0.845  0.117   \n",
       "500  alex's work greatly appreciated achieves level...  0.032  0.738  0.230   \n",
       "768  chelsea earn high performer rating evaluation ...  0.000  0.887  0.113   \n",
       "\n",
       "     compound  \n",
       "652   -0.3919  \n",
       "642    0.9423  \n",
       "673    0.5403  \n",
       "500    0.9442  \n",
       "768    0.7574  "
      ]
     },
     "execution_count": 36,
     "metadata": {},
     "output_type": "execute_result"
    }
   ],
   "source": [
    "employees.sample(5)"
   ]
  },
  {
   "cell_type": "markdown",
   "id": "5c76d064",
   "metadata": {},
   "source": [
    "### Text Mining Algorithms"
   ]
  },
  {
   "cell_type": "code",
   "execution_count": 37,
   "id": "9d698db2",
   "metadata": {},
   "outputs": [],
   "source": [
    "# Lemmatization process\n",
    "'''\n",
    "Words in the third person are changed to first person and verbs in past and future tenses are changed into the present by the \n",
    "lemmatization process. \n",
    "'''\n",
    "lemmatizer = WordNetLemmatizer()\n",
    "\n",
    "def tokenize_and_lemmatize(text):\n",
    "    # tokenization to ensure that punctuation is caught as its own token\n",
    "    tokens = [word.lower() for sent in nltk.sent_tokenize(text) for word in nltk.word_tokenize(sent)]\n",
    "    filtered_tokens = []\n",
    "    \n",
    "    for token in tokens:\n",
    "        if re.search('[a-zA-Z]', token):\n",
    "            filtered_tokens.append(token)\n",
    "    lem = [lemmatizer.lemmatize(t) for t in filtered_tokens]\n",
    "    return lem"
   ]
  },
  {
   "cell_type": "markdown",
   "id": "4b25f5cf",
   "metadata": {},
   "source": [
    "### Vectorization"
   ]
  },
  {
   "cell_type": "code",
   "execution_count": 38,
   "id": "5f79fb6d",
   "metadata": {},
   "outputs": [],
   "source": [
    "# add number of characters column\n",
    "#employees[\"nb_chars\"] = employees[\"feedback\"].apply(lambda x: len(x))\n",
    "\n",
    "# add number of words column\n",
    "#employees[\"nb_words\"] = employees[\"feedback\"].apply(lambda x: len(x.split(\" \")))"
   ]
  },
  {
   "cell_type": "code",
   "execution_count": 39,
   "id": "a58949a7",
   "metadata": {},
   "outputs": [
    {
     "data": {
      "text/html": [
       "<div>\n",
       "<style scoped>\n",
       "    .dataframe tbody tr th:only-of-type {\n",
       "        vertical-align: middle;\n",
       "    }\n",
       "\n",
       "    .dataframe tbody tr th {\n",
       "        vertical-align: top;\n",
       "    }\n",
       "\n",
       "    .dataframe thead th {\n",
       "        text-align: right;\n",
       "    }\n",
       "</style>\n",
       "<table border=\"1\" class=\"dataframe\">\n",
       "  <thead>\n",
       "    <tr style=\"text-align: right;\">\n",
       "      <th></th>\n",
       "      <th>feedback</th>\n",
       "      <th>feedback_sentiment</th>\n",
       "      <th>feedback_clean</th>\n",
       "      <th>neg</th>\n",
       "      <th>neu</th>\n",
       "      <th>pos</th>\n",
       "      <th>compound</th>\n",
       "    </tr>\n",
       "  </thead>\n",
       "  <tbody>\n",
       "    <tr>\n",
       "      <th>734</th>\n",
       "      <td>Dennis joined the company last year. Since the...</td>\n",
       "      <td>Positive Feedback</td>\n",
       "      <td>dennis join company last year since dennis pro...</td>\n",
       "      <td>0.086</td>\n",
       "      <td>0.738</td>\n",
       "      <td>0.176</td>\n",
       "      <td>0.5574</td>\n",
       "    </tr>\n",
       "    <tr>\n",
       "      <th>49</th>\n",
       "      <td>Caiden Pace has repeatedly showed a lack of mo...</td>\n",
       "      <td>Negative Feedback</td>\n",
       "      <td>caiden pace repeatedly show lack motivation dr...</td>\n",
       "      <td>0.120</td>\n",
       "      <td>0.782</td>\n",
       "      <td>0.098</td>\n",
       "      <td>-0.1729</td>\n",
       "    </tr>\n",
       "    <tr>\n",
       "      <th>265</th>\n",
       "      <td>Nolan performs well when given direction Nolan...</td>\n",
       "      <td>Positive Feedback</td>\n",
       "      <td>nolan performs well give direction nolan's per...</td>\n",
       "      <td>0.000</td>\n",
       "      <td>0.848</td>\n",
       "      <td>0.152</td>\n",
       "      <td>0.7996</td>\n",
       "    </tr>\n",
       "    <tr>\n",
       "      <th>260</th>\n",
       "      <td>Emilia has produced amazing quality of work th...</td>\n",
       "      <td>Positive Feedback</td>\n",
       "      <td>emilia produce amazing quality work quarter wo...</td>\n",
       "      <td>0.032</td>\n",
       "      <td>0.795</td>\n",
       "      <td>0.173</td>\n",
       "      <td>0.8653</td>\n",
       "    </tr>\n",
       "    <tr>\n",
       "      <th>485</th>\n",
       "      <td>kyle lawson is a core player of our department...</td>\n",
       "      <td>Positive Feedback</td>\n",
       "      <td>kyle lawson core player department despite mod...</td>\n",
       "      <td>0.000</td>\n",
       "      <td>1.000</td>\n",
       "      <td>0.000</td>\n",
       "      <td>0.0000</td>\n",
       "    </tr>\n",
       "  </tbody>\n",
       "</table>\n",
       "</div>"
      ],
      "text/plain": [
       "                                              feedback feedback_sentiment  \\\n",
       "734  Dennis joined the company last year. Since the...  Positive Feedback   \n",
       "49   Caiden Pace has repeatedly showed a lack of mo...  Negative Feedback   \n",
       "265  Nolan performs well when given direction Nolan...  Positive Feedback   \n",
       "260  Emilia has produced amazing quality of work th...  Positive Feedback   \n",
       "485  kyle lawson is a core player of our department...  Positive Feedback   \n",
       "\n",
       "                                        feedback_clean    neg    neu    pos  \\\n",
       "734  dennis join company last year since dennis pro...  0.086  0.738  0.176   \n",
       "49   caiden pace repeatedly show lack motivation dr...  0.120  0.782  0.098   \n",
       "265  nolan performs well give direction nolan's per...  0.000  0.848  0.152   \n",
       "260  emilia produce amazing quality work quarter wo...  0.032  0.795  0.173   \n",
       "485  kyle lawson core player department despite mod...  0.000  1.000  0.000   \n",
       "\n",
       "     compound  \n",
       "734    0.5574  \n",
       "49    -0.1729  \n",
       "265    0.7996  \n",
       "260    0.8653  \n",
       "485    0.0000  "
      ]
     },
     "execution_count": 39,
     "metadata": {},
     "output_type": "execute_result"
    }
   ],
   "source": [
    "employees.sample(5)"
   ]
  },
  {
   "cell_type": "code",
   "execution_count": 40,
   "id": "39333e02",
   "metadata": {},
   "outputs": [],
   "source": [
    "# Defining a Count Vectorizer object\n",
    "count_vec = CountVectorizer(stop_words='english', max_features=10000)\n",
    "# Defining a TF-IDF Vectorizer\n",
    "tfidf_vec = TfidfVectorizer(stop_words='english', ngram_range=(1, 2), tokenizer=tokenize_and_lemmatize, max_features=10000, use_idf=True) #clean_text,tokenize_and_lemmatize"
   ]
  },
  {
   "cell_type": "code",
   "execution_count": 41,
   "id": "ad38d620",
   "metadata": {},
   "outputs": [],
   "source": [
    "#mb = MultiLabelBinarizer() #mb = MultiLabelBinarizer()\n",
    "#y=mb.fit_transform(employees['feedback_sentiment'].dropna().str.split(', '))\n",
    "#print (y)\n",
    "#print(mb.classes_ )\n",
    "#print(y.shape)"
   ]
  },
  {
   "cell_type": "code",
   "execution_count": 42,
   "id": "dae1fa37",
   "metadata": {},
   "outputs": [],
   "source": [
    "y=employees['feedback_sentiment']"
   ]
  },
  {
   "cell_type": "code",
   "execution_count": 43,
   "id": "dae13457",
   "metadata": {},
   "outputs": [],
   "source": [
    "X_train, X_test, y_train, y_test = train_test_split(employees['feedback_clean'], y, test_size=0.2, random_state=55)"
   ]
  },
  {
   "cell_type": "markdown",
   "id": "91bcbe6f",
   "metadata": {},
   "source": [
    "### TF-IDF"
   ]
  },
  {
   "cell_type": "code",
   "execution_count": 44,
   "id": "f22253b5",
   "metadata": {},
   "outputs": [],
   "source": [
    "import warnings\n",
    "warnings.filterwarnings('ignore')"
   ]
  },
  {
   "cell_type": "code",
   "execution_count": 45,
   "id": "38c2203d",
   "metadata": {},
   "outputs": [
    {
     "data": {
      "text/plain": [
       "(702, 10000)"
      ]
     },
     "execution_count": 45,
     "metadata": {},
     "output_type": "execute_result"
    }
   ],
   "source": [
    "# Tf-Idf transformation \n",
    "xtrain_tfidf = tfidf_vec.fit_transform(X_train)\n",
    "xtest_tfidf = tfidf_vec.transform(X_test)\n",
    "xtrain_tfidf.shape"
   ]
  },
  {
   "cell_type": "code",
   "execution_count": 46,
   "id": "4f70f816",
   "metadata": {},
   "outputs": [
    {
     "data": {
      "text/plain": [
       "(702, 2614)"
      ]
     },
     "execution_count": 46,
     "metadata": {},
     "output_type": "execute_result"
    }
   ],
   "source": [
    "# Count Vectorizer transformation\n",
    "xtrain_cv = count_vec.fit_transform(X_train)\n",
    "xtest_cv = count_vec.transform(X_test)\n",
    "xtrain_cv.shape"
   ]
  },
  {
   "cell_type": "code",
   "execution_count": null,
   "id": "a0f9f242",
   "metadata": {},
   "outputs": [],
   "source": []
  },
  {
   "cell_type": "markdown",
   "id": "ce95b29c",
   "metadata": {},
   "source": [
    "## Exploratory data analysis (2)"
   ]
  },
  {
   "cell_type": "code",
   "execution_count": 47,
   "id": "86c5c484",
   "metadata": {},
   "outputs": [
    {
     "data": {
      "text/plain": [
       "Positive Feedback    0.560364\n",
       "Negative Feedback    0.439636\n",
       "Name: feedback_sentiment, dtype: float64"
      ]
     },
     "execution_count": 47,
     "metadata": {},
     "output_type": "execute_result"
    }
   ],
   "source": [
    "# show is_good_feedback distribution\n",
    "employees[\"feedback_sentiment\"].value_counts(normalize = True)"
   ]
  },
  {
   "cell_type": "code",
   "execution_count": 48,
   "id": "60d55f44",
   "metadata": {},
   "outputs": [
    {
     "data": {
      "image/png": "[encoded data removed]",
      "text/plain": [
       "<Figure size 1440x1440 with 1 Axes>"
      ]
     },
     "metadata": {
      "needs_background": "light"
     },
     "output_type": "display_data"
    }
   ],
   "source": [
    "# wordcloud function\n",
    "\n",
    "from wordcloud import WordCloud\n",
    "import matplotlib.pyplot as plt\n",
    "\n",
    "def show_wordcloud(data, title = None):\n",
    "    wordcloud = WordCloud(\n",
    "        background_color = 'white',\n",
    "        max_words = 200,\n",
    "        max_font_size = 40, \n",
    "        scale = 3,\n",
    "        random_state = 42\n",
    "    ).generate(str(data))\n",
    "\n",
    "    fig = plt.figure(1, figsize = (20, 20))\n",
    "    plt.axis('off')\n",
    "    if title: \n",
    "        fig.suptitle(title, fontsize = 20)\n",
    "        fig.subplots_adjust(top = 2.3)\n",
    "\n",
    "    plt.imshow(wordcloud)\n",
    "    plt.show()\n",
    "    \n",
    "# print wordcloud\n",
    "show_wordcloud(employees[\"feedback\"])"
   ]
  },
  {
   "cell_type": "code",
   "execution_count": 49,
   "id": "79bdf692",
   "metadata": {},
   "outputs": [],
   "source": [
    "# add number of characters column\n",
    "employees[\"nb_chars\"] = employees[\"feedback\"].apply(lambda x: len(x))\n",
    "\n",
    "# add number of words column\n",
    "employees[\"nb_words\"] = employees[\"feedback\"].apply(lambda x: len(x.split(\" \")))"
   ]
  },
  {
   "cell_type": "code",
   "execution_count": 51,
   "id": "a42be7ea",
   "metadata": {},
   "outputs": [
    {
     "data": {
      "text/html": [
       "<div>\n",
       "<style scoped>\n",
       "    .dataframe tbody tr th:only-of-type {\n",
       "        vertical-align: middle;\n",
       "    }\n",
       "\n",
       "    .dataframe tbody tr th {\n",
       "        vertical-align: top;\n",
       "    }\n",
       "\n",
       "    .dataframe thead th {\n",
       "        text-align: right;\n",
       "    }\n",
       "</style>\n",
       "<table border=\"1\" class=\"dataframe\">\n",
       "  <thead>\n",
       "    <tr style=\"text-align: right;\">\n",
       "      <th></th>\n",
       "      <th>feedback</th>\n",
       "      <th>pos</th>\n",
       "    </tr>\n",
       "  </thead>\n",
       "  <tbody>\n",
       "    <tr>\n",
       "      <th>453</th>\n",
       "      <td>Generally of good speed.\\nSightly enthusiast.\\...</td>\n",
       "      <td>0.596</td>\n",
       "    </tr>\n",
       "    <tr>\n",
       "      <th>215</th>\n",
       "      <td>Joyce douglas is a pleasure to have at work, s...</td>\n",
       "      <td>0.553</td>\n",
       "    </tr>\n",
       "    <tr>\n",
       "      <th>170</th>\n",
       "      <td>He is a good player.\\nshould improve on speed....</td>\n",
       "      <td>0.512</td>\n",
       "    </tr>\n",
       "    <tr>\n",
       "      <th>286</th>\n",
       "      <td>Willingness to accomplish. Needs constant coac...</td>\n",
       "      <td>0.502</td>\n",
       "    </tr>\n",
       "    <tr>\n",
       "      <th>41</th>\n",
       "      <td>wade shows no meaningful improvements and will...</td>\n",
       "      <td>0.482</td>\n",
       "    </tr>\n",
       "    <tr>\n",
       "      <th>421</th>\n",
       "      <td>Lexi Rogers Is one of best workers. He is good...</td>\n",
       "      <td>0.475</td>\n",
       "    </tr>\n",
       "    <tr>\n",
       "      <th>190</th>\n",
       "      <td>Requires additional encouragement. Needs mento...</td>\n",
       "      <td>0.450</td>\n",
       "    </tr>\n",
       "    <tr>\n",
       "      <th>402</th>\n",
       "      <td>Alina Britt offer potential solutions to a pro...</td>\n",
       "      <td>0.417</td>\n",
       "    </tr>\n",
       "    <tr>\n",
       "      <th>819</th>\n",
       "      <td>Hey Nathan! You've been doing a great job late...</td>\n",
       "      <td>0.409</td>\n",
       "    </tr>\n",
       "    <tr>\n",
       "      <th>217</th>\n",
       "      <td>Teagan Pate Is getting better at performance. ...</td>\n",
       "      <td>0.407</td>\n",
       "    </tr>\n",
       "  </tbody>\n",
       "</table>\n",
       "</div>"
      ],
      "text/plain": [
       "                                              feedback    pos\n",
       "453  Generally of good speed.\\nSightly enthusiast.\\...  0.596\n",
       "215  Joyce douglas is a pleasure to have at work, s...  0.553\n",
       "170  He is a good player.\\nshould improve on speed....  0.512\n",
       "286  Willingness to accomplish. Needs constant coac...  0.502\n",
       "41   wade shows no meaningful improvements and will...  0.482\n",
       "421  Lexi Rogers Is one of best workers. He is good...  0.475\n",
       "190  Requires additional encouragement. Needs mento...  0.450\n",
       "402  Alina Britt offer potential solutions to a pro...  0.417\n",
       "819  Hey Nathan! You've been doing a great job late...  0.409\n",
       "217  Teagan Pate Is getting better at performance. ...  0.407"
      ]
     },
     "execution_count": 51,
     "metadata": {},
     "output_type": "execute_result"
    }
   ],
   "source": [
    "# highest positive sentiment reviews (with more than 5 words)\n",
    "employees[employees[\"nb_words\"] >= 5].sort_values(\"pos\", ascending = False)[[\"feedback\", \"pos\"]].head(10)"
   ]
  },
  {
   "cell_type": "code",
   "execution_count": 52,
   "id": "505b80c1",
   "metadata": {},
   "outputs": [
    {
     "data": {
      "text/html": [
       "<div>\n",
       "<style scoped>\n",
       "    .dataframe tbody tr th:only-of-type {\n",
       "        vertical-align: middle;\n",
       "    }\n",
       "\n",
       "    .dataframe tbody tr th {\n",
       "        vertical-align: top;\n",
       "    }\n",
       "\n",
       "    .dataframe thead th {\n",
       "        text-align: right;\n",
       "    }\n",
       "</style>\n",
       "<table border=\"1\" class=\"dataframe\">\n",
       "  <thead>\n",
       "    <tr style=\"text-align: right;\">\n",
       "      <th></th>\n",
       "      <th>feedback</th>\n",
       "      <th>neg</th>\n",
       "    </tr>\n",
       "  </thead>\n",
       "  <tbody>\n",
       "    <tr>\n",
       "      <th>88</th>\n",
       "      <td>You have poor potential to make value judgment...</td>\n",
       "      <td>0.277</td>\n",
       "    </tr>\n",
       "    <tr>\n",
       "      <th>54</th>\n",
       "      <td>Mr Geroge Gill struggles to get the task done....</td>\n",
       "      <td>0.231</td>\n",
       "    </tr>\n",
       "    <tr>\n",
       "      <th>483</th>\n",
       "      <td>Finley is an average worker with nothing extra...</td>\n",
       "      <td>0.218</td>\n",
       "    </tr>\n",
       "    <tr>\n",
       "      <th>106</th>\n",
       "      <td>Katherine has a bad attitude towards work and ...</td>\n",
       "      <td>0.213</td>\n",
       "    </tr>\n",
       "    <tr>\n",
       "      <th>402</th>\n",
       "      <td>Alina Britt offer potential solutions to a pro...</td>\n",
       "      <td>0.211</td>\n",
       "    </tr>\n",
       "    <tr>\n",
       "      <th>13</th>\n",
       "      <td>Libby started off well but no longer has motiv...</td>\n",
       "      <td>0.204</td>\n",
       "    </tr>\n",
       "    <tr>\n",
       "      <th>29</th>\n",
       "      <td>Kayden Hill struggles with the tasks set befor...</td>\n",
       "      <td>0.200</td>\n",
       "    </tr>\n",
       "    <tr>\n",
       "      <th>655</th>\n",
       "      <td>He has the ability to extract an idea about pa...</td>\n",
       "      <td>0.197</td>\n",
       "    </tr>\n",
       "    <tr>\n",
       "      <th>356</th>\n",
       "      <td>Lacey was very tough to deal with. She never s...</td>\n",
       "      <td>0.193</td>\n",
       "    </tr>\n",
       "    <tr>\n",
       "      <th>89</th>\n",
       "      <td>Freddie has been quite disappointing this quar...</td>\n",
       "      <td>0.190</td>\n",
       "    </tr>\n",
       "  </tbody>\n",
       "</table>\n",
       "</div>"
      ],
      "text/plain": [
       "                                              feedback    neg\n",
       "88   You have poor potential to make value judgment...  0.277\n",
       "54   Mr Geroge Gill struggles to get the task done....  0.231\n",
       "483  Finley is an average worker with nothing extra...  0.218\n",
       "106  Katherine has a bad attitude towards work and ...  0.213\n",
       "402  Alina Britt offer potential solutions to a pro...  0.211\n",
       "13   Libby started off well but no longer has motiv...  0.204\n",
       "29   Kayden Hill struggles with the tasks set befor...  0.200\n",
       "655  He has the ability to extract an idea about pa...  0.197\n",
       "356  Lacey was very tough to deal with. She never s...  0.193\n",
       "89   Freddie has been quite disappointing this quar...  0.190"
      ]
     },
     "execution_count": 52,
     "metadata": {},
     "output_type": "execute_result"
    }
   ],
   "source": [
    "# lowest negative sentiment reviews (with more than 5 words)\n",
    "employees[employees[\"nb_words\"] >= 5].sort_values(\"neg\", ascending = False)[[\"feedback\", \"neg\"]].head(10)"
   ]
  },
  {
   "cell_type": "markdown",
   "id": "f507cbb9",
   "metadata": {},
   "source": [
    "## Classification"
   ]
  },
  {
   "cell_type": "markdown",
   "id": "57f3993d",
   "metadata": {},
   "source": [
    "With feedbacks represented as vectors, we can finally train our model. Now we can actually use almost any sort of classification algorithms"
   ]
  },
  {
   "cell_type": "markdown",
   "id": "2eb41f6b",
   "metadata": {},
   "source": [
    "### Model Evaluation Function"
   ]
  },
  {
   "cell_type": "code",
   "execution_count": 53,
   "id": "065bdd85",
   "metadata": {},
   "outputs": [],
   "source": [
    "from sklearn.metrics import confusion_matrix, classification_report\n",
    "def model_Evaluate(model):\n",
    "    # Print the evaluation metrics for the dataset.\n",
    "    print(classification_report(y_test, y_pred))\n",
    "    # Compute and plot the Confusion matrix\n",
    "    cf_matrix = confusion_matrix(y_test, y_pred)\n",
    "    categories = ['Negative','Positive']\n",
    "    group_names = ['True Neg','False Pos', 'False Neg','True Pos']\n",
    "    group_percentages = ['{0:.2%}'.format(value) for value in cf_matrix.flatten() / np.sum(cf_matrix)]\n",
    "    labels = [f'{v1}:{v2}' for v1, v2 in zip(group_names,group_percentages)]\n",
    "    labels = np.asarray(labels).reshape(2,2)\n",
    "    sns.heatmap(cf_matrix, annot = labels, cmap = 'Blues',fmt = '',\n",
    "    xticklabels = categories, yticklabels = categories)\n",
    "    plt.xlabel(\"Predicted values\", fontdict = {'size':14}, labelpad = 10)\n",
    "    plt.ylabel(\"Actual values\" , fontdict = {'size':14}, labelpad = 10)\n",
    "    plt.title (\"Confusion Matrix\", fontdict = {'size':18}, pad = 20)"
   ]
  },
  {
   "cell_type": "markdown",
   "id": "bd6543e7",
   "metadata": {},
   "source": [
    "# Model building"
   ]
  },
  {
   "cell_type": "markdown",
   "id": "e9d04dff",
   "metadata": {},
   "source": [
    "## KNN"
   ]
  },
  {
   "cell_type": "code",
   "execution_count": 60,
   "id": "9960240b",
   "metadata": {},
   "outputs": [
    {
     "name": "stdout",
     "output_type": "stream",
     "text": [
      "Test Accuracy Score of KNN.: 76.7 % \n",
      "Precision :78.0 % \n",
      "Recall    :75.86 % \n",
      "F1-score   :75.96 % \n"
     ]
    }
   ],
   "source": [
    "from sklearn.neighbors import KNeighborsClassifier\n",
    "neigh = KNeighborsClassifier()\n",
    "neigh.fit(xtrain_tfidf, y_train)\n",
    "y_pred = neigh.predict(xtest_tfidf)\n",
    "# Performance metrics\n",
    "accuracy, precision, recall, f1score = get_performance(y_test, y_pred)\n",
    "print(f'Test Accuracy Score of KNN.: {accuracy} % ')\n",
    "print(f'Precision :{round((precision) * 100,2)} % ')\n",
    "print(f'Recall    :{round((recall) * 100,2)} % ')\n",
    "print(f'F1-score   :{round((f1score) * 100,2)} % ')"
   ]
  },
  {
   "cell_type": "code",
   "execution_count": 61,
   "id": "682f8074",
   "metadata": {},
   "outputs": [
    {
     "data": {
      "text/plain": [
       "dict_keys(['algorithm', 'leaf_size', 'metric', 'metric_params', 'n_jobs', 'n_neighbors', 'p', 'weights'])"
      ]
     },
     "execution_count": 61,
     "metadata": {},
     "output_type": "execute_result"
    }
   ],
   "source": [
    "neigh.get_params().keys()"
   ]
  },
  {
   "cell_type": "code",
   "execution_count": 62,
   "id": "6f3746ba",
   "metadata": {},
   "outputs": [],
   "source": [
    "param = {'n_neighbors':range(20), 'weights':['uniform,','distance'],'metric':['euclidean','manhattan']}"
   ]
  },
  {
   "cell_type": "code",
   "execution_count": 63,
   "id": "64c176c4",
   "metadata": {},
   "outputs": [
    {
     "data": {
      "text/plain": [
       "GridSearchCV(cv=KFold(n_splits=10, random_state=55, shuffle=True),\n",
       "             estimator=KNeighborsClassifier(), n_jobs=-1,\n",
       "             param_grid={'metric': ['euclidean', 'manhattan'],\n",
       "                         'n_neighbors': range(0, 20),\n",
       "                         'weights': ['uniform,', 'distance']})"
      ]
     },
     "execution_count": 63,
     "metadata": {},
     "output_type": "execute_result"
    }
   ],
   "source": [
    "# GridSearchCV\n",
    "kf=KFold(n_splits=10, shuffle=True, random_state=55)\n",
    "KNN_grid = GridSearchCV(neigh, param_grid = param, cv = kf, n_jobs=-1)\n",
    "KNN_grid.fit(xtrain_tfidf, y_train)"
   ]
  },
  {
   "cell_type": "code",
   "execution_count": 64,
   "id": "bd1b7781",
   "metadata": {},
   "outputs": [
    {
     "name": "stdout",
     "output_type": "stream",
     "text": [
      "0.8119315895372233\n",
      "{'metric': 'euclidean', 'n_neighbors': 6, 'weights': 'distance'}\n",
      "KNeighborsClassifier(metric='euclidean', n_neighbors=6, weights='distance')\n"
     ]
    }
   ],
   "source": [
    "# examine the best model\n",
    "print(KNN_grid.best_score_)\n",
    "print(KNN_grid.best_params_)\n",
    "print(KNN_grid.best_estimator_)"
   ]
  },
  {
   "cell_type": "code",
   "execution_count": 65,
   "id": "e049b02c",
   "metadata": {},
   "outputs": [
    {
     "name": "stdout",
     "output_type": "stream",
     "text": [
      "Test Accuracy Score of KNN.: % 81.25\n",
      "Precision :% 82.27\n",
      "Recall    :% 80.58\n",
      "F1-score   :% 80.8\n"
     ]
    }
   ],
   "source": [
    "neigh_grid = KNeighborsClassifier(metric='euclidean', weights='distance',n_neighbors=6)\n",
    "neigh_grid.fit(xtrain_tfidf, y_train)\n",
    "y_pred = neigh_grid.predict(xtest_tfidf)\n",
    "# Performance metrics\n",
    "accuracy, precision, recall, f1score = get_performance(y_test, y_pred)\n",
    "print(f'Test Accuracy Score of KNN.: % {accuracy}')\n",
    "print(f'Precision :% {round((precision) * 100,2)}')\n",
    "print(f'Recall    :% {round((recall) * 100,2)}')\n",
    "print(f'F1-score   :% {round((f1score) * 100,2)}')"
   ]
  },
  {
   "cell_type": "code",
   "execution_count": 66,
   "id": "ce5dd58a",
   "metadata": {},
   "outputs": [],
   "source": [
    "# Add performance parameters to list\n",
    "evaluation_list.append(dict([\n",
    "    ('Model', 'KNN'),\n",
    "    ('Test Accuracy', round(accuracy, 2)),\n",
    "    ('Precision', round((precision),2)),\n",
    "    ('Recall', round(recall, 2)),\n",
    "    ('F1', round(f1score, 2))\n",
    "     ]))"
   ]
  },
  {
   "cell_type": "code",
   "execution_count": 67,
   "id": "a7c5996a",
   "metadata": {},
   "outputs": [
    {
     "data": {
      "text/plain": [
       "'Negative Feedback'"
      ]
     },
     "execution_count": 67,
     "metadata": {},
     "output_type": "execute_result"
    }
   ],
   "source": [
    "y_pred[16] #mb.inverse_transform(y_pred)[16]"
   ]
  },
  {
   "cell_type": "markdown",
   "id": "af9036e0",
   "metadata": {},
   "source": [
    "### Logistic Regression"
   ]
  },
  {
   "cell_type": "code",
   "execution_count": 54,
   "id": "b37b8cc4",
   "metadata": {},
   "outputs": [
    {
     "data": {
      "text/plain": [
       "LogisticRegression(C=10)"
      ]
     },
     "execution_count": 54,
     "metadata": {},
     "output_type": "execute_result"
    }
   ],
   "source": [
    "log_reg = LogisticRegression(C=10, penalty='l2')\n",
    "log_reg.fit(xtrain_tfidf, y_train)"
   ]
  },
  {
   "cell_type": "code",
   "execution_count": 55,
   "id": "d82b5fe0",
   "metadata": {},
   "outputs": [
    {
     "name": "stdout",
     "output_type": "stream",
     "text": [
      "Test Accuracy Score of Logistic Reg.: % 82.95\n",
      "Precision :% 83.67\n",
      "Recall    :% 82.41\n",
      "F1-score   :% 82.63\n"
     ]
    }
   ],
   "source": [
    "y_pred = log_reg.predict(xtest_tfidf)\n",
    "\n",
    "def get_performance(y_test, y_pred):\n",
    "    # Evaluate Performance\n",
    "    accuracy = round(accuracy_score(y_test, y_pred) * 100, 2)\n",
    "    # Get precision, recall, f1 scores\n",
    "    precision, recall, f1score, support = score(y_test, y_pred, average='macro')\n",
    "    return accuracy, precision, recall, f1score\n",
    "\n",
    "# Performance metrics\n",
    "accuracy, precision, recall, f1score = get_performance(y_test, y_pred)\n",
    "print(f'Test Accuracy Score of Logistic Reg.: % {accuracy}')\n",
    "print(f'Precision :% {round((precision) * 100,2)}')\n",
    "print(f'Recall    :% {round((recall) * 100,2)}')\n",
    "print(f'F1-score   :% {round((f1score) * 100,2)}')"
   ]
  },
  {
   "cell_type": "code",
   "execution_count": 71,
   "id": "698212a9",
   "metadata": {},
   "outputs": [
    {
     "name": "stdout",
     "output_type": "stream",
     "text": [
      "Cross Validation Scores:  [0.83098592 0.77464789 0.68571429 0.81428571 0.65714286 0.74285714\n",
      " 0.7        0.72857143 0.67142857 0.82857143]\n",
      "Average CV Score:  0.7434205231388329\n",
      "Number of CV Scores used in Average:  10\n"
     ]
    }
   ],
   "source": [
    "\n",
    "from sklearn import datasets\n",
    "from sklearn.tree import DecisionTreeClassifier\n",
    "from sklearn.model_selection import KFold, cross_val_score\n",
    "\n",
    "\n",
    "#clf = log_reg = LogisticRegression()\n",
    "\n",
    "#k_folds = KFold(n_splits = 10)\n",
    "\n",
    "#scores = cross_val_score(clf,xtrain_tfidf,y_train, cv = k_folds)\n",
    "\n",
    "#print(\"Cross Validation Scores: \", scores)\n",
    "#print(\"Average CV Score: \", scores.mean())\n",
    "#print(\"Number of CV Scores used in Average: \", len(scores)) "
   ]
  },
  {
   "cell_type": "code",
   "execution_count": 56,
   "id": "ddaf6acf",
   "metadata": {},
   "outputs": [],
   "source": [
    "# to hold model's results\n",
    "evaluation_list=[]"
   ]
  },
  {
   "cell_type": "code",
   "execution_count": 57,
   "id": "76348d1f",
   "metadata": {},
   "outputs": [],
   "source": [
    "# Add performance parameters to list\n",
    "evaluation_list.append(dict([\n",
    "    ('Model', 'Logistic Regression'),\n",
    "    ('Test Accuracy', round(accuracy, 2)),\n",
    "    ('Precision', round((precision),2)),\n",
    "    ('Recall', round(recall, 2)),\n",
    "    ('F1', round(f1score, 2))\n",
    "     ]))"
   ]
  },
  {
   "cell_type": "code",
   "execution_count": 58,
   "id": "f56e006d",
   "metadata": {},
   "outputs": [
    {
     "data": {
      "text/plain": [
       "'Negative Feedback'"
      ]
     },
     "execution_count": 58,
     "metadata": {},
     "output_type": "execute_result"
    }
   ],
   "source": [
    "y_pred[16] #mb.inverse_transform(y_pred)[16]"
   ]
  },
  {
   "cell_type": "code",
   "execution_count": 59,
   "id": "20f61e6d",
   "metadata": {},
   "outputs": [
    {
     "name": "stdout",
     "output_type": "stream",
     "text": [
      "                   precision    recall  f1-score   support\n",
      "\n",
      "Negative Feedback       0.87      0.74      0.80        82\n",
      "Positive Feedback       0.80      0.90      0.85        94\n",
      "\n",
      "         accuracy                           0.83       176\n",
      "        macro avg       0.84      0.82      0.83       176\n",
      "     weighted avg       0.83      0.83      0.83       176\n",
      "\n"
     ]
    },
    {
     "data": {
      "image/png": "[encoded data removed]",
      "text/plain": [
       "<Figure size 432x288 with 2 Axes>"
      ]
     },
     "metadata": {
      "needs_background": "light"
     },
     "output_type": "display_data"
    }
   ],
   "source": [
    "model_Evaluate(log_reg)"
   ]
  },
  {
   "cell_type": "markdown",
   "id": "030c96fb",
   "metadata": {},
   "source": [
    "### Multinomial Naive Bayes"
   ]
  },
  {
   "cell_type": "code",
   "execution_count": 68,
   "id": "6cc430e6",
   "metadata": {},
   "outputs": [
    {
     "data": {
      "text/plain": [
       "MultinomialNB()"
      ]
     },
     "execution_count": 68,
     "metadata": {},
     "output_type": "execute_result"
    }
   ],
   "source": [
    "nbayes = MultinomialNB()\n",
    "nbayes.fit(xtrain_tfidf, y_train)"
   ]
  },
  {
   "cell_type": "code",
   "execution_count": 69,
   "id": "c977efdf",
   "metadata": {},
   "outputs": [
    {
     "name": "stdout",
     "output_type": "stream",
     "text": [
      "Test Accuracy Score of Basic Multinomial Naive Bayes.: % 72.16\n",
      "Precision :% 80.39\n",
      "Recall    :% 70.28\n",
      "F1-score   :% 68.9\n"
     ]
    }
   ],
   "source": [
    "y_pred = nbayes.predict(xtest_tfidf)\n",
    "\n",
    "# Performance metrics\n",
    "accuracy, precision, recall, f1score = get_performance(y_test, y_pred)\n",
    "print(f'Test Accuracy Score of Basic Multinomial Naive Bayes.: % {accuracy}')\n",
    "print(f'Precision :% {round((precision) * 100,2)}')\n",
    "print(f'Recall    :% {round((recall) * 100,2)}')\n",
    "print(f'F1-score   :% {round((f1score) * 100,2)}')"
   ]
  },
  {
   "cell_type": "code",
   "execution_count": 70,
   "id": "8dc2110a",
   "metadata": {},
   "outputs": [
    {
     "data": {
      "text/plain": [
       "dict_keys(['alpha', 'class_prior', 'fit_prior'])"
      ]
     },
     "execution_count": 70,
     "metadata": {},
     "output_type": "execute_result"
    }
   ],
   "source": [
    "nbayes.get_params().keys()"
   ]
  },
  {
   "cell_type": "code",
   "execution_count": 71,
   "id": "8ee796de",
   "metadata": {},
   "outputs": [],
   "source": [
    "paramn = {'alpha':range(20)}"
   ]
  },
  {
   "cell_type": "code",
   "execution_count": 84,
   "id": "565f7647",
   "metadata": {},
   "outputs": [
    {
     "data": {
      "text/plain": [
       "GridSearchCV(cv=KFold(n_splits=10, random_state=55, shuffle=True),\n",
       "             estimator=MultinomialNB(), n_jobs=-1,\n",
       "             param_grid={'alpha': range(0, 20)})"
      ]
     },
     "execution_count": 84,
     "metadata": {},
     "output_type": "execute_result"
    }
   ],
   "source": [
    "# GridSearchCV\n",
    "kf=KFold(n_splits=10, shuffle=True, random_state=55)\n",
    "nb_grid = GridSearchCV(nbayes, param_grid = paramn, cv = kf, n_jobs=-1)\n",
    "nb_grid.fit(xtrain_tfidf, y_train)"
   ]
  },
  {
   "cell_type": "code",
   "execution_count": 85,
   "id": "dde59caf",
   "metadata": {},
   "outputs": [
    {
     "name": "stdout",
     "output_type": "stream",
     "text": [
      "0.7977263581488934\n",
      "{'alpha': 0}\n",
      "MultinomialNB(alpha=0)\n"
     ]
    }
   ],
   "source": [
    "# examine the best model\n",
    "print(nb_grid.best_score_)\n",
    "print(nb_grid.best_params_)\n",
    "print(nb_grid.best_estimator_)"
   ]
  },
  {
   "cell_type": "code",
   "execution_count": 72,
   "id": "7ae10b93",
   "metadata": {},
   "outputs": [
    {
     "name": "stdout",
     "output_type": "stream",
     "text": [
      "Test Accuracy Score of MultinomialNB.: % 81.25\n",
      "Precision :% 81.78\n",
      "Recall    :% 80.73\n",
      "F1-score   :% 80.92\n"
     ]
    }
   ],
   "source": [
    "nb_grid = MultinomialNB(alpha=0)\n",
    "nb_grid.fit(xtrain_tfidf, y_train)\n",
    "y_pred = nb_grid.predict(xtest_tfidf)\n",
    "# Performance metrics\n",
    "accuracy, precision, recall, f1score = get_performance(y_test, y_pred)\n",
    "print(f'Test Accuracy Score of MultinomialNB.: % {accuracy}')\n",
    "print(f'Precision :% {round((precision) * 100,2)}')\n",
    "print(f'Recall    :% {round((recall) * 100,2)}')\n",
    "print(f'F1-score   :% {round((f1score) * 100,2)}')"
   ]
  },
  {
   "cell_type": "code",
   "execution_count": 73,
   "id": "1f670816",
   "metadata": {},
   "outputs": [],
   "source": [
    "# Add performance parameters to list\n",
    "evaluation_list.append(dict([\n",
    "    ('Model', 'MultinomialNB'),\n",
    "    ('Test Accuracy', round(accuracy, 2)),\n",
    "    ('Precision', round(precision, 2)),\n",
    "    ('Recall', round(recall, 2)),\n",
    "    ('F1', round(f1score, 2))\n",
    "     ]))"
   ]
  },
  {
   "cell_type": "code",
   "execution_count": 74,
   "id": "31b75663",
   "metadata": {},
   "outputs": [
    {
     "name": "stdout",
     "output_type": "stream",
     "text": [
      "                   precision    recall  f1-score   support\n",
      "\n",
      "Negative Feedback       0.85      0.73      0.78        82\n",
      "Positive Feedback       0.79      0.88      0.83        94\n",
      "\n",
      "         accuracy                           0.81       176\n",
      "        macro avg       0.82      0.81      0.81       176\n",
      "     weighted avg       0.82      0.81      0.81       176\n",
      "\n"
     ]
    },
    {
     "data": {
      "image/png": "[encoded data removed]",
      "text/plain": [
       "<Figure size 432x288 with 2 Axes>"
      ]
     },
     "metadata": {
      "needs_background": "light"
     },
     "output_type": "display_data"
    }
   ],
   "source": [
    "model_Evaluate(nb_grid)"
   ]
  },
  {
   "cell_type": "code",
   "execution_count": 75,
   "id": "536f74f4",
   "metadata": {},
   "outputs": [
    {
     "data": {
      "text/plain": [
       "'Negative Feedback'"
      ]
     },
     "execution_count": 75,
     "metadata": {},
     "output_type": "execute_result"
    }
   ],
   "source": [
    "(y_pred)[16]"
   ]
  },
  {
   "cell_type": "markdown",
   "id": "7a083dee",
   "metadata": {},
   "source": [
    "### Linear SVC"
   ]
  },
  {
   "cell_type": "code",
   "execution_count": 76,
   "id": "6584ac93",
   "metadata": {},
   "outputs": [
    {
     "data": {
      "text/plain": [
       "LinearSVC()"
      ]
     },
     "execution_count": 76,
     "metadata": {},
     "output_type": "execute_result"
    }
   ],
   "source": [
    "linear_svc = LinearSVC()\n",
    "linear_svc.fit(xtrain_tfidf, y_train)"
   ]
  },
  {
   "cell_type": "code",
   "execution_count": 77,
   "id": "70055a04",
   "metadata": {},
   "outputs": [
    {
     "name": "stdout",
     "output_type": "stream",
     "text": [
      "Test Accuracy Score of Basic Linear SVC.: % 84.09\n",
      "Precision :% 84.62\n",
      "Recall    :% 83.63\n",
      "F1-score   :% 83.84\n"
     ]
    }
   ],
   "source": [
    "y_pred = linear_svc.predict(xtest_tfidf)\n",
    "\n",
    "# Performance metrics\n",
    "accuracy, precision, recall, f1score = get_performance(y_test, y_pred)\n",
    "print(f'Test Accuracy Score of Basic Linear SVC.: % {accuracy}')\n",
    "print(f'Precision :% {round((precision) * 100,2)}')\n",
    "print(f'Recall    :% {round((recall) * 100,2)}')\n",
    "print(f'F1-score   :% {round((f1score) * 100,2)}')"
   ]
  },
  {
   "cell_type": "code",
   "execution_count": 92,
   "id": "dc969696",
   "metadata": {},
   "outputs": [],
   "source": [
    "paramsvc = {'penalty':['l1', 'l2'], 'C':[0.001, 0.01, 1, 10]}"
   ]
  },
  {
   "cell_type": "code",
   "execution_count": 91,
   "id": "6f13db30",
   "metadata": {
    "scrolled": true
   },
   "outputs": [
    {
     "data": {
      "text/plain": [
       "dict_keys(['C', 'class_weight', 'dual', 'fit_intercept', 'intercept_scaling', 'loss', 'max_iter', 'multi_class', 'penalty', 'random_state', 'tol', 'verbose'])"
      ]
     },
     "execution_count": 91,
     "metadata": {},
     "output_type": "execute_result"
    }
   ],
   "source": [
    "linear_svc.get_params().keys()"
   ]
  },
  {
   "cell_type": "code",
   "execution_count": 93,
   "id": "81477998",
   "metadata": {},
   "outputs": [
    {
     "data": {
      "text/plain": [
       "GridSearchCV(cv=KFold(n_splits=10, random_state=55, shuffle=True),\n",
       "             estimator=LinearSVC(), n_jobs=-1,\n",
       "             param_grid={'C': [0.001, 0.01, 1, 10], 'penalty': ['l1', 'l2']},\n",
       "             scoring='f1_micro')"
      ]
     },
     "execution_count": 93,
     "metadata": {},
     "output_type": "execute_result"
    }
   ],
   "source": [
    "# GridSearchCV\n",
    "kf=KFold(n_splits=10, shuffle=True, random_state=55)\n",
    "SVC_grid = GridSearchCV(linear_svc, param_grid = paramsvc, cv = kf, scoring='f1_micro', n_jobs=-1)\n",
    "SVC_grid.fit(xtrain_tfidf, y_train)"
   ]
  },
  {
   "cell_type": "code",
   "execution_count": 94,
   "id": "23b7cf27",
   "metadata": {},
   "outputs": [
    {
     "name": "stdout",
     "output_type": "stream",
     "text": [
      "0.8461569416498993\n",
      "{'C': 10, 'penalty': 'l2'}\n",
      "LinearSVC(C=10)\n"
     ]
    }
   ],
   "source": [
    "# examine the best model\n",
    "print(SVC_grid.best_score_)\n",
    "print(SVC_grid.best_params_)\n",
    "print(SVC_grid.best_estimator_)"
   ]
  },
  {
   "cell_type": "code",
   "execution_count": 78,
   "id": "63fbb5c2",
   "metadata": {},
   "outputs": [
    {
     "data": {
      "text/plain": [
       "LinearSVC(C=10)"
      ]
     },
     "execution_count": 78,
     "metadata": {},
     "output_type": "execute_result"
    }
   ],
   "source": [
    "# Optimized Linear SVC Model\n",
    "Grid_linear_svc = LinearSVC(C=10, penalty='l2')\n",
    "Grid_linear_svc.fit(xtrain_tfidf, y_train)"
   ]
  },
  {
   "cell_type": "code",
   "execution_count": 79,
   "id": "4967d712",
   "metadata": {},
   "outputs": [
    {
     "name": "stdout",
     "output_type": "stream",
     "text": [
      "Test Accuracy Score of Grid SVC.: % 86.36\n",
      "Precision : 0.8657894736842104\n",
      "Recall    : 0.8606642449403217\n",
      "F1-score   : 0.8621949628082995\n"
     ]
    }
   ],
   "source": [
    "# performance metrics of the optimized model\n",
    "y_pred = Grid_linear_svc.predict(xtest_tfidf)\n",
    "\n",
    "accuracy, precision, recall, f1score = get_performance(y_test, y_pred)\n",
    "print(f'Test Accuracy Score of Grid SVC.: % {accuracy}')\n",
    "print(f'Precision : {precision}')\n",
    "print(f'Recall    : {recall}')\n",
    "print(f'F1-score   : {f1score}')"
   ]
  },
  {
   "cell_type": "code",
   "execution_count": 80,
   "id": "8db4287e",
   "metadata": {},
   "outputs": [],
   "source": [
    "# Add performance parameters to list\n",
    "evaluation_list.append(dict([\n",
    "    ('Model', 'Linear SVC'),\n",
    "    ('Test Accuracy', round(accuracy, 2)),\n",
    "    ('Precision', round(precision, 2)),\n",
    "    ('Recall', round(recall, 2)),\n",
    "    ('F1', round(f1score, 2))\n",
    "     ]))"
   ]
  },
  {
   "cell_type": "code",
   "execution_count": 82,
   "id": "ea08edf6",
   "metadata": {},
   "outputs": [
    {
     "name": "stdout",
     "output_type": "stream",
     "text": [
      "                   precision    recall  f1-score   support\n",
      "\n",
      "Negative Feedback       0.88      0.82      0.85        82\n",
      "Positive Feedback       0.85      0.90      0.88        94\n",
      "\n",
      "         accuracy                           0.86       176\n",
      "        macro avg       0.87      0.86      0.86       176\n",
      "     weighted avg       0.86      0.86      0.86       176\n",
      "\n"
     ]
    },
    {
     "data": {
      "image/png": "[encoded data removed]",
      "text/plain": [
       "<Figure size 432x288 with 2 Axes>"
      ]
     },
     "metadata": {
      "needs_background": "light"
     },
     "output_type": "display_data"
    }
   ],
   "source": [
    "model_Evaluate(Grid_linear_svc)"
   ]
  },
  {
   "cell_type": "code",
   "execution_count": 83,
   "id": "b4792ab6",
   "metadata": {},
   "outputs": [
    {
     "data": {
      "text/plain": [
       "'Negative Feedback'"
      ]
     },
     "execution_count": 83,
     "metadata": {},
     "output_type": "execute_result"
    }
   ],
   "source": [
    "(y_pred)[16]"
   ]
  },
  {
   "cell_type": "markdown",
   "id": "cf85b134",
   "metadata": {},
   "source": [
    "### Random Forest"
   ]
  },
  {
   "cell_type": "code",
   "execution_count": 84,
   "id": "a0d80095",
   "metadata": {},
   "outputs": [
    {
     "data": {
      "text/plain": [
       "RandomForestClassifier()"
      ]
     },
     "execution_count": 84,
     "metadata": {},
     "output_type": "execute_result"
    }
   ],
   "source": [
    "rforest = RandomForestClassifier(n_estimators=100)\n",
    "rforest.fit(xtrain_tfidf, y_train)"
   ]
  },
  {
   "cell_type": "code",
   "execution_count": 85,
   "id": "aa6c2a4e",
   "metadata": {},
   "outputs": [
    {
     "name": "stdout",
     "output_type": "stream",
     "text": [
      "Test Accuracy Score of Basic Random Forest.: % 74.43\n",
      "Precision :% 76.52\n",
      "Recall    :% 73.34\n",
      "F1-score   :% 73.25\n"
     ]
    }
   ],
   "source": [
    "y_pred = rforest.predict(xtest_tfidf)\n",
    "\n",
    "# Performance metrics\n",
    "accuracy, precision, recall, f1score = get_performance(y_test, y_pred)\n",
    "print(f'Test Accuracy Score of Basic Random Forest.: % {accuracy}')\n",
    "print(f'Precision :% {round((precision) * 100,2)}')\n",
    "print(f'Recall    :% {round((recall) * 100,2)}')\n",
    "print(f'F1-score   :% {round((f1score) * 100,2)}')"
   ]
  },
  {
   "cell_type": "code",
   "execution_count": 102,
   "id": "4b2a218f",
   "metadata": {},
   "outputs": [
    {
     "data": {
      "text/plain": [
       "dict_keys(['bootstrap', 'ccp_alpha', 'class_weight', 'criterion', 'max_depth', 'max_features', 'max_leaf_nodes', 'max_samples', 'min_impurity_decrease', 'min_impurity_split', 'min_samples_leaf', 'min_samples_split', 'min_weight_fraction_leaf', 'n_estimators', 'n_jobs', 'oob_score', 'random_state', 'verbose', 'warm_start'])"
      ]
     },
     "execution_count": 102,
     "metadata": {},
     "output_type": "execute_result"
    }
   ],
   "source": [
    "rforest.get_params().keys()"
   ]
  },
  {
   "cell_type": "code",
   "execution_count": 111,
   "id": "842daad4",
   "metadata": {},
   "outputs": [],
   "source": [
    "# Number of trees in random forest\n",
    "n_estimators = [int(x) for x in np.linspace(start = 200, stop = 2000, num = 10)]\n",
    "# Number of features to consider at every split\n",
    "max_features = ['auto', 'sqrt']\n",
    "# Maximum number of levels in tree\n",
    "max_depth = [int(x) for x in np.linspace(10, 110, num = 11)]\n",
    "max_depth.append(None)\n",
    "# Minimum number of samples required to split a node\n",
    "min_samples_split = [2, 5, 10]\n",
    "# Minimum number of samples required at each leaf node\n",
    "min_samples_leaf = [1, 2, 4]\n",
    "# Method of selecting samples for training each tree\n",
    "bootstrap = [True, False]"
   ]
  },
  {
   "cell_type": "code",
   "execution_count": 112,
   "id": "2657e7ed",
   "metadata": {},
   "outputs": [],
   "source": [
    "paramrf = {'n_estimators': n_estimators,\n",
    "               'max_features': max_features,\n",
    "               'max_depth': max_depth,\n",
    "               'min_samples_split': min_samples_split,\n",
    "               'min_samples_leaf': min_samples_leaf,\n",
    "               'bootstrap': bootstrap}"
   ]
  },
  {
   "cell_type": "code",
   "execution_count": 113,
   "id": "fce11888",
   "metadata": {},
   "outputs": [
    {
     "name": "stdout",
     "output_type": "stream",
     "text": [
      "{'n_estimators': [200, 400, 600, 800, 1000, 1200, 1400, 1600, 1800, 2000], 'max_features': ['auto', 'sqrt'], 'max_depth': [10, 20, 30, 40, 50, 60, 70, 80, 90, 100, 110, None], 'min_samples_split': [2, 5, 10], 'min_samples_leaf': [1, 2, 4], 'bootstrap': [True, False]}\n"
     ]
    }
   ],
   "source": [
    "print(paramrf)"
   ]
  },
  {
   "cell_type": "code",
   "execution_count": 114,
   "id": "5a27a6f0",
   "metadata": {},
   "outputs": [
    {
     "name": "stdout",
     "output_type": "stream",
     "text": [
      "Fitting 3 folds for each of 100 candidates, totalling 300 fits\n"
     ]
    },
    {
     "data": {
      "text/plain": [
       "RandomizedSearchCV(cv=3, estimator=RandomForestClassifier(), n_iter=100,\n",
       "                   n_jobs=-1,\n",
       "                   param_distributions={'bootstrap': [True, False],\n",
       "                                        'max_depth': [10, 20, 30, 40, 50, 60,\n",
       "                                                      70, 80, 90, 100, 110,\n",
       "                                                      None],\n",
       "                                        'max_features': ['auto', 'sqrt'],\n",
       "                                        'min_samples_leaf': [1, 2, 4],\n",
       "                                        'min_samples_split': [2, 5, 10],\n",
       "                                        'n_estimators': [200, 400, 600, 800,\n",
       "                                                         1000, 1200, 1400, 1600,\n",
       "                                                         1800, 2000]},\n",
       "                   random_state=42, verbose=2)"
      ]
     },
     "execution_count": 114,
     "metadata": {},
     "output_type": "execute_result"
    }
   ],
   "source": [
    "from sklearn.model_selection import RandomizedSearchCV\n",
    "# Random search of parameters, using 3 fold cross validation, \n",
    "# search across 100 different combinations, and use all available cores\n",
    "rf_random = RandomizedSearchCV(estimator = rforest, param_distributions = paramrf, n_iter = 100, cv = 3, verbose=2, random_state=42, n_jobs = -1)# Fit the random search model\n",
    "rf_random.fit(xtrain_tfidf, y_train)"
   ]
  },
  {
   "cell_type": "code",
   "execution_count": 115,
   "id": "e0386a89",
   "metadata": {},
   "outputs": [
    {
     "data": {
      "text/plain": [
       "{'n_estimators': 1000,\n",
       " 'min_samples_split': 2,\n",
       " 'min_samples_leaf': 1,\n",
       " 'max_features': 'auto',\n",
       " 'max_depth': 50,\n",
       " 'bootstrap': False}"
      ]
     },
     "execution_count": 115,
     "metadata": {},
     "output_type": "execute_result"
    }
   ],
   "source": [
    "rf_random.best_params_"
   ]
  },
  {
   "cell_type": "code",
   "execution_count": 86,
   "id": "f826a615",
   "metadata": {},
   "outputs": [
    {
     "name": "stdout",
     "output_type": "stream",
     "text": [
      "Test Accuracy Score of Random Forest.: % 73.86\n",
      "Precision :% 74.04\n",
      "Recall    :% 73.35\n",
      "F1-score   :% 73.45\n"
     ]
    }
   ],
   "source": [
    "rforest_cv = RandomForestClassifier(n_estimators=1000,min_samples_split=2,min_samples_leaf=1,max_features='auto',max_depth=50,bootstrap=False)\n",
    "rforest_cv.fit(xtrain_tfidf, y_train)\n",
    "y_pred = rforest_cv.predict(xtest_tfidf)\n",
    "\n",
    "# Performance metrics\n",
    "accuracy, precision, recall, f1score = get_performance(y_test, y_pred)\n",
    "print(f'Test Accuracy Score of Random Forest.: % {accuracy}')\n",
    "print(f'Precision :% {round((precision) * 100,2)}')\n",
    "print(f'Recall    :% {round((recall) * 100,2)}')\n",
    "print(f'F1-score   :% {round((f1score) * 100,2)}')"
   ]
  },
  {
   "cell_type": "code",
   "execution_count": 87,
   "id": "13708671",
   "metadata": {},
   "outputs": [],
   "source": [
    "# Add performance parameters to list\n",
    "evaluation_list.append(dict([\n",
    "    ('Model', 'Random Forest'),\n",
    "    ('Test Accuracy', round(accuracy, 2)),\n",
    "    ('Precision', round(precision, 2)),\n",
    "    ('Recall', round(recall, 2)),\n",
    "    ('F1', round(f1score, 2))\n",
    "     ]))"
   ]
  },
  {
   "cell_type": "code",
   "execution_count": 88,
   "id": "835a0e30",
   "metadata": {},
   "outputs": [
    {
     "name": "stdout",
     "output_type": "stream",
     "text": [
      "                   precision    recall  f1-score   support\n",
      "\n",
      "Negative Feedback       0.75      0.66      0.70        82\n",
      "Positive Feedback       0.73      0.81      0.77        94\n",
      "\n",
      "         accuracy                           0.74       176\n",
      "        macro avg       0.74      0.73      0.73       176\n",
      "     weighted avg       0.74      0.74      0.74       176\n",
      "\n"
     ]
    },
    {
     "data": {
      "image/png": "[encoded data removed]",
      "text/plain": [
       "<Figure size 432x288 with 2 Axes>"
      ]
     },
     "metadata": {
      "needs_background": "light"
     },
     "output_type": "display_data"
    }
   ],
   "source": [
    "model_Evaluate(rforest_cv)"
   ]
  },
  {
   "cell_type": "markdown",
   "id": "3a141bba",
   "metadata": {},
   "source": [
    "### BernoulliNB"
   ]
  },
  {
   "cell_type": "code",
   "execution_count": 89,
   "id": "28416aba",
   "metadata": {},
   "outputs": [
    {
     "data": {
      "text/plain": [
       "BernoulliNB()"
      ]
     },
     "execution_count": 89,
     "metadata": {},
     "output_type": "execute_result"
    }
   ],
   "source": [
    "from sklearn.naive_bayes import BernoulliNB\n",
    "BNBmodel = BernoulliNB()\n",
    "BNBmodel.fit(xtrain_tfidf, y_train)"
   ]
  },
  {
   "cell_type": "code",
   "execution_count": 90,
   "id": "f471b360",
   "metadata": {},
   "outputs": [
    {
     "name": "stdout",
     "output_type": "stream",
     "text": [
      "Test Accuracy Score of Basic BNB.: % 68.75\n",
      "Precision :% 79.91\n",
      "Recall    :% 66.54\n",
      "F1-score   :% 63.81\n"
     ]
    }
   ],
   "source": [
    "y_pred = BNBmodel.predict(xtest_tfidf)\n",
    "\n",
    "# Performance metrics\n",
    "accuracy, precision, recall, f1score = get_performance(y_test, y_pred)\n",
    "print(f'Test Accuracy Score of Basic BNB.: % {accuracy}')\n",
    "print(f'Precision :% {round((precision) * 100,2)}')\n",
    "print(f'Recall    :% {round((recall) * 100,2)}')\n",
    "print(f'F1-score   :% {round((f1score) * 100,2)}')"
   ]
  },
  {
   "cell_type": "code",
   "execution_count": 91,
   "id": "9e424437",
   "metadata": {},
   "outputs": [],
   "source": [
    "# Add performance parameters to list\n",
    "evaluation_list.append(dict([\n",
    "    ('Model', 'BernoulliNB'),\n",
    "    ('Test Accuracy', round(accuracy, 2)),\n",
    "    ('Precision', round(precision, 2)),\n",
    "    ('Recall', round(recall, 2)),\n",
    "    ('F1', round(f1score, 2))\n",
    "     ]))"
   ]
  },
  {
   "cell_type": "code",
   "execution_count": 92,
   "id": "13353b38",
   "metadata": {},
   "outputs": [
    {
     "name": "stdout",
     "output_type": "stream",
     "text": [
      "                   precision    recall  f1-score   support\n",
      "\n",
      "Negative Feedback       0.97      0.34      0.50        82\n",
      "Positive Feedback       0.63      0.99      0.77        94\n",
      "\n",
      "         accuracy                           0.69       176\n",
      "        macro avg       0.80      0.67      0.64       176\n",
      "     weighted avg       0.79      0.69      0.65       176\n",
      "\n"
     ]
    },
    {
     "data": {
      "image/png": "[encoded data removed]",
      "text/plain": [
       "<Figure size 432x288 with 2 Axes>"
      ]
     },
     "metadata": {
      "needs_background": "light"
     },
     "output_type": "display_data"
    }
   ],
   "source": [
    "model_Evaluate(BNBmodel)"
   ]
  },
  {
   "cell_type": "markdown",
   "id": "aaf8eaaf",
   "metadata": {},
   "source": [
    "### Performance metrics of models"
   ]
  },
  {
   "cell_type": "code",
   "execution_count": 93,
   "id": "8575aac3",
   "metadata": {},
   "outputs": [
    {
     "data": {
      "text/html": [
       "<div>\n",
       "<style scoped>\n",
       "    .dataframe tbody tr th:only-of-type {\n",
       "        vertical-align: middle;\n",
       "    }\n",
       "\n",
       "    .dataframe tbody tr th {\n",
       "        vertical-align: top;\n",
       "    }\n",
       "\n",
       "    .dataframe thead th {\n",
       "        text-align: right;\n",
       "    }\n",
       "</style>\n",
       "<table border=\"1\" class=\"dataframe\">\n",
       "  <thead>\n",
       "    <tr style=\"text-align: right;\">\n",
       "      <th></th>\n",
       "      <th>Test Accuracy</th>\n",
       "      <th>Precision</th>\n",
       "      <th>Recall</th>\n",
       "      <th>F1</th>\n",
       "    </tr>\n",
       "    <tr>\n",
       "      <th>Model</th>\n",
       "      <th></th>\n",
       "      <th></th>\n",
       "      <th></th>\n",
       "      <th></th>\n",
       "    </tr>\n",
       "  </thead>\n",
       "  <tbody>\n",
       "    <tr>\n",
       "      <th>Linear SVC</th>\n",
       "      <td>86.36</td>\n",
       "      <td>0.87</td>\n",
       "      <td>0.86</td>\n",
       "      <td>0.86</td>\n",
       "    </tr>\n",
       "    <tr>\n",
       "      <th>Logistic Regression</th>\n",
       "      <td>82.95</td>\n",
       "      <td>0.84</td>\n",
       "      <td>0.82</td>\n",
       "      <td>0.83</td>\n",
       "    </tr>\n",
       "    <tr>\n",
       "      <th>KNN</th>\n",
       "      <td>81.25</td>\n",
       "      <td>0.82</td>\n",
       "      <td>0.81</td>\n",
       "      <td>0.81</td>\n",
       "    </tr>\n",
       "    <tr>\n",
       "      <th>MultinomialNB</th>\n",
       "      <td>81.25</td>\n",
       "      <td>0.82</td>\n",
       "      <td>0.81</td>\n",
       "      <td>0.81</td>\n",
       "    </tr>\n",
       "    <tr>\n",
       "      <th>Random Forest</th>\n",
       "      <td>73.86</td>\n",
       "      <td>0.74</td>\n",
       "      <td>0.73</td>\n",
       "      <td>0.73</td>\n",
       "    </tr>\n",
       "    <tr>\n",
       "      <th>BernoulliNB</th>\n",
       "      <td>68.75</td>\n",
       "      <td>0.80</td>\n",
       "      <td>0.67</td>\n",
       "      <td>0.64</td>\n",
       "    </tr>\n",
       "  </tbody>\n",
       "</table>\n",
       "</div>"
      ],
      "text/plain": [
       "                     Test Accuracy  Precision  Recall    F1\n",
       "Model                                                      \n",
       "Linear SVC                   86.36       0.87    0.86  0.86\n",
       "Logistic Regression          82.95       0.84    0.82  0.83\n",
       "KNN                          81.25       0.82    0.81  0.81\n",
       "MultinomialNB                81.25       0.82    0.81  0.81\n",
       "Random Forest                73.86       0.74    0.73  0.73\n",
       "BernoulliNB                  68.75       0.80    0.67  0.64"
      ]
     },
     "execution_count": 93,
     "metadata": {},
     "output_type": "execute_result"
    }
   ],
   "source": [
    "results = pd.DataFrame(data=evaluation_list)\n",
    "results = results[['Model', 'Test Accuracy', 'Precision', 'Recall', 'F1']]\n",
    "results = results.sort_values(by='F1', ascending=False)\n",
    "results = results.set_index('Model')\n",
    "results"
   ]
  },
  {
   "cell_type": "markdown",
   "id": "3b85ac9a",
   "metadata": {},
   "source": [
    "## Prediction"
   ]
  },
  {
   "cell_type": "code",
   "execution_count": 214,
   "id": "122eefbb",
   "metadata": {},
   "outputs": [],
   "source": [
    "# Inference funct to handle new data that will come in the future\n",
    "def infer_sentiment(text):\n",
    "    text = clean_text(text)\n",
    "    text_vec = tfidf_vec.transform([text])\n",
    "    y_pred = ovr.predict(text_vec)\n",
    "    return mb.inverse_transform(y_pred)"
   ]
  },
  {
   "cell_type": "code",
   "execution_count": 215,
   "id": "c980fdd3",
   "metadata": {},
   "outputs": [
    {
     "name": "stdout",
     "output_type": "stream",
     "text": [
      "Feedback:  Broderick Hays has been a member of our team for the past year.  He has demonstrated a lack of motivation during work hours.  There have been several customer complaints due to unresolved issues.  Unfortunately, we are unable to continue his employment at this time. \n",
      "Predicted Sentiment:  [('Bad Feedback',)]\n",
      "Actual Sentiment:  Bad Feedback \n",
      "\n",
      "Feedback:  Mr. Cain started with the company last month and every day has been a ray of sunshine, until it's time to get to work.. Mr. Cain gives 110 percent to every task he likes and is always there to help people, when he feels  like it. If a customers is not to his liking or if it is a Thursday, Mr. Cain is rude in manner and has to be removed from the floor. We wish we could see more consistent performance from Mr. Cain, as right now we are frustrated with his inconsistent performance. \n",
      "Predicted Sentiment:  [('Bad Feedback',)]\n",
      "Actual Sentiment:  Bad Feedback \n",
      "\n",
      "Feedback:  Tom Barrett needs to work harder. I often see him playing on his phone during work hours. He rarely respond to his work email. His projects are never delivered on time. I do not see any potential in him. \n",
      "Predicted Sentiment:  [('Bad Feedback',)]\n",
      "Actual Sentiment:  Bad Feedback \n",
      "\n",
      "Feedback:  I'm so glad that we have Chelsea as a member of our team. Whenever a client assigns us a really sophisticated research project, I know that Chelsea is the person I can count on to take that assignment on and deliver it with professionalism and efficiency. I believe Chelsea can move up within the next few years to become a manager. However I don't think she has what it takes to become a director since she really struggles to balance multiple assignments at the same time and that is a critical skill to have for the director role. \n",
      "Predicted Sentiment:  [('Good Feedback',)]\n",
      "Actual Sentiment:  Good Feedback \n",
      "\n",
      "Feedback:  Madison Hawkins continuously goes above and beyond in her job duties. She repeatedly assists co-workers while taking initiative for projects. Her work has very few errors but she does not do well in leadership roles. Madison can improve her potential by working on her public speaking and confidence. Madison is always early and is able to handle a heavier work load than other workers. \n",
      "Predicted Sentiment:  [('Good Feedback',)]\n",
      "Actual Sentiment:  Good Feedback \n",
      "\n",
      "Feedback:  Deegan is a very fast learner and is constantly seeking to improve him self. He ha shown that he seeks to better him self every day, and that he has the potential to become a very very strong worker. Currently he produces consistently average work. However given more experience he has the potential to produce high quality work consistently \n",
      "Predicted Sentiment:  [('Good Feedback',)]\n",
      "Actual Sentiment:  Good Feedback \n",
      "\n",
      "Feedback:  Finely Harrison has shown his abilities to get on the ball and get his hands dirty but lacks will power and sometimes is not willing to go the extra mile for the company. He shows up to work everyday in a timely manner but sometimes seems to lack enthusiasm. He is excellent at what he does but doesnÃ¢â‚¬â„¢t show too much interest in advancement in the company. We hope to see more positive growth in his future. \n",
      "Predicted Sentiment:  [('Good Feedback',)]\n",
      "Actual Sentiment:  Bad Feedback \n",
      "\n",
      "Feedback:  Sara was a great colleague of mine. she did her day to day tasks and met all expectations that she was given. There is not much room to grow. Unfortunately I believe she has maxed out her potential with us \n",
      "Predicted Sentiment:  [('Bad Feedback',)]\n",
      "Actual Sentiment:  Bad Feedback \n",
      "\n",
      "Feedback:  Bethany Cunningham has been perfecting her skill. As a team player her tasks have been completed with optimal skill. At the present time we are hoping to nurture her talent further. So far she has shown she has the continued resilience needed. \n",
      "Predicted Sentiment:  [('Good Feedback',)]\n",
      "Actual Sentiment:  Good Feedback \n",
      "\n",
      "Feedback:  Nicole Barnes is one of the most creative and extremely talented employees at the company. Although she is talented and intelligent, I have noticed that her capability does not match her performance. It is through conversations at meetings that I am able to partially observe her creativeness. But, it is quite often that within projects her mental capacity is not reflected in her actions. Nicole is able to meet deadlines and complete projects, but is sometimes in need of a push. \n",
      "Predicted Sentiment:  [('Bad Feedback',)]\n",
      "Actual Sentiment:  Good Feedback \n",
      "\n"
     ]
    }
   ],
   "source": [
    "for i in range(10):\n",
    "    sp = X_test.sample(1).index[0]\n",
    "    print(\"Feedback: \" ,employees['feedback'][sp], \"\\nPredicted Sentiment: \", infer_tags(X_test[sp])), print(\"Actual Sentiment: \",employees['feedback_sentiment'][sp], \"\\n\")   "
   ]
  },
  {
   "cell_type": "code",
   "execution_count": 216,
   "id": "21c03b2b",
   "metadata": {},
   "outputs": [
    {
     "data": {
      "text/plain": [
       "[('Bad Feedback',)]"
      ]
     },
     "execution_count": 216,
     "metadata": {},
     "output_type": "execute_result"
    }
   ],
   "source": [
    "infer_sentiment(\"Fedi is always absent , he has potential but sadly he dosn't show it, he always comes late and rarely finishes his work on time\")"
   ]
  },
  {
   "cell_type": "code",
   "execution_count": 218,
   "id": "b57c41eb",
   "metadata": {},
   "outputs": [],
   "source": [
    "#works hard"
   ]
  },
  {
   "cell_type": "code",
   "execution_count": 217,
   "id": "7a6a9808",
   "metadata": {},
   "outputs": [
    {
     "data": {
      "text/plain": [
       "[('Good Feedback',)]"
      ]
     },
     "execution_count": 217,
     "metadata": {},
     "output_type": "execute_result"
    }
   ],
   "source": [
    "infer_sentiment('Fedi has improved a lot and is working hard , if he keeps working like this he will definitly become the star of the company ')"
   ]
  },
  {
   "cell_type": "markdown",
   "id": "baa581d5",
   "metadata": {},
   "source": [
    "## Saving The Model For deployment"
   ]
  },
  {
   "cell_type": "code",
   "execution_count": 225,
   "id": "9715c958",
   "metadata": {},
   "outputs": [],
   "source": [
    "import pickle\n",
    "import joblib"
   ]
  },
  {
   "cell_type": "code",
   "execution_count": 226,
   "id": "0a51e4e9",
   "metadata": {},
   "outputs": [],
   "source": [
    "filename = \"NLP_model.joblib\""
   ]
  },
  {
   "cell_type": "code",
   "execution_count": 227,
   "id": "bcf65d9c",
   "metadata": {},
   "outputs": [
    {
     "data": {
      "text/plain": [
       "['NLP_model.joblib']"
      ]
     },
     "execution_count": 227,
     "metadata": {},
     "output_type": "execute_result"
    }
   ],
   "source": [
    "#joblib.dump(ovr, filename)"
   ]
  },
  {
   "cell_type": "code",
   "execution_count": null,
   "id": "3b416cb2",
   "metadata": {},
   "outputs": [],
   "source": [
    "#joblib.dump(tfidf_obj, NLP_TFIDF.joblib)"
   ]
  },
  {
   "cell_type": "code",
   "execution_count": null,
   "id": "df64d906",
   "metadata": {},
   "outputs": [],
   "source": []
  }
 ],
 "metadata": {
  "kernelspec": {
   "display_name": "Python 3 (ipykernel)",
   "language": "python",
   "name": "python3"
  },
  "language_info": {
   "codemirror_mode": {
    "name": "ipython",
    "version": 3
   },
   "file_extension": ".py",
   "mimetype": "text/x-python",
   "name": "python",
   "nbconvert_exporter": "python",
   "pygments_lexer": "ipython3",
   "version": "3.9.7"
  }
 },
 "nbformat": 4,
 "nbformat_minor": 5
}
